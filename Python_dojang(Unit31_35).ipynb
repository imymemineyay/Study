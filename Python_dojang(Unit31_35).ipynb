{
  "nbformat": 4,
  "nbformat_minor": 0,
  "metadata": {
    "colab": {
      "provenance": [],
      "authorship_tag": "ABX9TyP4vBz+zMVO7N0Jtn7wgS+x",
      "include_colab_link": true
    },
    "kernelspec": {
      "name": "python3",
      "display_name": "Python 3"
    },
    "language_info": {
      "name": "python"
    }
  },
  "cells": [
    {
      "cell_type": "markdown",
      "metadata": {
        "id": "view-in-github",
        "colab_type": "text"
      },
      "source": [
        "<a href=\"https://colab.research.google.com/github/imymemineyay/Study_Python/blob/main/Python_dojang(Unit31_35).ipynb\" target=\"_parent\"><img src=\"https://colab.research.google.com/assets/colab-badge.svg\" alt=\"Open In Colab\"/></a>"
      ]
    },
    {
      "cell_type": "markdown",
      "source": [
        "## **Unit 31. 함수에서 재귀호출 사용하기**\n"
      ],
      "metadata": {
        "id": "xc5YnoMnzETY"
      }
    },
    {
      "cell_type": "markdown",
      "source": [
        "재귀호출 : 함수 안에서 함수 자기자신을 호출하는 방식\n",
        "\n",
        "- 알고리즘 구현할 때 매우 유용\n"
      ],
      "metadata": {
        "id": "udLHpYqw2dCt"
      }
    },
    {
      "cell_type": "code",
      "execution_count": 3,
      "metadata": {
        "colab": {
          "base_uri": "https://localhost:8080/"
        },
        "id": "LPGTz3pZy_En",
        "outputId": "e597afb9-90cf-4948-b192-f4379607d462"
      },
      "outputs": [
        {
          "output_type": "stream",
          "name": "stdout",
          "text": [
            "hello, world!\n",
            "hello, world!\n",
            "hello, world!\n",
            "hello, world!\n",
            "hello, world!\n",
            "hello, world!\n",
            "hello, world!\n",
            "hello, world!\n",
            "hello, world!\n",
            "hello, world!\n",
            "hello, world!\n",
            "hello, world!\n",
            "hello, world!\n",
            "hello, world!\n",
            "hello, world!\n",
            "hello, world!\n",
            "hello, world!\n",
            "hello, world!\n",
            "hello, world!\n",
            "hello, world!\n",
            "hello, world!\n",
            "hello, world!\n",
            "hello, world!\n",
            "hello, world!\n",
            "hello, world!\n",
            "hello, world!\n",
            "hello, world!\n",
            "hello, world!\n",
            "hello, world!\n",
            "hello, world!\n",
            "hello, world!\n",
            "hello, world!\n",
            "hello, world!\n",
            "hello, world!\n",
            "hello, world!\n",
            "hello, world!\n",
            "hello, world!\n",
            "hello, world!\n",
            "hello, world!\n",
            "hello, world!\n",
            "hello, world!\n",
            "hello, world!\n",
            "hello, world!\n",
            "hello, world!\n",
            "hello, world!\n",
            "hello, world!\n",
            "hello, world!\n",
            "hello, world!\n",
            "hello, world!\n",
            "hello, world!\n",
            "hello, world!\n",
            "hello, world!\n",
            "hello, world!\n",
            "hello, world!\n",
            "hello, world!\n",
            "hello, world!\n",
            "hello, world!\n",
            "hello, world!\n",
            "hello, world!\n",
            "hello, world!\n",
            "hello, world!\n",
            "hello, world!\n",
            "hello, world!\n",
            "hello, world!\n",
            "hello, world!\n",
            "hello, world!\n",
            "hello, world!\n",
            "hello, world!\n",
            "hello, world!\n",
            "hello, world!\n",
            "hello, world!\n",
            "hello, world!\n",
            "hello, world!\n",
            "hello, world!\n",
            "hello, world!\n",
            "hello, world!\n",
            "hello, world!\n",
            "hello, world!\n",
            "hello, world!\n",
            "hello, world!\n",
            "hello, world!\n",
            "hello, world!\n",
            "hello, world!\n",
            "hello, world!\n",
            "hello, world!\n",
            "hello, world!\n",
            "hello, world!\n",
            "hello, world!\n",
            "hello, world!\n",
            "hello, world!\n",
            "hello, world!\n",
            "hello, world!\n",
            "hello, world!\n",
            "hello, world!\n",
            "hello, world!\n",
            "hello, world!\n",
            "hello, world!\n",
            "hello, world!\n",
            "hello, world!\n",
            "hello, world!\n",
            "hello, world!\n",
            "hello, world!\n",
            "hello, world!\n",
            "hello, world!\n",
            "hello, world!\n",
            "hello, world!\n",
            "hello, world!\n",
            "hello, world!\n",
            "hello, world!\n",
            "hello, world!\n",
            "hello, world!\n",
            "hello, world!\n",
            "hello, world!\n",
            "hello, world!\n",
            "hello, world!\n",
            "hello, world!\n",
            "hello, world!\n",
            "hello, world!\n",
            "hello, world!\n",
            "hello, world!\n",
            "hello, world!\n",
            "hello, world!\n",
            "hello, world!\n",
            "hello, world!\n",
            "hello, world!\n",
            "hello, world!\n",
            "hello, world!\n",
            "hello, world!\n",
            "hello, world!\n",
            "hello, world!\n",
            "hello, world!\n",
            "hello, world!\n",
            "hello, world!\n",
            "hello, world!\n",
            "hello, world!\n",
            "hello, world!\n",
            "hello, world!\n",
            "hello, world!\n",
            "hello, world!\n",
            "hello, world!\n",
            "hello, world!\n",
            "hello, world!\n",
            "hello, world!\n",
            "hello, world!\n",
            "hello, world!\n",
            "hello, world!\n",
            "hello, world!\n",
            "hello, world!\n",
            "hello, world!\n",
            "hello, world!\n",
            "hello, world!\n",
            "hello, world!\n",
            "hello, world!\n",
            "hello, world!\n",
            "hello, world!\n",
            "hello, world!\n",
            "hello, world!\n",
            "hello, world!\n",
            "hello, world!\n",
            "hello, world!\n",
            "hello, world!\n",
            "hello, world!\n",
            "hello, world!\n",
            "hello, world!\n",
            "hello, world!\n",
            "hello, world!\n",
            "hello, world!\n",
            "hello, world!\n",
            "hello, world!\n",
            "hello, world!\n",
            "hello, world!\n",
            "hello, world!\n",
            "hello, world!\n",
            "hello, world!\n",
            "hello, world!\n",
            "hello, world!\n",
            "hello, world!\n",
            "hello, world!\n",
            "hello, world!\n",
            "hello, world!\n",
            "hello, world!\n",
            "hello, world!\n",
            "hello, world!\n",
            "hello, world!\n",
            "hello, world!\n",
            "hello, world!\n",
            "hello, world!\n",
            "hello, world!\n",
            "hello, world!\n",
            "hello, world!\n",
            "hello, world!\n",
            "hello, world!\n",
            "hello, world!\n",
            "hello, world!\n",
            "hello, world!\n",
            "hello, world!\n",
            "hello, world!\n",
            "hello, world!\n",
            "hello, world!\n",
            "hello, world!\n",
            "hello, world!\n",
            "hello, world!\n",
            "hello, world!\n",
            "hello, world!\n",
            "hello, world!\n",
            "hello, world!\n",
            "hello, world!\n",
            "hello, world!\n",
            "hello, world!\n",
            "hello, world!\n",
            "hello, world!\n",
            "hello, world!\n",
            "hello, world!\n",
            "hello, world!\n",
            "hello, world!\n",
            "hello, world!\n",
            "hello, world!\n",
            "hello, world!\n",
            "hello, world!\n",
            "hello, world!\n",
            "hello, world!\n",
            "hello, world!\n",
            "hello, world!\n",
            "hello, world!\n",
            "hello, world!\n",
            "hello, world!\n",
            "hello, world!\n",
            "hello, world!\n",
            "hello, world!\n",
            "hello, world!\n",
            "hello, world!\n",
            "hello, world!\n",
            "hello, world!\n",
            "hello, world!\n",
            "hello, world!\n",
            "hello, world!\n",
            "hello, world!\n",
            "hello, world!\n",
            "hello, world!\n",
            "hello, world!\n",
            "hello, world!\n",
            "hello, world!\n",
            "hello, world!\n",
            "hello, world!\n",
            "hello, world!\n",
            "hello, world!\n",
            "hello, world!\n",
            "hello, world!\n",
            "hello, world!\n",
            "hello, world!\n",
            "hello, world!\n",
            "hello, world!\n",
            "hello, world!\n",
            "hello, world!\n",
            "hello, world!\n",
            "hello, world!\n",
            "hello, world!\n",
            "hello, world!\n",
            "hello, world!\n",
            "hello, world!\n",
            "hello, world!\n",
            "hello, world!\n",
            "hello, world!\n",
            "hello, world!\n",
            "hello, world!\n",
            "hello, world!\n",
            "hello, world!\n",
            "hello, world!\n",
            "hello, world!\n",
            "hello, world!\n",
            "hello, world!\n",
            "hello, world!\n",
            "hello, world!\n",
            "hello, world!\n",
            "hello, world!\n",
            "hello, world!\n",
            "hello, world!\n",
            "hello, world!\n",
            "hello, world!\n",
            "hello, world!\n",
            "hello, world!\n",
            "hello, world!\n",
            "hello, world!\n",
            "hello, world!\n",
            "hello, world!\n",
            "hello, world!\n",
            "hello, world!\n",
            "hello, world!\n",
            "hello, world!\n",
            "hello, world!\n",
            "hello, world!\n",
            "hello, world!\n",
            "hello, world!\n",
            "hello, world!\n",
            "hello, world!\n",
            "hello, world!\n",
            "hello, world!\n",
            "hello, world!\n",
            "hello, world!\n",
            "hello, world!\n",
            "hello, world!\n",
            "hello, world!\n",
            "hello, world!\n",
            "hello, world!\n",
            "hello, world!\n",
            "hello, world!\n",
            "hello, world!\n",
            "hello, world!\n",
            "hello, world!\n",
            "hello, world!\n",
            "hello, world!\n",
            "hello, world!\n",
            "hello, world!\n",
            "hello, world!\n",
            "hello, world!\n",
            "hello, world!\n",
            "hello, world!\n",
            "hello, world!\n",
            "hello, world!\n",
            "hello, world!\n",
            "hello, world!\n",
            "hello, world!\n",
            "hello, world!\n",
            "hello, world!\n",
            "hello, world!\n",
            "hello, world!\n",
            "hello, world!\n",
            "hello, world!\n",
            "hello, world!\n",
            "hello, world!\n",
            "hello, world!\n",
            "hello, world!\n",
            "hello, world!\n",
            "hello, world!\n",
            "hello, world!\n",
            "hello, world!\n",
            "hello, world!\n",
            "hello, world!\n",
            "hello, world!\n",
            "hello, world!\n",
            "hello, world!\n",
            "hello, world!\n",
            "hello, world!\n",
            "hello, world!\n",
            "hello, world!\n",
            "hello, world!\n",
            "hello, world!\n",
            "hello, world!\n",
            "hello, world!\n",
            "hello, world!\n",
            "hello, world!\n",
            "hello, world!\n",
            "hello, world!\n",
            "hello, world!\n",
            "hello, world!\n",
            "hello, world!\n",
            "hello, world!\n",
            "hello, world!\n",
            "hello, world!\n",
            "hello, world!\n",
            "hello, world!\n",
            "hello, world!\n",
            "hello, world!\n",
            "hello, world!\n",
            "hello, world!\n",
            "hello, world!\n",
            "hello, world!\n",
            "hello, world!\n",
            "hello, world!\n",
            "hello, world!\n",
            "hello, world!\n",
            "hello, world!\n",
            "hello, world!\n",
            "hello, world!\n",
            "hello, world!\n",
            "hello, world!\n",
            "hello, world!\n",
            "hello, world!\n",
            "hello, world!\n",
            "hello, world!\n",
            "hello, world!\n",
            "hello, world!\n",
            "hello, world!\n",
            "hello, world!\n",
            "hello, world!\n",
            "hello, world!\n",
            "hello, world!\n",
            "hello, world!\n",
            "hello, world!\n",
            "hello, world!\n",
            "hello, world!\n",
            "hello, world!\n",
            "hello, world!\n",
            "hello, world!\n",
            "hello, world!\n",
            "hello, world!\n",
            "hello, world!\n",
            "hello, world!\n",
            "hello, world!\n",
            "hello, world!\n",
            "hello, world!\n",
            "hello, world!\n",
            "hello, world!\n",
            "hello, world!\n",
            "hello, world!\n",
            "hello, world!\n",
            "hello, world!\n",
            "hello, world!\n",
            "hello, world!\n",
            "hello, world!\n",
            "hello, world!\n",
            "hello, world!\n",
            "hello, world!\n",
            "hello, world!\n",
            "hello, world!\n",
            "hello, world!\n",
            "hello, world!\n",
            "hello, world!\n",
            "hello, world!\n",
            "hello, world!\n",
            "hello, world!\n",
            "hello, world!\n",
            "hello, world!\n",
            "hello, world!\n",
            "hello, world!\n",
            "hello, world!\n",
            "hello, world!\n",
            "hello, world!\n",
            "hello, world!\n",
            "hello, world!\n",
            "hello, world!\n",
            "hello, world!\n",
            "hello, world!\n",
            "hello, world!\n",
            "hello, world!\n",
            "hello, world!\n",
            "hello, world!\n",
            "hello, world!\n",
            "hello, world!\n",
            "hello, world!\n",
            "hello, world!\n",
            "hello, world!\n",
            "hello, world!\n",
            "hello, world!\n",
            "hello, world!\n",
            "hello, world!\n",
            "hello, world!\n",
            "hello, world!\n",
            "hello, world!\n",
            "hello, world!\n",
            "hello, world!\n",
            "hello, world!\n",
            "hello, world!\n",
            "hello, world!\n",
            "hello, world!\n",
            "hello, world!\n",
            "hello, world!\n",
            "hello, world!\n",
            "hello, world!\n",
            "hello, world!\n",
            "hello, world!\n",
            "hello, world!\n",
            "hello, world!\n",
            "hello, world!\n",
            "hello, world!\n",
            "hello, world!\n",
            "hello, world!\n",
            "hello, world!\n",
            "hello, world!\n",
            "hello, world!\n",
            "hello, world!\n",
            "hello, world!\n",
            "hello, world!\n",
            "hello, world!\n",
            "hello, world!\n",
            "hello, world!\n",
            "hello, world!\n",
            "hello, world!\n",
            "hello, world!\n",
            "hello, world!\n",
            "hello, world!\n",
            "hello, world!\n",
            "hello, world!\n",
            "hello, world!\n",
            "hello, world!\n",
            "hello, world!\n",
            "hello, world!\n",
            "hello, world!\n",
            "hello, world!\n",
            "hello, world!\n",
            "hello, world!\n",
            "hello, world!\n",
            "hello, world!\n",
            "hello, world!\n",
            "hello, world!\n",
            "hello, world!\n",
            "hello, world!\n",
            "hello, world!\n",
            "hello, world!\n",
            "hello, world!\n",
            "hello, world!\n",
            "hello, world!\n",
            "hello, world!\n",
            "hello, world!\n",
            "hello, world!\n",
            "hello, world!\n",
            "hello, world!\n",
            "hello, world!\n",
            "hello, world!\n",
            "hello, world!\n",
            "hello, world!\n",
            "hello, world!\n",
            "hello, world!\n",
            "hello, world!\n",
            "hello, world!\n",
            "hello, world!\n",
            "hello, world!\n",
            "hello, world!\n",
            "hello, world!\n",
            "hello, world!\n",
            "hello, world!\n",
            "hello, world!\n",
            "hello, world!\n",
            "hello, world!\n",
            "hello, world!\n",
            "hello, world!\n",
            "hello, world!\n",
            "hello, world!\n",
            "hello, world!\n",
            "hello, world!\n",
            "hello, world!\n",
            "hello, world!\n",
            "hello, world!\n",
            "hello, world!\n",
            "hello, world!\n",
            "hello, world!\n",
            "hello, world!\n",
            "hello, world!\n",
            "hello, world!\n",
            "hello, world!\n",
            "hello, world!\n",
            "hello, world!\n",
            "hello, world!\n",
            "hello, world!\n",
            "hello, world!\n",
            "hello, world!\n",
            "hello, world!\n",
            "hello, world!\n",
            "hello, world!\n",
            "hello, world!\n",
            "hello, world!\n",
            "hello, world!\n",
            "hello, world!\n",
            "hello, world!\n",
            "hello, world!\n",
            "hello, world!\n",
            "hello, world!\n",
            "hello, world!\n",
            "hello, world!\n",
            "hello, world!\n",
            "hello, world!\n",
            "hello, world!\n",
            "hello, world!\n",
            "hello, world!\n",
            "hello, world!\n",
            "hello, world!\n",
            "hello, world!\n",
            "hello, world!\n",
            "hello, world!\n",
            "hello, world!\n",
            "hello, world!\n",
            "hello, world!\n",
            "hello, world!\n",
            "hello, world!\n",
            "hello, world!\n",
            "hello, world!\n",
            "hello, world!\n",
            "hello, world!\n",
            "hello, world!\n",
            "hello, world!\n",
            "hello, world!\n",
            "hello, world!\n",
            "hello, world!\n",
            "hello, world!\n",
            "hello, world!\n",
            "hello, world!\n",
            "hello, world!\n",
            "hello, world!\n",
            "hello, world!\n",
            "hello, world!\n",
            "hello, world!\n",
            "hello, world!\n",
            "hello, world!\n",
            "hello, world!\n",
            "hello, world!\n",
            "hello, world!\n",
            "hello, world!\n",
            "hello, world!\n",
            "hello, world!\n",
            "hello, world!\n",
            "hello, world!\n",
            "hello, world!\n",
            "hello, world!\n",
            "hello, world!\n",
            "hello, world!\n",
            "hello, world!\n",
            "hello, world!\n",
            "hello, world!\n",
            "hello, world!\n",
            "hello, world!\n",
            "hello, world!\n",
            "hello, world!\n",
            "hello, world!\n",
            "hello, world!\n",
            "hello, world!\n",
            "hello, world!\n",
            "hello, world!\n",
            "hello, world!\n",
            "hello, world!\n",
            "hello, world!\n",
            "hello, world!\n",
            "hello, world!\n",
            "hello, world!\n",
            "hello, world!\n",
            "hello, world!\n",
            "hello, world!\n",
            "hello, world!\n",
            "hello, world!\n",
            "hello, world!\n",
            "hello, world!\n",
            "hello, world!\n",
            "hello, world!\n",
            "hello, world!\n",
            "hello, world!\n",
            "hello, world!\n",
            "hello, world!\n",
            "hello, world!\n",
            "hello, world!\n",
            "hello, world!\n",
            "hello, world!\n",
            "hello, world!\n",
            "hello, world!\n",
            "hello, world!\n",
            "hello, world!\n",
            "hello, world!\n",
            "hello, world!\n",
            "hello, world!\n",
            "hello, world!\n",
            "hello, world!\n",
            "hello, world!\n",
            "hello, world!\n",
            "hello, world!\n",
            "hello, world!\n",
            "hello, world!\n",
            "hello, world!\n",
            "hello, world!\n",
            "hello, world!\n",
            "hello, world!\n",
            "hello, world!\n",
            "hello, world!\n",
            "hello, world!\n",
            "hello, world!\n",
            "hello, world!\n",
            "hello, world!\n",
            "hello, world!\n",
            "hello, world!\n",
            "hello, world!\n",
            "hello, world!\n",
            "hello, world!\n",
            "hello, world!\n",
            "hello, world!\n",
            "hello, world!\n",
            "hello, world!\n",
            "hello, world!\n",
            "hello, world!\n",
            "hello, world!\n",
            "hello, world!\n",
            "hello, world!\n",
            "hello, world!\n",
            "hello, world!\n",
            "hello, world!\n",
            "hello, world!\n",
            "hello, world!\n",
            "hello, world!\n",
            "hello, world!\n",
            "hello, world!\n",
            "hello, world!\n",
            "hello, world!\n",
            "hello, world!\n",
            "hello, world!\n",
            "hello, world!\n",
            "hello, world!\n",
            "hello, world!\n",
            "hello, world!\n",
            "hello, world!\n",
            "hello, world!\n",
            "hello, world!\n",
            "hello, world!\n",
            "hello, world!\n",
            "hello, world!\n",
            "hello, world!\n",
            "hello, world!\n",
            "hello, world!\n",
            "hello, world!\n",
            "hello, world!\n",
            "hello, world!\n",
            "hello, world!\n",
            "hello, world!\n",
            "hello, world!\n",
            "hello, world!\n",
            "hello, world!\n",
            "hello, world!\n",
            "hello, world!\n",
            "hello, world!\n",
            "hello, world!\n",
            "hello, world!\n",
            "hello, world!\n",
            "hello, world!\n",
            "hello, world!\n",
            "hello, world!\n",
            "hello, world!\n",
            "hello, world!\n",
            "hello, world!\n",
            "hello, world!\n",
            "hello, world!\n",
            "hello, world!\n",
            "hello, world!\n",
            "hello, world!\n",
            "hello, world!\n",
            "hello, world!\n",
            "hello, world!\n",
            "hello, world!\n",
            "hello, world!\n",
            "hello, world!\n",
            "hello, world!\n",
            "hello, world!\n",
            "hello, world!\n",
            "hello, world!\n",
            "hello, world!\n",
            "hello, world!\n",
            "hello, world!\n",
            "hello, world!\n",
            "hello, world!\n",
            "hello, world!\n",
            "hello, world!\n",
            "hello, world!\n",
            "hello, world!\n",
            "hello, world!\n",
            "hello, world!\n",
            "hello, world!\n",
            "hello, world!\n",
            "hello, world!\n",
            "hello, world!\n",
            "hello, world!\n",
            "hello, world!\n",
            "hello, world!\n",
            "hello, world!\n",
            "hello, world!\n",
            "hello, world!\n",
            "hello, world!\n",
            "hello, world!\n",
            "hello, world!\n",
            "hello, world!\n",
            "hello, world!\n",
            "hello, world!\n",
            "hello, world!\n",
            "hello, world!\n",
            "hello, world!\n",
            "hello, world!\n",
            "hello, world!\n",
            "hello, world!\n",
            "hello, world!\n",
            "hello, world!\n",
            "hello, world!\n",
            "hello, world!\n",
            "hello, world!\n",
            "hello, world!\n",
            "hello, world!\n",
            "hello, world!\n",
            "hello, world!\n",
            "hello, world!\n",
            "hello, world!\n",
            "hello, world!\n",
            "hello, world!\n",
            "hello, world!\n",
            "hello, world!\n",
            "hello, world!\n",
            "hello, world!\n",
            "hello, world!\n",
            "hello, world!\n",
            "hello, world!\n",
            "hello, world!\n",
            "hello, world!\n",
            "hello, world!\n",
            "hello, world!\n",
            "hello, world!\n",
            "hello, world!\n",
            "hello, world!\n",
            "hello, world!\n",
            "hello, world!\n",
            "hello, world!\n",
            "hello, world!\n",
            "hello, world!\n",
            "hello, world!\n",
            "hello, world!\n",
            "hello, world!\n",
            "hello, world!\n",
            "hello, world!\n",
            "hello, world!\n",
            "hello, world!\n",
            "hello, world!\n",
            "hello, world!\n",
            "hello, world!\n",
            "hello, world!\n",
            "hello, world!\n",
            "hello, world!\n",
            "hello, world!\n",
            "hello, world!\n",
            "hello, world!\n",
            "hello, world!\n",
            "hello, world!\n",
            "hello, world!\n",
            "hello, world!\n",
            "hello, world!\n",
            "hello, world!\n",
            "hello, world!\n",
            "hello, world!\n",
            "hello, world!\n",
            "hello, world!\n",
            "hello, world!\n",
            "hello, world!\n",
            "hello, world!\n",
            "hello, world!\n",
            "hello, world!\n",
            "hello, world!\n",
            "hello, world!\n",
            "hello, world!\n",
            "hello, world!\n",
            "hello, world!\n",
            "hello, world!\n",
            "hello, world!\n",
            "hello, world!\n",
            "hello, world!\n",
            "hello, world!\n",
            "hello, world!\n",
            "hello, world!\n",
            "hello, world!\n",
            "hello, world!\n",
            "hello, world!\n",
            "hello, world!\n",
            "hello, world!\n",
            "hello, world!\n",
            "hello, world!\n",
            "hello, world!\n",
            "hello, world!\n",
            "hello, world!\n",
            "hello, world!\n",
            "hello, world!\n",
            "hello, world!\n",
            "hello, world!\n",
            "hello, world!\n",
            "hello, world!\n",
            "hello, world!\n",
            "hello, world!\n",
            "hello, world!\n",
            "hello, world!\n",
            "hello, world!\n",
            "hello, world!\n",
            "hello, world!\n",
            "hello, world!\n",
            "hello, world!\n",
            "hello, world!\n",
            "hello, world!\n",
            "hello, world!\n",
            "hello, world!\n",
            "hello, world!\n",
            "hello, world!\n",
            "hello, world!\n",
            "hello, world!\n",
            "hello, world!\n",
            "hello, world!\n",
            "hello, world!\n",
            "hello, world!\n",
            "hello, world!\n",
            "hello, world!\n",
            "hello, world!\n",
            "hello, world!\n",
            "hello, world!\n",
            "hello, world!\n",
            "hello, world!\n",
            "hello, world!\n",
            "hello, world!\n",
            "hello, world!\n",
            "hello, world!\n",
            "hello, world!\n",
            "hello, world!\n",
            "hello, world!\n",
            "hello, world!\n",
            "hello, world!\n",
            "hello, world!\n",
            "hello, world!\n",
            "hello, world!\n",
            "hello, world!\n",
            "hello, world!\n",
            "hello, world!\n",
            "hello, world!\n",
            "hello, world!\n",
            "hello, world!\n",
            "hello, world!\n",
            "hello, world!\n",
            "hello, world!\n",
            "hello, world!\n",
            "hello, world!\n",
            "hello, world!\n",
            "hello, world!\n",
            "hello, world!\n",
            "hello, world!\n",
            "hello, world!\n",
            "hello, world!\n",
            "hello, world!\n",
            "hello, world!\n",
            "hello, world!\n",
            "hello, world!\n",
            "hello, world!\n",
            "hello, world!\n",
            "hello, world!\n",
            "hello, world!\n",
            "hello, world!\n",
            "hello, world!\n",
            "hello, world!\n",
            "hello, world!\n",
            "hello, world!\n",
            "hello, world!\n",
            "hello, world!\n",
            "hello, world!\n",
            "hello, world!\n",
            "hello, world!\n",
            "hello, world!\n",
            "hello, world!\n",
            "hello, world!\n",
            "hello, world!\n",
            "hello, world!\n",
            "hello, world!\n",
            "hello, world!\n",
            "hello, world!\n",
            "hello, world!\n",
            "hello, world!\n",
            "hello, world!\n",
            "hello, world!\n",
            "hello, world!\n",
            "hello, world!\n"
          ]
        },
        {
          "output_type": "stream",
          "name": "stderr",
          "text": [
            "\n",
            "KeyboardInterrupt\n",
            "\n"
          ]
        }
      ],
      "source": [
        "def hello():\n",
        "  print('hello, world!')\n",
        "  hello()\n",
        "\n",
        "hello()"
      ]
    },
    {
      "cell_type": "markdown",
      "source": [
        "파이썬에서는 최대 재귀 깊이가 1,000으로 정해져 있음\n",
        "\n",
        "hello함수가 자기자신을 계속 호출하다가 최대 재귀 깊이를 초과하면 RecursionError가 발생함"
      ],
      "metadata": {
        "id": "AA0yDhUy24ed"
      }
    },
    {
      "cell_type": "markdown",
      "source": [
        "![image.png](data:image/png;base64,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)"
      ],
      "metadata": {
        "id": "vRfN7O-u3Hol"
      }
    },
    {
      "cell_type": "markdown",
      "source": [
        "31.1 재귀호출에 종료 조건 만들기"
      ],
      "metadata": {
        "id": "x4q6y-q23JD2"
      }
    },
    {
      "cell_type": "code",
      "source": [
        "def hello(count):\n",
        "  if count == 0:\n",
        "    return \n",
        "  print('hello, world!', count)\n",
        "\n",
        "  count -= 1 \n",
        "  hello(count)\n",
        "\n",
        "hello(3)"
      ],
      "metadata": {
        "colab": {
          "base_uri": "https://localhost:8080/"
        },
        "id": "rrdO9wf52t4B",
        "outputId": "167fb963-3d59-4615-f45a-bf6967188d09"
      },
      "execution_count": 4,
      "outputs": [
        {
          "output_type": "stream",
          "name": "stdout",
          "text": [
            "hello, world! 3\n",
            "hello, world! 2\n",
            "hello, world! 1\n"
          ]
        }
      ]
    },
    {
      "cell_type": "markdown",
      "source": [
        "![image.png](data:image/png;base64,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)"
      ],
      "metadata": {
        "id": "e_uOAX5o3nB9"
      }
    },
    {
      "cell_type": "markdown",
      "source": [
        "31.2 재귀호출로 팩토리얼 구하기"
      ],
      "metadata": {
        "id": "fweLZXVh3pZD"
      }
    },
    {
      "cell_type": "markdown",
      "source": [
        "팩토리얼 : 1부터 n까지 양의 정수를 차례대로 곱한 값이며 !(느낌표) 기호로 표기함\n",
        "\n",
        "ex) 5! 은 5 * 4 * 3 * 2 * 1"
      ],
      "metadata": {
        "id": "wmNyEnJn3wUb"
      }
    },
    {
      "cell_type": "code",
      "source": [
        "def factorial(n):\n",
        "    if n == 1:      # n이 1일 때\n",
        "        return 1    # 1을 반환하고 재귀호출을 끝냄\n",
        "    return n * factorial(n - 1)    # n과 factorial 함수에 n - 1을 넣어서 반환된 값을 곱함\n",
        " \n",
        "print(factorial(5))"
      ],
      "metadata": {
        "colab": {
          "base_uri": "https://localhost:8080/"
        },
        "id": "VhYpbxVJ3bhM",
        "outputId": "9c5ec857-1d98-46ab-8e5e-53c5ebe30fe1"
      },
      "execution_count": 6,
      "outputs": [
        {
          "output_type": "stream",
          "name": "stdout",
          "text": [
            "120\n"
          ]
        }
      ]
    },
    {
      "cell_type": "markdown",
      "source": [
        "![image.png](data:image/png;base64,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)"
      ],
      "metadata": {
        "id": "Y2ual7QC4nKk"
      }
    },
    {
      "cell_type": "code",
      "source": [
        "def is_palindrome(word):\n",
        "  if len(word) < 2 :\n",
        "    return True\n",
        "  if word[0] != word[-1] :\n",
        "    return False\n",
        "  return is_palindrome(word[1:-1])\n",
        "    \n",
        "\n",
        "\n",
        "print(is_palindrome('hello'))\n",
        "print(is_palindrome('level'))"
      ],
      "metadata": {
        "colab": {
          "base_uri": "https://localhost:8080/"
        },
        "id": "cmiSO9-34SN4",
        "outputId": "ecb392f1-510e-4cd7-b2a8-1513715a2c40"
      },
      "execution_count": 8,
      "outputs": [
        {
          "output_type": "stream",
          "name": "stdout",
          "text": [
            "False\n",
            "True\n"
          ]
        }
      ]
    },
    {
      "cell_type": "markdown",
      "source": [
        "연습문제)\n",
        "\n",
        "표준 입력으로 정수 한 개가 입력됩니다(입력 값의 범위는 10~30). 다음 소스 코드를 완성하여 입력된 정수에 해당하는 피보나치 수가 출력되게 만드세요.\n",
        "\n",
        "피보나치 수는 0과 1로 시작하며, 다음 번 피보나치 수는 바로 앞의 두 피보나치 수의 합입니다."
      ],
      "metadata": {
        "id": "FXhDLfqQS7QG"
      }
    },
    {
      "cell_type": "code",
      "source": [
        "def fib(n):\n",
        "  if n < 2:\n",
        "    return n\n",
        "  else:\n",
        "    return fib(n-2)+fib(n-1)\n",
        "\n",
        "n = int(input())\n",
        "print(fib(n))"
      ],
      "metadata": {
        "colab": {
          "base_uri": "https://localhost:8080/"
        },
        "id": "VCK9SvNa5vmM",
        "outputId": "7f55b029-1198-473b-a437-cf9521db762c"
      },
      "execution_count": 12,
      "outputs": [
        {
          "output_type": "stream",
          "name": "stdout",
          "text": [
            "20\n",
            "6765\n"
          ]
        }
      ]
    },
    {
      "cell_type": "markdown",
      "source": [
        "<참고>\n",
        "\n",
        "- 매개변수는 255개까지 지정 가능\n",
        "- *arg, **kwargs 가변 인수 방식은 리스트(튜플), 딕셔너리의 최대 요소 개수를 따름\n",
        "\n",
        "- 최대 재귀 깊이는 1000 (sys모듈의 getrecursionlimit함수로 확인 가능)\n",
        "\n",
        "- 재귀 깊이를 늘리려면 (sys모듈의 setrecursionlimit함수를 사용하면 됨)\n",
        "\n",
        "- 함수는 :(콜론) 바로 뒤에 코드를 사용하면 한 줄로 만들 수 있음\n",
        "\n",
        "- 함수는 변수에 할당하거나 리스트에 넣어서 호출할 수 있는데 이때는 괄호 없이 함수를 그대로 넣어야 함\n",
        "\n",
        "- 순수 함수 : 함수의 실행이 외부 상태에 영향을 끼치지 않는 함수\n",
        "- 비순수 함수 : 함수의 실행이 외부 상태에 영향을 끼치는 함수"
      ],
      "metadata": {
        "id": "Q7SHDoRcaw3J"
      }
    },
    {
      "cell_type": "code",
      "source": [
        "def add(a, b):      # 함수 실행이 외부 상태에 영향을 끼치지 않음\n",
        "    return a + b\n",
        " \n",
        "print(add(1, 2))"
      ],
      "metadata": {
        "colab": {
          "base_uri": "https://localhost:8080/"
        },
        "id": "JJJqeWp9Uj2q",
        "outputId": "87341846-4980-48ab-9272-d6f8889ac7a2"
      },
      "execution_count": 13,
      "outputs": [
        {
          "output_type": "stream",
          "name": "stdout",
          "text": [
            "3\n"
          ]
        }
      ]
    },
    {
      "cell_type": "code",
      "source": [
        "number_list = [1, 2, 3]\n",
        " \n",
        "def append_number(n):        # 함수 실행이 외부 상태에 영향을 끼침\n",
        "    number_list.append(n)    # 함수 외부에 있는 number_list의 상태가 바뀜\n",
        " \n",
        "append_number(4)"
      ],
      "metadata": {
        "id": "nmDqBSfidlvD"
      },
      "execution_count": 14,
      "outputs": []
    },
    {
      "cell_type": "markdown",
      "source": [
        "## **Unit 32. 람다 표현식 사용하기**\n"
      ],
      "metadata": {
        "id": "InGhgsmXdqPc"
      }
    },
    {
      "cell_type": "markdown",
      "source": [
        "- 함수를 간편하게 작성할 수 있어서 다른 함수의 인수로 넣을 때 주로 사용\n",
        "- 이름이 없는 함수를 만듦 → 익명 함수"
      ],
      "metadata": {
        "id": "ZMS7WVBIduX0"
      }
    },
    {
      "cell_type": "markdown",
      "source": [
        "32.1 람다 표현식으로 함수 만들기\n",
        "\n",
        "      lambda 매개변수들 : 식"
      ],
      "metadata": {
        "id": "KPn__bibd2dC"
      }
    },
    {
      "cell_type": "code",
      "source": [
        " def plus_ten(x) :\n",
        "   return x + 10\n",
        "\n",
        "plus_ten(1)"
      ],
      "metadata": {
        "colab": {
          "base_uri": "https://localhost:8080/"
        },
        "id": "q8hSJ5ZDdnBf",
        "outputId": "d9a698bb-4a92-4dd0-8c71-8b2766ad9a42"
      },
      "execution_count": 15,
      "outputs": [
        {
          "output_type": "execute_result",
          "data": {
            "text/plain": [
              "11"
            ]
          },
          "metadata": {},
          "execution_count": 15
        }
      ]
    },
    {
      "cell_type": "code",
      "source": [
        "lambda x : x  + 10 # 익명 함수, 호출하기 위해서 변수 할당 필요"
      ],
      "metadata": {
        "colab": {
          "base_uri": "https://localhost:8080/"
        },
        "id": "th52w7UBeEUF",
        "outputId": "df1d06e4-20a9-4b8d-d7ba-e508faa14428"
      },
      "execution_count": 16,
      "outputs": [
        {
          "output_type": "execute_result",
          "data": {
            "text/plain": [
              "<function __main__.<lambda>(x)>"
            ]
          },
          "metadata": {},
          "execution_count": 16
        }
      ]
    },
    {
      "cell_type": "code",
      "source": [
        "plus_ten = lambda x : x +10\n",
        "plus_ten(1) # 매개변수, 연산자, 값 등을 조합한 식으로 반환값을 만드는 방식"
      ],
      "metadata": {
        "colab": {
          "base_uri": "https://localhost:8080/"
        },
        "id": "uF0Lj_oGeczn",
        "outputId": "1e825628-bd94-423c-aec9-a9a5303018b3"
      },
      "execution_count": 18,
      "outputs": [
        {
          "output_type": "execute_result",
          "data": {
            "text/plain": [
              "11"
            ]
          },
          "metadata": {},
          "execution_count": 18
        }
      ]
    },
    {
      "cell_type": "markdown",
      "source": [
        "- 람다 표현식 자체 호출\n",
        "\n",
        "(변수에 할당하지 않고 호출 가능)\n",
        "\n",
        "    (lambda 매개변수들 : 식)(인수들)"
      ],
      "metadata": {
        "id": "masTPP0BeydD"
      }
    },
    {
      "cell_type": "code",
      "source": [
        "(lambda x : x + 10)(1)"
      ],
      "metadata": {
        "colab": {
          "base_uri": "https://localhost:8080/"
        },
        "id": "GuVL7diOeiIG",
        "outputId": "98f33f43-b336-49b7-b80f-e63277756211"
      },
      "execution_count": 19,
      "outputs": [
        {
          "output_type": "execute_result",
          "data": {
            "text/plain": [
              "11"
            ]
          },
          "metadata": {},
          "execution_count": 19
        }
      ]
    },
    {
      "cell_type": "markdown",
      "source": [
        "- 람다 표현식 안에서는 변수를 만들 수 없음\n",
        "\n",
        "→ 반환값 부분은 변수 없이 식 한 줄로 표현할 수 있어야 함"
      ],
      "metadata": {
        "id": "qO9t7vgUfIyi"
      }
    },
    {
      "cell_type": "code",
      "source": [
        "(lambda x: y = 10; x + y)(1) # 변수가 필요한 코드일 경우 def로 함수 작성하는 것이 좋음"
      ],
      "metadata": {
        "colab": {
          "base_uri": "https://localhost:8080/",
          "height": 136
        },
        "id": "Zwxmk7z7fHUg",
        "outputId": "19c73804-2159-4e84-b24d-8703d8263932"
      },
      "execution_count": 21,
      "outputs": [
        {
          "output_type": "error",
          "ename": "SyntaxError",
          "evalue": "ignored",
          "traceback": [
            "\u001b[0;36m  File \u001b[0;32m\"<ipython-input-21-4c753c9e84a8>\"\u001b[0;36m, line \u001b[0;32m1\u001b[0m\n\u001b[0;31m    (lambda x: y = 10; x + y)(1) # 변수가 필요한 코드일 경우 def로 함수 작성하는 것이 좋음\u001b[0m\n\u001b[0m                 ^\u001b[0m\n\u001b[0;31mSyntaxError\u001b[0m\u001b[0;31m:\u001b[0m invalid syntax\n"
          ]
        }
      ]
    },
    {
      "cell_type": "code",
      "source": [
        "y = 10 # 람다 표현식 바깥에 있는 변수는 사용 가능\n",
        "(lambda x : x + y)(8) "
      ],
      "metadata": {
        "colab": {
          "base_uri": "https://localhost:8080/"
        },
        "id": "o4kH3fCMffJa",
        "outputId": "226d139e-33f6-4e1c-bc55-6fefd9d25a12"
      },
      "execution_count": 23,
      "outputs": [
        {
          "output_type": "execute_result",
          "data": {
            "text/plain": [
              "18"
            ]
          },
          "metadata": {},
          "execution_count": 23
        }
      ]
    },
    {
      "cell_type": "markdown",
      "source": [
        "- map 객체 사용하기 "
      ],
      "metadata": {
        "id": "xvLQFu_VgYks"
      }
    },
    {
      "cell_type": "code",
      "source": [
        "def plus_ten(x):\n",
        "  return x + 10\n",
        "\n",
        "list(map(plus_ten, [1,2,3]))"
      ],
      "metadata": {
        "colab": {
          "base_uri": "https://localhost:8080/"
        },
        "id": "xC1eN4HIfrjg",
        "outputId": "c2b1b5dd-37e9-4705-ce6d-b5f0f9c83fc9"
      },
      "execution_count": 24,
      "outputs": [
        {
          "output_type": "execute_result",
          "data": {
            "text/plain": [
              "[11, 12, 13]"
            ]
          },
          "metadata": {},
          "execution_count": 24
        }
      ]
    },
    {
      "cell_type": "code",
      "source": [
        "list(map(lambda x : x + 10, [1, 2, 3])) # 3줄을 1줄로 작성할 수 있게 도와주는 lambda"
      ],
      "metadata": {
        "colab": {
          "base_uri": "https://localhost:8080/"
        },
        "id": "A1meEUp7gPMU",
        "outputId": "a3322baf-c8cb-47d6-fa6a-81ee19b60eee"
      },
      "execution_count": 26,
      "outputs": [
        {
          "output_type": "execute_result",
          "data": {
            "text/plain": [
              "[11, 12, 13]"
            ]
          },
          "metadata": {},
          "execution_count": 26
        }
      ]
    },
    {
      "cell_type": "markdown",
      "source": [
        "<참고>\n",
        "\n",
        "람다 표현식으로 매개변수가 없는 함수 만들기\n",
        "\n",
        "- 람다 표현식으로 매개변수가 없는 함수를 만들 때는 lambda 뒤에 아무것도 지정하지 않고 :(콜론)을 붙임. 단, 콜론 뒤에는 반드시 반환할 값이 있어야함. 이유는 표현식은 반드시 값으로 평가되어야 하기 때문."
      ],
      "metadata": {
        "id": "XunjGmOrgit8"
      }
    },
    {
      "cell_type": "code",
      "source": [
        "(lambda : 1)()"
      ],
      "metadata": {
        "colab": {
          "base_uri": "https://localhost:8080/"
        },
        "id": "CuF7WyfYgT-h",
        "outputId": "c8b34332-e8bf-4d72-a1cb-608f7e356aa5"
      },
      "execution_count": 27,
      "outputs": [
        {
          "output_type": "execute_result",
          "data": {
            "text/plain": [
              "1"
            ]
          },
          "metadata": {},
          "execution_count": 27
        }
      ]
    },
    {
      "cell_type": "code",
      "source": [
        "x = 10\n",
        "(lambda : x)()"
      ],
      "metadata": {
        "colab": {
          "base_uri": "https://localhost:8080/"
        },
        "id": "ikmLhl5tg5Pa",
        "outputId": "24773a14-f2cf-483c-b01d-7e3849121eb7"
      },
      "execution_count": 28,
      "outputs": [
        {
          "output_type": "execute_result",
          "data": {
            "text/plain": [
              "10"
            ]
          },
          "metadata": {},
          "execution_count": 28
        }
      ]
    },
    {
      "cell_type": "markdown",
      "source": [
        "32.2 람다 표현식과 map, filter, reduce 함수 활용하기"
      ],
      "metadata": {
        "id": "X-4STuhOhE9Q"
      }
    },
    {
      "cell_type": "markdown",
      "source": [
        "람다 표현식에서 조건부 표현식 사용 방법\n",
        "- 람다 표현식에서 if 를 사용했다면 반드시 else를 사용해야 함\n",
        "- 람다 표현식 안에서 조건부 표현식 if, else를 사용할 때는 :(콜론)을 붙이지 않음\n",
        "\n",
        "        lambda 매개변수들 : 식1 if 조건식 else 식2\n",
        "\n",
        "        lambda 매개변수들 : 식1 if 조건식1 else 식2 if 조건식 2 else 식3"
      ],
      "metadata": {
        "id": "UUdFARcihJsx"
      }
    },
    {
      "cell_type": "code",
      "source": [
        "a = [1,2,3,4,5,6,7,8,9,10]\n",
        "list(map(lambda x : str(x) if x % 3 == 0 else x, a))"
      ],
      "metadata": {
        "colab": {
          "base_uri": "https://localhost:8080/"
        },
        "id": "N78U_uTgg9x7",
        "outputId": "39f407ef-e0a0-469b-ab24-fc7e96b5dfd3"
      },
      "execution_count": 29,
      "outputs": [
        {
          "output_type": "execute_result",
          "data": {
            "text/plain": [
              "[1, 2, '3', 4, 5, '6', 7, 8, '9', 10]"
            ]
          },
          "metadata": {},
          "execution_count": 29
        }
      ]
    },
    {
      "cell_type": "code",
      "source": [
        "a = [1,2,3,4,5,6,7,8,9,10]\n",
        "list(map(lambda x : str(x) if x == 1 else float(x) if x == 2 else x +10, a))"
      ],
      "metadata": {
        "colab": {
          "base_uri": "https://localhost:8080/"
        },
        "id": "19MeUTM0hd-v",
        "outputId": "1cf006e2-90c7-4a80-e108-ec75e7385601"
      },
      "execution_count": 30,
      "outputs": [
        {
          "output_type": "execute_result",
          "data": {
            "text/plain": [
              "['1', 2.0, 13, 14, 15, 16, 17, 18, 19, 20]"
            ]
          },
          "metadata": {},
          "execution_count": 30
        }
      ]
    },
    {
      "cell_type": "code",
      "source": [
        "def f(x) :\n",
        "  if x == 1:\n",
        "    return str(x)\n",
        "  elif x == 2:\n",
        "    return float(x)\n",
        "  else:\n",
        "    return x + 10\n",
        " \n",
        "a = [1,2,3,4,5,6,7,8,9,10]\n",
        "list(map(f,a)) # 코드는 길이가 조금 길어지더라도 알아보기 쉽게 작성하는 것이 좋음"
      ],
      "metadata": {
        "colab": {
          "base_uri": "https://localhost:8080/"
        },
        "id": "jIZVrCCxiTL_",
        "outputId": "9f40c30b-a7bc-48ab-9fe0-104a19f99ff6"
      },
      "execution_count": 32,
      "outputs": [
        {
          "output_type": "execute_result",
          "data": {
            "text/plain": [
              "['1', 2.0, 13, 14, 15, 16, 17, 18, 19, 20]"
            ]
          },
          "metadata": {},
          "execution_count": 32
        }
      ]
    },
    {
      "cell_type": "code",
      "source": [
        "a = [1,2,3,4,5]\n",
        "b = [2,4,6,8,10]\n",
        "\n",
        "list(map(lambda x, y: x*y, a,b)) # map은 반복가능한 객체를 여러개 넣을 수 있음 \n",
        "                                 # 매개변수를 두 개 지정하고 리스트 두 개를 콤마로 구분하면 됨"
      ],
      "metadata": {
        "colab": {
          "base_uri": "https://localhost:8080/"
        },
        "id": "4yrf6VOVipVR",
        "outputId": "69ba0e0f-3403-456a-89f2-f7839170a218"
      },
      "execution_count": 33,
      "outputs": [
        {
          "output_type": "execute_result",
          "data": {
            "text/plain": [
              "[2, 8, 18, 32, 50]"
            ]
          },
          "metadata": {},
          "execution_count": 33
        }
      ]
    },
    {
      "cell_type": "markdown",
      "source": [
        "- filter : 반복 가능한 객체에서 특정 조건에 맞는 요소만 가져오는데, 지정한 함수의 반환값이 True일 때만 해당 요소를 가져옴\n",
        "\n",
        "      filter(함수, 반복가능한객체)"
      ],
      "metadata": {
        "id": "WW5nV4TdjP-B"
      }
    },
    {
      "cell_type": "code",
      "source": [
        "def f(x):\n",
        "  return x > 5 and x < 10\n",
        "\n",
        "a = [8,3,2,10,15,7,1,9,0,11]\n",
        "list(filter(f,a))"
      ],
      "metadata": {
        "colab": {
          "base_uri": "https://localhost:8080/"
        },
        "id": "0x1CnUhGjKFA",
        "outputId": "2eea027a-0ea2-4ad0-88bb-a79b515b455d"
      },
      "execution_count": 35,
      "outputs": [
        {
          "output_type": "execute_result",
          "data": {
            "text/plain": [
              "[8, 7, 9]"
            ]
          },
          "metadata": {},
          "execution_count": 35
        }
      ]
    },
    {
      "cell_type": "code",
      "source": [
        "a = [8,3,2,10,15,7,1,9,0,11]\n",
        "list(filter(lambda x : x>5 and x <10,a))"
      ],
      "metadata": {
        "colab": {
          "base_uri": "https://localhost:8080/"
        },
        "id": "Xm6j_Q5YjldG",
        "outputId": "64ebfc94-4976-4fcd-cda2-b94e71a451c9"
      },
      "execution_count": 36,
      "outputs": [
        {
          "output_type": "execute_result",
          "data": {
            "text/plain": [
              "[8, 7, 9]"
            ]
          },
          "metadata": {},
          "execution_count": 36
        }
      ]
    },
    {
      "cell_type": "markdown",
      "source": [
        "- reduce : 반복 가능한 객체의 각 요소를 지정된 함수로 처리한 뒤 이전 결과와 누적해서 반환하는 함수\n",
        "\n",
        "        from functools import reduce\n",
        "        reduce(함수, 반복가능한객체)"
      ],
      "metadata": {
        "id": "iJsc-uj0j0_W"
      }
    },
    {
      "cell_type": "code",
      "source": [
        "def f(x,y):\n",
        "  return x + y\n",
        "\n",
        "a = [1,2,3,4,5]\n",
        "from functools import reduce\n",
        "reduce(f,a)"
      ],
      "metadata": {
        "colab": {
          "base_uri": "https://localhost:8080/"
        },
        "id": "qGRhwHcJjzv0",
        "outputId": "6f217e19-5b5a-4bd5-d355-79ef1e5f90b8"
      },
      "execution_count": 37,
      "outputs": [
        {
          "output_type": "execute_result",
          "data": {
            "text/plain": [
              "15"
            ]
          },
          "metadata": {},
          "execution_count": 37
        }
      ]
    },
    {
      "cell_type": "code",
      "source": [
        "a = [1, 2, 3, 4, 5]\n",
        "reduce(lambda x,y : x + y, a)"
      ],
      "metadata": {
        "colab": {
          "base_uri": "https://localhost:8080/"
        },
        "id": "5L2lSu9ZkNjZ",
        "outputId": "705efbfc-02ec-4767-ade1-fe508e1a24fa"
      },
      "execution_count": 39,
      "outputs": [
        {
          "output_type": "execute_result",
          "data": {
            "text/plain": [
              "15"
            ]
          },
          "metadata": {},
          "execution_count": 39
        }
      ]
    },
    {
      "cell_type": "markdown",
      "source": [
        "<참고>\n",
        "\n",
        "리스트(딕셔너리, 세트) 표현식으로 처리할 수 있는 경우에는 map, filter와 람다 표현식 대신 리스트 표현식을 사용하는 것이 좋음"
      ],
      "metadata": {
        "id": "4BalEQwFlBeu"
      }
    },
    {
      "cell_type": "code",
      "source": [
        "a = [8, 3, 2, 10, 15, 7, 1, 9, 0, 11]\n",
        "[i for i in a if i > 5 and i <10]\n"
      ],
      "metadata": {
        "colab": {
          "base_uri": "https://localhost:8080/"
        },
        "id": "EdgRxXDMkoVR",
        "outputId": "4a58df2b-4914-4476-d746-87fe60fae223"
      },
      "execution_count": 40,
      "outputs": [
        {
          "output_type": "execute_result",
          "data": {
            "text/plain": [
              "[8, 7, 9]"
            ]
          },
          "metadata": {},
          "execution_count": 40
        }
      ]
    },
    {
      "cell_type": "code",
      "source": [
        "files = ['font', '1.png', '10.jpg', '11.gif', '2.jpg', '3.png', 'table.xslx', 'spec.docx']\n",
        "\n",
        "print(\n",
        "    list(filter(lambda x : '.jpg' in x or '.png' in x, files))\n",
        ")"
      ],
      "metadata": {
        "colab": {
          "base_uri": "https://localhost:8080/"
        },
        "id": "0jSE27ZClVwp",
        "outputId": "96904504-cda5-405b-e9f8-ec5665dc3738"
      },
      "execution_count": 45,
      "outputs": [
        {
          "output_type": "stream",
          "name": "stdout",
          "text": [
            "['1.png', '10.jpg', '2.jpg', '3.png']\n"
          ]
        }
      ]
    },
    {
      "cell_type": "markdown",
      "source": [
        "연습문제)\n",
        "\n",
        "표준 입력으로 숫자.확장자 형식으로 된 파일 이름 여러 개가 입력됩니다. 다음 소스 코드를 완성하여 파일 이름이 숫자 3개이면서 앞에 0이 들어가는 형식으로 출력되게 만드세요. 예를 들어 1.png는 001.png, 99.docx는 099.docx, 100.xlsx는 100.xlsx처럼 출력되어야 합니다. 그리고 람다 표현식을 사용해야 하며 출력 결과는 리스트 형태라야 합니다. 람다 표현식에서 파일명을 처리할 때는 문자열 포매팅과 문자열 메서드를 활용하세요."
      ],
      "metadata": {
        "id": "i4vY19ppm2nx"
      }
    },
    {
      "cell_type": "code",
      "source": [
        "files = input().split()\n",
        " \n",
        "print(\n",
        "    list(map(lambda x : x.split('.')[0].zfill(3) + '.' + x.split('.')[1], files))\n",
        ") # zfill함수는 문자열에만 쓸 수 있다."
      ],
      "metadata": {
        "colab": {
          "base_uri": "https://localhost:8080/"
        },
        "id": "N_QLxcGkmVPF",
        "outputId": "1537793d-b448-41a4-b29f-cf02952287d4"
      },
      "execution_count": 3,
      "outputs": [
        {
          "output_type": "stream",
          "name": "stdout",
          "text": [
            "1.jpg 10.png 11.png 2.jpg 3.png\n",
            "['001.jpg', '010.png', '011.png', '002.jpg', '003.png']\n"
          ]
        }
      ]
    },
    {
      "cell_type": "code",
      "source": [
        "files = input().split()\n",
        "\n",
        "print(\n",
        "    list(map(lambda x : str('{0:03d}'.format(int(x.split('.')[0])) +'.'+x.split('.')[1]) , files))\n",
        ")"
      ],
      "metadata": {
        "colab": {
          "base_uri": "https://localhost:8080/"
        },
        "id": "E_ZK2WrVpNqe",
        "outputId": "416f19e2-a404-4216-a71a-67840fec6e10"
      },
      "execution_count": 6,
      "outputs": [
        {
          "output_type": "stream",
          "name": "stdout",
          "text": [
            "1.jpg 10.png 11.png 2.jpg 3.png\n",
            "['001.jpg', '010.png', '011.png', '002.jpg', '003.png']\n"
          ]
        }
      ]
    },
    {
      "cell_type": "markdown",
      "source": [
        "## **Unit 33. 클로저 사용하기**\n"
      ],
      "metadata": {
        "id": "-bwiEfbdvRNs"
      }
    },
    {
      "cell_type": "markdown",
      "source": [
        "- 전역 변수 : 함수를 포함하여 스크립트 전체에서 접근할 수 있는 변수\n",
        "\n",
        "- 전역 범위 : 전역 변수에 접근할 수 있는 범위\n",
        "\n",
        "![image.png](data:image/png;base64,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)"
      ],
      "metadata": {
        "id": "d5u7u82evovY"
      }
    },
    {
      "cell_type": "markdown",
      "source": [
        "- 지역 변수 : 변수를 만든 함수 안에서만 접근할 수 있고, 함수 바깥에서는 접근할 수 없음\n",
        "\n",
        "- 지역 범위 : 지역 변수를 접근할 수 있는 범위\n",
        "\n",
        "![image.png](data:image/png;base64,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)"
      ],
      "metadata": {
        "id": "7aAyMExXv81y"
      }
    },
    {
      "cell_type": "code",
      "source": [
        "x = 10          # 전역 변수\n",
        "def foo():\n",
        "    print(x)    # 전역 변수 출력\n",
        "\n",
        "foo()"
      ],
      "metadata": {
        "colab": {
          "base_uri": "https://localhost:8080/"
        },
        "id": "4Fo7cRpXu541",
        "outputId": "16f5c512-d633-4857-c2ad-85a547e9ddd3"
      },
      "execution_count": 7,
      "outputs": [
        {
          "output_type": "stream",
          "name": "stdout",
          "text": [
            "10\n"
          ]
        }
      ]
    },
    {
      "cell_type": "code",
      "source": [
        "def foo():\n",
        "    x = 10      # foo의 지역 변수\n",
        "    print(x)    # foo의 지역 변수 출력\n",
        " \n",
        "foo()"
      ],
      "metadata": {
        "colab": {
          "base_uri": "https://localhost:8080/"
        },
        "id": "5xggbvcZwYg9",
        "outputId": "a538ff4c-8b0e-48eb-dec8-79658d17e480"
      },
      "execution_count": 8,
      "outputs": [
        {
          "output_type": "stream",
          "name": "stdout",
          "text": [
            "10\n"
          ]
        }
      ]
    },
    {
      "cell_type": "code",
      "source": [
        "x = 10 # 전역 변수\n",
        "def foo():\n",
        "  x = 20 # 지역 변수\n",
        "  print(x)\n",
        "\n",
        "foo() # foo에서 만든 새로운 지역 변수 x \n",
        "print(x) # 전역 변수 출력"
      ],
      "metadata": {
        "colab": {
          "base_uri": "https://localhost:8080/"
        },
        "id": "kCgFV3Towa4a",
        "outputId": "6984725d-9711-45fd-ddec-fdb694c7eb72"
      },
      "execution_count": 10,
      "outputs": [
        {
          "output_type": "stream",
          "name": "stdout",
          "text": [
            "20\n",
            "10\n"
          ]
        }
      ]
    },
    {
      "cell_type": "markdown",
      "source": [
        "- 함수 안 전역 변수 값 변경\n",
        "\n",
        "      global 전역변수\n",
        "\n",
        "      "
      ],
      "metadata": {
        "id": "GWPZug8kw2C-"
      }
    },
    {
      "cell_type": "code",
      "source": [
        "x = 10\n",
        "def foo():\n",
        "  global x # 전역 변수 x를 사용하겠다고 설정\n",
        "  x = 20 # x 는 전역 변수\n",
        "  print(x) # 전역 변수 출력\n",
        "\n",
        "foo()\n",
        "print(x) # 전역 변수 출력"
      ],
      "metadata": {
        "colab": {
          "base_uri": "https://localhost:8080/"
        },
        "id": "A5Pu6jgnwhGc",
        "outputId": "6d5eeb90-d5fe-4e0d-b61b-9ec71ef3fc70"
      },
      "execution_count": 12,
      "outputs": [
        {
          "output_type": "stream",
          "name": "stdout",
          "text": [
            "20\n",
            "20\n"
          ]
        }
      ]
    },
    {
      "cell_type": "code",
      "source": [
        "# 전역 변수 x가 없는 상태\n",
        "\n",
        "def foo():\n",
        "  global x \n",
        "  x = 20\n",
        "  print(x)\n",
        "\n",
        "foo()\n",
        "print(x) # 전역 변수가 없을 떄 함수 안에서 global을 사용하면 해당 변수는 전역 변수가 됨"
      ],
      "metadata": {
        "colab": {
          "base_uri": "https://localhost:8080/"
        },
        "id": "filhLrSoxHsu",
        "outputId": "16bd87b0-e4ec-433a-a034-bab029e3240d"
      },
      "execution_count": 13,
      "outputs": [
        {
          "output_type": "stream",
          "name": "stdout",
          "text": [
            "20\n",
            "20\n"
          ]
        }
      ]
    },
    {
      "cell_type": "markdown",
      "source": [
        "<참고>\n",
        "\n",
        "네임스페이스\n",
        "\n",
        "파이썬에서 변수는 네임스페이스에 저장됨\n",
        "\n",
        "locals함수를 사용하면 현재 네임스페이스를 딕셔너리 형태로 출력 가능"
      ],
      "metadata": {
        "id": "1sQoubQ0xnd6"
      }
    },
    {
      "cell_type": "code",
      "source": [
        "x = 10\n",
        "locals()"
      ],
      "metadata": {
        "colab": {
          "base_uri": "https://localhost:8080/"
        },
        "id": "FezUYPQtxmcD",
        "outputId": "118f0450-07be-4b9c-a3ab-5dcee6ef6e14"
      },
      "execution_count": 14,
      "outputs": [
        {
          "output_type": "execute_result",
          "data": {
            "text/plain": [
              "{'__name__': '__main__',\n",
              " '__doc__': 'Automatically created module for IPython interactive environment',\n",
              " '__package__': None,\n",
              " '__loader__': None,\n",
              " '__spec__': None,\n",
              " '__builtin__': <module 'builtins' (built-in)>,\n",
              " '__builtins__': <module 'builtins' (built-in)>,\n",
              " '_ih': ['',\n",
              "  \"files = input().split()\\n \\nprint(\\n    list(map(lambda x : '{0:03d}'.format(int(x.split('.')[0])) + '.' + x.split('.')[1] , files))\\n)\",\n",
              "  \"files = input().split()\\n \\nprint(\\n    list(map(lambda x : x.split('.')[0].zfill(3) + '.' + x.split('.')[1] , files))\\n)\",\n",
              "  \"files = input().split()\\n \\nprint(\\n    list(map(lambda x : x.split('.')[0].zfill(3) + '.' + x.split('.')[1], files))\\n)\",\n",
              "  \"files = input().split()\\n\\nprint(\\n    list(map(lambda x : '{0:03d}'.format(int(x.split('.')[0])+'.'+x.split('.')[1]) , files))\\n)\",\n",
              "  \"files = input().split()\\n\\nprint(\\n    list(map(lambda x : str('{0:03d}'.format(int(x.split('.')[0])) +'.'+x.split('.')[1]) , files))\\n)\",\n",
              "  \"files = input().split()\\n\\nprint(\\n    list(map(lambda x : str('{0:03d}'.format(int(x.split('.')[0])) +'.'+x.split('.')[1]) , files))\\n)\",\n",
              "  'x = 10          # 전역 변수\\ndef foo():\\n    print(x)    # 전역 변수 출력\\n\\nfoo()',\n",
              "  'def foo():\\n    x = 10      # foo의 지역 변수\\n    print(x)    # foo의 지역 변수 출력\\n \\nfoo()',\n",
              "  'x = 10\\ndef foo():\\n  x = 20\\n  print(x)\\n\\nfoo()',\n",
              "  'x = 10 # 전역 변수\\ndef foo():\\n  x = 20 # 지역 변수\\n  print(x)\\n\\nfoo() # foo에서 만든 새로운 지역 변수 x \\nprint(x) # 전역 변수 출력',\n",
              "  'x = 10\\ndef foo():\\n  global x\\n  x = 20\\n  print(x)\\n\\nfoo()\\nprint(x)',\n",
              "  'x = 10\\ndef foo():\\n  global x # 전역 변수 x를 사용하겠다고 설정\\n  x = 20 # x 는 전역 변수\\n  print(x) # 전역 변수 출력\\n\\nfoo()\\nprint(x) # 전역 변수 출력',\n",
              "  '# 전역 변수 x가 없는 상태\\n\\ndef foo():\\n  global x \\n  x = 20\\n  print(x)\\n\\nfoo()\\nprint(x) # 전역 변수가 없을 떄 함수 안에서 global을 사용하면 해당 변수는 전역 변수가 됨',\n",
              "  'x = 10\\nlocals()'],\n",
              " '_oh': {},\n",
              " '_dh': ['/content'],\n",
              " 'In': ['',\n",
              "  \"files = input().split()\\n \\nprint(\\n    list(map(lambda x : '{0:03d}'.format(int(x.split('.')[0])) + '.' + x.split('.')[1] , files))\\n)\",\n",
              "  \"files = input().split()\\n \\nprint(\\n    list(map(lambda x : x.split('.')[0].zfill(3) + '.' + x.split('.')[1] , files))\\n)\",\n",
              "  \"files = input().split()\\n \\nprint(\\n    list(map(lambda x : x.split('.')[0].zfill(3) + '.' + x.split('.')[1], files))\\n)\",\n",
              "  \"files = input().split()\\n\\nprint(\\n    list(map(lambda x : '{0:03d}'.format(int(x.split('.')[0])+'.'+x.split('.')[1]) , files))\\n)\",\n",
              "  \"files = input().split()\\n\\nprint(\\n    list(map(lambda x : str('{0:03d}'.format(int(x.split('.')[0])) +'.'+x.split('.')[1]) , files))\\n)\",\n",
              "  \"files = input().split()\\n\\nprint(\\n    list(map(lambda x : str('{0:03d}'.format(int(x.split('.')[0])) +'.'+x.split('.')[1]) , files))\\n)\",\n",
              "  'x = 10          # 전역 변수\\ndef foo():\\n    print(x)    # 전역 변수 출력\\n\\nfoo()',\n",
              "  'def foo():\\n    x = 10      # foo의 지역 변수\\n    print(x)    # foo의 지역 변수 출력\\n \\nfoo()',\n",
              "  'x = 10\\ndef foo():\\n  x = 20\\n  print(x)\\n\\nfoo()',\n",
              "  'x = 10 # 전역 변수\\ndef foo():\\n  x = 20 # 지역 변수\\n  print(x)\\n\\nfoo() # foo에서 만든 새로운 지역 변수 x \\nprint(x) # 전역 변수 출력',\n",
              "  'x = 10\\ndef foo():\\n  global x\\n  x = 20\\n  print(x)\\n\\nfoo()\\nprint(x)',\n",
              "  'x = 10\\ndef foo():\\n  global x # 전역 변수 x를 사용하겠다고 설정\\n  x = 20 # x 는 전역 변수\\n  print(x) # 전역 변수 출력\\n\\nfoo()\\nprint(x) # 전역 변수 출력',\n",
              "  '# 전역 변수 x가 없는 상태\\n\\ndef foo():\\n  global x \\n  x = 20\\n  print(x)\\n\\nfoo()\\nprint(x) # 전역 변수가 없을 떄 함수 안에서 global을 사용하면 해당 변수는 전역 변수가 됨',\n",
              "  'x = 10\\nlocals()'],\n",
              " 'Out': {},\n",
              " 'get_ipython': <bound method InteractiveShell.get_ipython of <google.colab._shell.Shell object at 0x7f35c11d1fd0>>,\n",
              " 'exit': <IPython.core.autocall.ZMQExitAutocall at 0x7f35be1a06d0>,\n",
              " 'quit': <IPython.core.autocall.ZMQExitAutocall at 0x7f35be1a06d0>,\n",
              " '_': '',\n",
              " '__': '',\n",
              " '___': '',\n",
              " '_i': '# 전역 변수 x가 없는 상태\\n\\ndef foo():\\n  global x \\n  x = 20\\n  print(x)\\n\\nfoo()\\nprint(x) # 전역 변수가 없을 떄 함수 안에서 global을 사용하면 해당 변수는 전역 변수가 됨',\n",
              " '_ii': 'x = 10\\ndef foo():\\n  global x # 전역 변수 x를 사용하겠다고 설정\\n  x = 20 # x 는 전역 변수\\n  print(x) # 전역 변수 출력\\n\\nfoo()\\nprint(x) # 전역 변수 출력',\n",
              " '_iii': 'x = 10\\ndef foo():\\n  global x\\n  x = 20\\n  print(x)\\n\\nfoo()\\nprint(x)',\n",
              " '_i1': \"files = input().split()\\n \\nprint(\\n    list(map(lambda x : '{0:03d}'.format(int(x.split('.')[0])) + '.' + x.split('.')[1] , files))\\n)\",\n",
              " 'files': ['1.jpg', '10.png', '11.png', '2.jpg', '3.png'],\n",
              " '_i2': \"files = input().split()\\n \\nprint(\\n    list(map(lambda x : x.split('.')[0].zfill(3) + '.' + x.split('.')[1] , files))\\n)\",\n",
              " '_i3': \"files = input().split()\\n \\nprint(\\n    list(map(lambda x : x.split('.')[0].zfill(3) + '.' + x.split('.')[1], files))\\n)\",\n",
              " '_i4': \"files = input().split()\\n\\nprint(\\n    list(map(lambda x : '{0:03d}'.format(int(x.split('.')[0])+'.'+x.split('.')[1]) , files))\\n)\",\n",
              " '_i5': \"files = input().split()\\n\\nprint(\\n    list(map(lambda x : str('{0:03d}'.format(int(x.split('.')[0])) +'.'+x.split('.')[1]) , files))\\n)\",\n",
              " '_i6': \"files = input().split()\\n\\nprint(\\n    list(map(lambda x : str('{0:03d}'.format(int(x.split('.')[0])) +'.'+x.split('.')[1]) , files))\\n)\",\n",
              " '_i7': 'x = 10          # 전역 변수\\ndef foo():\\n    print(x)    # 전역 변수 출력\\n\\nfoo()',\n",
              " 'x': 10,\n",
              " 'foo': <function __main__.foo()>,\n",
              " '_i8': 'def foo():\\n    x = 10      # foo의 지역 변수\\n    print(x)    # foo의 지역 변수 출력\\n \\nfoo()',\n",
              " '_i9': 'x = 10\\ndef foo():\\n  x = 20\\n  print(x)\\n\\nfoo()',\n",
              " '_i10': 'x = 10 # 전역 변수\\ndef foo():\\n  x = 20 # 지역 변수\\n  print(x)\\n\\nfoo() # foo에서 만든 새로운 지역 변수 x \\nprint(x) # 전역 변수 출력',\n",
              " '_i11': 'x = 10\\ndef foo():\\n  global x\\n  x = 20\\n  print(x)\\n\\nfoo()\\nprint(x)',\n",
              " '_i12': 'x = 10\\ndef foo():\\n  global x # 전역 변수 x를 사용하겠다고 설정\\n  x = 20 # x 는 전역 변수\\n  print(x) # 전역 변수 출력\\n\\nfoo()\\nprint(x) # 전역 변수 출력',\n",
              " '_i13': '# 전역 변수 x가 없는 상태\\n\\ndef foo():\\n  global x \\n  x = 20\\n  print(x)\\n\\nfoo()\\nprint(x) # 전역 변수가 없을 떄 함수 안에서 global을 사용하면 해당 변수는 전역 변수가 됨',\n",
              " '_i14': 'x = 10\\nlocals()'}"
            ]
          },
          "metadata": {},
          "execution_count": 14
        }
      ]
    },
    {
      "cell_type": "code",
      "source": [
        "def foo():\n",
        "  x = 10 # 지역 변수\n",
        "  print(locals()) # 지역 네임스페이스 가져옴"
      ],
      "metadata": {
        "id": "4bXVfm7px3CP"
      },
      "execution_count": 15,
      "outputs": []
    },
    {
      "cell_type": "code",
      "source": [
        "foo()"
      ],
      "metadata": {
        "colab": {
          "base_uri": "https://localhost:8080/"
        },
        "id": "ROACqV-tyEKY",
        "outputId": "21633d55-f6c4-421b-ce8b-fc2f5d42ebda"
      },
      "execution_count": 16,
      "outputs": [
        {
          "output_type": "stream",
          "name": "stdout",
          "text": [
            "{'x': 10}\n"
          ]
        }
      ]
    },
    {
      "cell_type": "markdown",
      "source": [
        "33.2 함수 안에 함수 만들기\n",
        "\n",
        "      def 함수이름1():\n",
        "         코드\n",
        "         def 함수이름2():\n",
        "            코드"
      ],
      "metadata": {
        "id": "UCLl_LlZyOPj"
      }
    },
    {
      "cell_type": "code",
      "source": [
        "def print_hello():\n",
        "  hello = 'Hello, world!'\n",
        "  def print_message():\n",
        "    print(hello)\n",
        "  print_message()\n",
        "\n",
        "  \n",
        "print_hello()"
      ],
      "metadata": {
        "colab": {
          "base_uri": "https://localhost:8080/"
        },
        "id": "8UnMD1NgyFO1",
        "outputId": "0291c15f-807c-4414-b7d5-59856e4c3b08"
      },
      "execution_count": 1,
      "outputs": [
        {
          "output_type": "stream",
          "name": "stdout",
          "text": [
            "Hello, world!\n"
          ]
        }
      ]
    },
    {
      "cell_type": "code",
      "source": [
        " def print_hello():\n",
        "   hello = 'hello, world!'\n",
        "   def print_message():\n",
        "     print(hello) # 바깥쪽 함수의 지역 변수 사용"
      ],
      "metadata": {
        "id": "q85mk5bksPdn"
      },
      "execution_count": 2,
      "outputs": []
    },
    {
      "cell_type": "code",
      "source": [
        "def A():\n",
        "  x = 10 # A의 지역 변수 x\n",
        "  def B():\n",
        "    x = 20 # x에 20 할당\n",
        "\n",
        "  B()\n",
        "  print(x) # A의 지역변수 x 출력\n",
        "\n",
        "A()"
      ],
      "metadata": {
        "colab": {
          "base_uri": "https://localhost:8080/"
        },
        "id": "3J_sQCHgxF3z",
        "outputId": "89ed0c7c-ccc7-4d82-902b-f56556460207"
      },
      "execution_count": 3,
      "outputs": [
        {
          "output_type": "stream",
          "name": "stdout",
          "text": [
            "10\n"
          ]
        }
      ]
    },
    {
      "cell_type": "markdown",
      "source": [
        "📢📢 파이썬에서는 함수에서 변수를 만들면 항상 현재 함수의 지역 변수가 됨"
      ],
      "metadata": {
        "id": "gB6VM4XLxhzs"
      }
    },
    {
      "cell_type": "code",
      "source": [
        "def A():\n",
        "  x = 10 # A의 지역 변수\n",
        "  def B(): \n",
        "    x = 20 # B의 지역 변수"
      ],
      "metadata": {
        "id": "v-NoYzfjxZdb"
      },
      "execution_count": 5,
      "outputs": []
    },
    {
      "cell_type": "code",
      "source": [
        "def A():\n",
        "  x = 10 # A의 지역변수\n",
        "  def B():\n",
        "    nonlocal x # 현재 함수의 바깥쪽에 있는 지역 변수 사용\n",
        "    x = 20 # A의 지역 변수 x 에 20 할당\n",
        " \n",
        "  B()\n",
        "  print(x) # A의 지역 변수 x 출력\n",
        "\n",
        "A() "
      ],
      "metadata": {
        "colab": {
          "base_uri": "https://localhost:8080/"
        },
        "id": "MkVqAhEoxs93",
        "outputId": "d14f9d29-e372-46e6-f5f0-f44bdba958ae"
      },
      "execution_count": 6,
      "outputs": [
        {
          "output_type": "stream",
          "name": "stdout",
          "text": [
            "20\n"
          ]
        }
      ]
    },
    {
      "cell_type": "code",
      "source": [
        "def A():\n",
        "    x = 10\n",
        "    y = 100\n",
        "    def B():\n",
        "        x = 20\n",
        "        def C():\n",
        "            nonlocal x # 바깥쪽 함수 B의 지역 변수 사용\n",
        "            nonlocal y # B에 없기에 A거 사용 가까운 함수부터 지역 변수를 찾고, 지역 변수가 없으면\n",
        "            x = x + 30 # 나가서 찾음\n",
        "            y = y + 300\n",
        "            print(x)\n",
        "            print(y)\n",
        "        C()\n",
        "    B()\n",
        " \n",
        "A()"
      ],
      "metadata": {
        "colab": {
          "base_uri": "https://localhost:8080/"
        },
        "id": "S_c-6wDJyLBo",
        "outputId": "03e8a10d-f6f6-410c-8073-dcb73afda4a4"
      },
      "execution_count": 7,
      "outputs": [
        {
          "output_type": "stream",
          "name": "stdout",
          "text": [
            "50\n",
            "400\n"
          ]
        }
      ]
    },
    {
      "cell_type": "code",
      "source": [
        "x = 1\n",
        "def A():\n",
        "    x = 10\n",
        "    def B():\n",
        "        x = 20\n",
        "        def C():\n",
        "            global x # 함수가 몇 개든 무조건 전역 변수 사용\n",
        "            x = x + 30\n",
        "            print(x)\n",
        "        C()\n",
        "    B()\n",
        " \n",
        "A()"
      ],
      "metadata": {
        "colab": {
          "base_uri": "https://localhost:8080/"
        },
        "id": "AR4vBt1Xym3x",
        "outputId": "4c389fad-6698-4817-bc23-b51dde09ab2d"
      },
      "execution_count": 9,
      "outputs": [
        {
          "output_type": "stream",
          "name": "stdout",
          "text": [
            "31\n"
          ]
        }
      ]
    },
    {
      "cell_type": "markdown",
      "source": [
        "33.3 클로저 사용하기"
      ],
      "metadata": {
        "id": "QhQ5AQ1OzQDJ"
      }
    },
    {
      "cell_type": "markdown",
      "source": [
        "클로저 : 함수를 둘러싼 환경(지역변수, 코드 등)을 계속 유지하다가, 함수를 호출할 때 다시 꺼내서 사용하는 함수\n",
        "\n",
        "![image.png](data:image/png;base64,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)"
      ],
      "metadata": {
        "id": "3mA_MynJ1U3z"
      }
    },
    {
      "cell_type": "markdown",
      "source": [
        "- 프로그램의 흐름을 변수에 저장 가능\n",
        "- 클로저는 지역변수와 코드를 묶어서 사용하고 싶을 때 활용\n",
        "- 클로저에 속한 지역 변수는 바깥에서 직접 접근할 수 없으므로 데이터를 숨기고 싶을 때 활용"
      ],
      "metadata": {
        "id": "frxWPfvr1tzl"
      }
    },
    {
      "cell_type": "code",
      "source": [
        "def calc():\n",
        "  a = 3\n",
        "  b = 5\n",
        "  def mul_add(x):\n",
        "    return a * x + b # 함수 바깥쪽에 있는 지역 변수 a, b를 사용하여 계산\n",
        "  return mul_add   # mul_add함수를 받환 , 괄호 붙이면 안됨\n",
        "\n",
        "c = calc()\n",
        "print(c(1),c(2),c(3),c(4),c(5)) "
      ],
      "metadata": {
        "colab": {
          "base_uri": "https://localhost:8080/"
        },
        "id": "FOhQ7jMXy-pR",
        "outputId": "839d5f22-03f2-43a0-90aa-3a4f3173806b"
      },
      "execution_count": 10,
      "outputs": [
        {
          "output_type": "stream",
          "name": "stdout",
          "text": [
            "8 11 14 17 20\n"
          ]
        }
      ]
    },
    {
      "cell_type": "code",
      "source": [
        "def calc():\n",
        "  a = 3\n",
        "  b = 5\n",
        "  return lambda x : a * x + b # 람다 표현식을 반환\n",
        "\n",
        "c = calc()\n",
        "\n",
        "print(c(1),c(2),c(3),c(4),c(5))"
      ],
      "metadata": {
        "colab": {
          "base_uri": "https://localhost:8080/"
        },
        "id": "n2f-6KmI01ZM",
        "outputId": "469ecc8a-27b4-4767-d1c8-596edafae653"
      },
      "execution_count": 11,
      "outputs": [
        {
          "output_type": "stream",
          "name": "stdout",
          "text": [
            "8 11 14 17 20\n"
          ]
        }
      ]
    },
    {
      "cell_type": "markdown",
      "source": [
        "🎯 \n",
        "\n",
        "람다 : 이름이 없는 익명의 함수\n",
        "\n",
        "클로저 : 함수를 둘러싼 환경을 유지했다가 나중에 다시 사용하는 함수 "
      ],
      "metadata": {
        "id": "oKEtf6AI2VCH"
      }
    },
    {
      "cell_type": "code",
      "source": [
        "def calc():\n",
        "  a = 3\n",
        "  b = 5\n",
        "  total = 0\n",
        "  def mul_add(x):\n",
        "    nonlocal total\n",
        "    total = total + a *x + b\n",
        "    print(total)\n",
        "  return mul_add\n",
        "\n",
        "c = calc()\n",
        "c(1)\n",
        "c(2)\n",
        "c(3)"
      ],
      "metadata": {
        "colab": {
          "base_uri": "https://localhost:8080/"
        },
        "id": "_ft0wHCt2Rtz",
        "outputId": "ff67b9c9-f610-4e75-860b-b40ea9bfa46a"
      },
      "execution_count": 12,
      "outputs": [
        {
          "output_type": "stream",
          "name": "stdout",
          "text": [
            "8\n",
            "19\n",
            "33\n"
          ]
        }
      ]
    },
    {
      "cell_type": "markdown",
      "source": [
        "😵😵😵🤯🤯 왕 어려움 ;; 😵😵😵🤯🤯"
      ],
      "metadata": {
        "id": "LbLG-Uyd29SM"
      }
    },
    {
      "cell_type": "code",
      "source": [
        "def counter():\n",
        "  i = 0\n",
        "  def count():\n",
        "    nonlocal i\n",
        "    i += 1\n",
        "    return i \n",
        "  return count\n",
        "\n",
        "\n",
        "c = counter()\n",
        "for i in range(10):\n",
        "  print(c(),end=' ')"
      ],
      "metadata": {
        "colab": {
          "base_uri": "https://localhost:8080/"
        },
        "id": "uU6f-G5w25k1",
        "outputId": "dc2140e8-d1ae-4233-9654-7435dbd3d366"
      },
      "execution_count": 13,
      "outputs": [
        {
          "output_type": "stream",
          "name": "stdout",
          "text": [
            "1 2 3 4 5 6 7 8 9 10 "
          ]
        }
      ]
    },
    {
      "cell_type": "markdown",
      "source": [
        "연습문제)\n",
        "\n",
        "표준 입력으로 정수가 입력됩니다. 다음 소스 코드를 완성하여 함수 c를 호출할 때마다 숫자가 1씩 줄어들게 만드세요. 여기서는 함수를 클로저로 만들어야 합니다. 정답에 코드를 작성할 때는 def countdown(n):에 맞춰서 들여쓰기를 해주세요."
      ],
      "metadata": {
        "id": "9EN_nEQD4KAa"
      }
    },
    {
      "cell_type": "code",
      "source": [
        "def countdown(n): # countdown함수 안에 count함수를 만듦\n",
        "  i = n+1\n",
        "  def count():\n",
        "    nonlocal i # 현재 함수에서 바깥쪽에 있는 지역 변수를 사용\n",
        "    i -= 1\n",
        "    return i\n",
        "  return count # count 함수를 반환\n",
        "\n",
        "n = int(input())\n",
        " \n",
        "c = countdown(n) # c에 저장된 함수 => 클로저\n",
        "for i in range(n):\n",
        "    print(c(), end=' ')"
      ],
      "metadata": {
        "colab": {
          "base_uri": "https://localhost:8080/"
        },
        "id": "R07cl8xL4H7u",
        "outputId": "db01bee5-5f33-4a4b-8c68-a747387e4896"
      },
      "execution_count": 15,
      "outputs": [
        {
          "output_type": "stream",
          "name": "stdout",
          "text": [
            "10\n",
            "10 9 8 7 6 5 4 3 2 1 "
          ]
        }
      ]
    },
    {
      "cell_type": "markdown",
      "source": [
        "## **Unit 34. 클래스 사용하기**\n",
        "\n"
      ],
      "metadata": {
        "id": "ozGDowO16fez"
      }
    },
    {
      "cell_type": "markdown",
      "source": [
        "객체지향 프로그래밍 : 복잡한 문제를 잘게 나누어 객체로 만들고, 객체를 조합해서 문제를 해결\n",
        "\n",
        "- 복잡한 문제 처리에 용이\n",
        "- 유지 보수에 효율적"
      ],
      "metadata": {
        "id": "Qvhb8RDZ7ATp"
      }
    },
    {
      "cell_type": "markdown",
      "source": [
        "- 클래스 : 객체를 표현하기 위한 문법\n",
        "- 대표적인 클래스: 스크롤 바, 버튼, 체크 박스\n",
        "- 객체 : 특정한 개념이나 모양으로 존재하는 것\n",
        "- 속성 : 객체들의 특징\n",
        "- 매서드 : 객체들의 기능"
      ],
      "metadata": {
        "id": "EoWX1PEB6jyo"
      }
    },
    {
      "cell_type": "markdown",
      "source": [
        "34.1 클래스와 메서드 만들기\n",
        "\n",
        "    class 클래스 이름:\n",
        "        def 메서드(self):\n",
        "            코드\n",
        "\n",
        "※ 클래스의 이름은 대문자로 시작\n",
        "\n",
        "※ 메서드의 첫 번째 매개변수는 반드시 self "
      ],
      "metadata": {
        "id": "OakYLSir7ako"
      }
    },
    {
      "cell_type": "code",
      "source": [
        "class Person:\n",
        "  def greeting(self):\n",
        "    print('hello')"
      ],
      "metadata": {
        "id": "J1FhjmEP5PKH"
      },
      "execution_count": 16,
      "outputs": []
    },
    {
      "cell_type": "markdown",
      "source": [
        "- 틀래스에 ()괄호를 붙인 뒤 변수에 할당\n",
        "\n",
        "▶ 클래스는 특정 개념을 표현만 할뿐 사용을 하려면 인스턴스를 생성해야 함\n",
        "\n",
        "        인스턴스 = 클래스()\n"
      ],
      "metadata": {
        "id": "oAntS6mp71_4"
      }
    },
    {
      "cell_type": "code",
      "source": [
        "james = Person()"
      ],
      "metadata": {
        "id": "HRubpzsa7ydv"
      },
      "execution_count": 17,
      "outputs": []
    },
    {
      "cell_type": "markdown",
      "source": [
        "- 메서드는 클래스가 아니라 인스턴스를 통해 호출\n",
        "- 인스턴스 메서드 : 인스턴스를 통해 호출하는 메서드\n",
        "\n",
        "      인스턴스.메서드()"
      ],
      "metadata": {
        "id": "POLf9nWZ8T4O"
      }
    },
    {
      "cell_type": "code",
      "source": [
        "james.greeting() "
      ],
      "metadata": {
        "colab": {
          "base_uri": "https://localhost:8080/"
        },
        "id": "9O_XMuWe8QrL",
        "outputId": "6e2a6dba-cdb5-4b39-8a8f-5ac96dbf7dcb"
      },
      "execution_count": 19,
      "outputs": [
        {
          "output_type": "stream",
          "name": "stdout",
          "text": [
            "hello\n"
          ]
        }
      ]
    },
    {
      "cell_type": "markdown",
      "source": [
        "- 파이썬에서 흔히 볼 수 있는 클래스\n",
        "\n",
        "ex) int, list, dict 등"
      ],
      "metadata": {
        "id": "Q0qZm4Nq8oz-"
      }
    },
    {
      "cell_type": "code",
      "source": [
        "a = int(10) # int클래스에 10을 넣어서 인스턴스 a 만듦\n",
        "print(a)\n",
        "\n",
        "b = list(range(10))\n",
        "print(b)\n",
        "\n",
        "c = dict(x = 10, y = 5)\n",
        "print(c)\n",
        "\n",
        "b.append(20) # 인스턴스 b에서 메서드 append를 호출해서 값을 추가\n",
        "print(b)"
      ],
      "metadata": {
        "colab": {
          "base_uri": "https://localhost:8080/"
        },
        "id": "lgE09ukb8eQ8",
        "outputId": "146046a6-af77-495f-b352-25effc38703c"
      },
      "execution_count": 21,
      "outputs": [
        {
          "output_type": "stream",
          "name": "stdout",
          "text": [
            "10\n",
            "[0, 1, 2, 3, 4, 5, 6, 7, 8, 9]\n",
            "{'x': 10, 'y': 5}\n",
            "[0, 1, 2, 3, 4, 5, 6, 7, 8, 9, 20]\n"
          ]
        }
      ]
    },
    {
      "cell_type": "markdown",
      "source": [
        "ex) 자료형 \n",
        "\n",
        "type : 객체가 어떤 클래스인지 확인 가능\n",
        "\n",
        "      type(객체)"
      ],
      "metadata": {
        "id": "MsRAAmzb9NeQ"
      }
    },
    {
      "cell_type": "code",
      "source": [
        "a = 10\n",
        "print(type(a))"
      ],
      "metadata": {
        "colab": {
          "base_uri": "https://localhost:8080/"
        },
        "id": "XEhLuhXs85ni",
        "outputId": "7799c2fa-9486-40d7-ba75-d931d6ea7c7b"
      },
      "execution_count": 22,
      "outputs": [
        {
          "output_type": "stream",
          "name": "stdout",
          "text": [
            "<class 'int'>\n"
          ]
        }
      ]
    },
    {
      "cell_type": "markdown",
      "source": [
        "- 인스턴스와 객체의 차이점\n",
        "\n",
        "객체 : 객체만 치칭\n",
        "\n",
        "인스턴스 : 클래스와 연관지어서 말할 때"
      ],
      "metadata": {
        "id": "RHSrz16W9sua"
      }
    },
    {
      "cell_type": "code",
      "source": [
        "a = list(range(10)) # a, b는 객체\n",
        "b = list(range(20)) # a, b는 list 클래스의 인스턴스"
      ],
      "metadata": {
        "id": "y6CgjEaK9sYF"
      },
      "execution_count": 23,
      "outputs": []
    },
    {
      "cell_type": "markdown",
      "source": [
        "<참고>\n",
        "\n",
        "빈 클래스 만들기\n",
        "\n",
        "    class Person:\n",
        "        pass"
      ],
      "metadata": {
        "id": "milZtJTA-FNq"
      }
    },
    {
      "cell_type": "markdown",
      "source": [
        "<참고>\n",
        "\n",
        "메서드 안에서 메서드 호출하기\n",
        "\n",
        "※ self 없이 메서드 이름만 사용하면 클래스 바깥쪽에 있는 함수를 호출한다는 뜻\n",
        "\n",
        "    self.메서드()"
      ],
      "metadata": {
        "id": "MAgwzKKR-LSL"
      }
    },
    {
      "cell_type": "code",
      "source": [
        "class Person:\n",
        "  def greeting(self):\n",
        "    print('hello')\n",
        "  \n",
        "  def hello(self):\n",
        "    self.greeting() # self.메서드() 형식으로 클래스 안의 메서드를 호출\n",
        "\n",
        "james = Person()\n",
        "james.hello()"
      ],
      "metadata": {
        "colab": {
          "base_uri": "https://localhost:8080/"
        },
        "id": "BjqOiWW19Yol",
        "outputId": "75342e2a-e91f-4fef-e4b6-1b6687b4285e"
      },
      "execution_count": 24,
      "outputs": [
        {
          "output_type": "stream",
          "name": "stdout",
          "text": [
            "hello\n"
          ]
        }
      ]
    },
    {
      "cell_type": "markdown",
      "source": [
        "<참고>\n",
        "\n",
        "특정 클래스의 인스턴스인지 확인하기\n",
        "\n",
        "- 주로 객체의 자료형을 판단할 때 사용\n",
        "\n",
        "    isinstance(인스턴스, 클래스)"
      ],
      "metadata": {
        "id": "2g8TEIO7_Pex"
      }
    },
    {
      "cell_type": "code",
      "source": [
        "def factorial(n):\n",
        "  if not isinstance(n,int) or n < 0:\n",
        "    return None\n",
        "  if n == 1 :\n",
        "    return 1\n",
        "  return n * factorial(n-1)"
      ],
      "metadata": {
        "id": "ZGnFLZNN_ORr"
      },
      "execution_count": 25,
      "outputs": []
    },
    {
      "cell_type": "markdown",
      "source": [
        "34.2 속성 사용하기"
      ],
      "metadata": {
        "id": "AbmgvVNN_uC7"
      }
    },
    {
      "cell_type": "markdown",
      "source": [
        "속성 만드는 법\n",
        "\n",
        "- __init__메서드 : 클래스에 ()괄호를 붙여서 인스턴스를 만들 때 호출되는 특별한 메서드\n",
        "\n",
        "      class 클래스이름:\n",
        "        def __init__(self):\n",
        "          self.속성 = 값"
      ],
      "metadata": {
        "id": "faP_aBoU_wr6"
      }
    },
    {
      "cell_type": "code",
      "source": [
        "class Person():\n",
        "  def __init__(self):\n",
        "    self.hello = '안녕하세요'\n",
        "  def greeting(self):\n",
        "    print(self.hello)\n",
        "  \n",
        "james = Person()\n",
        "james.greeting()"
      ],
      "metadata": {
        "colab": {
          "base_uri": "https://localhost:8080/"
        },
        "id": "S3UC1U6-_s7z",
        "outputId": "990d9691-e34d-4704-95ae-091bd0f48ac8"
      },
      "execution_count": 28,
      "outputs": [
        {
          "output_type": "stream",
          "name": "stdout",
          "text": [
            "안녕하세요\n"
          ]
        }
      ]
    },
    {
      "cell_type": "markdown",
      "source": [
        "- 인스턴스를 만들 때 값 받기\n",
        "\n",
        "      class 클래스이름:\n",
        "        def __init__(self, 매개변수1, 매개변수2):\n",
        "            self.속성1 = 매개변수1\n",
        "            self.속성2 = 매개변수2"
      ],
      "metadata": {
        "id": "bmaZI8jmBMMP"
      }
    },
    {
      "cell_type": "code",
      "source": [
        "class Person:\n",
        "  def __init__(self, name, age, gender):\n",
        "    self.hello = '안녕하세요'\n",
        "    self.name = name\n",
        "    self.age = age\n",
        "    self.gender = gender\n",
        "  \n",
        "  def greeting(self):\n",
        "    print('{0} 저는 {1}입니다.'.format(self.hello,self.name)) # 클래스 안에서 접근 : self.속성\n",
        "\n",
        "maria = Person('Maria',25,'female')\n",
        "maria.greeting()\n",
        "\n",
        "print('이름:', maria.name)       # 마리아 클래스 바깥에서 접근 : 인스턴스.속성\n",
        "print('나이:', maria.age)        # 25\n",
        "print('성별:', maria.gender)    # female"
      ],
      "metadata": {
        "colab": {
          "base_uri": "https://localhost:8080/"
        },
        "id": "A5bcpUCZAFkv",
        "outputId": "6437d47b-e8b3-46d1-870d-411a4bd804a0"
      },
      "execution_count": 31,
      "outputs": [
        {
          "output_type": "stream",
          "name": "stdout",
          "text": [
            "안녕하세요 저는 Maria입니다.\n",
            "이름: Maria\n",
            "나이: 25\n",
            "성별: female\n"
          ]
        }
      ]
    },
    {
      "cell_type": "markdown",
      "source": [
        "<참고>\n",
        "\n",
        "클래스의 위치 인수, 키워드 인수\n",
        "\n",
        "클래스로 인스턴스를 만들 때 위치 인수와 키워드 인수를 사용할 수 있습니다. 규칙은 함수와 같습니다. 위치 인수와 리스트 언패킹을 사용하려면 다음과 같이 *args를 사용하면 됩니다. 이때 매개변수에서 값을 가져오려면 args[0]처럼 사용해야 합니다.\n",
        "\n",
        "키워드 인수와 딕셔너리 언패킹을 사용하려면 다음과 같이 **kwargs를 사용하면 됩니다. 이때 매개변수에서 값을 가져오려면 kwargs['name']처럼 사용해야 합니다."
      ],
      "metadata": {
        "id": "otaxcFRbCXjP"
      }
    },
    {
      "cell_type": "code",
      "source": [
        "class Person:\n",
        "  def __init__(self, *args):\n",
        "    self.name = args[0]\n",
        "    self.age = args[1]\n",
        "    self.gender = args[2]\n",
        "\n",
        "maria = Person(*['마리아',25,'여성'])"
      ],
      "metadata": {
        "id": "JCbyq0T5B6Ca"
      },
      "execution_count": 33,
      "outputs": []
    },
    {
      "cell_type": "code",
      "source": [
        "class Person:\n",
        "    def __init__(self, **kwargs):    # 키워드 인수\n",
        "        self.name = kwargs['name']\n",
        "        self.age = kwargs['age']\n",
        "        self.address = kwargs['address']\n",
        " \n",
        "maria1 = Person(name='마리아', age=20, address='서울시 서초구 반포동')\n",
        "maria2 = Person(**{'name': '마리아', 'age': 20, 'address': '서울시 서초구 반포동'})"
      ],
      "metadata": {
        "id": "cfTw3TUZCxEo"
      },
      "execution_count": 34,
      "outputs": []
    },
    {
      "cell_type": "markdown",
      "source": [
        "<참고>\n",
        "\n",
        "인스턴스를 생성한 뒤에 속성 추가하기, 특정 속성만 허용하기\n",
        "\n",
        "인스턴스.속성 = 값 형식으로 속성을 계쏙 추가할 수 있다. "
      ],
      "metadata": {
        "id": "ruFmONrsC7c2"
      }
    },
    {
      "cell_type": "code",
      "source": [
        "class Person: # 빈 클래스\n",
        "  pass\n",
        "\n",
        "maria = Person() # 인스턴스 생성\n",
        "maria.name = 'maria' # 인스턴스를 만든 뒤 속성 추가\n",
        "maria.age = 25\n",
        "maria.gender = 'female'\n",
        "\n",
        "print(maria.name)"
      ],
      "metadata": {
        "colab": {
          "base_uri": "https://localhost:8080/"
        },
        "id": "3Sfp6DJAC5XK",
        "outputId": "03d25553-976a-43d9-e107-25ae286c5ec0"
      },
      "execution_count": 36,
      "outputs": [
        {
          "output_type": "stream",
          "name": "stdout",
          "text": [
            "maria\n"
          ]
        }
      ]
    },
    {
      "cell_type": "code",
      "source": [
        "james.name # 추가한 속성은 해당 인스턴스에만 생성, \n",
        "           # 다른 인스턴스를 만들었을 때는 추가한 속성이 생성되지 않음"
      ],
      "metadata": {
        "colab": {
          "base_uri": "https://localhost:8080/",
          "height": 191
        },
        "id": "3WH4CXJeDQTC",
        "outputId": "c5a01c69-c71d-4986-977d-b0b6edf2ab0f"
      },
      "execution_count": 39,
      "outputs": [
        {
          "output_type": "error",
          "ename": "AttributeError",
          "evalue": "ignored",
          "traceback": [
            "\u001b[0;31m---------------------------------------------------------------------------\u001b[0m",
            "\u001b[0;31mAttributeError\u001b[0m                            Traceback (most recent call last)",
            "\u001b[0;32m<ipython-input-39-8449f346d256>\u001b[0m in \u001b[0;36m<module>\u001b[0;34m\u001b[0m\n\u001b[0;32m----> 1\u001b[0;31m \u001b[0mjames\u001b[0m\u001b[0;34m.\u001b[0m\u001b[0mname\u001b[0m \u001b[0;31m# 추가한 속성은 해당 인스턴스에만 생성,\u001b[0m\u001b[0;34m\u001b[0m\u001b[0;34m\u001b[0m\u001b[0m\n\u001b[0m\u001b[1;32m      2\u001b[0m            \u001b[0;31m# 다른 인스턴스를 만들었을 때는 추가한 속성이 생성되지 않음\u001b[0m\u001b[0;34m\u001b[0m\u001b[0;34m\u001b[0m\u001b[0;34m\u001b[0m\u001b[0m\n",
            "\u001b[0;31mAttributeError\u001b[0m: 'Person' object has no attribute 'name'"
          ]
        }
      ]
    },
    {
      "cell_type": "markdown",
      "source": [
        "<참고>\n",
        "\n",
        "인스턴스는 생성한 뒤 속성을 추가 가능\n",
        "\n",
        "__init__메서드가 아닌 다른 메서드에서도 속성 추가 \n",
        "가능\n",
        "\n",
        "※  메서드를 호출해야 속성이 생성됨"
      ],
      "metadata": {
        "id": "RcXyxu0fDxvR"
      }
    },
    {
      "cell_type": "code",
      "source": [
        "class Person:\n",
        "  def greeting(self):\n",
        "    self.hello = '안녕하세요' # greeting 메서드에서 hello속성 추가\n",
        "\n",
        "maria = Person()\n",
        "maria.hello # 아직 hello속성이 없음 "
      ],
      "metadata": {
        "colab": {
          "base_uri": "https://localhost:8080/",
          "height": 209
        },
        "id": "CdgaKRt1DZ5j",
        "outputId": "fbe9b30a-ca51-4ec9-ee96-e974d695cd6d"
      },
      "execution_count": 41,
      "outputs": [
        {
          "output_type": "error",
          "ename": "AttributeError",
          "evalue": "ignored",
          "traceback": [
            "\u001b[0;31m---------------------------------------------------------------------------\u001b[0m",
            "\u001b[0;31mAttributeError\u001b[0m                            Traceback (most recent call last)",
            "\u001b[0;32m<ipython-input-41-bcc968dd24e7>\u001b[0m in \u001b[0;36m<module>\u001b[0;34m\u001b[0m\n\u001b[1;32m      4\u001b[0m \u001b[0;34m\u001b[0m\u001b[0m\n\u001b[1;32m      5\u001b[0m \u001b[0mmaria\u001b[0m \u001b[0;34m=\u001b[0m \u001b[0mPerson\u001b[0m\u001b[0;34m(\u001b[0m\u001b[0;34m)\u001b[0m\u001b[0;34m\u001b[0m\u001b[0;34m\u001b[0m\u001b[0m\n\u001b[0;32m----> 6\u001b[0;31m \u001b[0mmaria\u001b[0m\u001b[0;34m.\u001b[0m\u001b[0mhello\u001b[0m \u001b[0;31m# 아직 hello속성이 없음\u001b[0m\u001b[0;34m\u001b[0m\u001b[0;34m\u001b[0m\u001b[0m\n\u001b[0m",
            "\u001b[0;31mAttributeError\u001b[0m: 'Person' object has no attribute 'hello'"
          ]
        }
      ]
    },
    {
      "cell_type": "code",
      "source": [
        "maria = Person()\n",
        "maria.greeting() # greeting 메서드를 호출해야\n",
        "maria.hello # hello 속성이 생성됨"
      ],
      "metadata": {
        "colab": {
          "base_uri": "https://localhost:8080/",
          "height": 35
        },
        "id": "HijTDAl_Dub_",
        "outputId": "4d6e65b4-d64a-4881-ef28-a917b667ae8f"
      },
      "execution_count": 43,
      "outputs": [
        {
          "output_type": "execute_result",
          "data": {
            "text/plain": [
              "'안녕하세요'"
            ],
            "application/vnd.google.colaboratory.intrinsic+json": {
              "type": "string"
            }
          },
          "metadata": {},
          "execution_count": 43
        }
      ]
    },
    {
      "cell_type": "markdown",
      "source": [
        "<참고> \n",
        "\n",
        "특정 속성만 허용하고 다른 속성 제한 \n",
        "\n",
        "      __slots__ = ['속성이름1', '속성이름2']"
      ],
      "metadata": {
        "id": "yuRW3HCnEaol"
      }
    },
    {
      "cell_type": "code",
      "source": [
        "class Person:\n",
        "  __slots__=['name','age'] # name, age만 허용\n",
        "\n",
        "maria = Person()\n",
        "maria.name = 'maria' # 허용된 속성\n",
        "maria.gender ='female' # 허용되지 않은 속성"
      ],
      "metadata": {
        "colab": {
          "base_uri": "https://localhost:8080/",
          "height": 209
        },
        "id": "nNkawTPAEWz7",
        "outputId": "253d0cd3-9c52-4cdb-b336-198a167c310d"
      },
      "execution_count": 44,
      "outputs": [
        {
          "output_type": "error",
          "ename": "AttributeError",
          "evalue": "ignored",
          "traceback": [
            "\u001b[0;31m---------------------------------------------------------------------------\u001b[0m",
            "\u001b[0;31mAttributeError\u001b[0m                            Traceback (most recent call last)",
            "\u001b[0;32m<ipython-input-44-ec25c9da3202>\u001b[0m in \u001b[0;36m<module>\u001b[0;34m\u001b[0m\n\u001b[1;32m      4\u001b[0m \u001b[0mmaria\u001b[0m \u001b[0;34m=\u001b[0m \u001b[0mPerson\u001b[0m\u001b[0;34m(\u001b[0m\u001b[0;34m)\u001b[0m\u001b[0;34m\u001b[0m\u001b[0;34m\u001b[0m\u001b[0m\n\u001b[1;32m      5\u001b[0m \u001b[0mmaria\u001b[0m\u001b[0;34m.\u001b[0m\u001b[0mname\u001b[0m \u001b[0;34m=\u001b[0m \u001b[0;34m'maria'\u001b[0m\u001b[0;34m\u001b[0m\u001b[0;34m\u001b[0m\u001b[0m\n\u001b[0;32m----> 6\u001b[0;31m \u001b[0mmaria\u001b[0m\u001b[0;34m.\u001b[0m\u001b[0mgender\u001b[0m \u001b[0;34m=\u001b[0m\u001b[0;34m'female'\u001b[0m\u001b[0;34m\u001b[0m\u001b[0;34m\u001b[0m\u001b[0m\n\u001b[0m",
            "\u001b[0;31mAttributeError\u001b[0m: 'Person' object has no attribute 'gender'"
          ]
        }
      ]
    },
    {
      "cell_type": "markdown",
      "source": [
        "34.3 비공개 속성 사용하기\n",
        "\n",
        "        class 클래스이름:\n",
        "            def __init__(self, 매개변수):\n",
        "                  self.__속성 = 값"
      ],
      "metadata": {
        "id": "28VEpmnQE24y"
      }
    },
    {
      "cell_type": "code",
      "source": [
        "class Person:\n",
        "  def __init__(self, name, age, gender):\n",
        "    self.hello = 'hi'\n",
        "    self.name = name\n",
        "    self.age = age\n",
        "    self.gender = gender\n",
        "\n",
        "maria = Person('maria',25,'female') # 인스턴스.속성 형식으로 클래스 바깥에서 접근 가능\n",
        "maria.name "
      ],
      "metadata": {
        "colab": {
          "base_uri": "https://localhost:8080/",
          "height": 35
        },
        "id": "0VajBz_QEynh",
        "outputId": "aa04eb58-0928-48a6-f0f1-57c81f272133"
      },
      "execution_count": 45,
      "outputs": [
        {
          "output_type": "execute_result",
          "data": {
            "text/plain": [
              "'maria'"
            ],
            "application/vnd.google.colaboratory.intrinsic+json": {
              "type": "string"
            }
          },
          "metadata": {},
          "execution_count": 45
        }
      ]
    },
    {
      "cell_type": "markdown",
      "source": [
        "- 비공개 속성 \n",
        "\n",
        ": __속성과 같이 밑줄 두개로 시작"
      ],
      "metadata": {
        "id": "Q0y9qW9RFcwi"
      }
    },
    {
      "cell_type": "code",
      "source": [
        "class Person:\n",
        "  def __init__(self,name,age,gender,wallet):\n",
        "    self.name = name\n",
        "    self.age = age\n",
        "    self.gender = gender\n",
        "    self.__wallet = wallet # 비공개 속성 만듦\n",
        "\n",
        "maria = Person('maria',25,'female',10000)\n",
        "maria.__wallet -= 5000 # 클래스 바깥에서 접근 불가\n"
      ],
      "metadata": {
        "colab": {
          "base_uri": "https://localhost:8080/",
          "height": 209
        },
        "id": "3ORgh7gSFQ2L",
        "outputId": "a2cd629e-8ee9-4b9f-a99c-fb020a0df59e"
      },
      "execution_count": 50,
      "outputs": [
        {
          "output_type": "error",
          "ename": "AttributeError",
          "evalue": "ignored",
          "traceback": [
            "\u001b[0;31m---------------------------------------------------------------------------\u001b[0m",
            "\u001b[0;31mAttributeError\u001b[0m                            Traceback (most recent call last)",
            "\u001b[0;32m<ipython-input-50-6f5a6441aaa3>\u001b[0m in \u001b[0;36m<module>\u001b[0;34m\u001b[0m\n\u001b[1;32m      7\u001b[0m \u001b[0;34m\u001b[0m\u001b[0m\n\u001b[1;32m      8\u001b[0m \u001b[0mmaria\u001b[0m \u001b[0;34m=\u001b[0m \u001b[0mPerson\u001b[0m\u001b[0;34m(\u001b[0m\u001b[0;34m'maria'\u001b[0m\u001b[0;34m,\u001b[0m\u001b[0;36m25\u001b[0m\u001b[0;34m,\u001b[0m\u001b[0;34m'female'\u001b[0m\u001b[0;34m,\u001b[0m\u001b[0;36m10000\u001b[0m\u001b[0;34m)\u001b[0m\u001b[0;34m\u001b[0m\u001b[0;34m\u001b[0m\u001b[0m\n\u001b[0;32m----> 9\u001b[0;31m \u001b[0mmaria\u001b[0m\u001b[0;34m.\u001b[0m\u001b[0m__wallet\u001b[0m \u001b[0;34m-=\u001b[0m \u001b[0;36m5000\u001b[0m\u001b[0;34m\u001b[0m\u001b[0;34m\u001b[0m\u001b[0m\n\u001b[0m",
            "\u001b[0;31mAttributeError\u001b[0m: 'Person' object has no attribute '__wallet'"
          ]
        }
      ]
    },
    {
      "cell_type": "code",
      "source": [
        "class Person:\n",
        "  def __init__(self, name, age, gender, wallet):\n",
        "    self.name = name\n",
        "    self.age = age\n",
        "    self.gender = gender\n",
        "    self.__wallet = wallet\n",
        "\n",
        "  def pay(self,amount):\n",
        "    self.__wallet -= amount # 비공개 속성은 클래스 안의 메서드에서만 접근 가능\n",
        "    print('이제 {}원 남았어요.'.format(self.__wallet))\n",
        "  \n",
        "  def left(self,amount): # 돈을 밝히고 싶지 않을 때\n",
        "    if amount > self.__wallet:\n",
        "      print('돈이 모자라요 :(')\n",
        "      return\n",
        "    self.__wallet -= amount\n",
        "\n",
        "maria = Person('maria',25,'female',180000)\n",
        "maria.pay(3000)\n",
        "maria.left(190000)"
      ],
      "metadata": {
        "colab": {
          "base_uri": "https://localhost:8080/"
        },
        "id": "_xhL7MJBF8ox",
        "outputId": "4f686116-8b13-43b7-a6e2-652d82299c5d"
      },
      "execution_count": 52,
      "outputs": [
        {
          "output_type": "stream",
          "name": "stdout",
          "text": [
            "이제 177000원 남았어요.\n",
            "돈이 모자라요 :(\n"
          ]
        }
      ]
    },
    {
      "cell_type": "code",
      "source": [
        "class Knight:\n",
        "  def __init__(self, health, mana, armor):\n",
        "    self.health = health\n",
        "    self.mana = mana\n",
        "    self.armor = armor\n",
        "\n",
        "  def slash(self):\n",
        "    print('베기')\n",
        "\n",
        "x = Knight(health=542.4, mana=210.3, armor=38)\n",
        "print(x.health, x.mana, x.armor)\n",
        "x.slash() # 인스턴스로 메서드 호출하는 것"
      ],
      "metadata": {
        "colab": {
          "base_uri": "https://localhost:8080/"
        },
        "id": "9rBwP4M1G_yy",
        "outputId": "031e554e-c148-44f9-80c8-d950cf469bf3"
      },
      "execution_count": 55,
      "outputs": [
        {
          "output_type": "stream",
          "name": "stdout",
          "text": [
            "542.4 210.3 38\n",
            "베기\n"
          ]
        }
      ]
    },
    {
      "cell_type": "markdown",
      "source": [
        "연습문제)\n",
        "\n",
        "표준 입력으로 게임 캐릭터 능력치(체력, 마나, AP)가 입력됩니다. 다음 소스 코드에서 애니(Annie) 클래스를 작성하여 티버(tibbers) 스킬의 피해량이 출력되게 만드세요. 티버의 피해량은 AP * 0.65 + 400이며 AP(Ability Power, 주문력)는 마법 능력치를 뜻합니다."
      ],
      "metadata": {
        "id": "CdcrImHoMiMz"
      }
    },
    {
      "cell_type": "code",
      "source": [
        "class Annie:\n",
        "  def __init__(self, health, mana, ability_power):\n",
        "    self.health = health\n",
        "    self.mana = mana\n",
        "    self.ability_power = ability_power\n",
        "  \n",
        "  def tibbers(self):\n",
        "    print('티버: 피해량 {0}'. format(ability_power * 0.65 + 400))\n",
        "\n",
        "\n",
        "health, mana, ability_power = map(float, input().split())\n",
        " \n",
        "x = Annie(health=health, mana=mana, ability_power=ability_power)\n",
        "x.tibbers()"
      ],
      "metadata": {
        "colab": {
          "base_uri": "https://localhost:8080/"
        },
        "id": "5Toc_RKSMHL4",
        "outputId": "11b00570-7990-4bf5-8dc2-393768798bf5"
      },
      "execution_count": 58,
      "outputs": [
        {
          "output_type": "stream",
          "name": "stdout",
          "text": [
            "511.68 334.0 298\n",
            "티버: 피해량 593.7\n"
          ]
        }
      ]
    },
    {
      "cell_type": "markdown",
      "source": [
        "## **Unit 35. 클래스 속성과 정적, 클래스 메서드 사용하기**\n"
      ],
      "metadata": {
        "id": "cfmIJb9DNhys"
      }
    },
    {
      "cell_type": "markdown",
      "source": [
        "- 클래스 속성\n",
        "\n",
        "클래스에 속해있으며 모든 인스턴스에서 공유함 \n",
        "\n",
        "      class 클래스이름:\n",
        "          속성 = 값"
      ],
      "metadata": {
        "id": "ooRjp7N3QTrb"
      }
    },
    {
      "cell_type": "code",
      "source": [
        "class Person:\n",
        "  bag = []\n",
        "  \n",
        "  def put_bag(self,stuff): # self는 현재 인스턴스를 뜻하므로 클래스 속성을 지칭하기엔 모호함\n",
        "    self.bag.append(stuff)\n",
        "\n",
        "james = Person()\n",
        "james.put_bag('책')\n",
        "\n",
        "maria = Person()\n",
        "maria.put_bag('열쇠')\n",
        "\n",
        "print(james.bag)\n",
        "print(maria.bag)"
      ],
      "metadata": {
        "colab": {
          "base_uri": "https://localhost:8080/"
        },
        "id": "gUQ80Dw2M_Ql",
        "outputId": "28ebe103-27b1-44d2-ed53-53adae65979d"
      },
      "execution_count": 59,
      "outputs": [
        {
          "output_type": "stream",
          "name": "stdout",
          "text": [
            "['책', '열쇠']\n",
            "['책', '열쇠']\n"
          ]
        }
      ]
    },
    {
      "cell_type": "markdown",
      "source": [
        "      클래스.속성"
      ],
      "metadata": {
        "id": "JBHKl5vVRLHc"
      }
    },
    {
      "cell_type": "code",
      "source": [
        "class Person:\n",
        "  bag = []\n",
        "  def put_bag(self,stuff):\n",
        "    Person.bag.append(stuff) # 클래스 이름으로 클래스 속성에 접근"
      ],
      "metadata": {
        "id": "i58Oz0yFQyVa"
      },
      "execution_count": 60,
      "outputs": []
    },
    {
      "cell_type": "code",
      "source": [
        "print(Person.bag) # 클래스 바깥에서도 클래스 이름으로 클래스 속성에 접근 가능"
      ],
      "metadata": {
        "colab": {
          "base_uri": "https://localhost:8080/"
        },
        "id": "dxZuIwiRRVWh",
        "outputId": "3b2a5b1e-8c4a-4288-b11d-bb38dd71621b"
      },
      "execution_count": 63,
      "outputs": [
        {
          "output_type": "stream",
          "name": "stdout",
          "text": [
            "[]\n"
          ]
        }
      ]
    },
    {
      "cell_type": "markdown",
      "source": [
        "<참고>\n",
        "\n",
        "- 속성, 메서드 이름을 찾는 순서\n",
        "\n",
        ": 인스턴스 > 클래스 \n",
        "\n",
        "- 현재 인스턴스와 클래스의 속성을 딕셔너리로 확인 가능\n",
        "\n",
        "      인스턴스.__dict__\n",
        "      클래스.__dict__"
      ],
      "metadata": {
        "id": "_kWLRyyRRdn2"
      }
    },
    {
      "cell_type": "code",
      "source": [
        "james.__dict__"
      ],
      "metadata": {
        "colab": {
          "base_uri": "https://localhost:8080/"
        },
        "id": "ab1aQcH_RW8g",
        "outputId": "3a121400-efc0-4cf6-fd14-0687f80846ea"
      },
      "execution_count": 64,
      "outputs": [
        {
          "output_type": "execute_result",
          "data": {
            "text/plain": [
              "{}"
            ]
          },
          "metadata": {},
          "execution_count": 64
        }
      ]
    },
    {
      "cell_type": "code",
      "source": [
        "Person.__dict__"
      ],
      "metadata": {
        "colab": {
          "base_uri": "https://localhost:8080/"
        },
        "id": "9JBEhuOOR05Z",
        "outputId": "91ab41a6-c5ef-4b9e-bee1-7d8d59a41284"
      },
      "execution_count": 65,
      "outputs": [
        {
          "output_type": "execute_result",
          "data": {
            "text/plain": [
              "mappingproxy({'__module__': '__main__',\n",
              "              'bag': [],\n",
              "              'put_bag': <function __main__.Person.put_bag(self, stuff)>,\n",
              "              '__dict__': <attribute '__dict__' of 'Person' objects>,\n",
              "              '__weakref__': <attribute '__weakref__' of 'Person' objects>,\n",
              "              '__doc__': None})"
            ]
          },
          "metadata": {},
          "execution_count": 65
        }
      ]
    },
    {
      "cell_type": "markdown",
      "source": [
        "![image.png](data:image/png;base64,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)"
      ],
      "metadata": {
        "id": "c74j4cC_R8nf"
      }
    },
    {
      "cell_type": "markdown",
      "source": [
        "- 가방을 여러 사람이 공유하지 않으려면\n",
        "\n",
        "   bag을 인스턴스 속성으로 만들면 됨"
      ],
      "metadata": {
        "id": "L_hAqHTwSCn-"
      }
    },
    {
      "cell_type": "code",
      "source": [
        "class Person:\n",
        "  def __init__(self):\n",
        "    self.bag = [] # 인스턴스 속성은 인스턴스 별로 독립되어 있어 서로 영향 주지 않음\n",
        "\n",
        "  def put_bag(self,stuff):\n",
        "    self.bag.append(stuff)\n",
        "  \n",
        "james = Person()\n",
        "james.put_bag('handcream')\n",
        "\n",
        "maria = Person()\n",
        "maria.put_bag('makeup pouch')\n",
        "\n",
        "print(james.bag)\n",
        "print(maria.bag)"
      ],
      "metadata": {
        "colab": {
          "base_uri": "https://localhost:8080/"
        },
        "id": "TzoxQ-IhR2vB",
        "outputId": "e93992e8-2386-4063-f8a7-d6620c610724"
      },
      "execution_count": 67,
      "outputs": [
        {
          "output_type": "stream",
          "name": "stdout",
          "text": [
            "['handcream']\n",
            "['makeup pouch']\n"
          ]
        }
      ]
    },
    {
      "cell_type": "markdown",
      "source": [
        "🎯🎯\n",
        "\n",
        "- 클래스 속성 : 모든 인스턴스가 공유. 인스턴스 전체가 사용해야 하는 값을 저장할 때 사용\n",
        "\n",
        "- 인스턴스 속성 : 인스턴스별로 독립되어 있음. 각 인스턴스가 값을 따로 저장해야 할 때 사용"
      ],
      "metadata": {
        "id": "_14cn9uJSsXS"
      }
    },
    {
      "cell_type": "markdown",
      "source": [
        "- 비공개 클래스 속성 만들기\n",
        "\n",
        "      class 클래스이름:\n",
        "        __속성 = 값 # 비공개 클래스 속성"
      ],
      "metadata": {
        "id": "P6m8tWKpS6UN"
      }
    },
    {
      "cell_type": "code",
      "source": [
        "class Knight:\n",
        "  __item_limit = 10 # 비공개 클래스 속성\n",
        "\n",
        "  def print_item_limit(self):\n",
        "    print(Knight.__item_limit) # 클래스 안에서만 접근 가능\n",
        "\n",
        "x = Knight()\n",
        "x.print_item_limit() # 클래스 안 print_item_limit메서드에서만 접근 가능\n",
        "\n",
        "print(Knight.__item_linit) # 클래스 바깥에서는 접근 불가"
      ],
      "metadata": {
        "colab": {
          "base_uri": "https://localhost:8080/",
          "height": 227
        },
        "id": "nSwqObUXSiOJ",
        "outputId": "9d62d081-510a-430c-b146-e29ae15a2c93"
      },
      "execution_count": 69,
      "outputs": [
        {
          "output_type": "stream",
          "name": "stdout",
          "text": [
            "10\n"
          ]
        },
        {
          "output_type": "error",
          "ename": "AttributeError",
          "evalue": "ignored",
          "traceback": [
            "\u001b[0;31m---------------------------------------------------------------------------\u001b[0m",
            "\u001b[0;31mAttributeError\u001b[0m                            Traceback (most recent call last)",
            "\u001b[0;32m<ipython-input-69-e4bfe810d1ca>\u001b[0m in \u001b[0;36m<module>\u001b[0;34m\u001b[0m\n\u001b[1;32m      8\u001b[0m \u001b[0mx\u001b[0m\u001b[0;34m.\u001b[0m\u001b[0mprint_item_limit\u001b[0m\u001b[0;34m(\u001b[0m\u001b[0;34m)\u001b[0m \u001b[0;31m# 클래스 안 print_item_limit메서드에서만 접근 가능\u001b[0m\u001b[0;34m\u001b[0m\u001b[0;34m\u001b[0m\u001b[0m\n\u001b[1;32m      9\u001b[0m \u001b[0;34m\u001b[0m\u001b[0m\n\u001b[0;32m---> 10\u001b[0;31m \u001b[0mprint\u001b[0m\u001b[0;34m(\u001b[0m\u001b[0mKnight\u001b[0m\u001b[0;34m.\u001b[0m\u001b[0m__item_linit\u001b[0m\u001b[0;34m)\u001b[0m \u001b[0;31m# 클래스 바깥에서는 접근 불가\u001b[0m\u001b[0;34m\u001b[0m\u001b[0;34m\u001b[0m\u001b[0m\n\u001b[0m",
            "\u001b[0;31mAttributeError\u001b[0m: type object 'Knight' has no attribute '__item_linit'"
          ]
        }
      ]
    },
    {
      "cell_type": "markdown",
      "source": [
        "<참고>\n",
        "\n",
        "- 클래스와 메서드의 독스트링 사용하기\n",
        "\n",
        ": (콜론) 다음 줄에 \"\"\"\"\"\" 또는 ''''''로 문자열 입력하면 됨\n",
        "\n",
        "- 클래스의 독스트링\n",
        "\n",
        "      클래스.__doc__\n",
        "\n",
        "- 메서드의 독스트링\n",
        "\n",
        "      클래스.메서드.__doc__\n",
        "      인스턴스.메서드.__doc__"
      ],
      "metadata": {
        "id": "0PNCI1JGTry2"
      }
    },
    {
      "cell_type": "code",
      "source": [
        "class Person:\n",
        "  \"\"\" 사람 클래스입니다.\"\"\"\n",
        "\n",
        "  def greeting(self):\n",
        "    \"\"\"인사 메서드입니다.\"\"\"\n",
        "    print('hello')\n",
        "\n",
        "print(Person.__doc__)\n",
        "print(Person.greeting.__doc__)\n",
        "\n",
        "maria = Person()\n",
        "print(maria.greeting.__doc__)"
      ],
      "metadata": {
        "colab": {
          "base_uri": "https://localhost:8080/"
        },
        "id": "6X8bAdQFTeNw",
        "outputId": "9546145b-2f08-4913-9f5d-28589e5df7f0"
      },
      "execution_count": 70,
      "outputs": [
        {
          "output_type": "stream",
          "name": "stdout",
          "text": [
            " 사람 클래스입니다.\n",
            "인사 메서드입니다.\n",
            "인사 메서드입니다.\n"
          ]
        }
      ]
    },
    {
      "cell_type": "markdown",
      "source": [
        "35.2 정적 메서드 사용하기"
      ],
      "metadata": {
        "id": "7XXTctceUcMV"
      }
    },
    {
      "cell_type": "markdown",
      "source": [
        "정적 메서드 \n",
        "\n",
        "※ 매개변수 self 지정하지 않음\n",
        "- @ 데코레이터 : 메서드에 추가 기능을 구현할 때 사용\n",
        "\n",
        "      class 클래스이름:\n",
        "          @staticmethod\n",
        "          def 메서드(매개변수1, 매개변수2):\n",
        "              코드"
      ],
      "metadata": {
        "id": "a8jyUhL_UgYS"
      }
    },
    {
      "cell_type": "markdown",
      "source": [
        "- 정적 메서드 호출\n",
        "\n",
        "      클래스.메서드()"
      ],
      "metadata": {
        "id": "yRyNp32zVHJX"
      }
    },
    {
      "cell_type": "markdown",
      "source": [
        "정적 메서드는 self를 받지 않으므로 인스턴스 속성에서 접근 불가\n",
        "\n",
        "정적 메서드는 인스턴스 속성, 인스턴스 메서드가 필요 없을 때 사용\n",
        "\n",
        "정적메서드 : 메서드의 실행이 외부 상태에 영향을 끼치지 않는 순수 함수를 만들 때 사용\n",
        "\n",
        "- 순수함수 : 부수효과가 없고 입력 값이 같으면 언제나 같은 출력 값을 반환\n",
        "\n",
        "즉, 정적 메서드는 인스턴스의 상태를 변화시키지 않는 메서드를 만들 때 사용"
      ],
      "metadata": {
        "id": "Iyi4WWcAVPwm"
      }
    },
    {
      "cell_type": "code",
      "source": [
        "class Calc:\n",
        "  @staticmethod\n",
        "  def add(a,b):\n",
        "    print(a + b)\n",
        "  \n",
        "  @staticmethod\n",
        "  def mul(a,b):\n",
        "    print(a*b)\n",
        "\n",
        "Calc.add(10,20) # 클래스에서 바로 메서드 호출\n",
        "Calc.mul(10,20)"
      ],
      "metadata": {
        "colab": {
          "base_uri": "https://localhost:8080/"
        },
        "id": "AlXOV2_EUaZ8",
        "outputId": "c60ef5c8-8712-42b8-8645-bfa932b500fc"
      },
      "execution_count": 71,
      "outputs": [
        {
          "output_type": "stream",
          "name": "stdout",
          "text": [
            "30\n",
            "200\n"
          ]
        }
      ]
    },
    {
      "cell_type": "markdown",
      "source": [
        "파이썬의 자료형은 인스턴스 메서드와 정적, 클래스 메서드로 나뉘어져 있음\n",
        "\n",
        "세트에 요소를 더할 때는 인스턴스 메서드 사용\n",
        "\n",
        "합집합을 구할 때는 정적 메서드를 사용"
      ],
      "metadata": {
        "id": "RH_wtrp4V6_W"
      }
    },
    {
      "cell_type": "code",
      "source": [
        "a = {1,2,3,4}\n",
        "a.update({5}) # 인스턴스 내용 변경 시 인스턴스 메서드 사용\n",
        "\n",
        "set.union({1,2,3,4},{5}) # 인스턴스 내용과는 상관없이 결과만 구하면 될 때 \n",
        "                         # set.union과 같이 정적 메서드로 작성\n"
      ],
      "metadata": {
        "colab": {
          "base_uri": "https://localhost:8080/"
        },
        "id": "phN_wArfVE9d",
        "outputId": "3af21a7b-92fa-47d0-d9e1-864f5141c0f3"
      },
      "execution_count": 72,
      "outputs": [
        {
          "output_type": "execute_result",
          "data": {
            "text/plain": [
              "{1, 2, 3, 4, 5}"
            ]
          },
          "metadata": {},
          "execution_count": 72
        }
      ]
    },
    {
      "cell_type": "markdown",
      "source": [
        "35.3 클래스 메서드 사용하기\n",
        "\n",
        "- 정적메서드처럼 인스턴스 없이 호출 가능\n",
        "- 메서드 안에서 클래스 속성, 클래스 메서드에 접근할 때 사용\n",
        "- 특히, cls를 사용하면 메서드 안에서 현재 클래스의 인스턴스를 만들 수 있음\n",
        "- cls는 클래스이므로 cls() == Person()"
      ],
      "metadata": {
        "id": "ORqhHArkWmPS"
      }
    },
    {
      "cell_type": "markdown",
      "source": [
        "      class 클래스이름:\n",
        "        @classmethod\n",
        "        def 메서드(cls, 매개변수1, 매개변수2):\n",
        "          코드"
      ],
      "metadata": {
        "id": "GqaduUylWphw"
      }
    },
    {
      "cell_type": "code",
      "source": [
        "class Person:\n",
        "  count = 0 # 클래스 속성\n",
        "\n",
        "  def __init__(self):\n",
        "    Person.count += 1\n",
        "  \n",
        "  @classmethod\n",
        "  def print_count(cls):\n",
        "    print('{0}명 생성되었습니다.'.format(cls.count)) # cls로 클래스 속성 접근\n",
        "\n",
        "james = Person()\n",
        "maria = Person()\n",
        "\n",
        "Person.print_count()"
      ],
      "metadata": {
        "colab": {
          "base_uri": "https://localhost:8080/"
        },
        "id": "VHS5TGaDWfqd",
        "outputId": "03f6d218-b7b7-47ed-ee04-28e24130fb7c"
      },
      "execution_count": 73,
      "outputs": [
        {
          "output_type": "stream",
          "name": "stdout",
          "text": [
            "2명 생성되었습니다.\n"
          ]
        }
      ]
    },
    {
      "cell_type": "code",
      "source": [
        "class Date:\n",
        "  @staticmethod\n",
        "  def is_date_valid(date):\n",
        "    year, month, day = map(int,date.split('-'))\n",
        "    return month <= 12 and day <= 31\n",
        "\n",
        "\n",
        "\n",
        "if Date.is_date_valid('2000-10-31'):\n",
        "    print('올바른 날짜 형식입니다.')\n",
        "else:\n",
        "    print('잘못된 날짜 형식입니다.')"
      ],
      "metadata": {
        "colab": {
          "base_uri": "https://localhost:8080/"
        },
        "id": "nZncEbNFXKSk",
        "outputId": "d8457777-bffc-4920-e3a4-2105b4ea4bae"
      },
      "execution_count": 77,
      "outputs": [
        {
          "output_type": "stream",
          "name": "stdout",
          "text": [
            "올바른 날짜 형식입니다.\n"
          ]
        }
      ]
    },
    {
      "cell_type": "markdown",
      "source": [
        "연습문제)\n",
        "\n",
        "표준 입력으로 시:분:초 형식의 시간이 입력됩니다. 다음 소스 코드에서 Time 클래스를 완성하여 시, 분, 초가 출력되게 만드세요. from_string은 문자열로 인스턴스를 만드는 메서드이며 is_time_valid는 문자열이 올바른 시간인지 검사하는 메서드입니다. 시간은 24시까지, 분은 59분까지, 초는 60초까지 있어야 합니다. 정답에 코드를 작성할 때는 class Time:에 맞춰서 들여쓰기를 해주세요."
      ],
      "metadata": {
        "id": "t6PoihxAZj3S"
      }
    },
    {
      "cell_type": "code",
      "source": [
        "class Time:\n",
        "    def __init__(self, hour, minute, second):\n",
        "        self.hour = hour\n",
        "        self.minute = minute\n",
        "        self.second = second\n",
        "\n",
        "    @classmethod\n",
        "    def from_string(cls,time_string):\n",
        "      hour, minute, second = map(int,time_string.split(':'))\n",
        "      time = cls(hour, minute, second)\n",
        "      return time\n",
        "    \n",
        "    @staticmethod\n",
        "    def is_time_valid(time_string):\n",
        "      hour, minute, second = map(int,time_string.split(':'))\n",
        "      return hour <= 24 and minute <= 59 and second <=60\n",
        "    \n",
        "  \n",
        "time_string = input()\n",
        " \n",
        "if Time.is_time_valid(time_string):\n",
        "    t = Time.from_string(time_string)\n",
        "    print(t.hour, t.minute, t.second)\n",
        "else:\n",
        "    print('잘못된 시간 형식입니다.')"
      ],
      "metadata": {
        "colab": {
          "base_uri": "https://localhost:8080/"
        },
        "id": "UvxqIaryZEJz",
        "outputId": "85250ecb-ed4c-45c3-95e4-844f1484902a"
      },
      "execution_count": 79,
      "outputs": [
        {
          "output_type": "stream",
          "name": "stdout",
          "text": [
            "23:35:59\n",
            "23 35 59\n"
          ]
        }
      ]
    }
  ]
}