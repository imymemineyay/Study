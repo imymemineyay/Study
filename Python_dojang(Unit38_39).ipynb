{
  "nbformat": 4,
  "nbformat_minor": 0,
  "metadata": {
    "colab": {
      "provenance": [],
      "authorship_tag": "ABX9TyNKWrTu/Gh7RGaxmbQ7jTJ6",
      "include_colab_link": true
    },
    "kernelspec": {
      "name": "python3",
      "display_name": "Python 3"
    },
    "language_info": {
      "name": "python"
    }
  },
  "cells": [
    {
      "cell_type": "markdown",
      "metadata": {
        "id": "view-in-github",
        "colab_type": "text"
      },
      "source": [
        "<a href=\"https://colab.research.google.com/github/imymemineyay/Study_Python/blob/main/Python_dojang(Unit38_39).ipynb\" target=\"_parent\"><img src=\"https://colab.research.google.com/assets/colab-badge.svg\" alt=\"Open In Colab\"/></a>"
      ]
    },
    {
      "cell_type": "markdown",
      "source": [
        "## **Unit 38. 예외 처리 사용하기**\n"
      ],
      "metadata": {
        "id": "Cj0TNIe5zPxl"
      }
    },
    {
      "cell_type": "markdown",
      "source": [
        "예외란 코드를 실행하는 중에 발생한 에러를 뜻함\n"
      ],
      "metadata": {
        "id": "INfc7cPl_I7N"
      }
    },
    {
      "cell_type": "code",
      "source": [
        "def ten_div(x):\n",
        "  return 10/x"
      ],
      "metadata": {
        "id": "_EgWLB0E_PQr"
      },
      "execution_count": null,
      "outputs": []
    },
    {
      "cell_type": "code",
      "source": [
        "ten_div(5.0)"
      ],
      "metadata": {
        "colab": {
          "base_uri": "https://localhost:8080/"
        },
        "id": "EwR1uunwCciD",
        "outputId": "d21448da-25ab-46ca-fa97-e9228e71ff06"
      },
      "execution_count": null,
      "outputs": [
        {
          "output_type": "execute_result",
          "data": {
            "text/plain": [
              "2.0"
            ]
          },
          "metadata": {},
          "execution_count": 2
        }
      ]
    },
    {
      "cell_type": "code",
      "source": [
        "ten_div(0)"
      ],
      "metadata": {
        "colab": {
          "base_uri": "https://localhost:8080/",
          "height": 246
        },
        "id": "r1Zb2hqaCekc",
        "outputId": "147f59cf-937b-40ba-b11f-e4f3da84bbb4"
      },
      "execution_count": null,
      "outputs": [
        {
          "output_type": "error",
          "ename": "ZeroDivisionError",
          "evalue": "ignored",
          "traceback": [
            "\u001b[0;31m---------------------------------------------------------------------------\u001b[0m",
            "\u001b[0;31mZeroDivisionError\u001b[0m                         Traceback (most recent call last)",
            "\u001b[0;32m<ipython-input-3-446b4e992a50>\u001b[0m in \u001b[0;36m<module>\u001b[0;34m\u001b[0m\n\u001b[0;32m----> 1\u001b[0;31m \u001b[0mten_div\u001b[0m\u001b[0;34m(\u001b[0m\u001b[0;36m0\u001b[0m\u001b[0;34m)\u001b[0m\u001b[0;34m\u001b[0m\u001b[0;34m\u001b[0m\u001b[0m\n\u001b[0m",
            "\u001b[0;32m<ipython-input-1-260f7ac98aad>\u001b[0m in \u001b[0;36mten_div\u001b[0;34m(x)\u001b[0m\n\u001b[1;32m      1\u001b[0m \u001b[0;32mdef\u001b[0m \u001b[0mten_div\u001b[0m\u001b[0;34m(\u001b[0m\u001b[0mx\u001b[0m\u001b[0;34m)\u001b[0m\u001b[0;34m:\u001b[0m\u001b[0;34m\u001b[0m\u001b[0;34m\u001b[0m\u001b[0m\n\u001b[0;32m----> 2\u001b[0;31m   \u001b[0;32mreturn\u001b[0m \u001b[0;36m10\u001b[0m\u001b[0;34m/\u001b[0m\u001b[0mx\u001b[0m\u001b[0;34m\u001b[0m\u001b[0;34m\u001b[0m\u001b[0m\n\u001b[0m",
            "\u001b[0;31mZeroDivisionError\u001b[0m: division by zero"
          ]
        }
      ]
    },
    {
      "cell_type": "markdown",
      "source": [
        "ZeroDivisionError뿐만 아니라 지금까지 만난 AttributeError, NameError, TypeError 등 다양한 에러들도 모두 예외임"
      ],
      "metadata": {
        "id": "B0mvTP6PCiZM"
      }
    },
    {
      "cell_type": "markdown",
      "source": [
        "38.1 try except로 사용하기"
      ],
      "metadata": {
        "id": "02MzNeIazX8A"
      }
    },
    {
      "cell_type": "markdown",
      "source": [
        "- 예외가 발생하더라도 스크립트 실행을 중단하지 않고 계속 실행하게 해주는 예외 처리 방법 \n",
        "\n",
        "      try:\n",
        "        실행할 코드\n",
        "      except:\n",
        "        예외가 발생했을 대 처리하는 코드"
      ],
      "metadata": {
        "id": "HKVigNZDCntZ"
      }
    },
    {
      "cell_type": "code",
      "execution_count": null,
      "metadata": {
        "colab": {
          "base_uri": "https://localhost:8080/"
        },
        "id": "tnzuuCpIzKXb",
        "outputId": "1d793ca4-cacb-419c-c562-5cbd85500ad1"
      },
      "outputs": [
        {
          "output_type": "stream",
          "name": "stdout",
          "text": [
            "나눌 숫자를 입력하세요 :0\n",
            "예외가 발생하였습니다.\n"
          ]
        }
      ],
      "source": [
        "try:\n",
        "  x = int(input('나눌 숫자를 입력하세요 :'))\n",
        "  y = 10 / x \n",
        "  print(y)\n",
        "except: # try 코드에서 에러 발생 시 except코드 실행됨\n",
        "  print('예외가 발생하였습니다.') "
      ]
    },
    {
      "cell_type": "markdown",
      "source": [
        "- 특정 예외만 처리하기\n",
        "\n",
        "      try:\n",
        "         실행할 코드\n",
        "      except 예외이름:\n",
        "         예외가 발생했을 때 처리하는 코드\n"
      ],
      "metadata": {
        "id": "AkvZwpjXDQGI"
      }
    },
    {
      "cell_type": "code",
      "source": [
        "y = [10,20,30]\n",
        "\n",
        "try:\n",
        "  index, x = map(int,input('인덱스와 나눌 숫자를 입력하세요').split())\n",
        "  print(y[index] / x)\n",
        "except ZeroDivisionError:\n",
        "  print('숫자를 0으로 나눌 수 없습니다.')\n",
        "except IndexError:\n",
        "  print('잘못된 인덱스입니다.')"
      ],
      "metadata": {
        "colab": {
          "base_uri": "https://localhost:8080/"
        },
        "id": "eUgeLUE8Dd6x",
        "outputId": "4c32519a-7c62-4ca0-cb5b-d84676dd6584"
      },
      "execution_count": null,
      "outputs": [
        {
          "output_type": "stream",
          "name": "stdout",
          "text": [
            "인덱스와 나눌 숫자를 입력하세요3 5\n",
            "잘못된 인덱스입니다.\n"
          ]
        }
      ]
    },
    {
      "cell_type": "markdown",
      "source": [
        "- 예외의 에러 메세지 받아오기\n",
        "\n",
        "      try:\n",
        "         실행할 코드\n",
        "      except 예외 as 변수:\n",
        "         예외가 발생했을 때 처리하는 코드"
      ],
      "metadata": {
        "id": "vj98bEg1DdCK"
      }
    },
    {
      "cell_type": "code",
      "source": [
        "y = [10, 20, 30]\n",
        "\n",
        "try:\n",
        "  index, x = map(int, input('인덱스와 나눌 숫자를 입력하세요 : ').split())\n",
        "  print(y[index] / x)\n",
        "except ZeroDivisionError as e: \n",
        "  print('숫자를 0으로 나눌 수 없습니다.', e) # 예외에 해당하는 에러 메세지 출력 \n",
        "except IndexError as e:\n",
        "  print('잘못된 인덱스 입니다.', e)"
      ],
      "metadata": {
        "colab": {
          "base_uri": "https://localhost:8080/"
        },
        "id": "5H9mL97gELEn",
        "outputId": "f21111a9-c8ed-42e1-ed1f-8356e1fbd99d"
      },
      "execution_count": null,
      "outputs": [
        {
          "output_type": "stream",
          "name": "stdout",
          "text": [
            "인덱스와 나눌 숫자를 입력하세요 : 2 0\n",
            "숫자를 0으로 나눌 수 없습니다. division by zero\n"
          ]
        }
      ]
    },
    {
      "cell_type": "markdown",
      "source": [
        "<참고>\n",
        "\n",
        "예외 계층\n",
        "\n",
        "예외도 클래스 상속으로 구현되며 다음과 같이 계층으로 이루어져 있음\n",
        "\n",
        "보통 파이썬에서 새로운 예외를 만들 때는 Exception을 상속받아서 구현함\n",
        "\n",
        "![image.png](data:image/png;base64,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)"
      ],
      "metadata": {
        "id": "w7h9OhmgExzL"
      }
    },
    {
      "cell_type": "markdown",
      "source": [
        "38.2 else와 finally 사용하기\n",
        "\n",
        "예외가 발생하지 않았을 때 코드를 실행하는 else를 사용\n",
        "\n",
        "      try:\n",
        "        실행할 코드\n",
        "      except:\n",
        "        예외가 발생했을 때 처리하는 코드\n",
        "      else:\n",
        "        예외가 발생하지 않았을 때 실행할 코드"
      ],
      "metadata": {
        "id": "DU9sRECGzawa"
      }
    },
    {
      "cell_type": "code",
      "source": [
        "try: \n",
        "  x = int(input('나눌 숫자를 입력하세요 : '))\n",
        "  y = 10 / x\n",
        "except ZeroDivisionError:\n",
        "  print('숫자를 0으로 나눌 수 없습니다.')\n",
        "else:\n",
        "  print(y)"
      ],
      "metadata": {
        "colab": {
          "base_uri": "https://localhost:8080/"
        },
        "id": "zwECgYltzdBC",
        "outputId": "d339ae19-b919-449a-946e-57e8ff7f5442"
      },
      "execution_count": null,
      "outputs": [
        {
          "output_type": "stream",
          "name": "stdout",
          "text": [
            "나눌 숫자를 입력하세요 : 0\n",
            "숫자를 0으로 나눌 수 없습니다.\n"
          ]
        }
      ]
    },
    {
      "cell_type": "markdown",
      "source": [
        "- 예외와는 상관없이 항상 코드 실행하기\n",
        "\n",
        "      try:\n",
        "        실행할 코드\n",
        "      except:\n",
        "        예외가 발생했을 때 처리하는 코드\n",
        "      else:\n",
        "        예외가 발생하지 않았을 때 실행할 코드\n",
        "      fianally:\n",
        "        예외 발생 여부와 상관없이 항상 실행할 코드"
      ],
      "metadata": {
        "id": "kJ9fI4pBHV85"
      }
    },
    {
      "cell_type": "code",
      "source": [
        "try:\n",
        "  x = int(input('나눌 숫자를 입력하세요 : '))\n",
        "  y = 10 / x\n",
        "except ZeroDivisionError:\n",
        "  print('숫자를 0으로 나눌 수 없습니다.')\n",
        "else:\n",
        "  print(y)\n",
        "finally:\n",
        "  print('코드 실행이 끝났습니다.')"
      ],
      "metadata": {
        "colab": {
          "base_uri": "https://localhost:8080/"
        },
        "id": "0jeU4mkGHlmm",
        "outputId": "eb594cbd-53a6-4a8d-fd62-27fb7c928676"
      },
      "execution_count": null,
      "outputs": [
        {
          "output_type": "stream",
          "name": "stdout",
          "text": [
            "나눌 숫자를 입력하세요 : 0\n",
            "숫자를 0으로 나눌 수 없습니다.\n",
            "코드 실행이 끝났습니다.\n"
          ]
        }
      ]
    },
    {
      "cell_type": "markdown",
      "source": [
        "![image.png](data:image/png;base64,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)"
      ],
      "metadata": {
        "id": "NJ5Q3GE7H8WL"
      }
    },
    {
      "cell_type": "markdown",
      "source": [
        "<참고>\n",
        "\n",
        "try안에서 만든 변수는 try바깥에서 사용할 수 있나요?\n",
        "\n",
        "▶ try는 함수가 아니므로 스택 프레임을 만들지 않아 try바깥에서 사용 가능\n",
        "\n",
        "물론, except, else, finally에서도 사용 가능"
      ],
      "metadata": {
        "id": "gt5GDRypH9SQ"
      }
    },
    {
      "cell_type": "markdown",
      "source": [
        "38.3 예외 발생시키기"
      ],
      "metadata": {
        "id": "C9-Lu1QEzdcN"
      }
    },
    {
      "cell_type": "markdown",
      "source": [
        "정해진 예외 외에 직접 예외를 발생시킬 수 있음\n",
        "\n",
        "      raise 예외('에러메세지')"
      ],
      "metadata": {
        "id": "J5RZQLWaIMDK"
      }
    },
    {
      "cell_type": "code",
      "source": [
        "try:\n",
        "  x = int(input('3의 배수를 입력하세요 : '))\n",
        "  if x % 3 != 0 :\n",
        "    raise Exception('3의 배수가 아닙니다.')\n",
        "  print(x)\n",
        "except Exception as e:\n",
        "  print('예외가 발생했습니다.', e)"
      ],
      "metadata": {
        "colab": {
          "base_uri": "https://localhost:8080/"
        },
        "id": "4iVnDrc4zfAh",
        "outputId": "d49d475b-640f-4e51-b642-e91323d8541c"
      },
      "execution_count": null,
      "outputs": [
        {
          "output_type": "stream",
          "name": "stdout",
          "text": [
            "3의 배수를 입력하세요 : 5\n",
            "예외가 발생했습니다. 3의 배수가 아닙니다.\n"
          ]
        }
      ]
    },
    {
      "cell_type": "markdown",
      "source": [
        "- raise의 처리 과정"
      ],
      "metadata": {
        "id": "nAsUWIMJI6nn"
      }
    },
    {
      "cell_type": "markdown",
      "source": [
        "예외가 발생하더라도 현재 코드 블록에서 처리해줄 except가 없다면 except가 나올 때까지 계속 상위 코드 블록으로 올라감\n",
        "\n",
        "만약 함수 바깥에도 처리해줄 except가 없다면 코드 실행은 중지되고 에러가 표시됨"
      ],
      "metadata": {
        "id": "q5u2fGePJrZP"
      }
    },
    {
      "cell_type": "code",
      "source": [
        "def three_multiple():\n",
        "  x = int(input('3의 배수를 입력하세요 : '))\n",
        "  if x % 3 != 0:\n",
        "    raise Exception('3의 배수가 아닙니다.')\n",
        "  print(x)\n",
        "\n",
        "try:\n",
        "  three_multiple()\n",
        "except Exception as e:\n",
        "  print('예외가 발생했습니다.', e)"
      ],
      "metadata": {
        "colab": {
          "base_uri": "https://localhost:8080/"
        },
        "id": "mQd1-NRZI-f3",
        "outputId": "84be926c-e66d-4b29-c666-dc6ee40fee7e"
      },
      "execution_count": null,
      "outputs": [
        {
          "output_type": "stream",
          "name": "stdout",
          "text": [
            "3의 배수를 입력하세요 : 5\n",
            "예외가 발생했습니다. 3의 배수가 아닙니다.\n"
          ]
        }
      ]
    },
    {
      "cell_type": "code",
      "source": [
        "three_multiple() # except가 없는 상태 에러 발생"
      ],
      "metadata": {
        "colab": {
          "base_uri": "https://localhost:8080/",
          "height": 319
        },
        "id": "tqqPg5pUJ9Hd",
        "outputId": "4132bbd2-4804-47f4-d23d-9ff1e88cb3d9"
      },
      "execution_count": null,
      "outputs": [
        {
          "name": "stdout",
          "output_type": "stream",
          "text": [
            "3의 배수를 입력하세요 : 10\n"
          ]
        },
        {
          "output_type": "error",
          "ename": "Exception",
          "evalue": "ignored",
          "traceback": [
            "\u001b[0;31m---------------------------------------------------------------------------\u001b[0m",
            "\u001b[0;31mException\u001b[0m                                 Traceback (most recent call last)",
            "\u001b[0;32m<ipython-input-16-694f7cb1b1f4>\u001b[0m in \u001b[0;36m<module>\u001b[0;34m\u001b[0m\n\u001b[0;32m----> 1\u001b[0;31m \u001b[0mthree_multiple\u001b[0m\u001b[0;34m(\u001b[0m\u001b[0;34m)\u001b[0m\u001b[0;34m\u001b[0m\u001b[0;34m\u001b[0m\u001b[0m\n\u001b[0m",
            "\u001b[0;32m<ipython-input-14-949500c78d2a>\u001b[0m in \u001b[0;36mthree_multiple\u001b[0;34m()\u001b[0m\n\u001b[1;32m      2\u001b[0m   \u001b[0mx\u001b[0m \u001b[0;34m=\u001b[0m \u001b[0mint\u001b[0m\u001b[0;34m(\u001b[0m\u001b[0minput\u001b[0m\u001b[0;34m(\u001b[0m\u001b[0;34m'3의 배수를 입력하세요 : '\u001b[0m\u001b[0;34m)\u001b[0m\u001b[0;34m)\u001b[0m\u001b[0;34m\u001b[0m\u001b[0;34m\u001b[0m\u001b[0m\n\u001b[1;32m      3\u001b[0m   \u001b[0;32mif\u001b[0m \u001b[0mx\u001b[0m \u001b[0;34m%\u001b[0m \u001b[0;36m3\u001b[0m \u001b[0;34m!=\u001b[0m \u001b[0;36m0\u001b[0m\u001b[0;34m:\u001b[0m\u001b[0;34m\u001b[0m\u001b[0;34m\u001b[0m\u001b[0m\n\u001b[0;32m----> 4\u001b[0;31m     \u001b[0;32mraise\u001b[0m \u001b[0mException\u001b[0m\u001b[0;34m(\u001b[0m\u001b[0;34m'3의 배수가 아닙니다.'\u001b[0m\u001b[0;34m)\u001b[0m\u001b[0;34m\u001b[0m\u001b[0;34m\u001b[0m\u001b[0m\n\u001b[0m\u001b[1;32m      5\u001b[0m   \u001b[0mprint\u001b[0m\u001b[0;34m(\u001b[0m\u001b[0mx\u001b[0m\u001b[0;34m)\u001b[0m\u001b[0;34m\u001b[0m\u001b[0;34m\u001b[0m\u001b[0m\n\u001b[1;32m      6\u001b[0m \u001b[0;34m\u001b[0m\u001b[0m\n",
            "\u001b[0;31mException\u001b[0m: 3의 배수가 아닙니다."
          ]
        }
      ]
    },
    {
      "cell_type": "markdown",
      "source": [
        "- 현재 예외를 다시 발생시키기\n",
        "\n",
        "except 안에서 raise를 사용하면 현재 예외를 다시 발생시킴(re-raise)\n",
        "\n",
        "        raise"
      ],
      "metadata": {
        "id": "bUD7BOJeJ8tn"
      }
    },
    {
      "cell_type": "code",
      "source": [
        "def three_multiple():\n",
        "  try:\n",
        "    x = int(input(\"3의 배수를 입력하세요 : \"))\n",
        "    if x % 3 != 0 :\n",
        "      raise Exception('3의 배수가 아닙니다.')\n",
        "    print(x)\n",
        "  except Exception as e:\n",
        "    print('three_multiple 함수에서 예외가 발생했습니다.', e)\n",
        "    raise\n",
        "\n",
        "try: \n",
        "  three_multiple()\n",
        "except Exception as e:\n",
        "  print('스크립트 파일에서 예외가 발생했습니다.', e)"
      ],
      "metadata": {
        "colab": {
          "base_uri": "https://localhost:8080/"
        },
        "id": "CZu0p6JkKVht",
        "outputId": "4152a686-d632-49dd-de76-d39b086fb6a0"
      },
      "execution_count": null,
      "outputs": [
        {
          "output_type": "stream",
          "name": "stdout",
          "text": [
            "3의 배수를 입력하세요 : 5\n",
            "three_multiple 함수에서 예외가 발생했습니다. 3의 배수가 아닙니다.\n",
            "스크립트 파일에서 예외가 발생했습니다. 3의 배수가 아닙니다.\n"
          ]
        }
      ]
    },
    {
      "cell_type": "markdown",
      "source": [
        "three_multiple 함수 안에서 발생한 예외를 함수 안의 except에서 한 번 처리하고, raise로 예외를 다시 발생시켜서 상위 코드 블록으로 넘김\n",
        "\n",
        "그다음에 함수 바깥의 except에서 예외를 처리\n",
        "\n",
        "▶ 이런 방식으로 같은 예외를 계속 처리해줄 수 있음\n",
        "\n",
        "참고로 raise만 사용하면 같은 예외를 상위 코드 블록으로 넘기지만 raise에 다른 예외를 지정하고 에러 메시지를 넣을 수도 있음\n",
        "\n",
        "      raise 예외('에러메세지')"
      ],
      "metadata": {
        "id": "KKIv_7S4K7l6"
      }
    },
    {
      "cell_type": "code",
      "source": [
        "def three_multiple():\n",
        "  try:\n",
        "    x = int(input(\"3의 배수를 입력하세요 : \"))        \n",
        "    if x % 3 != 0:\n",
        "      raise Exception('3의 배수가 아닙니다.')\n",
        "    print(x)\n",
        "  except Exception as e:\n",
        "    print('three_multiple 함수에서 예외가 발생했습니다.', e)\n",
        "    raise RuntimeError('three_multiple 함수에서 예외가 발생했습니다.')"
      ],
      "metadata": {
        "id": "ZACaAGCQLfxv"
      },
      "execution_count": null,
      "outputs": []
    },
    {
      "cell_type": "markdown",
      "source": [
        "<참고>\n",
        "assert로 예외 발생시키기\n",
        "\n",
        "assert : 지정된 조건식이 거짓일 때 AssertionError예외를 발생시키며 조건식이 참이면 그냥 넘어감\n",
        "\n",
        "- assert는 나와서는 안 되는 조건을 검사할 때 사용\n",
        "- assert는 디버긴 모드에서만 실행됨\n",
        "- assert 실행되지 않게 하려면, python에 -0 옵션을 붙여서 실행\n",
        "\n",
        "        assert 조건식\n",
        "        assert 조건식, 에러메세지"
      ],
      "metadata": {
        "id": "NFx0opHvLyYl"
      }
    },
    {
      "cell_type": "code",
      "source": [
        "x = int(input('3의 배수를 입력하세요: '))\n",
        "assert x % 3 == 0, '3의 배수가 아닙니다.'    # 3의 배수가 아니면 예외 발생, 3의 배수이면 그냥 넘어감\n",
        "print(x)"
      ],
      "metadata": {
        "colab": {
          "base_uri": "https://localhost:8080/",
          "height": 246
        },
        "id": "yHsPoJWAMNlN",
        "outputId": "675828a4-2a8b-4c70-82f9-f8524504f436"
      },
      "execution_count": null,
      "outputs": [
        {
          "name": "stdout",
          "output_type": "stream",
          "text": [
            "3의 배수를 입력하세요: 5\n"
          ]
        },
        {
          "output_type": "error",
          "ename": "AssertionError",
          "evalue": "ignored",
          "traceback": [
            "\u001b[0;31m---------------------------------------------------------------------------\u001b[0m",
            "\u001b[0;31mAssertionError\u001b[0m                            Traceback (most recent call last)",
            "\u001b[0;32m<ipython-input-20-919a995d7f32>\u001b[0m in \u001b[0;36m<module>\u001b[0;34m\u001b[0m\n\u001b[1;32m      1\u001b[0m \u001b[0mx\u001b[0m \u001b[0;34m=\u001b[0m \u001b[0mint\u001b[0m\u001b[0;34m(\u001b[0m\u001b[0minput\u001b[0m\u001b[0;34m(\u001b[0m\u001b[0;34m'3의 배수를 입력하세요: '\u001b[0m\u001b[0;34m)\u001b[0m\u001b[0;34m)\u001b[0m\u001b[0;34m\u001b[0m\u001b[0;34m\u001b[0m\u001b[0m\n\u001b[0;32m----> 2\u001b[0;31m \u001b[0;32massert\u001b[0m \u001b[0mx\u001b[0m \u001b[0;34m%\u001b[0m \u001b[0;36m3\u001b[0m \u001b[0;34m==\u001b[0m \u001b[0;36m0\u001b[0m\u001b[0;34m,\u001b[0m \u001b[0;34m'3의 배수가 아닙니다.'\u001b[0m    \u001b[0;31m# 3의 배수가 아니면 예외 발생, 3의 배수이면 그냥 넘어감\u001b[0m\u001b[0;34m\u001b[0m\u001b[0;34m\u001b[0m\u001b[0m\n\u001b[0m\u001b[1;32m      3\u001b[0m \u001b[0mprint\u001b[0m\u001b[0;34m(\u001b[0m\u001b[0mx\u001b[0m\u001b[0;34m)\u001b[0m\u001b[0;34m\u001b[0m\u001b[0;34m\u001b[0m\u001b[0m\n",
            "\u001b[0;31mAssertionError\u001b[0m: 3의 배수가 아닙니다."
          ]
        }
      ]
    },
    {
      "cell_type": "markdown",
      "source": [
        "38.4 예외 만들기"
      ],
      "metadata": {
        "id": "QO7NtKX1zfg6"
      }
    },
    {
      "cell_type": "markdown",
      "source": [
        "사용자 지정 예외 : 프로그래머가 직접 만든 예외\n",
        "\n",
        "      class 예외이름(Exception):\n",
        "          def __init__(self):\n",
        "              super().__init__('에러메세지')"
      ],
      "metadata": {
        "id": "6iv29OQfMlU_"
      }
    },
    {
      "cell_type": "code",
      "source": [
        "class NotThreeMultipleError(Exception):\n",
        "  def __init__(self):\n",
        "    super().__init__('3의 배수가 아닙니다.')\n",
        "\n",
        "def three_multiple():\n",
        "  try:\n",
        "    x = int(input('3의 배수를 입력하세요 : '))\n",
        "    if x % 3 != 0:\n",
        "      raise NotThreeMultipleError\n",
        "    print(x)\n",
        "  except Exception as e:\n",
        "    print('예외가 발생했습니다.', e)\n",
        "  \n",
        "three_multiple()"
      ],
      "metadata": {
        "colab": {
          "base_uri": "https://localhost:8080/"
        },
        "id": "EXRy-P7bzg4d",
        "outputId": "2fec0062-0488-4fb5-a88b-850177538de1"
      },
      "execution_count": null,
      "outputs": [
        {
          "output_type": "stream",
          "name": "stdout",
          "text": [
            "3의 배수를 입력하세요 : 5\n",
            "예외가 발생했습니다. 3의 배수가 아닙니다.\n"
          ]
        }
      ]
    },
    {
      "cell_type": "code",
      "source": [
        "try:   \n",
        "    file = open('maria.txt', 'r')\n",
        "except FileNotFoundError:                         \n",
        "    print('파일이 없습니다.')\n",
        "else:    \n",
        "    s = file.read()\n",
        "    file.close()"
      ],
      "metadata": {
        "colab": {
          "base_uri": "https://localhost:8080/"
        },
        "id": "093RBLuXNTdA",
        "outputId": "208b36d8-c810-42a7-fa6d-5958dfd1ab37"
      },
      "execution_count": null,
      "outputs": [
        {
          "output_type": "stream",
          "name": "stdout",
          "text": [
            "파일이 없습니다.\n"
          ]
        }
      ]
    },
    {
      "cell_type": "markdown",
      "source": [
        "연습문제)\n",
        "\n",
        "표준 입력으로 문자열이 입력됩니다. 다음 소스 코드를 완성하여 입력된 문자열이 회문이면 문자열을 그대로 출력하고, 회문이 아니면 '회문이 아닙니다.'를 출력하도록 만드세요. palindrome 함수와 NotPalindromeError 예외를 작성해야 합니다."
      ],
      "metadata": {
        "id": "--KZHkOxOMmf"
      }
    },
    {
      "cell_type": "code",
      "source": [
        "class NotPalindromeError(Exception):\n",
        "  def __init__(self):\n",
        "    super().__init__('회문이 아닙니다.')\n",
        "\n",
        "def palindrome(word):\n",
        "  if word != word[::-1]:\n",
        "    raise NotPalindromeError\n",
        "  print(word)\n",
        "\n",
        "\n",
        "try:\n",
        "    word = input()\n",
        "    palindrome(word)\n",
        "except NotPalindromeError as e:\n",
        "    print(e)"
      ],
      "metadata": {
        "colab": {
          "base_uri": "https://localhost:8080/"
        },
        "id": "GF7tXfYiOLK7",
        "outputId": "23e8b2c9-398e-48aa-f9b9-4a730cd8497b"
      },
      "execution_count": null,
      "outputs": [
        {
          "output_type": "stream",
          "name": "stdout",
          "text": [
            "hello\n",
            "회문이 아닙니다.\n"
          ]
        }
      ]
    },
    {
      "cell_type": "markdown",
      "source": [
        "## **Unit 39. 이터레이터 사용하기**\n"
      ],
      "metadata": {
        "id": "k7CG-oeLQBuY"
      }
    },
    {
      "cell_type": "markdown",
      "source": [
        "이터레이터(반복자) \n",
        "\n",
        ": 값을 차례대로 꺼낼 수 있는 객체\n",
        "\n",
        ": 반복할 위치를 알려줌\n",
        "\n",
        "- 이터레이터만 생성하고 값이 필요한 시점이 되었을 때 값을 만드는 방식을 사용\n",
        "\n",
        "- 지연 평가 : 데이터 생성을 뒤로 미루는 것\n"
      ],
      "metadata": {
        "id": "6Buh7fRFQGWc"
      }
    },
    {
      "cell_type": "markdown",
      "source": [
        "for i in range(100) \n",
        "\n",
        ": 반복할 때마다 이터레이터에서 숫자를 하나씩 꺼내서 반복하는 것\n"
      ],
      "metadata": {
        "id": "espAHFJTknBW"
      }
    },
    {
      "cell_type": "markdown",
      "source": [
        "- 반복 가능한 객체 알아보기\n",
        "\n",
        "반복 가능한 객체 : 반복할 수 있는 객체 \n",
        "\n",
        "ex) 문자열, 리스트, 딕셔너리, 세트\n",
        "\n",
        "→ 요소가 여러 개 들어있고, 한 번에 하나씩 꺼낼 수 있는 객체"
      ],
      "metadata": {
        "id": "QVzxa3vWlZW8"
      }
    },
    {
      "cell_type": "markdown",
      "source": [
        "- 반복 가능한 객체인지 알아보는 방법\n",
        "\n",
        "__iter__ 메서드가 들어있는지 확인하면 됨\n",
        "\n",
        "          dir(객체)\n"
      ],
      "metadata": {
        "id": "jDAca14ml13c"
      }
    },
    {
      "cell_type": "code",
      "source": [
        "dir([1,2,3])"
      ],
      "metadata": {
        "id": "RaWFo3nqPkuN",
        "colab": {
          "base_uri": "https://localhost:8080/"
        },
        "outputId": "bd1a2c1e-7e45-4e34-dedc-e2cebdf795f5"
      },
      "execution_count": 1,
      "outputs": [
        {
          "output_type": "execute_result",
          "data": {
            "text/plain": [
              "['__add__',\n",
              " '__class__',\n",
              " '__contains__',\n",
              " '__delattr__',\n",
              " '__delitem__',\n",
              " '__dir__',\n",
              " '__doc__',\n",
              " '__eq__',\n",
              " '__format__',\n",
              " '__ge__',\n",
              " '__getattribute__',\n",
              " '__getitem__',\n",
              " '__gt__',\n",
              " '__hash__',\n",
              " '__iadd__',\n",
              " '__imul__',\n",
              " '__init__',\n",
              " '__init_subclass__',\n",
              " '__iter__',\n",
              " '__le__',\n",
              " '__len__',\n",
              " '__lt__',\n",
              " '__mul__',\n",
              " '__ne__',\n",
              " '__new__',\n",
              " '__reduce__',\n",
              " '__reduce_ex__',\n",
              " '__repr__',\n",
              " '__reversed__',\n",
              " '__rmul__',\n",
              " '__setattr__',\n",
              " '__setitem__',\n",
              " '__sizeof__',\n",
              " '__str__',\n",
              " '__subclasshook__',\n",
              " 'append',\n",
              " 'clear',\n",
              " 'copy',\n",
              " 'count',\n",
              " 'extend',\n",
              " 'index',\n",
              " 'insert',\n",
              " 'pop',\n",
              " 'remove',\n",
              " 'reverse',\n",
              " 'sort']"
            ]
          },
          "metadata": {},
          "execution_count": 1
        }
      ]
    },
    {
      "cell_type": "code",
      "source": [
        "[1, 2, 3].__iter__()"
      ],
      "metadata": {
        "colab": {
          "base_uri": "https://localhost:8080/"
        },
        "id": "ybIKGO_LmDVT",
        "outputId": "ab6bf508-f771-4372-b268-912029d1515d"
      },
      "execution_count": 2,
      "outputs": [
        {
          "output_type": "execute_result",
          "data": {
            "text/plain": [
              "<list_iterator at 0x7f8592fb30d0>"
            ]
          },
          "metadata": {},
          "execution_count": 2
        }
      ]
    },
    {
      "cell_type": "markdown",
      "source": [
        "- 리스트의 이터레이터를 변수에 저장한 뒤 __next__ 메서드를 호출해보면 요소를 차례대로 꺼낼 수 있음"
      ],
      "metadata": {
        "id": "yvF-dJ5XmrXR"
      }
    },
    {
      "cell_type": "code",
      "source": [
        "it = [1, 2, 3].__iter__()\n",
        "print(it.__next__())\n",
        "print(it.__next__())\n",
        "print(it.__next__())\n",
        "print(it.__next__()) # 꺼낼 요소가 없으면 StopIteration 예외를 발생시켜 반복을 끝냄"
      ],
      "metadata": {
        "colab": {
          "base_uri": "https://localhost:8080/",
          "height": 264
        },
        "id": "CQ0NWZWkmTzB",
        "outputId": "e6d9c6bc-1fd3-4b31-f4e9-f25ad99df201"
      },
      "execution_count": 7,
      "outputs": [
        {
          "output_type": "stream",
          "name": "stdout",
          "text": [
            "1\n",
            "2\n",
            "3\n"
          ]
        },
        {
          "output_type": "error",
          "ename": "StopIteration",
          "evalue": "ignored",
          "traceback": [
            "\u001b[0;31m---------------------------------------------------------------------------\u001b[0m",
            "\u001b[0;31mStopIteration\u001b[0m                             Traceback (most recent call last)",
            "\u001b[0;32m<ipython-input-7-bfe264c57115>\u001b[0m in \u001b[0;36m<module>\u001b[0;34m\u001b[0m\n\u001b[1;32m      3\u001b[0m \u001b[0mprint\u001b[0m\u001b[0;34m(\u001b[0m\u001b[0mit\u001b[0m\u001b[0;34m.\u001b[0m\u001b[0m__next__\u001b[0m\u001b[0;34m(\u001b[0m\u001b[0;34m)\u001b[0m\u001b[0;34m)\u001b[0m\u001b[0;34m\u001b[0m\u001b[0;34m\u001b[0m\u001b[0m\n\u001b[1;32m      4\u001b[0m \u001b[0mprint\u001b[0m\u001b[0;34m(\u001b[0m\u001b[0mit\u001b[0m\u001b[0;34m.\u001b[0m\u001b[0m__next__\u001b[0m\u001b[0;34m(\u001b[0m\u001b[0;34m)\u001b[0m\u001b[0;34m)\u001b[0m\u001b[0;34m\u001b[0m\u001b[0;34m\u001b[0m\u001b[0m\n\u001b[0;32m----> 5\u001b[0;31m \u001b[0mprint\u001b[0m\u001b[0;34m(\u001b[0m\u001b[0mit\u001b[0m\u001b[0;34m.\u001b[0m\u001b[0m__next__\u001b[0m\u001b[0;34m(\u001b[0m\u001b[0;34m)\u001b[0m\u001b[0;34m)\u001b[0m\u001b[0;34m\u001b[0m\u001b[0;34m\u001b[0m\u001b[0m\n\u001b[0m",
            "\u001b[0;31mStopIteration\u001b[0m: "
          ]
        }
      ]
    },
    {
      "cell_type": "markdown",
      "source": [
        "- for와 반복 가능한 객체\n",
        "\n",
        "for에 range(3)을 사용했다면 먼저 range에서 __iter__ 로 이터레이터를 얻음\n",
        "\n",
        "한 번 반복할 때마다 이터레이터에서 __next__로 숫자를 꺼내서 i에 저장하고, 지정된 숫자 3이 되면 StopIteration을 발생시켜서 반복을 끝냄\n",
        "\n",
        "![image.png](data:image/png;base64,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)"
      ],
      "metadata": {
        "id": "V5GQJbyZraEC"
      }
    },
    {
      "cell_type": "markdown",
      "source": [
        "틀래스에 __iter__와 __next__ 메서드를 모두 구현하면 이터레이터를 만들 수 있음\n",
        "\n",
        "득히, __iter__, __next__를 가진 객체를 이터레이터 프로토콜을 지원한다고 말함\n",
        "\n",
        "※ 반복 가능한 객체와 이터레이터는 별개의 객체\n",
        "\n",
        "즉, 반복 가능한 객체에서 __iter__메서드로 이터레이터를 얻음"
      ],
      "metadata": {
        "id": "_rwMrT_esiLy"
      }
    },
    {
      "cell_type": "markdown",
      "source": [
        "<참고>\n",
        "\n",
        "시퀀스 객체와 반복 가능한 객체의 차이\n",
        "\n",
        "- 리스트, 튜플, range, 문자열은 반복 가능한 객체이면서 시퀀스 객체이다. \n",
        "\n",
        "하지만, 딕셔너리와 세트는 반복 가능한 객체이지만 시퀀스 객체는 아니다. \n",
        "\n",
        "왜냐하면 시퀀스 객체는 요소의 순서가 정해져 있는 연속적으로 이어져 있어야하는데, 딕셔너리와 세트는 요소(키)의 순서가 정해져 있지 않기 때문이다.\n",
        "\n",
        "🎯🎯\n",
        "\n",
        "즉, 요소의 순서가 정해져 있고 연속적으로 이어져 있으면 시퀀스 객체, 요소의 순서와는 상관없이 요소를 한 번에 하나씩 꺼낼 수 있으면 반복 가능한 객체 "
      ],
      "metadata": {
        "id": "K0x83ds_tOSi"
      }
    },
    {
      "cell_type": "markdown",
      "source": [
        "- 이터레이터 만들기\n",
        "\n",
        "        class 이터레이터이름:\n",
        "            def __iter__(self):\n",
        "                  코드\n",
        "            def __next__(self):\n",
        "                  코드"
      ],
      "metadata": {
        "id": "5UInaA7oJnHB"
      }
    },
    {
      "cell_type": "code",
      "source": [
        "class Counter:\n",
        "  def __init__(self, stop):\n",
        "    self.current = 0 # 반복할 때마다 현재 숫자를 유지해야 하므로 속성에 0 넣어줘야 함\n",
        "    self.stop = stop\n",
        "  \n",
        "  def __iter__(self): # __iter__을 호출해줄 반복 가능한 객체가 없으므로 현재 인스턴스를 반환해야 함\n",
        "    return self       #  이 객체는 반복 가능한 객체이면서 이터레이터 \n",
        "  \n",
        "  def __next__(self):\n",
        "    if self.current < self.stop:\n",
        "      r = self.current\n",
        "\n",
        "      self.current += 1\n",
        "      return r\n",
        "    \n",
        "    else:\n",
        "      raise StopIteration\n",
        "\n",
        "for i in Counter(3):\n",
        "  print(i, end = ' ')"
      ],
      "metadata": {
        "colab": {
          "base_uri": "https://localhost:8080/"
        },
        "id": "0P7uB5Ovnttk",
        "outputId": "b1b74b40-0e0a-4a0a-e334-5f9194937151"
      },
      "execution_count": 8,
      "outputs": [
        {
          "output_type": "stream",
          "name": "stdout",
          "text": [
            "0 1 2 "
          ]
        }
      ]
    },
    {
      "cell_type": "markdown",
      "source": [
        "- 이터레이터 언패킹\n",
        "\n",
        "Counter()의 결과를 변수 여러 개에 할당 가능\n",
        "\n",
        "이터레이터가 반복하는 횟수와 변수의 개수는 일치해야 함"
      ],
      "metadata": {
        "id": "pB3eD5IZL-GH"
      }
    },
    {
      "cell_type": "code",
      "source": [
        "a, b, c = Counter(3)\n",
        "print(a, b, c)"
      ],
      "metadata": {
        "colab": {
          "base_uri": "https://localhost:8080/"
        },
        "id": "_WyL15JfLS9d",
        "outputId": "4d89c7b9-fe90-4e86-f5d3-6a8fa9c7e38c"
      },
      "execution_count": 9,
      "outputs": [
        {
          "output_type": "stream",
          "name": "stdout",
          "text": [
            "0 1 2\n"
          ]
        }
      ]
    },
    {
      "cell_type": "markdown",
      "source": [
        "<참고>\n",
        "\n",
        "map도 이터레이터\n",
        "\n",
        "a, b, c = map(int, input().split())처럼 언패킹으로 변수 여러 개에 값을 할당 할 수 있음"
      ],
      "metadata": {
        "id": "GDec3ebqMaw1"
      }
    },
    {
      "cell_type": "markdown",
      "source": [
        "<참고>\n",
        "\n",
        "반환값을 _에 저장하는 이유\n",
        "\n",
        "함수를 호출한 뒤 반환값을 저장할 때 _(밑줄 문자)를 사용하는 경우가 있음\n",
        "\n",
        "반환값을 언패킹했을 때 _에 할당하는 것은 특정 순서의 반환값 사용하지 않고 무시하겠다는 관례적 표현\n"
      ],
      "metadata": {
        "id": "Ne-pUEpSMk5s"
      }
    },
    {
      "cell_type": "code",
      "source": [
        "a,_,c,d = range(4)\n",
        "\n",
        "a,c,d"
      ],
      "metadata": {
        "colab": {
          "base_uri": "https://localhost:8080/"
        },
        "id": "1Vkqd01qMPj8",
        "outputId": "927db7e8-f7cb-429f-e866-3cdffe3f2e8e"
      },
      "execution_count": 10,
      "outputs": [
        {
          "output_type": "execute_result",
          "data": {
            "text/plain": [
              "(0, 2, 3)"
            ]
          },
          "metadata": {},
          "execution_count": 10
        }
      ]
    },
    {
      "cell_type": "markdown",
      "source": [
        "39.3 인덱스로 접근할 수 있는 이터레이터 만들기"
      ],
      "metadata": {
        "id": "r-cKV5o_M3sL"
      }
    },
    {
      "cell_type": "markdown",
      "source": [
        "        class 이터레이터이름:\n",
        "            def __getitem__(self, 인덱스):\n",
        "               코드"
      ],
      "metadata": {
        "id": "1iy9m2a8NCaw"
      }
    },
    {
      "cell_type": "code",
      "source": [
        "class Counter:\n",
        "  def __init__(self, stop):\n",
        "    self.stop = stop\n",
        "  \n",
        "  def __getitem__(self, index): # __iter__, __next__는 생략 가능, 초깃값이 없다면 __init__도 생략가능\n",
        "    if index < self.stop:\n",
        "      return index\n",
        "    else:\n",
        "      raise IndexError\n",
        "\n",
        "print(Counter(3)[0], Counter(3)[1], Counter(3)[2])\n",
        "\n",
        "for i in Counter(3):\n",
        "  print(i, end = ' ')"
      ],
      "metadata": {
        "colab": {
          "base_uri": "https://localhost:8080/"
        },
        "id": "UiUPHHqdM2Vj",
        "outputId": "e87e063d-0d96-45b8-af0a-79da0521eebc"
      },
      "execution_count": 11,
      "outputs": [
        {
          "output_type": "stream",
          "name": "stdout",
          "text": [
            "0 1 2\n",
            "0 1 2 "
          ]
        }
      ]
    },
    {
      "cell_type": "markdown",
      "source": [
        "39.4 iter, next 함수 활용하기"
      ],
      "metadata": {
        "id": "YLeI5t_cOl7Y"
      }
    },
    {
      "cell_type": "markdown",
      "source": [
        "iter : __iter__ 메서드를 호출 (반복 가능한 객체에서 이터레이터를 반환)\n",
        "\n",
        "next : 객체의 __next__ 메서드 호출 (이터레이터에서 값을 차례대로 꺼냄)"
      ],
      "metadata": {
        "id": "6ib0Tq0AOqFP"
      }
    },
    {
      "cell_type": "code",
      "source": [
        "it = iter(range(3))\n",
        "next(it)\n",
        "next(it)\n",
        "next(it)"
      ],
      "metadata": {
        "colab": {
          "base_uri": "https://localhost:8080/"
        },
        "id": "MBU6sOiqNmxe",
        "outputId": "ffdd273c-406b-4ca5-ff1e-52755ee0b38b"
      },
      "execution_count": 13,
      "outputs": [
        {
          "output_type": "execute_result",
          "data": {
            "text/plain": [
              "2"
            ]
          },
          "metadata": {},
          "execution_count": 13
        }
      ]
    },
    {
      "cell_type": "markdown",
      "source": [
        "iter : 반복을 끝낼 값을 지정하면 특정 값이 나올 때 반복을 끝냄\n",
        "\n",
        "반복 가능한 객체 대신 호출 가능한 개체를 넣어줌\n",
        "\n",
        "sentinel : 반복을 끝낼 값\n",
        "\n",
        "            iter(호출가능한객체, 반복을끝낼값)"
      ],
      "metadata": {
        "id": "s8dZAQyaPXTh"
      }
    },
    {
      "cell_type": "code",
      "source": [
        "import random\n",
        "\n",
        "it = iter(lambda : random.randint(0,5),2) # 호출 가능한 객체를 넣어야 하므로 \n",
        "                                          # 매개 변수가 없는 함수 또는 람다 표현식으로 만듦\n",
        "\n",
        "print(next(it))\n",
        "print(next(it))\n",
        "print(next(it))\n",
        "print(next(it))\n",
        "print(next(it))"
      ],
      "metadata": {
        "colab": {
          "base_uri": "https://localhost:8080/",
          "height": 282
        },
        "id": "Gmep7gc_O6IW",
        "outputId": "cdfdea24-4b6a-413a-aa67-340bb710cfad"
      },
      "execution_count": 17,
      "outputs": [
        {
          "output_type": "stream",
          "name": "stdout",
          "text": [
            "1\n",
            "1\n",
            "5\n",
            "0\n"
          ]
        },
        {
          "output_type": "error",
          "ename": "StopIteration",
          "evalue": "ignored",
          "traceback": [
            "\u001b[0;31m---------------------------------------------------------------------------\u001b[0m",
            "\u001b[0;31mStopIteration\u001b[0m                             Traceback (most recent call last)",
            "\u001b[0;32m<ipython-input-17-143c4d95f342>\u001b[0m in \u001b[0;36m<module>\u001b[0;34m\u001b[0m\n\u001b[1;32m      8\u001b[0m \u001b[0mprint\u001b[0m\u001b[0;34m(\u001b[0m\u001b[0mnext\u001b[0m\u001b[0;34m(\u001b[0m\u001b[0mit\u001b[0m\u001b[0;34m)\u001b[0m\u001b[0;34m)\u001b[0m\u001b[0;34m\u001b[0m\u001b[0;34m\u001b[0m\u001b[0m\n\u001b[1;32m      9\u001b[0m \u001b[0mprint\u001b[0m\u001b[0;34m(\u001b[0m\u001b[0mnext\u001b[0m\u001b[0;34m(\u001b[0m\u001b[0mit\u001b[0m\u001b[0;34m)\u001b[0m\u001b[0;34m)\u001b[0m\u001b[0;34m\u001b[0m\u001b[0;34m\u001b[0m\u001b[0m\n\u001b[0;32m---> 10\u001b[0;31m \u001b[0mprint\u001b[0m\u001b[0;34m(\u001b[0m\u001b[0mnext\u001b[0m\u001b[0;34m(\u001b[0m\u001b[0mit\u001b[0m\u001b[0;34m)\u001b[0m\u001b[0;34m)\u001b[0m\u001b[0;34m\u001b[0m\u001b[0;34m\u001b[0m\u001b[0m\n\u001b[0m",
            "\u001b[0;31mStopIteration\u001b[0m: "
          ]
        }
      ]
    },
    {
      "cell_type": "code",
      "source": [
        "import random \n",
        "for i in iter(lambda : random.randint(0,5), 2):\n",
        "  print(i, end = ' ')\n",
        "  "
      ],
      "metadata": {
        "colab": {
          "base_uri": "https://localhost:8080/"
        },
        "id": "vSNdC-xTQKyT",
        "outputId": "1e627253-bcbf-457d-b779-d1ed11aa1753"
      },
      "execution_count": 18,
      "outputs": [
        {
          "output_type": "stream",
          "name": "stdout",
          "text": [
            "3 1 1 4 "
          ]
        }
      ]
    },
    {
      "cell_type": "code",
      "source": [
        "import random\n",
        "while True:\n",
        "  i = random.randint(0,5)\n",
        "  if i == 2 :\n",
        "    break\n",
        "  else:\n",
        "    print(i, end = ' ')"
      ],
      "metadata": {
        "colab": {
          "base_uri": "https://localhost:8080/"
        },
        "id": "2u0Jz-tnQ6nl",
        "outputId": "720606d5-c42c-465c-81ae-8aae33cc1cf2"
      },
      "execution_count": 20,
      "outputs": [
        {
          "output_type": "stream",
          "name": "stdout",
          "text": [
            "5 "
          ]
        }
      ]
    },
    {
      "cell_type": "markdown",
      "source": [
        "next : 기본값 지정 가능\n",
        "\n",
        "기본값을 지정하면 반복이 끝나더라도 StopIteration이 발생하지 않고 기본값을 출력함\n",
        "\n",
        "즉, 반복할 수 있을 때는 해당 값을 출력하고, 반복이 끝났을 때는 기본값을 출력함.\n",
        "\n",
        "        next(반복가능한객체, 기본값)"
      ],
      "metadata": {
        "id": "8XQ7OKupRPET"
      }
    },
    {
      "cell_type": "code",
      "source": [
        "it = iter(range(3))\n",
        "\n",
        "print(next(it,10))\n",
        "print(next(it,10))\n",
        "print(next(it,10))\n",
        "print(next(it,10))\n",
        "print(next(it,10))\n"
      ],
      "metadata": {
        "colab": {
          "base_uri": "https://localhost:8080/"
        },
        "id": "uaprA1PmRMDd",
        "outputId": "48436f19-2134-47f2-cf20-54a0e12d81b7"
      },
      "execution_count": 21,
      "outputs": [
        {
          "output_type": "stream",
          "name": "stdout",
          "text": [
            "0\n",
            "1\n",
            "2\n",
            "10\n",
            "10\n"
          ]
        }
      ]
    },
    {
      "cell_type": "code",
      "source": [
        "class MultipleIterator:\n",
        "    def __init__(self, stop, multiple):\n",
        "      self.stop = stop\n",
        "      self.multiple = multiple\n",
        "      self.current = 0     \n",
        "                                 \n",
        " \n",
        "    def __iter__(self):\n",
        "        return self\n",
        " \n",
        "    def __next__(self):\n",
        "      self.current += 1\n",
        "      if self.current * self.multiple < self.stop:\n",
        "        return self.current * self.multiple\n",
        "      else:\n",
        "        raise StopIteration    \n",
        "                                                     \n",
        " \n",
        "for i in MultipleIterator(20, 3):\n",
        "    print(i, end=' ')\n",
        " \n",
        "print()\n",
        "for i in MultipleIterator(30, 5):\n",
        "    print(i, end=' ')"
      ],
      "metadata": {
        "colab": {
          "base_uri": "https://localhost:8080/"
        },
        "id": "CQW4zvNuRtyF",
        "outputId": "4de5dbf2-900a-45e7-acdc-08c746da1b29"
      },
      "execution_count": 26,
      "outputs": [
        {
          "output_type": "stream",
          "name": "stdout",
          "text": [
            "3 6 9 12 15 18 \n",
            "5 10 15 20 25 "
          ]
        }
      ]
    },
    {
      "cell_type": "markdown",
      "source": [
        "연습문제)\n",
        "\n",
        "표준 입력으로 정수 세 개가 입력됩니다(첫 번째 정수는 시작하는 초, 두 번째 정수는 반복을 끝낼 초, 세 번째 정수는 인덱스이며 입력되는 초의 범위는 0-100000, 입력되는 인덱스의 범위는 0-10입니다). 다음 소스 코드에서 시간 값을 생성하는 이터레이터를 만드세요.\n",
        "\n",
        "- 시간 값은 문자열이고 시:분:초 형식입니다. 만약 숫자가 한 자리일 경우 앞에 0을 붙입니다(예: 12:01:08).\n",
        "- 1초는 00:00:01입니다. 23:59:59를 넘길 경우 00:00:00부터 다시 시작해야 합니다.\n",
        "- 시간은 반복을 끝낼 초 직전까지만 출력해야 합니다(반복을 끝낼 초는 포함되지 않음)."
      ],
      "metadata": {
        "id": "Y_4yQal7aGnN"
      }
    },
    {
      "cell_type": "code",
      "source": [
        "class TimeIterator:\n",
        "  def __init__(self,start,stop):\n",
        "    self.start = start\n",
        "    self.stop = stop\n",
        "  \n",
        "  def __getitem__(self,index):\n",
        "    if index < self.stop - self.start:\n",
        "      hour = (self.start + index) // 60 // 60 % 24\n",
        "      minute = (self.start + index) // 60 % 60\n",
        "      second = (self.start + index) % 60\n",
        "      return '{0:02d}:{1:02d}:{2:02d}'.format(hour,minute,second)\n",
        "    else:\n",
        "      raise IndexError\n",
        "\n",
        "\n",
        "\n",
        "start, stop, index = map(int, input().split())\n",
        " \n",
        "for i in TimeIterator(start, stop):\n",
        "    print(i)\n",
        " \n",
        "print('\\n', TimeIterator(start, stop)[index], sep='')"
      ],
      "metadata": {
        "colab": {
          "base_uri": "https://localhost:8080/"
        },
        "id": "Ncc5Vi19ZV8a",
        "outputId": "2dd742de-a788-4a2c-f78c-ec6fcce71f52"
      },
      "execution_count": 30,
      "outputs": [
        {
          "output_type": "stream",
          "name": "stdout",
          "text": [
            "0 3 2\n",
            "00:00:00\n",
            "00:00:01\n",
            "00:00:02\n",
            "\n",
            "00:00:02\n"
          ]
        }
      ]
    }
  ]
}