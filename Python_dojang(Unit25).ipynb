{
  "nbformat": 4,
  "nbformat_minor": 0,
  "metadata": {
    "colab": {
      "provenance": [],
      "authorship_tag": "ABX9TyN6qlJN23fQY4nJIrpymsHx",
      "include_colab_link": true
    },
    "kernelspec": {
      "name": "python3",
      "display_name": "Python 3"
    },
    "language_info": {
      "name": "python"
    }
  },
  "cells": [
    {
      "cell_type": "markdown",
      "metadata": {
        "id": "view-in-github",
        "colab_type": "text"
      },
      "source": [
        "<a href=\"https://colab.research.google.com/github/imymemineyay/Study_Python/blob/main/Python_dojang(Unit25).ipynb\" target=\"_parent\"><img src=\"https://colab.research.google.com/assets/colab-badge.svg\" alt=\"Open In Colab\"/></a>"
      ]
    },
    {
      "cell_type": "markdown",
      "source": [
        "## **Unit 25.  딕셔너리 응용하기**"
      ],
      "metadata": {
        "id": "L2ExTQFCNJGL"
      }
    },
    {
      "cell_type": "markdown",
      "source": [
        "25.1 딕셔너리 키와 기본값 저장"
      ],
      "metadata": {
        "id": "1Y4NbbBWrkCJ"
      }
    },
    {
      "cell_type": "markdown",
      "source": [
        "- setdefault(키) : 딕셔너리에 키-값 쌍 추가, 키만 지정하면 값에 None 저장\n",
        "- setdefault(키, 기본값) : 값에 기본값을 저장한 뒤 해당 값을 반환\n"
      ],
      "metadata": {
        "id": "quRW7eIcqPZI"
      }
    },
    {
      "cell_type": "code",
      "source": [
        "x = {'a': 10, 'b': 20, 'c': 30, 'd': 40}\n",
        "x.setdefault('e')\n",
        "print(x)\n",
        "\n",
        "x.setdefault('f', 100)\n",
        "print(x)"
      ],
      "metadata": {
        "colab": {
          "base_uri": "https://localhost:8080/"
        },
        "id": "Z0WSaPqHNO8c",
        "outputId": "1d96eb3c-29b4-4ca4-d001-8cde34ddc31f"
      },
      "execution_count": 3,
      "outputs": [
        {
          "output_type": "stream",
          "name": "stdout",
          "text": [
            "{'a': 10, 'b': 20, 'c': 30, 'd': 40, 'e': None}\n",
            "{'a': 10, 'b': 20, 'c': 30, 'd': 40, 'e': None, 'f': 100}\n"
          ]
        }
      ]
    },
    {
      "cell_type": "markdown",
      "source": [
        "25.2 딕셔너리에 키의 값 수정"
      ],
      "metadata": {
        "id": "fLtUjLkFrjeG"
      }
    },
    {
      "cell_type": "markdown",
      "source": [
        "- update(키 = 값) : 키의 값 수정 🐾단, 키가 문자열일 경우"
      ],
      "metadata": {
        "id": "ZXblZ796rsqC"
      }
    },
    {
      "cell_type": "code",
      "source": [
        "x = {'a': 10, 'b': 20, 'c': 30, 'd': 40}\n",
        "x.update(a=90)\n",
        "print(x)\n",
        "\n",
        "x.update(a=900, f=60) # 쌍 여러 개를 콤마로 구분해서 넣어주면 값을 한꺼번에 수정 가능\n",
        "print(x)"
      ],
      "metadata": {
        "colab": {
          "base_uri": "https://localhost:8080/"
        },
        "id": "ZQk_EAMWrfKu",
        "outputId": "1ef2fd87-5073-44bd-f775-56a1794bd604"
      },
      "execution_count": 5,
      "outputs": [
        {
          "output_type": "stream",
          "name": "stdout",
          "text": [
            "{'a': 90, 'b': 20, 'c': 30, 'd': 40}\n",
            "{'a': 900, 'b': 20, 'c': 30, 'd': 40, 'f': 60}\n"
          ]
        }
      ]
    },
    {
      "cell_type": "markdown",
      "source": [
        "- update(딕셔너리) : 키가 숫자일 경우의 값 수정 방법\n"
      ],
      "metadata": {
        "id": "Y1gFQaqlsMgG"
      }
    },
    {
      "cell_type": "code",
      "source": [
        "y = {1: 'one', 2: 'two'}\n",
        "y.update({1: 'ONE', 3: 'THREE'})\n",
        "print(y)"
      ],
      "metadata": {
        "colab": {
          "base_uri": "https://localhost:8080/"
        },
        "id": "c8pmB3cdr7dI",
        "outputId": "f9aa77ce-1e42-408b-86c1-589186481691"
      },
      "execution_count": 6,
      "outputs": [
        {
          "output_type": "stream",
          "name": "stdout",
          "text": [
            "{1: 'ONE', 2: 'two', 3: 'THREE'}\n"
          ]
        }
      ]
    },
    {
      "cell_type": "markdown",
      "source": [
        "- update(리스트), update(튜플) : 리스트, 튜플로 값 수정\n",
        "- 리스트는 [[키1, 값1], [키2, 값2]] 형식으로 만들어줘야함 (튜플도 마찬가지)\n"
      ],
      "metadata": {
        "id": "8iItWJ68sf2a"
      }
    },
    {
      "cell_type": "code",
      "source": [
        "y = {1: 'one', 2: 'two'}\n",
        "\n",
        "y.update([[2, 'TWO'], [4, 'FOUR']])\n",
        "print(y)"
      ],
      "metadata": {
        "colab": {
          "base_uri": "https://localhost:8080/"
        },
        "id": "GbBz2A2XsYXU",
        "outputId": "1b5040d5-2ab6-4125-cb14-f8e5eddbcff9"
      },
      "execution_count": 7,
      "outputs": [
        {
          "output_type": "stream",
          "name": "stdout",
          "text": [
            "{1: 'one', 2: 'TWO', 4: 'FOUR'}\n"
          ]
        }
      ]
    },
    {
      "cell_type": "code",
      "source": [
        "k = {'다나카' : 'character', '국적' : 'japan'}\n",
        "\n",
        "k.update((('다나카','축구선수'),('국적','한국')))\n",
        "print(k)"
      ],
      "metadata": {
        "colab": {
          "base_uri": "https://localhost:8080/"
        },
        "id": "5njTnINwtwxf",
        "outputId": "bf979af0-e707-4af0-a407-fb4f1b63fc3d"
      },
      "execution_count": 10,
      "outputs": [
        {
          "output_type": "stream",
          "name": "stdout",
          "text": [
            "{'다나카': '축구선수', '국적': '한국'}\n"
          ]
        }
      ]
    },
    {
      "cell_type": "markdown",
      "source": [
        "- update(반복가능한 객체) <br>\n",
        ": 키-값 쌍으로 된 반복 가능한 객체로 값을 수정 <br>\n",
        "즉, 키 리스트와 값 리스트를 묶은 zip객체로 값 수정 가능"
      ],
      "metadata": {
        "id": "2HMhkkw4tHIx"
      }
    },
    {
      "cell_type": "code",
      "source": [
        "y = {1: 'one', 2: 'two'}\n",
        "\n",
        "y.update(zip([1,2],['One','Two']))\n",
        "print(y)"
      ],
      "metadata": {
        "colab": {
          "base_uri": "https://localhost:8080/"
        },
        "id": "dteKOZXRtHhf",
        "outputId": "980185ff-cbab-444e-ec6e-bcb82e3b3b08"
      },
      "execution_count": 13,
      "outputs": [
        {
          "output_type": "stream",
          "name": "stdout",
          "text": [
            "{1: 'One', 2: 'Two'}\n"
          ]
        }
      ]
    },
    {
      "cell_type": "markdown",
      "source": [
        "<참고><BR>\n",
        "\n",
        "**setdefault와 update의 차이**\n",
        "<br>\n",
        "\n",
        "setdefault는 키-값 쌍 추가만 할 수 있고, 이미 들어있는 키의 값은 수정할 수 없다. <br>\n",
        "update는 키- 값 쌍 추가와 값 수정이 모두 가능하다"
      ],
      "metadata": {
        "id": "_e13XNDcugTR"
      }
    },
    {
      "cell_type": "markdown",
      "source": [
        "25.3 딕셔너리 키-값 쌍 삭제하기"
      ],
      "metadata": {
        "id": "b6Zka-03_EB0"
      }
    },
    {
      "cell_type": "markdown",
      "source": [
        "- pop(키) : 특정 키-값 쌍을 삭제한 뒤 삭제한 값을 반환\n",
        "- pop(키, 기본값) : 기본값을 지정하면 딕셔너리에 키가 있을 때는 해당 키-값 쌍을 삭제한 뒤 삭제한 값을 반환하지만 키가 없을 때는 기본값만 반환"
      ],
      "metadata": {
        "id": "9AH-M_Mi_H7h"
      }
    },
    {
      "cell_type": "code",
      "source": [
        "x = {'a': 10, 'b': 20, 'c': 30, 'd': 40}\n",
        "print(x.pop('a'))\n",
        "print(x)"
      ],
      "metadata": {
        "colab": {
          "base_uri": "https://localhost:8080/"
        },
        "id": "WTl6Gh_Kuaz2",
        "outputId": "8e69e1b4-92d2-4ce2-cff5-24a85264fd2e"
      },
      "execution_count": 15,
      "outputs": [
        {
          "output_type": "stream",
          "name": "stdout",
          "text": [
            "10\n",
            "{'b': 20, 'c': 30, 'd': 40}\n"
          ]
        }
      ]
    },
    {
      "cell_type": "code",
      "source": [
        "x.pop('z', 0) # 딕셔너리에는 'z'가 없으므로 기본값으로 지정한 0 반환"
      ],
      "metadata": {
        "colab": {
          "base_uri": "https://localhost:8080/"
        },
        "id": "MIr1OZ04_YX3",
        "outputId": "b5577d87-9e4f-444a-86ac-7f31f56d9775"
      },
      "execution_count": 17,
      "outputs": [
        {
          "output_type": "execute_result",
          "data": {
            "text/plain": [
              "0"
            ]
          },
          "metadata": {},
          "execution_count": 17
        }
      ]
    },
    {
      "cell_type": "markdown",
      "source": [
        "- del 변수['키']"
      ],
      "metadata": {
        "id": "t64PzYk6_rLq"
      }
    },
    {
      "cell_type": "code",
      "source": [
        "x = {'a': 10, 'b': 20, 'c': 30, 'd': 40}\n",
        "del x['a']\n",
        "print(x)"
      ],
      "metadata": {
        "colab": {
          "base_uri": "https://localhost:8080/"
        },
        "id": "ByDIwD8i_fpM",
        "outputId": "8df1a0a6-f595-4eb4-d581-04d7d1550739"
      },
      "execution_count": 18,
      "outputs": [
        {
          "output_type": "stream",
          "name": "stdout",
          "text": [
            "{'b': 20, 'c': 30, 'd': 40}\n"
          ]
        }
      ]
    },
    {
      "cell_type": "markdown",
      "source": [
        "- popitem() : 임의의 키-값 쌍을 삭제한 뒤 삭제한 키-값 쌍을 튜플로 반환 <br>\n",
        "파이썬 3.6 이상에서는 마지막 키-값 쌍을 삭제"
      ],
      "metadata": {
        "id": "4QVjcpvtAXwY"
      }
    },
    {
      "cell_type": "code",
      "source": [
        "  x = {'a': 10, 'b': 20, 'c': 30, 'd': 40}\n",
        "  print(x.popitem())\n",
        "  print(x)"
      ],
      "metadata": {
        "colab": {
          "base_uri": "https://localhost:8080/"
        },
        "id": "XDLupy_p_20F",
        "outputId": "8817c194-abb2-41eb-9877-b49bfd4bb20f"
      },
      "execution_count": 1,
      "outputs": [
        {
          "output_type": "stream",
          "name": "stdout",
          "text": [
            "('d', 40)\n",
            "{'a': 10, 'b': 20, 'c': 30}\n"
          ]
        }
      ]
    },
    {
      "cell_type": "markdown",
      "source": [
        "- clear() : 딕셔너리의 모든 키-값 쌍을 삭제"
      ],
      "metadata": {
        "id": "ej8P2-AJIh3N"
      }
    },
    {
      "cell_type": "code",
      "source": [
        "x = {'a': 10, 'b': 20, 'c': 30, 'd': 40}\n",
        "x.clear()\n",
        "x"
      ],
      "metadata": {
        "colab": {
          "base_uri": "https://localhost:8080/"
        },
        "id": "89_8tZHXIYur",
        "outputId": "db321dca-157e-4718-f1cd-9e96f6f3be48"
      },
      "execution_count": 2,
      "outputs": [
        {
          "output_type": "execute_result",
          "data": {
            "text/plain": [
              "{}"
            ]
          },
          "metadata": {},
          "execution_count": 2
        }
      ]
    },
    {
      "cell_type": "markdown",
      "source": [
        "25.4 딕셔너리에서 키의 값을 가져오기"
      ],
      "metadata": {
        "id": "vMuL5ZdcIriL"
      }
    },
    {
      "cell_type": "markdown",
      "source": [
        "- get(키) : 딕셔너리에서 특정 키의 값 추출\n",
        "- get(키, 기본값) : 키가 있을 때는 해당 키의 값을 반환하지만 키가 없을 때는 0을 반환함"
      ],
      "metadata": {
        "id": "j8vQOUokIv4g"
      }
    },
    {
      "cell_type": "code",
      "source": [
        " x = {'a': 10, 'b': 20, 'c': 30, 'd': 40}\n",
        " x.get('a')"
      ],
      "metadata": {
        "colab": {
          "base_uri": "https://localhost:8080/"
        },
        "id": "LSG08P25IpuU",
        "outputId": "bc587791-0b66-4f1f-c13a-0b73f43b2fa5"
      },
      "execution_count": 3,
      "outputs": [
        {
          "output_type": "execute_result",
          "data": {
            "text/plain": [
              "10"
            ]
          },
          "metadata": {},
          "execution_count": 3
        }
      ]
    },
    {
      "cell_type": "code",
      "source": [
        "x.get('z',0)"
      ],
      "metadata": {
        "colab": {
          "base_uri": "https://localhost:8080/"
        },
        "id": "eeRJYZPmN6j_",
        "outputId": "08b8d0df-e818-4c8b-ce12-3e49aa25c6ec"
      },
      "execution_count": 4,
      "outputs": [
        {
          "output_type": "execute_result",
          "data": {
            "text/plain": [
              "0"
            ]
          },
          "metadata": {},
          "execution_count": 4
        }
      ]
    },
    {
      "cell_type": "markdown",
      "source": [
        "25.5 딕셔너리에서 키-값 쌍을 모두 가져오기"
      ],
      "metadata": {
        "id": "fdZOdAqWOHUy"
      }
    },
    {
      "cell_type": "markdown",
      "source": [
        "- items : 키-값 쌍을 모두 가져옴\n",
        "- keys : 키를 모두 가져옴\n",
        "- values : 값을 모두 가져옴"
      ],
      "metadata": {
        "id": "APdVQjfhOLGo"
      }
    },
    {
      "cell_type": "code",
      "source": [
        "x = {'a': 10, 'b': 20, 'c': 30, 'd': 40}\n",
        "x.items()"
      ],
      "metadata": {
        "colab": {
          "base_uri": "https://localhost:8080/"
        },
        "id": "guPULw-0OFa8",
        "outputId": "e25118a9-d9ff-4c7c-b214-ae83ae2edc33"
      },
      "execution_count": 5,
      "outputs": [
        {
          "output_type": "execute_result",
          "data": {
            "text/plain": [
              "dict_items([('a', 10), ('b', 20), ('c', 30), ('d', 40)])"
            ]
          },
          "metadata": {},
          "execution_count": 5
        }
      ]
    },
    {
      "cell_type": "code",
      "source": [
        "x.keys()"
      ],
      "metadata": {
        "colab": {
          "base_uri": "https://localhost:8080/"
        },
        "id": "CdZZsA0MOVkk",
        "outputId": "242cafb5-ea0b-4270-89bb-63e143f53354"
      },
      "execution_count": 6,
      "outputs": [
        {
          "output_type": "execute_result",
          "data": {
            "text/plain": [
              "dict_keys(['a', 'b', 'c', 'd'])"
            ]
          },
          "metadata": {},
          "execution_count": 6
        }
      ]
    },
    {
      "cell_type": "code",
      "source": [
        "x.values()"
      ],
      "metadata": {
        "colab": {
          "base_uri": "https://localhost:8080/"
        },
        "id": "c5FcyJC2OW4m",
        "outputId": "1f4391f3-152b-4244-919b-5e2bc8ba30f9"
      },
      "execution_count": 7,
      "outputs": [
        {
          "output_type": "execute_result",
          "data": {
            "text/plain": [
              "dict_values([10, 20, 30, 40])"
            ]
          },
          "metadata": {},
          "execution_count": 7
        }
      ]
    },
    {
      "cell_type": "markdown",
      "source": [
        "25.6 리스트와 튜플로 딕셔너리 만들기"
      ],
      "metadata": {
        "id": "gE_0HFCAOY8J"
      }
    },
    {
      "cell_type": "markdown",
      "source": [
        "- dict.fromkeys(키리스트) : 키 리스트로 딕셔너리를 생성하며 값은 모두 None으로 저장\n",
        "- dict.fromkeys(키리스트, 값) : 키리스트와 값을 지정하면 해당 값이 키의 값으로 저장됨"
      ],
      "metadata": {
        "id": "x5bCeZZROe2X"
      }
    },
    {
      "cell_type": "code",
      "source": [
        "keys = ['a', 'b', 'c', 'd']\n",
        "x = dict.fromkeys(keys)\n",
        "print(x)"
      ],
      "metadata": {
        "colab": {
          "base_uri": "https://localhost:8080/"
        },
        "id": "s12HmX6JOYR0",
        "outputId": "299e7e0a-b2f8-47ea-83c8-5a3b0272c5dc"
      },
      "execution_count": 8,
      "outputs": [
        {
          "output_type": "stream",
          "name": "stdout",
          "text": [
            "{'a': None, 'b': None, 'c': None, 'd': None}\n"
          ]
        }
      ]
    },
    {
      "cell_type": "code",
      "source": [
        "y = dict.fromkeys(keys, 100)\n",
        "y"
      ],
      "metadata": {
        "colab": {
          "base_uri": "https://localhost:8080/"
        },
        "id": "D71LYIBAOxJH",
        "outputId": "97c8e646-1cac-40f8-e8e5-8508cdadb5b4"
      },
      "execution_count": 9,
      "outputs": [
        {
          "output_type": "execute_result",
          "data": {
            "text/plain": [
              "{'a': 100, 'b': 100, 'c': 100, 'd': 100}"
            ]
          },
          "metadata": {},
          "execution_count": 9
        }
      ]
    },
    {
      "cell_type": "markdown",
      "source": [
        "<참고> <br>\n",
        "defaultdict 사용하기 <br>\n",
        "defaultdict을 사용하면 없는 키에 접근하더라도 에러가 발생하지 않으며 기본값을 반환함\n",
        "- defaultdict(기본값생성함수) "
      ],
      "metadata": {
        "id": "LfQJqSDNO6Rj"
      }
    },
    {
      "cell_type": "code",
      "source": [
        "from collections import defaultdict    # collections 모듈에서 defaultdict를 가져옴\n",
        "y = defaultdict(int) # int로 기본값 생성"
      ],
      "metadata": {
        "id": "a8doKjG8O0yI"
      },
      "execution_count": 10,
      "outputs": []
    },
    {
      "cell_type": "code",
      "source": [
        "y['z'] # int 는 실수나 문자열을 정수로 변환하지만 아무것도 넣지 않고 호출할 시 0을 반환함"
      ],
      "metadata": {
        "colab": {
          "base_uri": "https://localhost:8080/"
        },
        "id": "-NnDmYPkPaVB",
        "outputId": "a550b932-33ee-4d03-9563-8750120071bc"
      },
      "execution_count": 11,
      "outputs": [
        {
          "output_type": "execute_result",
          "data": {
            "text/plain": [
              "0"
            ]
          },
          "metadata": {},
          "execution_count": 11
        }
      ]
    },
    {
      "cell_type": "code",
      "source": [
        "z = defaultdict(lambda: 'python') # 특정 값을 반환하는 함수를 만들 시 특정 값이 나옴\n",
        "print(z['a'])\n",
        "print(z[0]) "
      ],
      "metadata": {
        "colab": {
          "base_uri": "https://localhost:8080/"
        },
        "id": "rvVH_0jNPktY",
        "outputId": "cbe21610-25b3-49c3-da1c-45e2775049ce"
      },
      "execution_count": 12,
      "outputs": [
        {
          "output_type": "stream",
          "name": "stdout",
          "text": [
            "python\n",
            "python\n"
          ]
        }
      ]
    },
    {
      "cell_type": "markdown",
      "source": [
        "25.7 for 반복문을 사용하여 모든 키-쌍 출력"
      ],
      "metadata": {
        "id": "b6T0R15oP5DM"
      }
    },
    {
      "cell_type": "code",
      "source": [
        "x = {'a': 10, 'b': 20, 'c': 30, 'd': 40}\n",
        "for key, value in x.items():\n",
        "  print(key,value)"
      ],
      "metadata": {
        "colab": {
          "base_uri": "https://localhost:8080/"
        },
        "id": "Cuib6qlPP2iN",
        "outputId": "c5fe6097-6228-4ac6-b51d-03c20acf3e2e"
      },
      "execution_count": 13,
      "outputs": [
        {
          "output_type": "stream",
          "name": "stdout",
          "text": [
            "a 10\n",
            "b 20\n",
            "c 30\n",
            "d 40\n"
          ]
        }
      ]
    },
    {
      "cell_type": "code",
      "source": [
        "for key, value in {'a': 10, 'b': 20, 'c': 30, 'd': 40}.items():\n",
        "  print(key,value)"
      ],
      "metadata": {
        "colab": {
          "base_uri": "https://localhost:8080/"
        },
        "id": "kA12ESevQEXm",
        "outputId": "c9ac6fce-a2e7-487c-c6ed-b7aff76bcb30"
      },
      "execution_count": 14,
      "outputs": [
        {
          "output_type": "stream",
          "name": "stdout",
          "text": [
            "a 10\n",
            "b 20\n",
            "c 30\n",
            "d 40\n"
          ]
        }
      ]
    },
    {
      "cell_type": "markdown",
      "source": [
        "25.8 딕셔너리의 키만 출력\n",
        "- items: 키-값 쌍을 모두 가져옴\n",
        "- keys: 키를 모두 가져옴\n",
        "- values: 값을 모두 가져옴"
      ],
      "metadata": {
        "id": "n24LYpCqQSRm"
      }
    },
    {
      "cell_type": "code",
      "source": [
        "x = {'a': 10, 'b': 20, 'c': 30, 'd': 40}\n",
        "for key in x.keys():\n",
        "  print(key,end=' ')"
      ],
      "metadata": {
        "colab": {
          "base_uri": "https://localhost:8080/"
        },
        "id": "ar0M4JLoQNTt",
        "outputId": "c78e20a1-a19b-4bc7-b108-46941589ba19"
      },
      "execution_count": 15,
      "outputs": [
        {
          "output_type": "stream",
          "name": "stdout",
          "text": [
            "a b c d "
          ]
        }
      ]
    },
    {
      "cell_type": "markdown",
      "source": [
        "25.9 딕셔너리의 값만 출력"
      ],
      "metadata": {
        "id": "ds4J16rWQitt"
      }
    },
    {
      "cell_type": "code",
      "source": [
        "x = {'a': 10, 'b': 20, 'c': 30, 'd': 40}\n",
        "for value in x.values():\n",
        "  print(value, end=' ')"
      ],
      "metadata": {
        "colab": {
          "base_uri": "https://localhost:8080/"
        },
        "id": "uaGcDgvLQhAX",
        "outputId": "6ef16029-3498-4e98-b36e-2c14e31bd5f2"
      },
      "execution_count": 16,
      "outputs": [
        {
          "output_type": "stream",
          "name": "stdout",
          "text": [
            "10 20 30 40 "
          ]
        }
      ]
    },
    {
      "cell_type": "markdown",
      "source": [
        "25.10 딕셔너리 표현식\n",
        "- {키: 값 for 키, 값 in 딕셔너리}\n",
        "- dict({키: 값 for 키, 값 in 딕셔너리})"
      ],
      "metadata": {
        "id": "pWDMPwN6Qwuh"
      }
    },
    {
      "cell_type": "code",
      "source": [
        "keys = ['a', 'b', 'c', 'd']\n",
        "x = {key: value for key, value in dict.fromkeys(keys).items()}\n",
        "print(x)"
      ],
      "metadata": {
        "colab": {
          "base_uri": "https://localhost:8080/"
        },
        "id": "-PjLO46gQqYZ",
        "outputId": "3f8fd92e-9c5d-4411-f0c4-e44ecc583df3"
      },
      "execution_count": 17,
      "outputs": [
        {
          "output_type": "stream",
          "name": "stdout",
          "text": [
            "{'a': None, 'b': None, 'c': None, 'd': None}\n"
          ]
        }
      ]
    },
    {
      "cell_type": "code",
      "source": [
        "x = {key: value for key, value in dict.fromkeys(keys).items()}\n",
        "print(x)"
      ],
      "metadata": {
        "colab": {
          "base_uri": "https://localhost:8080/"
        },
        "id": "wpZlgsDeRR_J",
        "outputId": "0f54ac26-51e6-4869-8528-ca0169bab881"
      },
      "execution_count": 19,
      "outputs": [
        {
          "output_type": "stream",
          "name": "stdout",
          "text": [
            "{'a': None, 'b': None, 'c': None, 'd': None}\n"
          ]
        }
      ]
    },
    {
      "cell_type": "code",
      "source": [
        "{key: 0 for key in dict.fromkeys(['a', 'b', 'c', 'd']).keys()}               # 키만 가져옴"
      ],
      "metadata": {
        "colab": {
          "base_uri": "https://localhost:8080/"
        },
        "id": "k0QGsdq2Rbmr",
        "outputId": "d4e60412-9199-46be-8a5c-4aa0b9904ce3"
      },
      "execution_count": 20,
      "outputs": [
        {
          "output_type": "execute_result",
          "data": {
            "text/plain": [
              "{'a': 0, 'b': 0, 'c': 0, 'd': 0}"
            ]
          },
          "metadata": {},
          "execution_count": 20
        }
      ]
    },
    {
      "cell_type": "code",
      "source": [
        "{value: 0 for value in {'a': 10, 'b': 20, 'c': 30, 'd': 40}.values()}        # 값을 키로 사용"
      ],
      "metadata": {
        "colab": {
          "base_uri": "https://localhost:8080/"
        },
        "id": "Dc-inVo0RpR9",
        "outputId": "77d43ac8-d477-4187-e03a-b2794574c5e1"
      },
      "execution_count": 21,
      "outputs": [
        {
          "output_type": "execute_result",
          "data": {
            "text/plain": [
              "{10: 0, 20: 0, 30: 0, 40: 0}"
            ]
          },
          "metadata": {},
          "execution_count": 21
        }
      ]
    },
    {
      "cell_type": "code",
      "source": [
        "{value: key for key, value in {'a': 10, 'b': 20, 'c': 30, 'd': 40}.items()}  # 키-값 자리를 바꿈"
      ],
      "metadata": {
        "colab": {
          "base_uri": "https://localhost:8080/"
        },
        "id": "1Ik8Ms8-Rsj3",
        "outputId": "e7d8c84b-fee4-4064-d8f2-625ef9558f88"
      },
      "execution_count": 22,
      "outputs": [
        {
          "output_type": "execute_result",
          "data": {
            "text/plain": [
              "{10: 'a', 20: 'b', 30: 'c', 40: 'd'}"
            ]
          },
          "metadata": {},
          "execution_count": 22
        }
      ]
    },
    {
      "cell_type": "markdown",
      "source": [
        "25.11 딕셔너리 표현식에 if 조건문 사용하기"
      ],
      "metadata": {
        "id": "ceNeAbXHRy83"
      }
    },
    {
      "cell_type": "markdown",
      "source": [
        "- 딕셔너리 표현식은 딕셔너리에서 특정 값을 찾아서 삭제할 때 유용함"
      ],
      "metadata": {
        "id": "_bJWR2DGR36Y"
      }
    },
    {
      "cell_type": "code",
      "source": [
        "x = {'a': 10, 'b': 20, 'c': 30, 'd': 40}\n",
        " \n",
        "for key, value in x.items():\n",
        "    if value == 20:    # 값이 20이면\n",
        "        del x[key]     # 키-값 쌍 삭제\n",
        " \n",
        "print(x)"
      ],
      "metadata": {
        "colab": {
          "base_uri": "https://localhost:8080/",
          "height": 246
        },
        "id": "_KyP90XKRxiJ",
        "outputId": "4083511d-1488-46ef-92d1-dc477ca572c8"
      },
      "execution_count": 23,
      "outputs": [
        {
          "output_type": "error",
          "ename": "RuntimeError",
          "evalue": "ignored",
          "traceback": [
            "\u001b[0;31m---------------------------------------------------------------------------\u001b[0m",
            "\u001b[0;31mRuntimeError\u001b[0m                              Traceback (most recent call last)",
            "\u001b[0;32m<ipython-input-23-0c60be8a5af6>\u001b[0m in \u001b[0;36m<module>\u001b[0;34m\u001b[0m\n\u001b[1;32m      1\u001b[0m \u001b[0mx\u001b[0m \u001b[0;34m=\u001b[0m \u001b[0;34m{\u001b[0m\u001b[0;34m'a'\u001b[0m\u001b[0;34m:\u001b[0m \u001b[0;36m10\u001b[0m\u001b[0;34m,\u001b[0m \u001b[0;34m'b'\u001b[0m\u001b[0;34m:\u001b[0m \u001b[0;36m20\u001b[0m\u001b[0;34m,\u001b[0m \u001b[0;34m'c'\u001b[0m\u001b[0;34m:\u001b[0m \u001b[0;36m30\u001b[0m\u001b[0;34m,\u001b[0m \u001b[0;34m'd'\u001b[0m\u001b[0;34m:\u001b[0m \u001b[0;36m40\u001b[0m\u001b[0;34m}\u001b[0m\u001b[0;34m\u001b[0m\u001b[0;34m\u001b[0m\u001b[0m\n\u001b[1;32m      2\u001b[0m \u001b[0;34m\u001b[0m\u001b[0m\n\u001b[0;32m----> 3\u001b[0;31m \u001b[0;32mfor\u001b[0m \u001b[0mkey\u001b[0m\u001b[0;34m,\u001b[0m \u001b[0mvalue\u001b[0m \u001b[0;32min\u001b[0m \u001b[0mx\u001b[0m\u001b[0;34m.\u001b[0m\u001b[0mitems\u001b[0m\u001b[0;34m(\u001b[0m\u001b[0;34m)\u001b[0m\u001b[0;34m:\u001b[0m\u001b[0;34m\u001b[0m\u001b[0;34m\u001b[0m\u001b[0m\n\u001b[0m\u001b[1;32m      4\u001b[0m     \u001b[0;32mif\u001b[0m \u001b[0mvalue\u001b[0m \u001b[0;34m==\u001b[0m \u001b[0;36m20\u001b[0m\u001b[0;34m:\u001b[0m    \u001b[0;31m# 값이 20이면\u001b[0m\u001b[0;34m\u001b[0m\u001b[0;34m\u001b[0m\u001b[0m\n\u001b[1;32m      5\u001b[0m         \u001b[0;32mdel\u001b[0m \u001b[0mx\u001b[0m\u001b[0;34m[\u001b[0m\u001b[0mkey\u001b[0m\u001b[0;34m]\u001b[0m     \u001b[0;31m# 키-값 쌍 삭제\u001b[0m\u001b[0;34m\u001b[0m\u001b[0;34m\u001b[0m\u001b[0m\n",
            "\u001b[0;31mRuntimeError\u001b[0m: dictionary changed size during iteration"
          ]
        }
      ]
    },
    {
      "cell_type": "markdown",
      "source": [
        "😎 딕셔너리는 for 반복문으로 반복하면서 키-값 쌍을 삭제하면 안됨"
      ],
      "metadata": {
        "id": "OQPfXx8vSN0n"
      }
    },
    {
      "cell_type": "markdown",
      "source": [
        "- {키: 값 for 키, 값 in 딕셔너리 if 조건식}\n",
        "- dict({키: 값 for 키, 값 in 딕셔너리 if 조건식})"
      ],
      "metadata": {
        "id": "11TGWKdoSW1J"
      }
    },
    {
      "cell_type": "code",
      "source": [
        "x = {'a': 10, 'b': 20, 'c': 30, 'd': 40}\n",
        "x = {key: value for key, value in x.items() if value != 20}\n",
        "print(x)"
      ],
      "metadata": {
        "colab": {
          "base_uri": "https://localhost:8080/"
        },
        "id": "5bQ4QC8iSClj",
        "outputId": "6a8a528f-6c4d-412f-823f-3377f45e6cba"
      },
      "execution_count": 24,
      "outputs": [
        {
          "output_type": "stream",
          "name": "stdout",
          "text": [
            "{'a': 10, 'c': 30, 'd': 40}\n"
          ]
        }
      ]
    },
    {
      "cell_type": "markdown",
      "source": [
        "25.12 딕셔너리 안에서 딕셔너리 사용하기"
      ],
      "metadata": {
        "id": "A4KsKW9WSsaq"
      }
    },
    {
      "cell_type": "markdown",
      "source": [
        "- 중첩 딕셔너리는 계층형 데이터를 저장할 때 유용"
      ],
      "metadata": {
        "id": "HVfFXTs6S6qk"
      }
    },
    {
      "cell_type": "markdown",
      "source": [
        "딕셔너리 = {키1: {키A: 값A}, 키2: {키B: 값B}}"
      ],
      "metadata": {
        "id": "b-xS6nwPSxJB"
      }
    },
    {
      "cell_type": "markdown",
      "source": [
        "딕셔너리 안에 들어있는 딕셔너리 접근법 <br>\n",
        "- 딕셔너리[키][키]\n",
        "- 딕셔너리[키][키] = 값"
      ],
      "metadata": {
        "id": "4tSI_QFAS_lB"
      }
    },
    {
      "cell_type": "code",
      "source": [
        "terrestrial_planet = {\n",
        "    'Mercury': {\n",
        "        'mean_radius': 2439.7,\n",
        "        'mass': 3.3022E+23,\n",
        "        'orbital_period': 87.969\n",
        "    },\n",
        "    'Venus': {\n",
        "        'mean_radius': 6051.8,\n",
        "        'mass': 4.8676E+24,\n",
        "        'orbital_period': 224.70069,\n",
        "    },\n",
        "    'Earth': {\n",
        "        'mean_radius': 6371.0,\n",
        "        'mass': 5.97219E+24,\n",
        "        'orbital_period': 365.25641,\n",
        "    },\n",
        "    'Mars': {\n",
        "        'mean_radius': 3389.5,\n",
        "        'mass': 6.4185E+23,\n",
        "        'orbital_period': 686.9600,\n",
        "    }\n",
        "}\n",
        " \n",
        "print(terrestrial_planet['Venus']['mean_radius'])"
      ],
      "metadata": {
        "colab": {
          "base_uri": "https://localhost:8080/"
        },
        "id": "8JjyMIpZSdTB",
        "outputId": "cfd938cc-12d3-474d-f055-4fcd07446d53"
      },
      "execution_count": 25,
      "outputs": [
        {
          "output_type": "stream",
          "name": "stdout",
          "text": [
            "6051.8\n"
          ]
        }
      ]
    },
    {
      "cell_type": "markdown",
      "source": [
        "25.13 딕셔너리 할당과 복사"
      ],
      "metadata": {
        "id": "5cl0ckXETJ5g"
      }
    },
    {
      "cell_type": "code",
      "source": [
        "x = {'a': 0, 'b': 0, 'c': 0, 'd': 0}\n",
        "y = x\n",
        "print(y is x) # 실제로는 하나의 딕셔너리 | 주소를 공유하는 꼴"
      ],
      "metadata": {
        "colab": {
          "base_uri": "https://localhost:8080/"
        },
        "id": "R5-hZ-veS29m",
        "outputId": "3d1e3bf8-6039-4d40-9bc6-b88ca2116755"
      },
      "execution_count": 26,
      "outputs": [
        {
          "output_type": "stream",
          "name": "stdout",
          "text": [
            "True\n"
          ]
        }
      ]
    },
    {
      "cell_type": "code",
      "source": [
        "y['a'] = 99\n",
        "print('y : ', y)\n",
        "print('x : ', x)"
      ],
      "metadata": {
        "colab": {
          "base_uri": "https://localhost:8080/"
        },
        "id": "6y9qJTHdTSoK",
        "outputId": "22e020f3-3f05-4bfb-e318-9e397944db54"
      },
      "execution_count": 27,
      "outputs": [
        {
          "output_type": "stream",
          "name": "stdout",
          "text": [
            "y :  {'a': 99, 'b': 0, 'c': 0, 'd': 0}\n",
            "x :  {'a': 99, 'b': 0, 'c': 0, 'd': 0}\n"
          ]
        }
      ]
    },
    {
      "cell_type": "code",
      "source": [
        "x = {'a': 0, 'b': 0, 'c': 0, 'd': 0}\n",
        "y = x.copy()\n",
        "print(y is x) # 완전히 두 개로 만드는 법 : copy메서드 이용\n",
        "print(y == x)"
      ],
      "metadata": {
        "colab": {
          "base_uri": "https://localhost:8080/"
        },
        "id": "KAXUxbvCTerh",
        "outputId": "54b8811d-9453-4602-88bc-7684ce9ea8d2"
      },
      "execution_count": 29,
      "outputs": [
        {
          "output_type": "stream",
          "name": "stdout",
          "text": [
            "False\n",
            "True\n"
          ]
        }
      ]
    },
    {
      "cell_type": "code",
      "source": [
        "y['a'] = 99\n",
        "print('y : ', y) # 완전히 별개인 딕셔너리이기 때문에 변경하더라도 다른 딕셔너리에 영향 X\n",
        "print('x : ', x)"
      ],
      "metadata": {
        "colab": {
          "base_uri": "https://localhost:8080/"
        },
        "id": "Y5rexUUoTn_8",
        "outputId": "3d77be29-bed7-46d8-f15f-7e802ccdbf50"
      },
      "execution_count": 30,
      "outputs": [
        {
          "output_type": "stream",
          "name": "stdout",
          "text": [
            "y :  {'a': 99, 'b': 0, 'c': 0, 'd': 0}\n",
            "x :  {'a': 0, 'b': 0, 'c': 0, 'd': 0}\n"
          ]
        }
      ]
    },
    {
      "cell_type": "markdown",
      "source": [
        "25.14 중첩 딕셔너리의 할당과 복사"
      ],
      "metadata": {
        "id": "6ZMFGSo9T0O_"
      }
    },
    {
      "cell_type": "code",
      "source": [
        "x = {'a': {'python': '2.7'}, 'b': {'python': '3.6'}}\n",
        "y = x.copy()"
      ],
      "metadata": {
        "id": "8A20G3qDTs0d"
      },
      "execution_count": 31,
      "outputs": []
    },
    {
      "cell_type": "code",
      "source": [
        "y['a']['python'] = '2.7.15' # 중첩딕셔너리는 copy.deepcopy를 사용해야 함\n",
        "print(x)\n",
        "print(y)"
      ],
      "metadata": {
        "colab": {
          "base_uri": "https://localhost:8080/"
        },
        "id": "S3Lv_msfVjVt",
        "outputId": "0762ab3f-0a83-4d77-c6e0-53f3be536a34"
      },
      "execution_count": 33,
      "outputs": [
        {
          "output_type": "stream",
          "name": "stdout",
          "text": [
            "{'a': {'python': '2.7.15'}, 'b': {'python': '3.6'}}\n",
            "{'a': {'python': '2.7.15'}, 'b': {'python': '3.6'}}\n"
          ]
        }
      ]
    },
    {
      "cell_type": "markdown",
      "source": [
        "- 중첩 딕셔너리를 완전히 복사하려면 copy 메서드 대신 copy 모듈의 deepcopy 함수 사용"
      ],
      "metadata": {
        "id": "tEIQJTy4VqF1"
      }
    },
    {
      "cell_type": "code",
      "source": [
        "x = {'a': {'python': '2.7'}, 'b': {'python': '3.6'}}\n",
        "import copy             # copy 모듈을 가져옴\n",
        "y = copy.deepcopy(x)    # copy.deepcopy 함수를 사용하여 깊은 복사\n",
        "y['a']['python'] = '2.7.15'\n",
        "print(x)\n",
        "print(y)"
      ],
      "metadata": {
        "colab": {
          "base_uri": "https://localhost:8080/"
        },
        "id": "xU4gS4OAVnG4",
        "outputId": "0f07266f-34b3-432c-8379-97b6ea6e542d"
      },
      "execution_count": 34,
      "outputs": [
        {
          "output_type": "stream",
          "name": "stdout",
          "text": [
            "{'a': {'python': '2.7'}, 'b': {'python': '3.6'}}\n",
            "{'a': {'python': '2.7.15'}, 'b': {'python': '3.6'}}\n"
          ]
        }
      ]
    },
    {
      "cell_type": "code",
      "source": [
        "maria = {'korean': 94, 'english': 91, 'mathematics': 89, 'science': 83}\n",
        "average = sum(maria.values())/ len(maria)\n",
        "print(average)"
      ],
      "metadata": {
        "colab": {
          "base_uri": "https://localhost:8080/"
        },
        "id": "_46FiTXcWAsw",
        "outputId": "b8f11750-67cf-4a8f-9e15-e0fc83e965f6"
      },
      "execution_count": 41,
      "outputs": [
        {
          "output_type": "stream",
          "name": "stdout",
          "text": [
            "89.25\n"
          ]
        }
      ]
    },
    {
      "cell_type": "markdown",
      "source": [
        "연습문제)<br>\n",
        "표준 입력으로 문자열 여러 개와 숫자 여러 개가 두 줄로 입력되고, 첫 번째 줄은 키, 두 번째 줄은 값으로 하여 딕셔너리를 생성합니다. 다음 코드를 완성하여 딕셔너리에서 키가 'delta'인 키-값 쌍과 값이 30인 키-값 쌍을 삭제하도록 만드세요."
      ],
      "metadata": {
        "id": "6J4BRx-4ey8k"
      }
    },
    {
      "cell_type": "code",
      "source": [
        "keys = input().split()\n",
        "values = map(int, input().split())\n",
        " \n",
        "x = dict(zip(keys, values))\n",
        "\n",
        "x = {key:value for key,value in x.items() if key !='delta'}\n",
        "x = {key:value for key, value in x.items() if value !=30}\n",
        "\n",
        "print(x)"
      ],
      "metadata": {
        "colab": {
          "base_uri": "https://localhost:8080/"
        },
        "id": "z_xSVmU3Xn1v",
        "outputId": "c055b51f-7a86-4b67-f136-95e628baaff3"
      },
      "execution_count": 44,
      "outputs": [
        {
          "output_type": "stream",
          "name": "stdout",
          "text": [
            "alpha bravo charlie delta echo foxtrot golf\n",
            "30 40 50 60 70 80 90\n",
            "{'bravo': 40, 'charlie': 50, 'echo': 70, 'foxtrot': 80, 'golf': 90}\n"
          ]
        }
      ]
    }
  ]
}