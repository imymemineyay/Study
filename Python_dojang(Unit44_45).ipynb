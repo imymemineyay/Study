{
  "nbformat": 4,
  "nbformat_minor": 0,
  "metadata": {
    "colab": {
      "provenance": [],
      "authorship_tag": "ABX9TyOMiAFdWSklyT9SrdmWmT/1",
      "include_colab_link": true
    },
    "kernelspec": {
      "name": "python3",
      "display_name": "Python 3"
    },
    "language_info": {
      "name": "python"
    }
  },
  "cells": [
    {
      "cell_type": "markdown",
      "metadata": {
        "id": "view-in-github",
        "colab_type": "text"
      },
      "source": [
        "<a href=\"https://colab.research.google.com/github/imymemineyay/Study_Python/blob/main/Python_dojang(Unit44_45).ipynb\" target=\"_parent\"><img src=\"https://colab.research.google.com/assets/colab-badge.svg\" alt=\"Open In Colab\"/></a>"
      ]
    },
    {
      "cell_type": "markdown",
      "source": [
        "## **Unit 44. 모듈과 패키지 사용하기**\n"
      ],
      "metadata": {
        "id": "k1_OIJE0LCU3"
      }
    },
    {
      "cell_type": "markdown",
      "source": [
        "모듈(module) : 각종 변수, 함수, 클래스를 담고 있는 파일\n",
        "\n",
        "패키지(package) : 여러 모듈을 묶은 것\n",
        "\n",
        "<참고>\n",
        "\n",
        "모듈, 패키지, 라이브러리\n",
        "\n",
        "- 모듈 : 특정 기능과 관련된 여러 모듈을 묶은 것\n",
        "- 패키지 : 특정 기능과 관련된 여러 모듈을 묶은 것\n",
        "패키지는 모듈에 네임스페이스를 제공함\n",
        "\n",
        "- 파이썬 표준 라이브러리 : 파이썬에 기본으로 설치된 모듈과 패키지, 내장 함수를 묶어서 부르는 호칭"
      ],
      "metadata": {
        "id": "fozGbS9TLIj2"
      }
    },
    {
      "cell_type": "markdown",
      "source": [
        "44.1 import로 모듈 가져오기\n",
        "\n",
        "        import 모듈\n",
        "        import 모듈1, 모듈2\n",
        "        모듈.변수\n",
        "        모듈.함수()\n",
        "        모듈.클래스()"
      ],
      "metadata": {
        "id": "tW2KjqfqMeui"
      }
    },
    {
      "cell_type": "code",
      "source": [
        "import math\n",
        "math.pi"
      ],
      "metadata": {
        "colab": {
          "base_uri": "https://localhost:8080/"
        },
        "id": "xi1PZ82fLGDC",
        "outputId": "0aeb12d8-0103-4b16-8589-126660c2e6bf"
      },
      "execution_count": null,
      "outputs": [
        {
          "output_type": "execute_result",
          "data": {
            "text/plain": [
              "3.141592653589793"
            ]
          },
          "metadata": {},
          "execution_count": 1
        }
      ]
    },
    {
      "cell_type": "code",
      "source": [
        "import math \n",
        "math.sqrt(4.0) # 모듈의 함수는 모듈.함수() 형식으로 사용"
      ],
      "metadata": {
        "colab": {
          "base_uri": "https://localhost:8080/"
        },
        "id": "N-kBAjcDMs02",
        "outputId": "97fa78aa-363a-4a4f-d5dc-93190c78f8bb"
      },
      "execution_count": null,
      "outputs": [
        {
          "output_type": "execute_result",
          "data": {
            "text/plain": [
              "2.0"
            ]
          },
          "metadata": {},
          "execution_count": 3
        }
      ]
    },
    {
      "cell_type": "markdown",
      "source": [
        "- 모듈의 이름 지정\n",
        "\n",
        "      import 모듈 as 이름"
      ],
      "metadata": {
        "id": "aqn_x0jMNCzo"
      }
    },
    {
      "cell_type": "code",
      "source": [
        "import math as m\n",
        "m.sqrt(4.0)"
      ],
      "metadata": {
        "colab": {
          "base_uri": "https://localhost:8080/"
        },
        "id": "We5mlBTIM3Kq",
        "outputId": "2752636c-c7cb-489c-e38c-92abb4042651"
      },
      "execution_count": null,
      "outputs": [
        {
          "output_type": "execute_result",
          "data": {
            "text/plain": [
              "2.0"
            ]
          },
          "metadata": {},
          "execution_count": 5
        }
      ]
    },
    {
      "cell_type": "markdown",
      "source": [
        "- from import로 모듈의 일부만 가져오기\n",
        "\n",
        "from 모듈 import 변수"
      ],
      "metadata": {
        "id": "zFM66pBRNX0e"
      }
    },
    {
      "cell_type": "code",
      "source": [
        "from math import pi\n",
        "pi"
      ],
      "metadata": {
        "colab": {
          "base_uri": "https://localhost:8080/"
        },
        "id": "YweAPP8aNN8Q",
        "outputId": "bfb48dab-b7fc-4076-fb87-14affcb3491f"
      },
      "execution_count": null,
      "outputs": [
        {
          "output_type": "execute_result",
          "data": {
            "text/plain": [
              "3.141592653589793"
            ]
          },
          "metadata": {},
          "execution_count": 6
        }
      ]
    },
    {
      "cell_type": "markdown",
      "source": [
        "- 함수 가져오기\n",
        "\n",
        "        from 모듈 import 함수\n",
        "        from 모듈 impor 클래스"
      ],
      "metadata": {
        "id": "-YMuq6YFNg8f"
      }
    },
    {
      "cell_type": "code",
      "source": [
        "from math import sqrt\n",
        "sqrt(4.0)"
      ],
      "metadata": {
        "colab": {
          "base_uri": "https://localhost:8080/"
        },
        "id": "B1sLNHgWNemI",
        "outputId": "b8ffd74a-3e86-40c1-ca4e-90918418169d"
      },
      "execution_count": null,
      "outputs": [
        {
          "output_type": "execute_result",
          "data": {
            "text/plain": [
              "2.0"
            ]
          },
          "metadata": {},
          "execution_count": 7
        }
      ]
    },
    {
      "cell_type": "markdown",
      "source": [
        "- 여러 개의 변수와 함수 가져오기\n",
        "\n",
        "      from 모듈 import 변수, 함수, 클래스"
      ],
      "metadata": {
        "id": "PRvp40RDNshV"
      }
    },
    {
      "cell_type": "code",
      "source": [
        "from math import pi, sqrt\n",
        "pi"
      ],
      "metadata": {
        "colab": {
          "base_uri": "https://localhost:8080/"
        },
        "id": "wZGrYTy7NpVR",
        "outputId": "dc8f72c0-0392-423c-c10b-0ec23cb709bf"
      },
      "execution_count": null,
      "outputs": [
        {
          "output_type": "execute_result",
          "data": {
            "text/plain": [
              "3.141592653589793"
            ]
          },
          "metadata": {},
          "execution_count": 8
        }
      ]
    },
    {
      "cell_type": "markdown",
      "source": [
        "- 모듈의 모든 변수, 함수, 클래스를 가져오는 기능\n",
        "\n",
        "        from 모듈 import *\n",
        "      "
      ],
      "metadata": {
        "id": "jDkUYygOODw5"
      }
    },
    {
      "cell_type": "code",
      "source": [
        "from math import *\n",
        "sqrt(2.0)"
      ],
      "metadata": {
        "colab": {
          "base_uri": "https://localhost:8080/"
        },
        "id": "uxtbelT2N5J7",
        "outputId": "036a1528-1ffa-4ed4-b1d7-de9d3c87a584"
      },
      "execution_count": null,
      "outputs": [
        {
          "output_type": "execute_result",
          "data": {
            "text/plain": [
              "1.4142135623730951"
            ]
          },
          "metadata": {},
          "execution_count": 9
        }
      ]
    },
    {
      "cell_type": "markdown",
      "source": [
        "- from import 로 모듈의 일부를 가져온 뒤 이름 지정하기\n",
        "\n",
        "        from 모듈 import 변수 as 이름\n",
        "        from 모듈 import 함수 as 이름\n",
        "        from 모듈 import 클래스 as 이름"
      ],
      "metadata": {
        "id": "HWzsXha-OOMM"
      }
    },
    {
      "cell_type": "code",
      "source": [
        "from math import sqrt as s\n",
        "s(4.0)"
      ],
      "metadata": {
        "colab": {
          "base_uri": "https://localhost:8080/"
        },
        "id": "-QiWYVtGOMVb",
        "outputId": "9752a519-6d88-48aa-d42b-765f09e120bf"
      },
      "execution_count": null,
      "outputs": [
        {
          "output_type": "execute_result",
          "data": {
            "text/plain": [
              "2.0"
            ]
          },
          "metadata": {},
          "execution_count": 10
        }
      ]
    },
    {
      "cell_type": "markdown",
      "source": [
        "- 여러 개의 변수, 함수, 클래스등에 이름 지정\n",
        "\n",
        "      from 모듈 import 변수 as 이름1, 함수 as 이름2, 클래스 as 이름3"
      ],
      "metadata": {
        "id": "3cG_7nbNOwyj"
      }
    },
    {
      "cell_type": "code",
      "source": [
        "from math import pi as p, sqrt as s\n",
        "p"
      ],
      "metadata": {
        "colab": {
          "base_uri": "https://localhost:8080/"
        },
        "id": "KZznTINqOc7M",
        "outputId": "ee577c7b-82be-4bbc-eacc-899fe967b388"
      },
      "execution_count": null,
      "outputs": [
        {
          "output_type": "execute_result",
          "data": {
            "text/plain": [
              "3.141592653589793"
            ]
          },
          "metadata": {},
          "execution_count": 11
        }
      ]
    },
    {
      "cell_type": "markdown",
      "source": [
        "<참고>\n",
        "\n",
        "가져온 모듈 해제하기, 다시 가져오기\n",
        "\n",
        "import 로 가져온 모듈(변수, 함수, 클래스)은 del로 해제 가능"
      ],
      "metadata": {
        "id": "gBph7aXuPDs0"
      }
    },
    {
      "cell_type": "code",
      "source": [
        "import math\n",
        "del math"
      ],
      "metadata": {
        "id": "Srurcf90PB_B"
      },
      "execution_count": null,
      "outputs": []
    },
    {
      "cell_type": "markdown",
      "source": [
        "모듈을 다시 가져오려면 importlib.reload를 사용"
      ],
      "metadata": {
        "id": "448eXO8mPO0t"
      }
    },
    {
      "cell_type": "code",
      "source": [
        "import importlib\n",
        "import math\n",
        "importlib.reload(math)"
      ],
      "metadata": {
        "colab": {
          "base_uri": "https://localhost:8080/"
        },
        "id": "Y-14I3w2PNrA",
        "outputId": "278e7a25-2b16-4c74-80ab-05b2a0c0337c"
      },
      "execution_count": null,
      "outputs": [
        {
          "output_type": "execute_result",
          "data": {
            "text/plain": [
              "<module 'math' (built-in)>"
            ]
          },
          "metadata": {},
          "execution_count": 13
        }
      ]
    },
    {
      "cell_type": "markdown",
      "source": [
        "44.2 import로 패키지 가져오기"
      ],
      "metadata": {
        "id": "xlA5MU_CPfPU"
      }
    },
    {
      "cell_type": "markdown",
      "source": [
        "패키지에 들어있는 모듈도 import를 사용하여 가져옴\n",
        "\n",
        "      import 패키지.모듈\n",
        "      import 패키지.모듈1, 패키지.모듈2\n",
        "      패키지.모듈.변수\n",
        "      패키지.모듈.함수()\n",
        "      패키지.모듈.클래스()"
      ],
      "metadata": {
        "id": "rhte_UgRPtJI"
      }
    },
    {
      "cell_type": "markdown",
      "source": [
        "urllib : URL처리에 관련된 모듈을 모아 놓은 패키지"
      ],
      "metadata": {
        "id": "ioq-7NjoP7vG"
      }
    },
    {
      "cell_type": "code",
      "source": [
        "import urllib.request\n",
        "response = urllib.request.urlopen('http://www.google.co.kr')\n",
        "response.status"
      ],
      "metadata": {
        "colab": {
          "base_uri": "https://localhost:8080/"
        },
        "id": "vTiDBBiCPaVO",
        "outputId": "7c385f6a-cfe9-49ed-ff77-96b9ad074832"
      },
      "execution_count": null,
      "outputs": [
        {
          "output_type": "execute_result",
          "data": {
            "text/plain": [
              "200"
            ]
          },
          "metadata": {},
          "execution_count": 14
        }
      ]
    },
    {
      "cell_type": "markdown",
      "source": [
        "패키지에 들어있는 모듈 불러오는 법\n",
        "\n",
        "        패키지.모듈\n",
        "\n",
        "모듈의 함수를 사용할 때\n",
        "\n",
        "        패키지.모듈.함수()"
      ],
      "metadata": {
        "id": "-hWE-zE5Qv23"
      }
    },
    {
      "cell_type": "markdown",
      "source": [
        "<참고> urlopen함수\n",
        "\n",
        "urllib.request.urlopen : URL을 여는 함수\n",
        "\n",
        "위에서 200이 나온 것 HTTP 상태 코드이며 웹 서버가 요청을 제대로 처리했다는 뜻"
      ],
      "metadata": {
        "id": "Es2d_bvbRAMg"
      }
    },
    {
      "cell_type": "markdown",
      "source": [
        "- import as 로 패키지 모듈 이름 지정하기\n",
        "\n",
        "      import 패키지.모듈 as 이름"
      ],
      "metadata": {
        "id": "hfIIrapxRR4L"
      }
    },
    {
      "cell_type": "code",
      "source": [
        "import urllib.request as r\n",
        "response = r.urlopen('http://www.google.co.kr')\n",
        "response.status"
      ],
      "metadata": {
        "colab": {
          "base_uri": "https://localhost:8080/"
        },
        "id": "Tjr6oi-UQu95",
        "outputId": "e2763547-68fc-4ffb-d76c-47c905f904df"
      },
      "execution_count": null,
      "outputs": [
        {
          "output_type": "execute_result",
          "data": {
            "text/plain": [
              "200"
            ]
          },
          "metadata": {},
          "execution_count": 16
        }
      ]
    },
    {
      "cell_type": "markdown",
      "source": [
        "- from import 로 패키지의 모듈에서 일부만 가져오기\n",
        "\n",
        "        from 패키지.모듈 import 변수\n",
        "        from 패키지.모듈 import 함수\n",
        "        from 패키지.모듈 import 클래스\n",
        "        from 패키지.모듈 import 변수, 함수, 클래스"
      ],
      "metadata": {
        "id": "67qz-BmORlQ6"
      }
    },
    {
      "cell_type": "code",
      "source": [
        "from urllib.request import Request, urlopen\n",
        "req = Request('http://www.google.co.kr')\n",
        "response = urlopen(req) # 여기에 url을 바로 넣어도 됨\n",
        "response.status"
      ],
      "metadata": {
        "colab": {
          "base_uri": "https://localhost:8080/"
        },
        "id": "CgLFVNSFRhSu",
        "outputId": "6ffcb39c-487f-41fb-8dd8-666171550495"
      },
      "execution_count": null,
      "outputs": [
        {
          "output_type": "execute_result",
          "data": {
            "text/plain": [
              "200"
            ]
          },
          "metadata": {},
          "execution_count": 18
        }
      ]
    },
    {
      "cell_type": "markdown",
      "source": [
        "- 패키지의 모듈에서 모든 변수, 함수, 클래스를 가져오는 법\n",
        "\n",
        "          from 패키지.모듈 import *"
      ],
      "metadata": {
        "id": "scUIqo7dSFoz"
      }
    },
    {
      "cell_type": "code",
      "source": [
        "from urllib.request import *\n",
        "req = Request('http://www.google.co.kr')\n",
        "response = urlopen(req)\n",
        "response.status"
      ],
      "metadata": {
        "colab": {
          "base_uri": "https://localhost:8080/"
        },
        "id": "-IePHiVxR9sc",
        "outputId": "5b07c3b0-90b8-45d6-8e2b-9a0894ac00ae"
      },
      "execution_count": null,
      "outputs": [
        {
          "output_type": "execute_result",
          "data": {
            "text/plain": [
              "200"
            ]
          },
          "metadata": {},
          "execution_count": 19
        }
      ]
    },
    {
      "cell_type": "markdown",
      "source": [
        "- from import로 패키지의 모듈의 일부를 가져온 뒤 이름 지정하기\n",
        "\n",
        "        from 패키지.모듈 import 변수 as 이름\n",
        "        from 패키지.모듈 import 변수 as 이름, 함수 as 이름, 클래스 as 이름"
      ],
      "metadata": {
        "id": "4_93CgHPSeiV"
      }
    },
    {
      "cell_type": "code",
      "source": [
        "from urllib.request import Request as r, urlopen as u\n",
        "req = r('http://www.google.co.kr')\n",
        "response = u(req)\n",
        "response.status"
      ],
      "metadata": {
        "colab": {
          "base_uri": "https://localhost:8080/"
        },
        "id": "dChi79PISVZo",
        "outputId": "71a18c87-f0fd-468f-fb86-1c141c47d359"
      },
      "execution_count": null,
      "outputs": [
        {
          "output_type": "execute_result",
          "data": {
            "text/plain": [
              "200"
            ]
          },
          "metadata": {},
          "execution_count": 20
        }
      ]
    },
    {
      "cell_type": "markdown",
      "source": [
        "44.3 파이썬 패키지 인덱스에서 패키지 설치하기"
      ],
      "metadata": {
        "id": "FU27xNtzS1WQ"
      }
    },
    {
      "cell_type": "markdown",
      "source": [
        "파이썬 패키지 인덱스를 통해 다양한 패키지 사용 가능\n",
        "\n",
        "특히 명령만 입력하면 운하는 패키지를 인터넷에서 다운로드하여 설치해줄 뿐만 아니라 관련된 패키지(의존성)까지 자동으로 설치"
      ],
      "metadata": {
        "id": "9z3_KcXLVCib"
      }
    },
    {
      "cell_type": "markdown",
      "source": [
        "- pip 설치하기\n",
        "\n",
        "pip :  파이썬 패키지 인덱스의 패키지 관리 명령어이며 Windows용 파이썬에는 기본으로 내장되어 있음\n",
        "\n"
      ],
      "metadata": {
        "id": "hsS_aAJnVRFi"
      }
    },
    {
      "cell_type": "code",
      "source": [
        "# 리눅스와 macOS 설치법\n",
        "\n",
        "$ curl -0 https://bootstrap.pypa.io/get-pip.py\n",
        "$ sudo python3 get-pip.py"
      ],
      "metadata": {
        "id": "4v3ThpYPVjLF"
      },
      "execution_count": null,
      "outputs": []
    },
    {
      "cell_type": "markdown",
      "source": [
        "- pip로 패키지 설치하기 \n",
        "\n",
        "      pip install 패키지"
      ],
      "metadata": {
        "id": "qoErfIbrVep5"
      }
    },
    {
      "cell_type": "markdown",
      "source": [
        "Windows에서는 명령 프롬프트를 실행(윈도우 키 + R을 누른 뒤 cmd를 입력)하고, 리눅스와 macOS에서는 콘솔을 실행한 뒤 pip install requests 명령 입력\n",
        "\n",
        "<참고>\n",
        "\n",
        "requests : urllib.request와 비슷한 역할을 하는 패키지 좀 더 기능이 많고 편리"
      ],
      "metadata": {
        "id": "YltLuKM_lysA"
      }
    },
    {
      "cell_type": "code",
      "source": [
        "C:\\Users\\dojang>pip install requests"
      ],
      "metadata": {
        "id": "Dy1azozjSz0n"
      },
      "execution_count": null,
      "outputs": []
    },
    {
      "cell_type": "code",
      "source": [
        "C:\\Users\\dojang>python -m pip install requests"
      ],
      "metadata": {
        "id": "oiE0GsOamTGQ"
      },
      "execution_count": null,
      "outputs": []
    },
    {
      "cell_type": "markdown",
      "source": [
        "- import로 패키지 가져오기\n",
        "\n",
        "        import 패키기"
      ],
      "metadata": {
        "id": "lJwQAbjKmYzT"
      }
    },
    {
      "cell_type": "code",
      "source": [
        "import requests\n",
        "r = requests.get('http://www.google.co.kr')\n",
        "r.status_code"
      ],
      "metadata": {
        "colab": {
          "base_uri": "https://localhost:8080/"
        },
        "id": "EBDRtHktmWl2",
        "outputId": "e37ab971-7965-4245-bea3-d857ca184251"
      },
      "execution_count": null,
      "outputs": [
        {
          "output_type": "execute_result",
          "data": {
            "text/plain": [
              "200"
            ]
          },
          "metadata": {},
          "execution_count": 21
        }
      ]
    },
    {
      "cell_type": "markdown",
      "source": [
        "보통 pip install 명령으로 설치한 패키지는 import 패키지 또는 import 패키지.모듈 형식으로 사용하면 됨"
      ],
      "metadata": {
        "id": "vlhsqcUSmk-Y"
      }
    },
    {
      "cell_type": "markdown",
      "source": [
        "<참고>\n",
        "\n",
        "pip와 파이썬 버전\n",
        "\n",
        "pip도 파이썬 버전을 붙이고 있으며 파이썬 버전에 맞게 사용해야 함\n",
        "\n",
        "파이썬 2에서는 pip 또는 pip2 명령을 사용하여 패키지 설치\n",
        "\n",
        "          $ sudo python -m pip install 패키지\n",
        "          $ sudo pip install 패키지\n",
        "\n",
        "파이썬 3에서는 pip 또는 pip3 명령을 사용하여 패키지 설치\n",
        "          $ sudo python3 -m pip install 패키지\n",
        "          $ sudo pip3 install 패키지\n",
        "\n",
        "\n",
        "※ 파이썬은 가급적 한 개의 버전만 설치하는 것이 좋다\n",
        "\n",
        "<참고>\n",
        "\n",
        "패키지 검색, 버전 지정, 목록 출력, 삭제\n",
        "\n",
        "        pip search 패키지: 패키지 검색\n",
        "\n",
        "        pip install 패키지==버전: 특정 버전의 패키지를 설치(예: pip install requests==2.9.0)\n",
        "\n",
        "        pip list 또는 pip freeze: 패키지 목록 출력\n",
        "\n",
        "        pip uninstall 패키지: 패키지 삭제"
      ],
      "metadata": {
        "id": "Jpk2-R1JmzT-"
      }
    },
    {
      "cell_type": "code",
      "source": [
        "from math import ceil, floor\n",
        "\n",
        "x = 1.5\n",
        "\n",
        "print(ceil(x),floor(x))"
      ],
      "metadata": {
        "colab": {
          "base_uri": "https://localhost:8080/"
        },
        "id": "-wjXBlmImjVW",
        "outputId": "400022c7-d9d2-45b8-bb39-254940c72e12"
      },
      "execution_count": null,
      "outputs": [
        {
          "output_type": "stream",
          "name": "stdout",
          "text": [
            "2 1\n"
          ]
        }
      ]
    },
    {
      "cell_type": "markdown",
      "source": [
        "연습문제)\n",
        "\n",
        "표준 입력으로 원의 반지름(실수)이 입력됩니다. 입력된 반지름을 이용하여 원의 넓이를 출력하는 프로그램을 만드세요(input에서 안내 문자열은 출력하지 않아야 합니다). 원의 넓이는 반지름 * 반지름 * 원주율로 구합니다."
      ],
      "metadata": {
        "id": "B-E3n0QhoAzx"
      }
    },
    {
      "cell_type": "code",
      "source": [
        "from math import pi\n",
        "r = float(input())\n",
        "print(r*r*pi)"
      ],
      "metadata": {
        "colab": {
          "base_uri": "https://localhost:8080/"
        },
        "id": "VaCRSJ8cn96M",
        "outputId": "af00d765-46c5-4712-c023-f1b48b7edc99"
      },
      "execution_count": null,
      "outputs": [
        {
          "output_type": "stream",
          "name": "stdout",
          "text": [
            "10.\n",
            "314.1592653589793\n"
          ]
        }
      ]
    },
    {
      "cell_type": "markdown",
      "source": [
        "## **Unit 45. 모듈과 패키지 만들기**\n"
      ],
      "metadata": {
        "id": "6otv8tbXoc6o"
      }
    },
    {
      "cell_type": "markdown",
      "source": [
        "모듈 : 변수, 함수, 클래스 등을 모아 놓은 스크립트 파일\n",
        "\n",
        "패키지 : 여러 모듈을 묶은 것\n",
        "\n",
        "모듈 vs. 패키지 \n",
        "- 모듈은 간단한 기능을 담을 때 사용\n",
        "- 패키지는 코드가 많고 복잡할 때 사용\n",
        "\n",
        "패키지는 기능들이 모듈 여러 개로 잘게 나누어져 있고, 관련된 모듈끼리 폴더에 모여 있는 형태"
      ],
      "metadata": {
        "id": "0zz24BUIoizi"
      }
    },
    {
      "cell_type": "markdown",
      "source": [
        "45.1 모듈 만들기"
      ],
      "metadata": {
        "id": "CftOAVzvpcEK"
      }
    },
    {
      "cell_type": "code",
      "source": [
        "# 프로젝트 폴더(C:\\project) 안에 square2.py 파일로 저장\n",
        "\n",
        "base = 2 \n",
        "def square(n):\n",
        "  return base ** n"
      ],
      "metadata": {
        "id": "i2w5Fz-xoXEo"
      },
      "execution_count": null,
      "outputs": []
    },
    {
      "cell_type": "markdown",
      "source": [
        "- 모듈 사용하기\n",
        "\n",
        "      import 모듈\n",
        "      모듈.변수\n",
        "      모듈.함수()"
      ],
      "metadata": {
        "id": "PjZDxHljp2c-"
      }
    },
    {
      "cell_type": "code",
      "source": [
        "import square2\n",
        "\n",
        "print(square2.base)\n",
        "print(square2.square(10))"
      ],
      "metadata": {
        "id": "RCzsw8G0p7hI"
      },
      "execution_count": null,
      "outputs": []
    },
    {
      "cell_type": "markdown",
      "source": [
        "- from import로 변수, 함수 가져오기\n",
        "\n",
        "      from 모듈 import 변수, 함수"
      ],
      "metadata": {
        "id": "Jfly6HcuqHCS"
      }
    },
    {
      "cell_type": "code",
      "source": [
        "from square2 import base, square\n",
        "print(base)\n",
        "square(10)"
      ],
      "metadata": {
        "id": "WznoDXgwqNe9"
      },
      "execution_count": null,
      "outputs": []
    },
    {
      "cell_type": "markdown",
      "source": [
        "- from import로 변수, 함수 가져오기\n",
        "\n",
        "        from 모듈 import 변수,함수"
      ],
      "metadata": {
        "id": "QNeeCk9UqUoh"
      }
    },
    {
      "cell_type": "code",
      "source": [
        "from square2 import base, square\n",
        "print(base)\n",
        "square(10)"
      ],
      "metadata": {
        "id": "5DrjiM5kqaN5"
      },
      "execution_count": null,
      "outputs": []
    },
    {
      "cell_type": "markdown",
      "source": [
        "- 모듈에 클래스 작성하기\n",
        "\n",
        "      import 모듈\n",
        "      모듈.클래스()"
      ],
      "metadata": {
        "id": "80Bm9CHCqfAO"
      }
    },
    {
      "cell_type": "code",
      "source": [
        "class Person:\n",
        "  def __init__(self,name,age,address):\n",
        "    self.name = name\n",
        "    self.age = age\n",
        "    self.address = address\n",
        "\n",
        "    def greeting(self):\n",
        "      print('안녕하세요. 저는 {0}입니다.'.format(self.name))"
      ],
      "metadata": {
        "id": "kznWDHXZqkEv"
      },
      "execution_count": null,
      "outputs": []
    },
    {
      "cell_type": "code",
      "source": [
        "import person \n",
        "\n",
        "maria = person.Person('마리아', 20, '서울')\n",
        "maria.greeting()"
      ],
      "metadata": {
        "id": "VPsnghuEq0G3"
      },
      "execution_count": null,
      "outputs": []
    },
    {
      "cell_type": "markdown",
      "source": [
        "🎯🎯🎯 \n",
        "\n",
        "모듈.클래스() 형식으로 모듈의 클래스를 사용하며, 클래스로 인스턴스를 만들 때는 person.Person('마리아', 20, '서울')와 같이 사용하면 됨"
      ],
      "metadata": {
        "id": "f21KDMX7q-Lf"
      }
    },
    {
      "cell_type": "markdown",
      "source": [
        "- from import로 클래스 가져오기\n",
        "\n",
        "        from 모듈 import 클래스"
      ],
      "metadata": {
        "id": "Tvbr2je_rOtZ"
      }
    },
    {
      "cell_type": "code",
      "source": [
        "from person import Person\n",
        "maria = Person('마리아', 20, '서울')\n",
        "maria.greeting()"
      ],
      "metadata": {
        "id": "n0B0PMxHrM4I"
      },
      "execution_count": null,
      "outputs": []
    },
    {
      "cell_type": "markdown",
      "source": [
        "![image.png](data:image/png;base64,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)"
      ],
      "metadata": {
        "id": "dtIo_Y4ore7D"
      }
    },
    {
      "cell_type": "markdown",
      "source": [
        "45.2 모듈과 시작점 알아보기"
      ],
      "metadata": {
        "id": "WGWiIp7_rkbm"
      }
    },
    {
      "cell_type": "markdown",
      "source": [
        "자주 만나는 코드 ①       \n",
        "\n",
        "      if __name__ == '__main__':\n",
        "        코드\n",
        "\n",
        "▶ 현재 스크립트 파일이 실행되는 상태를 파악하기 위해 사용\n"
      ],
      "metadata": {
        "id": "mP1rw-2rruwW"
      }
    },
    {
      "cell_type": "code",
      "source": [
        "# 프로젝트 폴더 (C:\\project) 안에 hello.py파일 저장\n",
        "\n",
        "print('hello 모듈 시작')\n",
        "print('hello.py __name__:', __name__)    # __name__ 변수 출력\n",
        "print('hello 모듈 끝')"
      ],
      "metadata": {
        "id": "7GPGzRuZrhgj"
      },
      "execution_count": null,
      "outputs": []
    },
    {
      "cell_type": "code",
      "source": [
        "# 프로젝트 폴더 (C:\\project) 안에 main.py 파일로 저장\n",
        "\n",
        "import hello\n",
        "print('main.py __name__:', __name__) # __name__ 변수 출력"
      ],
      "metadata": {
        "id": "HDx6hjQesJ1q"
      },
      "execution_count": null,
      "outputs": []
    },
    {
      "cell_type": "markdown",
      "source": [
        "▶ 파이썬에서 import로 모듈을 가져오면 해당 스크립트 파일이 한번에 실행됨\n",
        "\n",
        "따라서 hello모듈을 가져오면 hello.py안의 코드가 실행됨\n",
        "\n",
        "따라서 hello.py의 __name__변수에는 'hello'가 들어가고, main.py의 __name__변수에는 '__main__'이 들어감\n",
        "\n",
        "![image.png](data:image/png;base64,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)"
      ],
      "metadata": {
        "id": "Y4sJKyTFscfx"
      }
    },
    {
      "cell_type": "markdown",
      "source": [
        "즉, __name__은 모듈의 이름이 저장되는 변수이며 import로 모듈을 가져왔을 때 모듈의 이름이 들어감\n",
        "\n",
        "하지만 파이썬 인터프리터로 스크립트 파일을 직접 실행했을 때는 모듈의 이름이 아니라 '__main__'이 들어감\n",
        "\n",
        "![image.png](data:image/png;base64,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)"
      ],
      "metadata": {
        "id": "i4fAGChzs0K9"
      }
    },
    {
      "cell_type": "markdown",
      "source": [
        "C:\\project>python hello.py\n",
        "\n",
        "hello 모듈 시작\n",
        "\n",
        "hello.py __name__: __main__ \n",
        "\n",
        "hello 모듈 끝\n",
        "\n",
        "- 어떤 스트립트 파일의 __name__에는 '__main__'이 들어가고 이는 프로그램의 시작점\n",
        "\n",
        "![image.png](data:image/png;base64,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)\n"
      ],
      "metadata": {
        "id": "KlVAQYAitSpN"
      }
    },
    {
      "cell_type": "markdown",
      "source": [
        "파이썬은 최초로 시작하는 스크립트 파일과 모듈의 차이 없음\n",
        "\n",
        "어떤 스크립트  파일이든 시작점도 될 수 있고, 모듈도 될 수 있음\n",
        "\n",
        "__name__ 변수를 통해 현재 스크립트 파일이 시작점인지 모듈인지 판단함\n",
        "\n",
        "if __name__ == '__main__': 처럼 __name__ 변수의 값이 '__main__'인지 확인하는 코드는 현재 스크립트 파일이 프로그램의 시작점이 맞는지 판단하는 작업\n",
        "\n",
        "즉, 스크립트 파일이 프로그램의 시작점이 맞는지 판단하는 작업\n",
        "\n",
        "즉, 스크립트 파일이 메인 프로그램으로 사용될 때와 모듈로 사용될 때를 구분하기 위한 용도"
      ],
      "metadata": {
        "id": "X5LUUQD_tw3x"
      }
    },
    {
      "cell_type": "markdown",
      "source": [
        "- 스크립트 파일로 실행하거나 모듈로 사용하는 코드 만들기"
      ],
      "metadata": {
        "id": "xRRZVeKRumhT"
      }
    },
    {
      "cell_type": "code",
      "source": [
        "# 프로젝트 폴더(C:\\project)안에 calc.py파일로 저장한 뒤 실행\n",
        "def add(a,b):\n",
        "  return a+b\n",
        "\n",
        "def mul(a,b):\n",
        "  return a*b\n",
        "\n",
        "if __name__ == '__main__': # 프로그램의 시작점일 떄만 아래 코드 실행\n",
        "  print(add(10,20))\n",
        "  print(mul(10,20))"
      ],
      "metadata": {
        "id": "tjlO5JuYsa22"
      },
      "execution_count": null,
      "outputs": []
    },
    {
      "cell_type": "markdown",
      "source": [
        "calc.py를 모듈로 사용하려면?"
      ],
      "metadata": {
        "id": "St-mTphFvFtb"
      }
    },
    {
      "cell_type": "code",
      "source": [
        "import calc"
      ],
      "metadata": {
        "id": "tN_aFgM3uxPT"
      },
      "execution_count": null,
      "outputs": []
    },
    {
      "cell_type": "markdown",
      "source": [
        "모듈을 가져왔을 때는 아무것도 출력되지 않음\n",
        "\n",
        "__name__변수의 값이 '__main__'일 때만 10,20의 합과 곱을 출력하도록 만듦\n",
        "\n",
        "즉, 스크립트 파일을 모듈로 사용할 때는 calc.add, calc.mul처럼 함수만 사용하는 것이 목적이므로 10, 20의 합과 곱을 출력하는 코드는 필요 없음"
      ],
      "metadata": {
        "id": "ONSlJOnVvMzg"
      }
    },
    {
      "cell_type": "code",
      "source": [
        "calc.add(50,60)\n",
        "calc.mul(50,60)"
      ],
      "metadata": {
        "id": "PIGkS4rFvLMq"
      },
      "execution_count": null,
      "outputs": []
    },
    {
      "cell_type": "markdown",
      "source": [
        "<참고>\n",
        "\n",
        "파이썬은 왜 프로그램의 시작점이 정해져 있지 않은가?\n",
        "\n",
        "C언어나 자바 같은 언어는 처음 만들어질 때부터 소스파일을 여러 개 사용했기 때문에 여러 소스 파일의 함수들 중에서도 시작 함수를 따로 정해 놓음"
      ],
      "metadata": {
        "id": "H53uzTCtvlU2"
      }
    },
    {
      "cell_type": "markdown",
      "source": [
        "45.3 패키지 만들기"
      ],
      "metadata": {
        "id": "wEFDrUL5p0gl"
      }
    },
    {
      "cell_type": "markdown",
      "source": [
        "모듈 : 스크립트 파일이 한 개\n",
        "\n",
        "패키지 : 폴더(디렉터리)로 구성되어 있음\n",
        "\n",
        "![image.png](data:image/png;base64,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)"
      ],
      "metadata": {
        "id": "uWXVdSDRp55V"
      }
    },
    {
      "cell_type": "code",
      "source": [
        "# 프로젝트 폴더(C:\\progect)안에 calcpkg 폴더를 만듦. \n",
        "# 다음 내용을 calcpkg 폴더 안에 __init__.py 파일로 저장\n",
        "\n",
        "# __init__.py 파일은 내용을 비워 둘 수 있음\n",
        "\n",
        "# 폴더안에 __init__.py 파일이 있으면 해당 폴더는 패키지로 인식됨\n",
        "# 파이썬 3.3 이상부터는 __init__.py파일이 없어도 패키지로 인식됨 하지만,\n",
        "# 하위 버전에도 호환되도록 __init__.py 파일을 작성하는 것을 권장"
      ],
      "metadata": {
        "id": "SB6_XmtJv0Ym"
      },
      "execution_count": 1,
      "outputs": []
    },
    {
      "cell_type": "markdown",
      "source": [
        "- 패키지에 모듈 만들기"
      ],
      "metadata": {
        "id": "3XnL4GhorbLs"
      }
    },
    {
      "cell_type": "code",
      "source": [
        "# calcpkg폴더 안 operation.py 파일로 저장하기\n",
        "\n",
        "def add(a,b):\n",
        "  return a+b\n",
        "\n",
        "def mul(a,b):\n",
        "  return a*b"
      ],
      "metadata": {
        "id": "aCObgLncrZxd"
      },
      "execution_count": null,
      "outputs": []
    },
    {
      "cell_type": "code",
      "source": [
        "# calcpkg폴더 안에 geometry.py 파일로 저장\n",
        "\n",
        "def  triangle_area(base, height):\n",
        "  return base * height / 2\n",
        "\n",
        "def rectangle_area(width, height):\n",
        "  return width * height"
      ],
      "metadata": {
        "id": "TBKpWcIEro7J"
      },
      "execution_count": null,
      "outputs": []
    },
    {
      "cell_type": "markdown",
      "source": [
        "- 패키지 사용하기\n",
        "\n",
        "프로젝트 폴더(C:\\project) 안에 main.py 파일로 저장한 뒤 실행 (main.py파일을 calcpkg 패키지 폴더 안에 넣으면 안됨)\n",
        "\n",
        "        import 패키지.모듈\n",
        "        패키지.모듈.변수\n",
        "        패키지.모듈.함수()\n",
        "        패키지.모듈.클래스()"
      ],
      "metadata": {
        "id": "nyb1QpZYsHxi"
      }
    },
    {
      "cell_type": "code",
      "source": [
        "import calcpkg.operation \n",
        "import calcpkg.geometry\n",
        "\n",
        "print(calcpkg.operation.add(10,20))\n",
        "print(calcpkg.operation.mul(10,20))\n",
        "\n",
        "print(calcpkg.geometry.triangle_area(30,40))\n",
        "print(calcpkg.geometry.rectangle_area(30,40))"
      ],
      "metadata": {
        "id": "kloDuHkatSIZ"
      },
      "execution_count": null,
      "outputs": []
    },
    {
      "cell_type": "markdown",
      "source": [
        "calcpkg 패키지의 operation모듈과 geometry모듈을 가져와서 안에 들어있는 함수 호출\n",
        "\n",
        "패키지의 모듈을 가져올 때\n",
        "\n",
        "      import 패키지.모듈\n",
        "\n",
        "모듈을 사용할 때\n",
        "\n",
        "      패키지.모듈.함수()"
      ],
      "metadata": {
        "id": "1JIIXU0ntoBO"
      }
    },
    {
      "cell_type": "markdown",
      "source": [
        "from import 로 패키지의 모듈에서 변수, 함수, 클래스 가져오기\n",
        "\n",
        "      from 패키지.모듈 import 변수\n",
        "      from 패키지.모듈 import 함수\n",
        "      from 패키지.모듈 import 클래스"
      ],
      "metadata": {
        "id": "1ZRx-0uWuDjq"
      }
    },
    {
      "cell_type": "code",
      "source": [
        "from calcpkg.operation import add\n",
        "add(10,20)"
      ],
      "metadata": {
        "id": "ky5NOU4juSFU"
      },
      "execution_count": null,
      "outputs": []
    },
    {
      "cell_type": "markdown",
      "source": [
        "지금까지 만든 main.py 스크립트 파일과 calcpkg 패키지의 계층을 그림으로 나타내면 다음과 같음\n",
        "\n",
        "![image.png](data:image/png;base64,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)"
      ],
      "metadata": {
        "id": "75HVB4qVuRrG"
      }
    },
    {
      "cell_type": "markdown",
      "source": [
        "<참고>\n",
        "\n",
        "패키지의 모듈과 __name__\n",
        "\n",
        "패키지 모듈에서 __name__ 변수에 패키지.모듈 형식으로 이름이 들어감\n",
        "\n",
        "ex) calcpkg 패키지의 geometry.py 에서 __name__의 값을 출력하도록 만들고, import로 가져오면\n",
        "\n",
        "→ 'calcpkg.geometry' 출력"
      ],
      "metadata": {
        "id": "cghMdi_8ullF"
      }
    },
    {
      "cell_type": "markdown",
      "source": [
        "<참고>\n",
        "\n",
        "모듈과 패키지를 찾는 경로\n",
        "    \n",
        "          import sys\n",
        "          sys.path\n",
        "\n",
        "sys 모듈의 path변수 : 모듈, 패키지를 찾는 경로가 들어있음\n",
        "\n",
        "site-packages 폴더에는 pip로 설치한 패키지가 들어감\n",
        "\n",
        "자기가 만든 모듈, 패키지도 site-packages 폴더에 넣으면 스크립트 파일이 어디에 있는 모듈, 패키지를 사용할 수 있음\n",
        "\n",
        "만약 가상 환경을 만들어서 모듈과 패키지를 관리한다면 가상환경/Lib/site-packages 폴더에 모듈과 패키지가 들어감\n",
        "\n"
      ],
      "metadata": {
        "id": "FrOOqVRqvE5P"
      }
    },
    {
      "cell_type": "markdown",
      "source": [
        "- 패키지에서 from import 응용하기"
      ],
      "metadata": {
        "id": "M6ABuH8gvydG"
      }
    },
    {
      "cell_type": "markdown",
      "source": [
        "import 패키지 형식으로 패키지만 가져와서 모듈 사용하기\n",
        "\n",
        "        from . import operation\n",
        "        from . import geometry \n",
        "\n",
        "__init__.py 파일은 폴더가 패키지로 인식되도록 하는 역할도 하고, 이름 그대로 패키지를 초기화하는 역할도 함\n",
        "\n",
        "즉, import로 패키지를 가져오면 __init__.py 파일이 실행되므로 이 파일에서 \"from . import 모듈\" 형식으로 현재 패키지에서 모듈을 가져오게 함\n",
        "\n",
        "        .(점) : 현재 패키지\n"
      ],
      "metadata": {
        "id": "vUdoXAzUv1kd"
      }
    },
    {
      "cell_type": "code",
      "source": [
        "import calcpkg\n",
        "\n",
        "print(calcpkg.operation.add(10,20))\n",
        "\n",
        "print(calcpkg.operation.mul(10,20))\n",
        "\n",
        "print(calcpkg.geometry.triangle_area(10,20))\n",
        "\n",
        "print(calcpkg.geometry.triangle_area(10,20))\n"
      ],
      "metadata": {
        "id": "mvGwYkaVuCzF"
      },
      "execution_count": null,
      "outputs": []
    },
    {
      "cell_type": "markdown",
      "source": [
        "calcpkg의 __init__.py 에서 하위 모듈을 함께 가져오게 만들었으므로 import calcpkg로 패키지만 가져와도 위에 코드처럼 사용 가능"
      ],
      "metadata": {
        "id": "Xlf37GrbwsSd"
      }
    },
    {
      "cell_type": "markdown",
      "source": [
        "- from import 로 패키지에 속한 모든 변수, 함수, 클래스 가져오기\n",
        "\n",
        "          from 패키지 import *"
      ],
      "metadata": {
        "id": "qw6ODpBnw9q2"
      }
    },
    {
      "cell_type": "code",
      "source": [
        "from calcpkg import *\n",
        "\n",
        "print(add(10,20))\n",
        "print(mul(10,20))\n",
        "\n",
        "print(triangle_area(30,40))\n",
        "print(rectangle_area(30,40))\n",
        "\n",
        "\n",
        "## add 가 정의되지 않아 에러 발생 \n",
        "# dir()을 통해 현재 네임스페이스 확인\n",
        "# 네임스페이스에 operation, geometry만 들어있어서 add, mul처럼 함수 이름만으론 호출 불가"
      ],
      "metadata": {
        "id": "Oz6yR5Unw87E"
      },
      "execution_count": null,
      "outputs": []
    },
    {
      "cell_type": "markdown",
      "source": [
        "- __init__.py 에서 모듈 안의 함수를 가져오게 하려면\n",
        "\n",
        "      from . 모듈 import 변수, 함수, 클래스"
      ],
      "metadata": {
        "id": "J4uApQKTxzF0"
      }
    },
    {
      "cell_type": "code",
      "source": [
        "# 현태 패키지의 operation, geometry 모듈에서 각 함수를 가져옴\n",
        "\n",
        "from . operation import add, mul\n",
        "from . geometry import triangle_area, rectangle_area"
      ],
      "metadata": {
        "id": "l2Pe29z5x7ZG"
      },
      "execution_count": null,
      "outputs": []
    },
    {
      "cell_type": "markdown",
      "source": [
        "- __init__.py 파일에서 특정 함수(변수, 클래스)를 지정하지 않고 * 을 사용해서 모든 함수(변수, 클래스)를 가져와도 상관 없음\n",
        "\n",
        "      from . 모듈 import"
      ],
      "metadata": {
        "id": "7yz-Dw8CyIfe"
      }
    },
    {
      "cell_type": "code",
      "source": [
        "from .operation import *\n",
        "from .geometry import *"
      ],
      "metadata": {
        "id": "gCjj1OzmySe4"
      },
      "execution_count": null,
      "outputs": []
    },
    {
      "cell_type": "markdown",
      "source": [
        "__init__.py에서 from .모듈 import 변수, 함수, 클래스 또는 from .모듈 import *형식으로 작성했다면 패키지를 가져오는 스크립트에서는 패키지.함수() 형식으로 사용 가능\n",
        "\n",
        "      import 패키지\n",
        "      패키지.변수\n",
        "      패키지.함수()\n",
        "      패키지.클래스()"
      ],
      "metadata": {
        "id": "mPPox3FGyaah"
      }
    },
    {
      "cell_type": "code",
      "source": [
        "import calcpkg\n",
        "\n",
        "print(calcpkg.add(10,20))\n",
        "print(calcpkg.mul(10,20))\n",
        "\n",
        "print(calcpkg.triangle_area(10,20))\n",
        "print(calcpkg.rectangle_area(10,20))\n"
      ],
      "metadata": {
        "id": "WX6yCRXay31b"
      },
      "execution_count": null,
      "outputs": []
    },
    {
      "cell_type": "markdown",
      "source": [
        "__init__.py 에서 from . 모듈 import 변수, 함수, 클래스 또는 from 모듈 import *  형식으로 모듈을 가져오면 calcpkg 패키지의 네임스페이스에는 add, mul, triangle_aream, rectangle_area 가 들어감\n",
        "\n",
        "모듈을 거치지 않고 calcpkg.add처럼 패키지에 함수를 바로 사용 가능"
      ],
      "metadata": {
        "id": "wL5IdlKpzE5F"
      }
    },
    {
      "cell_type": "markdown",
      "source": [
        "<참고>\n",
        "\n",
        "__all__ 로 필요한 것만 공개하기\n",
        "\n",
        "패키지의 __init__.py에서 from . 모듈 import *로 모든 변수, 함수, 클래스를 가져오면 패키지 외부에 공개할 모듈, 변수, 함수, 클래스를 리스트 형식으로 지정해주면 됨\n",
        "\n",
        "__all__이라는 이름 그대로 모든 것을 가져갈 때의 목록을 정함"
      ],
      "metadata": {
        "id": "JuaYYUtRzgpt"
      }
    },
    {
      "cell_type": "code",
      "source": [
        "__all__ = ['add', 'triangle_area']    # calcpkg 패키지에서 add, triangle_area 함수만 공개\n",
        " \n",
        "from .operation import *    # 현재 패키지의 operation 모듈에서 모든 변수, 함수, 클래스를 가져옴\n",
        "from .geometry import *     # 현재 패키지의 geometry 모듈에서 모든 변수, 함수, 클래스를 가져옴"
      ],
      "metadata": {
        "id": "UElhhgljz8up"
      },
      "execution_count": null,
      "outputs": []
    },
    {
      "cell_type": "code",
      "source": [
        "from calcpkg import *    # calcpkg 패키지의 모든 변수, 함수, 클래스를 가져옴\n",
        " \n",
        "print(add(10, 20))    # add 함수는 공개되어 있으므로 사용할 수 있음\n",
        "print(mul(10, 20))    # 에러: mul 함수는 공개되어 있지 않으므로 사용할 수 없음\n",
        " \n",
        "print(triangle_area(30, 40))    # triangle_area 함수는 공개되어 있으므로 사용할 수 있음\n",
        "print(rectangle_area(30, 40))   # 에러: rectangle_area 함수는 공개되어 있으므로 사용할 수 있음"
      ],
      "metadata": {
        "id": "hEtf6oaEz_iw"
      },
      "execution_count": null,
      "outputs": []
    },
    {
      "cell_type": "markdown",
      "source": [
        "main.py에서 from calcpkg import *로 패키지의 모든 변수, 함수, 클래스를 가져온다 하더라도 __all__에 지정된 add, triangle_area 함수만 사용 가능"
      ],
      "metadata": {
        "id": "XxeHPVto0Cdc"
      }
    },
    {
      "cell_type": "markdown",
      "source": [
        "<참고>\n",
        "\n",
        "하위 패키지 사용하기\n",
        "\n",
        "패키지 안에 폴더를 만들고 __init__.py와 모듈을 넣으면 하위 패키지가 됨\n",
        "\n",
        "         import 패키지.하위패키지.모듈\n",
        "\n",
        "ex) \n",
        "\n",
        "호출\n",
        "\n",
        "        import calcpkg.operation.element\n",
        "\n",
        "사용\n",
        "\n",
        "        calcpkg.operation.element.add(10, 20)"
      ],
      "metadata": {
        "id": "nSK60-ya0M-C"
      }
    },
    {
      "cell_type": "markdown",
      "source": [
        "만약, import calcpkg 처럼 패키지만 가져와서 사용하고 싶다면 calcpkg/__init__.py에서 하위 패키지의 모듈에 들어있는 변수, 함수, 클래스를 모두 가져옴\n",
        "\n",
        "      from .operation.elemet import *\n",
        "      from .operation.logic import *\n",
        "      from .operation.shape import *\n",
        "      from .geometry.vector import *\n",
        "\n",
        "\n",
        "하위 패키지 안에서 옆에 있는 패키지의 요소를 가져와서 사용하려면 .. 사용\n",
        "\n",
        ".. 은 상위폴더라는 뜻 \n",
        "\n",
        "..패키지 또는 ..모듈은 상위 폴더에 있는 패키지, 모듈이라는 뜻 \n",
        "\n",
        "즉, 현재 패키지와 같은 계층의 패키지 또는 모듈\n",
        "\n",
        "...은 상위 폴더의 상위 폴더라는 뜻 \n",
        "\n",
        "        from ..패키지 import 모듈\n",
        "        from ..패키지.모듈 import 클래스, 변수, 함수\n",
        "        from ..패키지.모듈 import *\n",
        "\n",
        "\n",
        "calcpkg/geometry/shape.py에서 옆에 있는 calcpkg/operation 패키지의 element모듈을 사용한다면 다음과 같이 from ..operation import element로 지정해줌 \n",
        "\n",
        "또는 from ..operation.element import mul과 같이 지정하면 mul을 함수 그대로 사용 가능\n"
      ],
      "metadata": {
        "id": "D_i-ijPl0vAz"
      }
    },
    {
      "cell_type": "code",
      "source": [
        "from ..operation import element             # from ..operation.element import mul로도 가능\n",
        " \n",
        "def triangle_area(base, height):\n",
        "    return element.mul(base, height) / 2    # mul(base, height)로도 가능\n",
        " \n",
        "def rectangle_area(width, height):\n",
        "    return element.mul(width, height)       # mul(width, height)로도 가능"
      ],
      "metadata": {
        "id": "j6IqFFEt0Ioy"
      },
      "execution_count": null,
      "outputs": []
    },
    {
      "cell_type": "markdown",
      "source": [
        "![image.png](data:image/png;base64,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)"
      ],
      "metadata": {
        "id": "6xc3grPR3h2O"
      }
    },
    {
      "cell_type": "markdown",
      "source": [
        "<참고> 모듈과 패키지의 독스트링\n",
        "\n",
        "모듈의 독스트링 : 모듈 파일의 첫 줄에 \"\"\" \"\"\"(큰 따옴표 세 개) 또는 ''' '''(작은따옴표 세 개)를 사용하여 문자열을 넣음\n",
        "\n",
        "패키지의 독스트링 : __init__.py파일의 첫 줄에 \"\"\" \"\"\" 또는 ''' '''를 사용하여 문자열을 넣음\n",
        "\n",
        "모듈과 패키지의 독스트링을 출력하려면 모듈 또는 패키지의 __doc__를 출력하면 됨\n",
        "\n",
        "        모듈.__doc__\n",
        "        패키지.__doc__"
      ],
      "metadata": {
        "id": "G4HR0vE53nc6"
      }
    },
    {
      "cell_type": "markdown",
      "source": [
        "연습문제)\n",
        "\n",
        "표준 입력으로 정수가 입력됩니다. 주어진 calcpkg 패키지를 활용하여 입력된 정수의 제곱근과 입력된 정수를 반지름으로 하는 원의 넓이가 출력되게 만드세요. 제곱근은 calcpkg 패키지에서 operation 모듈의 squareroot 함수를 사용하고, 원의 넓이는 calcpkg 패키지에서 geometry 모듈의 circle_area 함수를 사용하세요(calcpkg 패키지를 사용하지 않고 계산하면 결과가 맞더라도 틀린 것으로 처리됩니다. 반드시 calcpkg 패키지를 사용하세요)."
      ],
      "metadata": {
        "id": "UcRUHcNk5T5w"
      }
    }
  ]
}