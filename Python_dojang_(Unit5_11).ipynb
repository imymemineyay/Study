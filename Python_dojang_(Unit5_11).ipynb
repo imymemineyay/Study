{
  "nbformat": 4,
  "nbformat_minor": 0,
  "metadata": {
    "colab": {
      "provenance": [],
      "authorship_tag": "ABX9TyMZDmoWwF6FFt65WKwoXsjK",
      "include_colab_link": true
    },
    "kernelspec": {
      "name": "python3",
      "display_name": "Python 3"
    },
    "language_info": {
      "name": "python"
    }
  },
  "cells": [
    {
      "cell_type": "markdown",
      "metadata": {
        "id": "view-in-github",
        "colab_type": "text"
      },
      "source": [
        "<a href=\"https://colab.research.google.com/github/imymemineyay/Study_Python/blob/main/Python_dojang_(Unit5_11).ipynb\" target=\"_parent\"><img src=\"https://colab.research.google.com/assets/colab-badge.svg\" alt=\"Open In Colab\"/></a>"
      ]
    },
    {
      "cell_type": "markdown",
      "source": [
        "## **Unit 5. 숫자 계산하기**"
      ],
      "metadata": {
        "id": "dRcxD45RQBKW"
      }
    },
    {
      "cell_type": "markdown",
      "source": [
        "5.1 연산자 (정수)"
      ],
      "metadata": {
        "id": "Tw_c39kfSfum"
      }
    },
    {
      "cell_type": "code",
      "source": [
        "# 정수의 덧셈\n",
        "print(1+1)\n",
        "\n",
        "# 정수의 뺄셈\n",
        "print(1-1)\n",
        "\n",
        "# 정수의 곱셈\n",
        "print(5*17)\n",
        "\n",
        "# 정수의 나눗셈 : 나눗셈 후 완전히 나누어 떨어져도 실수형으로 나타내는 연산자\n",
        "print(5/2)\n",
        "\n",
        "# 정수의 나눗셈(//) : 나눗셈 후 소수점 이하를 버리는 연산자\n",
        "print(5//2)\n",
        "\n",
        "# 정수의 나눗셈(%) : 나눗셈 후 나머지를 구하는 연산자\n",
        "print(5%2)\n",
        "\n",
        "# 정수의 제곱\n",
        "print(4**2)\n"
      ],
      "metadata": {
        "colab": {
          "base_uri": "https://localhost:8080/"
        },
        "id": "BHs8FCWuRMmI",
        "outputId": "1966a4e3-e4a8-4735-a0a4-9495c0b891ea"
      },
      "execution_count": 16,
      "outputs": [
        {
          "output_type": "stream",
          "name": "stdout",
          "text": [
            "2\n",
            "0\n",
            "85\n",
            "2.5\n",
            "2\n",
            "1\n",
            "16\n"
          ]
        }
      ]
    },
    {
      "cell_type": "markdown",
      "source": [
        "5.1 연산자 (실수)"
      ],
      "metadata": {
        "id": "hxRkn_t4YPo-"
      }
    },
    {
      "cell_type": "code",
      "source": [
        "# 실수의 덧셈\n",
        "print(3.5+2.6)\n",
        "\n",
        "# 실수의 뺄셈\n",
        "print(4.5-2.2)\n",
        "\n",
        "# 실수의 곱셈\n",
        "print(2.1*6.3)\n",
        "\n",
        "# 실수의 나눗셈\n",
        "print(5.2/2.2)\n",
        "\n",
        "# 실수와 정수 계산\n",
        "print(1.2+3)\n"
      ],
      "metadata": {
        "colab": {
          "base_uri": "https://localhost:8080/"
        },
        "id": "dny2eapkYVue",
        "outputId": "4995bca4-622c-4a7d-dd61-3a83a17fcb98"
      },
      "execution_count": 17,
      "outputs": [
        {
          "output_type": "stream",
          "name": "stdout",
          "text": [
            "6.1\n",
            "2.3\n",
            "13.23\n",
            "2.3636363636363633\n",
            "4.2\n"
          ]
        }
      ]
    },
    {
      "cell_type": "markdown",
      "source": [
        "5.1 괄호 사용하기"
      ],
      "metadata": {
        "id": "MvgY-ZIVYYoc"
      }
    },
    {
      "cell_type": "code",
      "source": [
        "print(35 + 1 * 2)\n",
        "print((35 + 1) * 2)"
      ],
      "metadata": {
        "colab": {
          "base_uri": "https://localhost:8080/"
        },
        "id": "Hf2Mms7kYYOu",
        "outputId": "3e5b42e8-11a2-48d9-88e0-2ed2c5bfc839"
      },
      "execution_count": 18,
      "outputs": [
        {
          "output_type": "stream",
          "name": "stdout",
          "text": [
            "37\n",
            "72\n"
          ]
        }
      ]
    },
    {
      "cell_type": "markdown",
      "source": [
        "5.2 값을 정수로 만들기\n",
        "- 소수점 이하 삭제"
      ],
      "metadata": {
        "id": "FfrpLUGvTW9_"
      }
    },
    {
      "cell_type": "code",
      "source": [
        "print(int(3.3))\n",
        "print(int(5/2))\n",
        "print(int('10'))"
      ],
      "metadata": {
        "colab": {
          "base_uri": "https://localhost:8080/"
        },
        "id": "eAgQYso4SS0T",
        "outputId": "0d9aa7b6-793d-4ce7-b282-cb2ad954525c"
      },
      "execution_count": 6,
      "outputs": [
        {
          "output_type": "stream",
          "name": "stdout",
          "text": [
            "3\n",
            "2\n",
            "10\n"
          ]
        }
      ]
    },
    {
      "cell_type": "markdown",
      "source": [
        "5.3 값을 실수로 만들기"
      ],
      "metadata": {
        "id": "pGWMZaLOWfbL"
      }
    },
    {
      "cell_type": "code",
      "source": [
        "print(float(5))\n",
        "print(float(1+2))\n",
        "print(float('5.4'))"
      ],
      "metadata": {
        "colab": {
          "base_uri": "https://localhost:8080/"
        },
        "id": "6TBy81SPWxjN",
        "outputId": "9cd0c098-b1b7-451a-cdca-730ca9dd608d"
      },
      "execution_count": 13,
      "outputs": [
        {
          "output_type": "stream",
          "name": "stdout",
          "text": [
            "5.0\n",
            "3.0\n",
            "5.4\n"
          ]
        }
      ]
    },
    {
      "cell_type": "markdown",
      "source": [
        "5.4 객체의 자료형 확인\n",
        "- 숫자 = 객체 = 클래스"
      ],
      "metadata": {
        "id": "WnaIIIMVUB7m"
      }
    },
    {
      "cell_type": "code",
      "source": [
        "print(type(10))\n",
        "print(type(3.5))"
      ],
      "metadata": {
        "colab": {
          "base_uri": "https://localhost:8080/"
        },
        "id": "CXS7D88ZUBlo",
        "outputId": "5e500145-cbc8-4383-934e-06f96da1ecc6"
      },
      "execution_count": 14,
      "outputs": [
        {
          "output_type": "stream",
          "name": "stdout",
          "text": [
            "<class 'int'>\n",
            "<class 'float'>\n"
          ]
        }
      ]
    },
    {
      "cell_type": "markdown",
      "source": [
        "5.5 divmod()함수 : (몫, 나머지) 출력"
      ],
      "metadata": {
        "id": "95Rv7OKuUXKT"
      }
    },
    {
      "cell_type": "code",
      "source": [
        "quotient, remainder = divmod(5,2) # 튜플 형태로 결과값 출력 그리고 unpacking\n",
        "print(quotient,remainder)"
      ],
      "metadata": {
        "colab": {
          "base_uri": "https://localhost:8080/"
        },
        "id": "6XssouL0UW9D",
        "outputId": "dc64cee3-609f-4599-c145-b742f235a5f2"
      },
      "execution_count": 8,
      "outputs": [
        {
          "output_type": "stream",
          "name": "stdout",
          "text": [
            "2 1\n"
          ]
        }
      ]
    },
    {
      "cell_type": "markdown",
      "source": [
        "참고) 복소수 \n",
        "- 실수부와 허수부(j)"
      ],
      "metadata": {
        "id": "R6-BBx8hXdU4"
      }
    },
    {
      "cell_type": "code",
      "source": [
        "print(1.2+1.3j)\n",
        "print(complex(1.2,1.3))"
      ],
      "metadata": {
        "colab": {
          "base_uri": "https://localhost:8080/"
        },
        "id": "1BMApnlcXmqh",
        "outputId": "988fd7cb-5b7f-4a71-a26f-7de6f7e58e84"
      },
      "execution_count": 15,
      "outputs": [
        {
          "output_type": "stream",
          "name": "stdout",
          "text": [
            "(1.2+1.3j)\n",
            "(1.2+1.3j)\n"
          ]
        }
      ]
    },
    {
      "cell_type": "markdown",
      "source": [
        "연습문제)\n",
        "\n",
        "L이라는 게임에서 \"왜곡\"이라는 스킬이 AP * 0.6 + 225의 피해를 입힙니다. 참고로 이 게임에서 AP(Ability Power, 주문력)는 마법 능력치를 뜻합니다. 다음 소스 코드를 완성하여 스킬의 피해량이 출력되게 만드세요.\n",
        "\n",
        "AP: 102"
      ],
      "metadata": {
        "id": "BbUnEgC8Y7VY"
      }
    },
    {
      "cell_type": "code",
      "source": [
        "print(102*0.6+225)"
      ],
      "metadata": {
        "colab": {
          "base_uri": "https://localhost:8080/"
        },
        "id": "369XCjZTY3z_",
        "outputId": "e6ff2fec-e844-4d34-ad77-5398425e8334"
      },
      "execution_count": 19,
      "outputs": [
        {
          "output_type": "stream",
          "name": "stdout",
          "text": [
            "286.2\n"
          ]
        }
      ]
    },
    {
      "cell_type": "markdown",
      "source": [
        "## **Unit 6. 변수와 입력 사용하기**"
      ],
      "metadata": {
        "id": "C8eWsrabQcNi"
      }
    },
    {
      "cell_type": "markdown",
      "source": [
        "변수 규칙\n",
        "- 영문 문자와 숫자를 사용할 수 있습니다.\n",
        "- 대소문자를 구분합니다.\n",
        "- 문자부터 시작해야 하며 숫자부터 시작하면 안 됩니다.\n",
        "- _(밑줄 문자)로 시작할 수 있습니다.\n",
        "- 특수 문자(+, -, *, /, $, @, &, % 등)는 사용할 수 없습니다.\n",
        "- 파이썬의 키워드(if, for, while, and, or 등)는 사용할 수 없습니다."
      ],
      "metadata": {
        "id": "QAEZ8z3GaCjS"
      }
    },
    {
      "cell_type": "code",
      "source": [
        "a = 10\n",
        "a"
      ],
      "metadata": {
        "colab": {
          "base_uri": "https://localhost:8080/"
        },
        "id": "XUsG4ynVRS3b",
        "outputId": "c3b8504c-6075-4362-ff71-c91abcac1f8d"
      },
      "execution_count": 20,
      "outputs": [
        {
          "output_type": "execute_result",
          "data": {
            "text/plain": [
              "10"
            ]
          },
          "metadata": {},
          "execution_count": 20
        }
      ]
    },
    {
      "cell_type": "markdown",
      "source": [
        "6.1 변수의 자료형 알아내기"
      ],
      "metadata": {
        "id": "E1npu7bJbuLg"
      }
    },
    {
      "cell_type": "code",
      "source": [
        "type(a)"
      ],
      "metadata": {
        "colab": {
          "base_uri": "https://localhost:8080/"
        },
        "id": "brkEccDJRS6W",
        "outputId": "bfaf7769-d4ff-408a-95a9-ca6ed6dc252f"
      },
      "execution_count": 21,
      "outputs": [
        {
          "output_type": "execute_result",
          "data": {
            "text/plain": [
              "int"
            ]
          },
          "metadata": {},
          "execution_count": 21
        }
      ]
    },
    {
      "cell_type": "markdown",
      "source": [
        "참고) In 프로그래밍 언어 <br>\n",
        "= 는 변수에 값을 할당한다는 의미 <br>\n",
        "연산자 == 은 수학의 등호와 같은 역할"
      ],
      "metadata": {
        "id": "yxx35UXJcFwu"
      }
    },
    {
      "cell_type": "markdown",
      "source": [
        "6.2 변수 여러 개를 한 번에 만들기 <br>\n",
        "※ 변수와 값의 개수를 맞춰야 함"
      ],
      "metadata": {
        "id": "3YyNrFuOcdAH"
      }
    },
    {
      "cell_type": "code",
      "source": [
        "x, y, z = 59,45,20\n",
        "print(x)\n",
        "print(y)\n",
        "print(z)\n",
        "print(x,y,z)"
      ],
      "metadata": {
        "colab": {
          "base_uri": "https://localhost:8080/"
        },
        "id": "knDVzuP3cFH9",
        "outputId": "37db7452-5d7e-41a1-840a-d46b2e946124"
      },
      "execution_count": 22,
      "outputs": [
        {
          "output_type": "stream",
          "name": "stdout",
          "text": [
            "59\n",
            "45\n",
            "20\n",
            "59 45 20\n"
          ]
        }
      ]
    },
    {
      "cell_type": "code",
      "source": [
        "x, y = 10, 30\n",
        "x,y = y, x\n",
        "print(x,y)"
      ],
      "metadata": {
        "colab": {
          "base_uri": "https://localhost:8080/"
        },
        "id": "4CM-ZvYcRS9j",
        "outputId": "3e6318ac-1aef-4ebb-9c6a-eccdfff2f25f"
      },
      "execution_count": 23,
      "outputs": [
        {
          "output_type": "stream",
          "name": "stdout",
          "text": [
            "30 10\n"
          ]
        }
      ]
    },
    {
      "cell_type": "markdown",
      "source": [
        "6.3 변수 삭제하기"
      ],
      "metadata": {
        "id": "_RXALHq5dA09"
      }
    },
    {
      "cell_type": "code",
      "source": [
        "del x\n",
        "x"
      ],
      "metadata": {
        "colab": {
          "base_uri": "https://localhost:8080/",
          "height": 191
        },
        "id": "7YUWgX8eRS_0",
        "outputId": "42253a81-4ad4-4ead-8880-04c897a95194"
      },
      "execution_count": 24,
      "outputs": [
        {
          "output_type": "error",
          "ename": "NameError",
          "evalue": "ignored",
          "traceback": [
            "\u001b[0;31m---------------------------------------------------------------------------\u001b[0m",
            "\u001b[0;31mNameError\u001b[0m                                 Traceback (most recent call last)",
            "\u001b[0;32m<ipython-input-24-1beca76b84e9>\u001b[0m in \u001b[0;36m<module>\u001b[0;34m\u001b[0m\n\u001b[1;32m      1\u001b[0m \u001b[0;32mdel\u001b[0m \u001b[0mx\u001b[0m\u001b[0;34m\u001b[0m\u001b[0;34m\u001b[0m\u001b[0m\n\u001b[0;32m----> 2\u001b[0;31m \u001b[0mx\u001b[0m\u001b[0;34m\u001b[0m\u001b[0;34m\u001b[0m\u001b[0m\n\u001b[0m",
            "\u001b[0;31mNameError\u001b[0m: name 'x' is not defined"
          ]
        }
      ]
    },
    {
      "cell_type": "markdown",
      "source": [
        "6.4 빈 변수 만들기 "
      ],
      "metadata": {
        "id": "LE08NlVUdHQt"
      }
    },
    {
      "cell_type": "code",
      "source": [
        "x = None\n",
        "print(x) # None : 아무것도 없는 상태를 나타내는 자료형"
      ],
      "metadata": {
        "colab": {
          "base_uri": "https://localhost:8080/"
        },
        "id": "SJvVa8CARTCK",
        "outputId": "cac31761-fdcc-4392-f043-59e45f76da24"
      },
      "execution_count": 26,
      "outputs": [
        {
          "output_type": "stream",
          "name": "stdout",
          "text": [
            "None\n"
          ]
        }
      ]
    },
    {
      "cell_type": "markdown",
      "source": [
        "6.5 산술 연산 후 할당 연산자 사용하기"
      ],
      "metadata": {
        "id": "QoU7finqdWzk"
      }
    },
    {
      "cell_type": "code",
      "source": [
        "a = 10\n",
        "print(a + 20)\n",
        "a = a + 20 # 변수 한 개에서 값의 변화를 계속 유지하려면 계산 결과를 다시 변수에 저장\n",
        "print(a)\n",
        "b = 20\n",
        "b += 10\n",
        "print(b) # 산술 연산자 앞에 =(할당 연산자)를 붙이면 연산 결과를 변수에 저장함\n",
        "         # print(b += 10) 은 invalid syntax 이유는 print(b = b + 10)은 불가능하기 때문"
      ],
      "metadata": {
        "colab": {
          "base_uri": "https://localhost:8080/"
        },
        "id": "NYD0kP1WRTEw",
        "outputId": "8af1ae55-6cfa-4f65-df2c-453b08a9ec86"
      },
      "execution_count": 31,
      "outputs": [
        {
          "output_type": "stream",
          "name": "stdout",
          "text": [
            "30\n",
            "30\n",
            "30\n"
          ]
        }
      ]
    },
    {
      "cell_type": "markdown",
      "source": [
        "6.6 부호 붙이기"
      ],
      "metadata": {
        "id": "O5plI6vZeyvb"
      }
    },
    {
      "cell_type": "code",
      "source": [
        "x = -10\n",
        "print(+x)\n",
        "print(-x)"
      ],
      "metadata": {
        "colab": {
          "base_uri": "https://localhost:8080/"
        },
        "id": "xGinAu1MRTHU",
        "outputId": "d75eb4d7-0e06-439a-a29c-0c20adfdc209"
      },
      "execution_count": 32,
      "outputs": [
        {
          "output_type": "stream",
          "name": "stdout",
          "text": [
            "-10\n",
            "10\n"
          ]
        }
      ]
    },
    {
      "cell_type": "markdown",
      "source": [
        "6.7 input함수 사용"
      ],
      "metadata": {
        "id": "0xI-lUfxe9Aw"
      }
    },
    {
      "cell_type": "code",
      "source": [
        "h = input('첫 번째 숫자를 입력하세요 : ')\n",
        "i = input('두 번째 숫자를 입력하세요 : ')\n",
        "\n",
        "print(h+i) # input함수는 문자열 형태로 출력\n",
        "print(type(h+i))"
      ],
      "metadata": {
        "colab": {
          "base_uri": "https://localhost:8080/"
        },
        "id": "WgzyRnaDfTjC",
        "outputId": "3d154f4c-c30a-4fcb-f0f0-694ac40725b6"
      },
      "execution_count": 40,
      "outputs": [
        {
          "output_type": "stream",
          "name": "stdout",
          "text": [
            "첫 번째 숫자를 입력하세요 : 5\n",
            "두 번째 숫자를 입력하세요 : 7\n",
            "57\n",
            "<class 'str'>\n"
          ]
        }
      ]
    },
    {
      "cell_type": "markdown",
      "source": [
        "6.8 입력 값을 정수로 변환"
      ],
      "metadata": {
        "id": "01o_ibzRf4r3"
      }
    },
    {
      "cell_type": "code",
      "source": [
        "a = int(input('첫 번째 숫자를 입력하세요: '))  \n",
        "b = int(input('두 번째 숫자를 입력하세요: '))\n",
        "print(a + b)"
      ],
      "metadata": {
        "colab": {
          "base_uri": "https://localhost:8080/"
        },
        "id": "M3qlTP1Zf8EE",
        "outputId": "099c0889-199f-4984-8259-6adba369050b"
      },
      "execution_count": 41,
      "outputs": [
        {
          "output_type": "stream",
          "name": "stdout",
          "text": [
            "첫 번째 숫자를 입력하세요: 20\n",
            "두 번째 숫자를 입력하세요: 50\n",
            "70\n"
          ]
        }
      ]
    },
    {
      "cell_type": "markdown",
      "source": [
        "6.9 입력 값을 변수 두 개에 저장 ❤❤\n",
        "- 변수1, 변수2 = input().split()\n",
        "- 변수1, 변수2 = input().split('기준문자열')\n",
        "- 변수1, 변수2 = input('문자열').split()\n",
        "- 변수1, 변수2 = input('문자열').split('기준문자열')\n"
      ],
      "metadata": {
        "id": "hSjJrMxAhPXJ"
      }
    },
    {
      "cell_type": "code",
      "source": [
        "a, b = input('문자열 두 개를 입력하세요: ').split() # 공백을 기준으로 분리\n",
        "print(a)\n",
        "print(b)"
      ],
      "metadata": {
        "colab": {
          "base_uri": "https://localhost:8080/"
        },
        "id": "Fi2kVJsShOPy",
        "outputId": "ac8ca07e-aaf1-4c39-9bb2-7f67a9e7411b"
      },
      "execution_count": 45,
      "outputs": [
        {
          "output_type": "stream",
          "name": "stdout",
          "text": [
            "문자열 두 개를 입력하세요: Hello, Python\n",
            "Hello,\n",
            "Python\n"
          ]
        }
      ]
    },
    {
      "cell_type": "code",
      "source": [
        "a, b = input('숫자 두 개를 입력하세요: ').split()    # 입력받은 값을 공백을 기준으로 분리\n",
        "a = int(a)    # 변수를 정수로 변환한 뒤 다시 저장\n",
        "b = int(b)    # 변수를 정수로 변환한 뒤 다시 저장\n",
        " \n",
        "print(a + b)"
      ],
      "metadata": {
        "colab": {
          "base_uri": "https://localhost:8080/"
        },
        "id": "aPRsW9yphD6g",
        "outputId": "076b200e-bbbf-4429-8462-68715a6c4345"
      },
      "execution_count": 47,
      "outputs": [
        {
          "output_type": "stream",
          "name": "stdout",
          "text": [
            "숫자 두 개를 입력하세요: 10 20\n",
            "30\n"
          ]
        }
      ]
    },
    {
      "cell_type": "markdown",
      "source": [
        "6.10 map을 사용하여 정수로 변환하기\n",
        "- 변수1, 변수2 = map(int, input().split())\n",
        "- 변수1, 변수2 = map(int, input().split('기준문자열'))\n",
        "- 변수1, 변수2 = map(int, input('문자열').split())\n",
        "- 변수1, 변수2 = map(int, input('문자열').split('기준문자열'))"
      ],
      "metadata": {
        "id": "7mYvxX5BiFB7"
      }
    },
    {
      "cell_type": "code",
      "source": [
        "a, b = map(int, input('숫자 두 개를 입력하세요: ').split(',')) # 입력받은 값을 콤마를 기준으로 분리\n",
        " \n",
        "print(a + b)"
      ],
      "metadata": {
        "colab": {
          "base_uri": "https://localhost:8080/"
        },
        "id": "Vl0jEMSXh6Bv",
        "outputId": "fc66bb1b-ba9f-4bae-adac-ebbb9bf3a572"
      },
      "execution_count": 49,
      "outputs": [
        {
          "output_type": "stream",
          "name": "stdout",
          "text": [
            "숫자 두 개를 입력하세요: 5,50\n",
            "55\n"
          ]
        }
      ]
    },
    {
      "cell_type": "markdown",
      "source": [
        "연습문제) <br>\n",
        "표준 입력으로 국어, 영어, 수학, 과학 점수가 입력됩니다. 평균 점수를 출력하는 프로그램을 만드세요(input에서 안내 문자열은 출력하지 않아야 합니다). 단, 평균 점수를 출력할 때는 소수점 이하 자리는 버립니다(정수로 출력). <br>\n",
        "입력 (83 92 87 90) 결과 (88) \n"
      ],
      "metadata": {
        "id": "o-bvAaRPiUnh"
      }
    },
    {
      "cell_type": "code",
      "source": [
        "a, b, c, d = map(int,input().split())\n",
        "print((a+b+c+d)//4)"
      ],
      "metadata": {
        "colab": {
          "base_uri": "https://localhost:8080/"
        },
        "id": "qBBUldRmiULa",
        "outputId": "179da3d9-7aaa-4579-d19c-e2c7312d40b2"
      },
      "execution_count": 58,
      "outputs": [
        {
          "output_type": "stream",
          "name": "stdout",
          "text": [
            "83 92 87 90\n",
            "88\n"
          ]
        }
      ]
    },
    {
      "cell_type": "markdown",
      "source": [
        "## **Unit 7. 출력 방법 알아보기**"
      ],
      "metadata": {
        "id": "SXB3SGmuQcQR"
      }
    },
    {
      "cell_type": "markdown",
      "source": [
        "7.1 sep활용\n",
        "- 현재 print함수 내의 내용에 영향을 줌"
      ],
      "metadata": {
        "id": "hsy7SnTpkRTF"
      }
    },
    {
      "cell_type": "code",
      "source": [
        "print('Hello', 'Python', sep='_')    # 값 사이에 문자 넣는 법\n",
        "print('Doby', 'is', 'free', sep='\\n') # 다음 줄 출력\n",
        "print('1\\n2') \n",
        "print('Bowon is', 'Bowon', sep='\\t') # \\t: 여러 칸을 띄움 \n",
        "print('Hi','there', sep='\\\\') # \\\\: \\문자 자체 출력"
      ],
      "metadata": {
        "colab": {
          "base_uri": "https://localhost:8080/"
        },
        "id": "FYhaDF16kF65",
        "outputId": "95388c02-a524-4c26-87a8-124356a957a0"
      },
      "execution_count": 64,
      "outputs": [
        {
          "output_type": "stream",
          "name": "stdout",
          "text": [
            "Hello_Python\n",
            "Doby\n",
            "is\n",
            "free\n",
            "1\n",
            "2\n",
            "Bowon is\tBowon\n",
            "Hi\\there\n"
          ]
        }
      ]
    },
    {
      "cell_type": "markdown",
      "source": [
        "7.2 end활용\n",
        "- print함수가 끝난 뒤, 그 다음에 오는 print함수에 영향을 줌"
      ],
      "metadata": {
        "id": "kEmMwR4emsMd"
      }
    },
    {
      "cell_type": "code",
      "source": [
        "print(1, end='')\n",
        "print(2, end='')\n",
        "print(3) # end에 빈 문자열을 지정하면 세 줄로 출력되지 않고 한 줄로 붙어서 출력\n",
        "\n",
        "print(1, end=' ')\n",
        "print(2, end=' ')  # print함수는 \\n을 내포하고 있음 \n",
        "print(3, end=' ')  # end에 공백 한 칸 지정"
      ],
      "metadata": {
        "colab": {
          "base_uri": "https://localhost:8080/"
        },
        "id": "i1BbM9KVmeXK",
        "outputId": "19df079b-b68c-44e7-f24a-f6e81d30964c"
      },
      "execution_count": 67,
      "outputs": [
        {
          "output_type": "stream",
          "name": "stdout",
          "text": [
            "123\n",
            "1 2 3 "
          ]
        }
      ]
    },
    {
      "cell_type": "markdown",
      "source": [
        "연습문제) <br>\n",
        "표준 입력으로 년, 월, 일, 시, 분, 초가 입력됩니다. 다음 소스 코드를 완성하여 입력된 날짜와 시간을 년-월-일T시:분:초 형식으로 출력되게 만드세요.\n",
        "\n",
        "입력 (1999 12 31 10 37 21)\n",
        "결과 (1999-12-31T10: 37 : 21)"
      ],
      "metadata": {
        "id": "ZRvnCA5QvsGI"
      }
    },
    {
      "cell_type": "code",
      "source": [
        "year,month,day,hour,minute,second = input().split()\n",
        "print(year,month,day,sep='-',end='T')\n",
        "print(hour,minute,second,sep=':')"
      ],
      "metadata": {
        "colab": {
          "base_uri": "https://localhost:8080/"
        },
        "id": "GqYdRHKWyONB",
        "outputId": "282c186d-ea7b-41b9-8cb2-c38997a49cd5"
      },
      "execution_count": 69,
      "outputs": [
        {
          "output_type": "stream",
          "name": "stdout",
          "text": [
            "1999 12 31 10 37 21\n",
            "1999-12-31T10:37:21\n"
          ]
        }
      ]
    },
    {
      "cell_type": "markdown",
      "source": [
        "## **Unit 8. 불과 비교, 논리 연산자 알아보기**"
      ],
      "metadata": {
        "id": "Iduk7AWyQcSo"
      }
    },
    {
      "cell_type": "markdown",
      "source": [
        "8.1 비교 연산자 (숫자)"
      ],
      "metadata": {
        "id": "XomBa4wq0jvw"
      }
    },
    {
      "cell_type": "code",
      "source": [
        "print(3 > 1) # 크기 비교\n",
        "print(10==10) # 같은지 비교 (equal)\n",
        "print(10 != 10) # 다른지 비교 (not equal) "
      ],
      "metadata": {
        "colab": {
          "base_uri": "https://localhost:8080/"
        },
        "id": "cvN5QvE30CVN",
        "outputId": "6d14a49a-da8e-4231-d5ab-8448e484900e"
      },
      "execution_count": 74,
      "outputs": [
        {
          "output_type": "stream",
          "name": "stdout",
          "text": [
            "True\n",
            "True\n",
            "False\n"
          ]
        }
      ]
    },
    {
      "cell_type": "markdown",
      "source": [
        "8.2 비교 연산자 (문자)"
      ],
      "metadata": {
        "id": "UycMrNpu020I"
      }
    },
    {
      "cell_type": "code",
      "source": [
        "print('Python' == 'Python')\n",
        "print('Python' == 'python')\n",
        "print('Python' != 'python')"
      ],
      "metadata": {
        "colab": {
          "base_uri": "https://localhost:8080/"
        },
        "id": "eupgr0WO0m5L",
        "outputId": "5808f6e6-fa1b-487f-e23e-be74d8bd8f90"
      },
      "execution_count": 75,
      "outputs": [
        {
          "output_type": "stream",
          "name": "stdout",
          "text": [
            "True\n",
            "False\n",
            "True\n"
          ]
        }
      ]
    },
    {
      "cell_type": "markdown",
      "source": [
        "8.3 is와 == 비교"
      ],
      "metadata": {
        "id": "KQQSjMZi3mYS"
      }
    },
    {
      "cell_type": "code",
      "source": [
        "print(1 == 1.0) # 값은 같음\n",
        "print(1 is 1.0) # is는 객체를 판별 (id로 객체의 고유한 값 확인 가능)\n",
        "print(1 is not 1.0) # is, is not은 클래스로 객체를 만든 뒤 객체가 서로 같은지 비교할 때 사용\n",
        "\n",
        "a = -5\n",
        "print(a is -5)\n",
        "\n",
        "a = -6\n",
        "print(a is -6) # 변수 a가 있는 상태에서 다른 값을 할당하면 메모리 주소 변경 가능성 있음\n",
        "print(a == -6) # 값을 비교할 때는 is가 아닌 비교 연산자를 사용해야 함  \n"
      ],
      "metadata": {
        "colab": {
          "base_uri": "https://localhost:8080/"
        },
        "id": "CA98HASU1pK8",
        "outputId": "c45a2a08-af41-4fee-9f39-cc53afaf0531"
      },
      "execution_count": 78,
      "outputs": [
        {
          "output_type": "stream",
          "name": "stdout",
          "text": [
            "True\n",
            "False\n",
            "True\n",
            "True\n",
            "False\n",
            "True\n"
          ]
        },
        {
          "output_type": "stream",
          "name": "stderr",
          "text": [
            "<>:2: SyntaxWarning: \"is\" with a literal. Did you mean \"==\"?\n",
            "<>:3: SyntaxWarning: \"is not\" with a literal. Did you mean \"!=\"?\n",
            "<>:6: SyntaxWarning: \"is\" with a literal. Did you mean \"==\"?\n",
            "<>:9: SyntaxWarning: \"is\" with a literal. Did you mean \"==\"?\n",
            "<>:2: SyntaxWarning: \"is\" with a literal. Did you mean \"==\"?\n",
            "<>:3: SyntaxWarning: \"is not\" with a literal. Did you mean \"!=\"?\n",
            "<>:6: SyntaxWarning: \"is\" with a literal. Did you mean \"==\"?\n",
            "<>:9: SyntaxWarning: \"is\" with a literal. Did you mean \"==\"?\n",
            "<ipython-input-78-3a8474cce0ec>:2: SyntaxWarning: \"is\" with a literal. Did you mean \"==\"?\n",
            "  print(1 is 1.0) # is는 객체를 판별 (id로 객체의 고유한 값 확인 가능)\n",
            "<ipython-input-78-3a8474cce0ec>:3: SyntaxWarning: \"is not\" with a literal. Did you mean \"!=\"?\n",
            "  print(1 is not 1.0) # is, is not은 클래스로 객체를 만든 뒤 객체가 서로 같은지 비교할 때 사용\n",
            "<ipython-input-78-3a8474cce0ec>:6: SyntaxWarning: \"is\" with a literal. Did you mean \"==\"?\n",
            "  print(a is -5)\n",
            "<ipython-input-78-3a8474cce0ec>:9: SyntaxWarning: \"is\" with a literal. Did you mean \"==\"?\n",
            "  print(a is -6) # 변수 a가 있는 상태에서 다른 값을 할당하면 메모리 주소 변경 가능성 있음\n"
          ]
        }
      ]
    },
    {
      "cell_type": "markdown",
      "source": [
        "8.4 논리 연산자"
      ],
      "metadata": {
        "id": "dOxyRZF83t3m"
      }
    },
    {
      "cell_type": "code",
      "source": [
        "print(True and True)\n",
        "print(False and True)\n",
        "print(False or False)\n",
        "print(True or False)\n",
        "print(not True)\n",
        "print(not True and False or not False)"
      ],
      "metadata": {
        "colab": {
          "base_uri": "https://localhost:8080/"
        },
        "id": "i78d-QU_3r8t",
        "outputId": "5f86178f-8354-4a49-bc09-c36a866da50a"
      },
      "execution_count": 79,
      "outputs": [
        {
          "output_type": "stream",
          "name": "stdout",
          "text": [
            "True\n",
            "False\n",
            "False\n",
            "True\n",
            "False\n",
            "True\n"
          ]
        }
      ]
    },
    {
      "cell_type": "markdown",
      "source": [
        "8.5 논리 연산자와 비교 연산자 사용"
      ],
      "metadata": {
        "id": "-BjCgdY64RP5"
      }
    },
    {
      "cell_type": "code",
      "source": [
        "10 == 10 and 10 != 5"
      ],
      "metadata": {
        "colab": {
          "base_uri": "https://localhost:8080/"
        },
        "id": "khdmndP04Udv",
        "outputId": "2829574c-3dcb-4eb6-939d-87b14dd26292"
      },
      "execution_count": 80,
      "outputs": [
        {
          "output_type": "execute_result",
          "data": {
            "text/plain": [
              "True"
            ]
          },
          "metadata": {},
          "execution_count": 80
        }
      ]
    },
    {
      "cell_type": "markdown",
      "source": [
        "8.6 정수, 실수, 문자열을 불로 만들기"
      ],
      "metadata": {
        "id": "ingtRxap4dO6"
      }
    },
    {
      "cell_type": "code",
      "source": [
        "print(bool(1)) # 정수 1 == True\n",
        "print(bool(0)) # 정수 0 == False\n",
        "print(bool(1.3)) # 숫자 == True\n",
        "print(bool('False')) # 문자 == True\n",
        "print(bool()) # 빈 값 == False"
      ],
      "metadata": {
        "colab": {
          "base_uri": "https://localhost:8080/"
        },
        "id": "AD9-cs3o4fxu",
        "outputId": "0b0650ec-378a-4972-a423-10d1183426a7"
      },
      "execution_count": 81,
      "outputs": [
        {
          "output_type": "stream",
          "name": "stdout",
          "text": [
            "True\n",
            "False\n",
            "True\n",
            "True\n",
            "False\n"
          ]
        }
      ]
    },
    {
      "cell_type": "markdown",
      "source": [
        "8.7 단락 평가 \n",
        "- 첫 번째 값만으로 결과가 확실할 때 두 번째 값은 확인하지 않는 방법"
      ],
      "metadata": {
        "id": "F-rj3sP-4-4j"
      }
    },
    {
      "cell_type": "code",
      "source": [
        "print(False and True)\n",
        "print(True or False)"
      ],
      "metadata": {
        "colab": {
          "base_uri": "https://localhost:8080/"
        },
        "id": "Lx_ahvfp5KMZ",
        "outputId": "df5e7d1b-8c73-4e1f-f838-d1383e29fd93"
      },
      "execution_count": 83,
      "outputs": [
        {
          "output_type": "stream",
          "name": "stdout",
          "text": [
            "False\n",
            "True\n"
          ]
        }
      ]
    },
    {
      "cell_type": "markdown",
      "source": [
        "- 파이썬에서 논리 연산자는 마지막으로 단락 평가를 실시한 값을 그대로 반환\n",
        "- 논리 연산자는 무조건 불을 반환하지 않음"
      ],
      "metadata": {
        "id": "fu9WLP9r5cqY"
      }
    },
    {
      "cell_type": "code",
      "source": [
        "print('Python' and True)\n",
        "print('Python' or False)\n",
        "print(False or 'Python')\n",
        "print(0 and 'Python')\n",
        "print(0 or False)"
      ],
      "metadata": {
        "colab": {
          "base_uri": "https://localhost:8080/"
        },
        "id": "uXPM32Ot545s",
        "outputId": "d30275ad-f304-4036-c7a2-33d8064fe18f"
      },
      "execution_count": 88,
      "outputs": [
        {
          "output_type": "stream",
          "name": "stdout",
          "text": [
            "True\n",
            "Python\n",
            "Python\n",
            "0\n",
            "False\n"
          ]
        }
      ]
    },
    {
      "cell_type": "markdown",
      "source": [
        "연습문제) <br>\n",
        "표준 입력으로 국어, 영어, 수학, 과학 점수가 입력됩니다. 국어는 90점 이상, 영어는 80점 초과, 수학은 85점 초과, 과학은 80점 이상일 때 합격이라고 정했습니다(한 과목이라도 조건에 만족하지 않으면 불합격). 다음 소스 코드를 완성하여 합격이면 True, 불합격이면 False가 출력되게 만드세요(input에서 안내 문자열은 출력하지 않아야 합니다). <br><br>\n",
        "입력 (90 81 68 80) <br>\n",
        "결과 True"
      ],
      "metadata": {
        "id": "8sfrgHJN6T07"
      }
    },
    {
      "cell_type": "code",
      "source": [
        "Korean, English, Math, Science = map(int,input().split())\n",
        "print(Korean>=90 and English>80 and Math>85 and Science>=80)"
      ],
      "metadata": {
        "colab": {
          "base_uri": "https://localhost:8080/"
        },
        "id": "Y2sMs0kC6jSb",
        "outputId": "83135137-7701-4d5f-c054-1bcd96176792"
      },
      "execution_count": 89,
      "outputs": [
        {
          "output_type": "stream",
          "name": "stdout",
          "text": [
            "90 81 86 80\n",
            "True\n"
          ]
        }
      ]
    },
    {
      "cell_type": "markdown",
      "source": [
        "## **Unit 9. 문자열 사용하기**\n"
      ],
      "metadata": {
        "id": "d3jGhYj1QcVI"
      }
    },
    {
      "cell_type": "markdown",
      "source": [
        "' ' (작은 따옴표) <br>\n",
        "\" \" (큰 따옴표) <br>\n",
        "''' (작은 따옴표 3개) <br>\n",
        "\"\"\" (큰 따옴표 3개) <br>"
      ],
      "metadata": {
        "id": "sNidNWu770Sc"
      }
    },
    {
      "cell_type": "markdown",
      "source": [
        "9.1 따옴표 사용법"
      ],
      "metadata": {
        "id": "Pp1QIih9-e-I"
      }
    },
    {
      "cell_type": "code",
      "source": [
        "a = 'Hello, World'\n",
        "b = '''Hello, Python!'''\n",
        "c = '''Hello, world!\n",
        "안녕하세요.\n",
        "Python입니다.''' # 작은 따옴표 안에 엔터 키를 누르면 다음 줄로 이동함 \n",
        "print(a)\n",
        "print(b)\n",
        "print(c)"
      ],
      "metadata": {
        "colab": {
          "base_uri": "https://localhost:8080/"
        },
        "id": "fELXWFXc9VmZ",
        "outputId": "b8b66dbe-766f-40fb-df30-0a910ba37fc3"
      },
      "execution_count": 90,
      "outputs": [
        {
          "output_type": "stream",
          "name": "stdout",
          "text": [
            "Hello, World\n",
            "Hello, Python!\n",
            "Hello, world!\n",
            "안녕하세요.\n",
            "Python입니다.\n"
          ]
        }
      ]
    },
    {
      "cell_type": "code",
      "source": [
        "s = \"Pythong isn't difficult\" # 같은 따옴표를 중복으로 사용할 수 없음\n",
        "r = 'He said \"Pythong is easy\"'\n",
        "y = 'Python isn\\'t difficult' # 같은 따옴표를 사용하려면 \\를 사용하면 됨\n",
        "print(s)\n",
        "print(r)\n",
        "print(y)"
      ],
      "metadata": {
        "colab": {
          "base_uri": "https://localhost:8080/"
        },
        "id": "8ggpPhlZ-cJu",
        "outputId": "6d2e8f51-11e7-41bc-ebee-5b986fd98860"
      },
      "execution_count": 93,
      "outputs": [
        {
          "output_type": "stream",
          "name": "stdout",
          "text": [
            "Pythong isn't difficult\n",
            "He said \"Pythong is easy\"\n",
            "Python isn't difficult\n"
          ]
        }
      ]
    },
    {
      "cell_type": "code",
      "source": [
        "print('Hello\\nPython') # 개행 문자(\\n)을 넣으면 따옴표 세 개로 묶지 않아도 여러 줄로 된 문자열을 사용할 수 있음"
      ],
      "metadata": {
        "colab": {
          "base_uri": "https://localhost:8080/"
        },
        "id": "8ZWoIJc6_N6z",
        "outputId": "e216d662-6e30-4b0c-d688-e22570f6f682"
      },
      "execution_count": 94,
      "outputs": [
        {
          "output_type": "stream",
          "name": "stdout",
          "text": [
            "Hello\n",
            "Python\n"
          ]
        }
      ]
    },
    {
      "cell_type": "markdown",
      "source": [
        "연습문제) <br>\n",
        "다음 소스 코드를 완성하여 실행 결과대로 문자열이 출력되게 만드세요. <br>\n",
        "'Python' is a \"programming language\"\n",
        "that lets you work quickly\n",
        "and\n",
        "integrate systems more effectively."
      ],
      "metadata": {
        "id": "pfzvcCHpB7Rv"
      }
    },
    {
      "cell_type": "code",
      "source": [
        "s = ''''Python' is a \"programming language\" \n",
        "that lets you work quickly\n",
        "and \n",
        "integrate systems more effectively.'''\n",
        "print(s)"
      ],
      "metadata": {
        "colab": {
          "base_uri": "https://localhost:8080/"
        },
        "id": "YskyHj5NB6oF",
        "outputId": "e1954918-2d3b-4460-8e19-ddeb4edf43d4"
      },
      "execution_count": 99,
      "outputs": [
        {
          "output_type": "stream",
          "name": "stdout",
          "text": [
            "'Python' is a \"programming language\" \n",
            "that lets you work quickly\n",
            "and \n",
            "integrate systems more effectively.\n"
          ]
        }
      ]
    },
    {
      "cell_type": "markdown",
      "source": [
        "## **Unit 10. 리스트와 튜플 사용하기**"
      ],
      "metadata": {
        "id": "cwS68I8gQcXd"
      }
    },
    {
      "cell_type": "markdown",
      "source": [
        "10.1\n",
        "- 리스트 : 값을 일렬로 늘어놓은 형태 <br>\n",
        "         : [](대괄호) \n",
        "         : 각 값은 ,(콤마)로 구분 \n",
        "         : 리스트 = [값, 값, 값]\n",
        "         : 모든 자료형 저장 가능"
      ],
      "metadata": {
        "id": "nnjBf7AiEp9p"
      }
    },
    {
      "cell_type": "code",
      "source": [
        "person = ['james', 17, 175.3, True]\n",
        "person"
      ],
      "metadata": {
        "colab": {
          "base_uri": "https://localhost:8080/"
        },
        "id": "1i--cUiTFb5j",
        "outputId": "adb3979f-2be7-40e0-fe5e-c958d75cef49"
      },
      "execution_count": 100,
      "outputs": [
        {
          "output_type": "execute_result",
          "data": {
            "text/plain": [
              "['james', 17, 175.3, True]"
            ]
          },
          "metadata": {},
          "execution_count": 100
        }
      ]
    },
    {
      "cell_type": "code",
      "source": [
        "a = [] # 빈 리스트 \n",
        "b = list() # 빈 리스트 \n",
        "print(a)\n",
        "print(b)"
      ],
      "metadata": {
        "colab": {
          "base_uri": "https://localhost:8080/"
        },
        "id": "hJdR_8glFkn8",
        "outputId": "547c2dff-7986-4064-d8e6-9894ebae0fac"
      },
      "execution_count": 102,
      "outputs": [
        {
          "output_type": "stream",
          "name": "stdout",
          "text": [
            "[]\n",
            "[]\n"
          ]
        }
      ]
    },
    {
      "cell_type": "markdown",
      "source": [
        "10.2 \n",
        "- 튜플 사용 : 요소를 일렬로 저장, <br>\n",
        "저장된 요소 변경, 추가, 삭제 불가\n",
        "            : ()(괄호)\n",
        "            : 각 값은 ,(콤마)로 구분\n",
        "            : 괄호 묶지 않고 콤마로만 구분해도 튜플\n"
      ],
      "metadata": {
        "id": "5hQYl5EzG97N"
      }
    },
    {
      "cell_type": "code",
      "source": [
        "person = ('james', 17, 175.3, True) # 튜플화 \n",
        "print(person)\n",
        "print((98,)) # 한 개짜리 튜플 생성법"
      ],
      "metadata": {
        "colab": {
          "base_uri": "https://localhost:8080/"
        },
        "id": "ehU7awuxHgcc",
        "outputId": "a6853119-3919-4cf7-af47-b409850190bc"
      },
      "execution_count": 106,
      "outputs": [
        {
          "output_type": "stream",
          "name": "stdout",
          "text": [
            "('james', 17, 175.3, True)\n",
            "(98,)\n"
          ]
        }
      ]
    },
    {
      "cell_type": "markdown",
      "source": [
        "10.3 range 사용 \n",
        "- range 출력 방식 골라야 함\n",
        "- range의 마지막 값 ==  입력한 숫자 -1의 값\n"
      ],
      "metadata": {
        "id": "zA95flosF33o"
      }
    },
    {
      "cell_type": "markdown",
      "source": [
        "10.3.1 range를 사용하여 리스트 만들기"
      ],
      "metadata": {
        "id": "yhT9mz9tIGkf"
      }
    },
    {
      "cell_type": "code",
      "source": [
        "print(list(range(10))) # 0부터 10개의 숫자 리스트화 \n",
        "print(list(range(5,10))) # 시작과 끝 지정해서 리스트화\n",
        "print(list(range(-4,15,3))) # 시작과 끝 그리고 증가폭 설정한 후 리스트화\n",
        "print(list(range(10,0,-3))) # 증가폭을 음수로 지정하면 해당 값만큼 숫자 감소 "
      ],
      "metadata": {
        "colab": {
          "base_uri": "https://localhost:8080/"
        },
        "id": "0MmWKgbFFs7n",
        "outputId": "536b3c51-54d1-4f76-953d-e5b5c7b42b62"
      },
      "execution_count": 105,
      "outputs": [
        {
          "output_type": "stream",
          "name": "stdout",
          "text": [
            "[0, 1, 2, 3, 4, 5, 6, 7, 8, 9]\n",
            "[5, 6, 7, 8, 9]\n",
            "[-4, -1, 2, 5, 8, 11, 14]\n",
            "[10, 7, 4, 1]\n"
          ]
        }
      ]
    },
    {
      "cell_type": "markdown",
      "source": [
        "10.3.2 range를 사용하여 튜프 만들기"
      ],
      "metadata": {
        "id": "_IHADP0YILHp"
      }
    },
    {
      "cell_type": "code",
      "source": [
        "print(tuple(range(10)))\n",
        "print(tuple(range(5,10)))\n",
        "print(tuple(range(-4,15,2)))\n"
      ],
      "metadata": {
        "colab": {
          "base_uri": "https://localhost:8080/"
        },
        "id": "jE0SmDeSIPci",
        "outputId": "3b96c198-4b68-4498-e141-e8590926aae0"
      },
      "execution_count": 107,
      "outputs": [
        {
          "output_type": "stream",
          "name": "stdout",
          "text": [
            "(0, 1, 2, 3, 4, 5, 6, 7, 8, 9)\n",
            "(5, 6, 7, 8, 9)\n",
            "(-4, -2, 0, 2, 4, 6, 8, 10, 12, 14)\n"
          ]
        }
      ]
    },
    {
      "cell_type": "markdown",
      "source": [
        "10.4 튜플 → 리스트 / 리스트 → 튜플"
      ],
      "metadata": {
        "id": "Bn8oKxfBId1E"
      }
    },
    {
      "cell_type": "code",
      "source": [
        "a = [1,2,3]\n",
        "tuple(a)"
      ],
      "metadata": {
        "colab": {
          "base_uri": "https://localhost:8080/"
        },
        "id": "wrbjn9hlIk7q",
        "outputId": "2d680c1b-489a-4dda-88c0-053630082451"
      },
      "execution_count": 108,
      "outputs": [
        {
          "output_type": "execute_result",
          "data": {
            "text/plain": [
              "(1, 2, 3)"
            ]
          },
          "metadata": {},
          "execution_count": 108
        }
      ]
    },
    {
      "cell_type": "code",
      "source": [
        "b = (4,5,6)\n",
        "list(b)"
      ],
      "metadata": {
        "colab": {
          "base_uri": "https://localhost:8080/"
        },
        "id": "I8DsHmVNItEP",
        "outputId": "675fa890-a21d-4e02-dea1-1e4b794f9bb3"
      },
      "execution_count": 109,
      "outputs": [
        {
          "output_type": "execute_result",
          "data": {
            "text/plain": [
              "[4, 5, 6]"
            ]
          },
          "metadata": {},
          "execution_count": 109
        }
      ]
    },
    {
      "cell_type": "code",
      "source": [
        "print(list('Hello')) # 문자 리스트 생성\n",
        "print(tuple('Hello')) #  문자 튜플 생성"
      ],
      "metadata": {
        "colab": {
          "base_uri": "https://localhost:8080/"
        },
        "id": "tnI83m7dJmAN",
        "outputId": "9f98fad4-b70d-405d-9ddc-7235b38f8572"
      },
      "execution_count": 110,
      "outputs": [
        {
          "output_type": "stream",
          "name": "stdout",
          "text": [
            "['H', 'e', 'l', 'l', 'o']\n",
            "('H', 'e', 'l', 'l', 'o')\n"
          ]
        }
      ]
    },
    {
      "cell_type": "code",
      "source": [
        "a, b, c = [1,2,3] # 언패킹\n",
        "print(a,b,c)\n",
        "\n",
        "d, e, f = (4,5,6)\n",
        "print(d,e,f) \n",
        "\n",
        "k = (4,5,6) # 튜플 패킹\n",
        "i,g,t = k\n",
        "print(i,g,t)"
      ],
      "metadata": {
        "colab": {
          "base_uri": "https://localhost:8080/"
        },
        "id": "umXsmXGMSkII",
        "outputId": "c8939dab-60cc-4126-e4c8-4172f099cd6c"
      },
      "execution_count": 111,
      "outputs": [
        {
          "output_type": "stream",
          "name": "stdout",
          "text": [
            "1 2 3\n",
            "4 5 6\n",
            "4 5 6\n"
          ]
        }
      ]
    },
    {
      "cell_type": "code",
      "source": [
        "x = input().split()\n",
        "a, b = x\n",
        "print(a, b)"
      ],
      "metadata": {
        "colab": {
          "base_uri": "https://localhost:8080/"
        },
        "id": "Xx11MJm5TIOo",
        "outputId": "88e6d165-76ce-45e1-a4cf-50c2e75d1673"
      },
      "execution_count": 112,
      "outputs": [
        {
          "output_type": "stream",
          "name": "stdout",
          "text": [
            "50 6\n",
            "50 6\n"
          ]
        }
      ]
    },
    {
      "cell_type": "markdown",
      "source": [
        "연습문제) <br>\n",
        "표준 입력으로 정수가 입력됩니다. range의 시작하는 숫자는 -10, 끝나는 숫자는 10이며 입력된 정수만큼 증가하는 숫자가 들어가도록 튜플을 만들고, 해당 튜플을 출력하는 프로그램을 만드세요(input에서 안내 문자열은 출력하지 않아야 합니다). <br>\n",
        "입력(2)"
      ],
      "metadata": {
        "id": "dhLDL2WbG6kR"
      }
    },
    {
      "cell_type": "code",
      "source": [
        "k = int(input())\n",
        "tuple(range(-10,10,k))\n",
        "\n"
      ],
      "metadata": {
        "colab": {
          "base_uri": "https://localhost:8080/"
        },
        "id": "tu2VK_o4Uugx",
        "outputId": "6ff1fc44-3e9d-49b3-891e-818cbbbe4d6f"
      },
      "execution_count": 131,
      "outputs": [
        {
          "name": "stdout",
          "output_type": "stream",
          "text": [
            "2\n"
          ]
        },
        {
          "output_type": "execute_result",
          "data": {
            "text/plain": [
              "(-10, -8, -6, -4, -2, 0, 2, 4, 6, 8)"
            ]
          },
          "metadata": {},
          "execution_count": 131
        }
      ]
    },
    {
      "cell_type": "markdown",
      "source": [
        "### **Unit 11. 시퀀스 자료형 활용하기**\n"
      ],
      "metadata": {
        "id": "Zqkh17DEQcZ9"
      }
    },
    {
      "cell_type": "markdown",
      "source": [
        "시퀀스 자료형 : 값이 연속적으로 이어진 자료형 <br>\n",
        "ex) 리스트, 튜플, range, 문자열, bytes, bytearray <br><br>\n",
        "\n",
        "요소 : 시퀀스 객체에 들어있는 각 값"
      ],
      "metadata": {
        "id": "U3-JOJPnYKLM"
      }
    },
    {
      "cell_type": "markdown",
      "source": [
        "11.1 객체에 요소 포함 여부 확인"
      ],
      "metadata": {
        "id": "bUAaaobmZA9R"
      }
    },
    {
      "cell_type": "code",
      "source": [
        "a = [0, 10, 20, 30, 40, 50, 60]\n",
        "print(30 in a)\n",
        "print(100 in a) \n",
        "print(100 not in a)\n",
        "print(30 not in a)"
      ],
      "metadata": {
        "colab": {
          "base_uri": "https://localhost:8080/"
        },
        "id": "9ygaKEdWYVSI",
        "outputId": "106555fa-09c6-4440-92e9-745ffdc4dc57"
      },
      "execution_count": 134,
      "outputs": [
        {
          "output_type": "stream",
          "name": "stdout",
          "text": [
            "True\n",
            "False\n",
            "True\n",
            "False\n"
          ]
        }
      ]
    },
    {
      "cell_type": "code",
      "source": [
        "'P' in 'Python'"
      ],
      "metadata": {
        "colab": {
          "base_uri": "https://localhost:8080/"
        },
        "id": "069i8okRY3S5",
        "outputId": "9481affa-aeca-4605-dfa2-0f6f3f41d8b0"
      },
      "execution_count": 135,
      "outputs": [
        {
          "output_type": "execute_result",
          "data": {
            "text/plain": [
              "True"
            ]
          },
          "metadata": {},
          "execution_count": 135
        }
      ]
    },
    {
      "cell_type": "markdown",
      "source": [
        "11.2 시퀀스 객체 연결"
      ],
      "metadata": {
        "id": "-naQwN2-Y8fP"
      }
    },
    {
      "cell_type": "code",
      "source": [
        "a = [0, 10, 20, 30]\n",
        "b = [9, 8, 7, 6]\n",
        "a+b"
      ],
      "metadata": {
        "colab": {
          "base_uri": "https://localhost:8080/"
        },
        "id": "x8TpoQ1IZFRQ",
        "outputId": "c089c943-a78e-475f-f71b-fb52da7995c4"
      },
      "execution_count": 136,
      "outputs": [
        {
          "output_type": "execute_result",
          "data": {
            "text/plain": [
              "[0, 10, 20, 30, 9, 8, 7, 6]"
            ]
          },
          "metadata": {},
          "execution_count": 136
        }
      ]
    },
    {
      "cell_type": "code",
      "source": [
        "range(0, 10) + range(10, 20) # range는 + 연산자로 객체를 연결할 수 없음 \n",
        "                             # 리스트 또는 튜플로 만들면 연결 가능"
      ],
      "metadata": {
        "colab": {
          "base_uri": "https://localhost:8080/",
          "height": 191
        },
        "id": "vxVtHHr_ZQms",
        "outputId": "7aba1d07-350b-447a-a90e-f4b47aa090bb"
      },
      "execution_count": 138,
      "outputs": [
        {
          "output_type": "error",
          "ename": "TypeError",
          "evalue": "ignored",
          "traceback": [
            "\u001b[0;31m---------------------------------------------------------------------------\u001b[0m",
            "\u001b[0;31mTypeError\u001b[0m                                 Traceback (most recent call last)",
            "\u001b[0;32m<ipython-input-138-fbd45f5c68af>\u001b[0m in \u001b[0;36m<module>\u001b[0;34m\u001b[0m\n\u001b[0;32m----> 1\u001b[0;31m \u001b[0mrange\u001b[0m\u001b[0;34m(\u001b[0m\u001b[0;36m0\u001b[0m\u001b[0;34m,\u001b[0m \u001b[0;36m10\u001b[0m\u001b[0;34m)\u001b[0m \u001b[0;34m+\u001b[0m \u001b[0mrange\u001b[0m\u001b[0;34m(\u001b[0m\u001b[0;36m10\u001b[0m\u001b[0;34m,\u001b[0m \u001b[0;36m20\u001b[0m\u001b[0;34m)\u001b[0m \u001b[0;31m# range는 + 연산자로 객체를 연결할 수 없음\u001b[0m\u001b[0;34m\u001b[0m\u001b[0;34m\u001b[0m\u001b[0m\n\u001b[0m\u001b[1;32m      2\u001b[0m                              \u001b[0;31m# 리스트 또는 튜플로 만들면 연결 가능\u001b[0m\u001b[0;34m\u001b[0m\u001b[0;34m\u001b[0m\u001b[0;34m\u001b[0m\u001b[0m\n",
            "\u001b[0;31mTypeError\u001b[0m: unsupported operand type(s) for +: 'range' and 'range'"
          ]
        }
      ]
    },
    {
      "cell_type": "code",
      "source": [
        "print('Hello, ' + 'Python') # 문자 연결\n",
        "print('Hello, ' + str(10)) # 숫자를 문자화시키면 가능\n",
        "print('Hello, ' + 10) # 문자와 숫자 연결하면 에러 발생"
      ],
      "metadata": {
        "colab": {
          "base_uri": "https://localhost:8080/",
          "height": 246
        },
        "id": "TWmb-hptZekk",
        "outputId": "5e28bc79-f942-4427-a7b6-88b29442faae"
      },
      "execution_count": 143,
      "outputs": [
        {
          "output_type": "stream",
          "name": "stdout",
          "text": [
            "Hello, Python\n",
            "Hello, 10\n"
          ]
        },
        {
          "output_type": "error",
          "ename": "TypeError",
          "evalue": "ignored",
          "traceback": [
            "\u001b[0;31m---------------------------------------------------------------------------\u001b[0m",
            "\u001b[0;31mTypeError\u001b[0m                                 Traceback (most recent call last)",
            "\u001b[0;32m<ipython-input-143-ce14f2a73d02>\u001b[0m in \u001b[0;36m<module>\u001b[0;34m\u001b[0m\n\u001b[1;32m      1\u001b[0m \u001b[0mprint\u001b[0m\u001b[0;34m(\u001b[0m\u001b[0;34m'Hello, '\u001b[0m \u001b[0;34m+\u001b[0m \u001b[0;34m'Python'\u001b[0m\u001b[0;34m)\u001b[0m \u001b[0;31m# 문자 연결\u001b[0m\u001b[0;34m\u001b[0m\u001b[0;34m\u001b[0m\u001b[0m\n\u001b[1;32m      2\u001b[0m \u001b[0mprint\u001b[0m\u001b[0;34m(\u001b[0m\u001b[0;34m'Hello, '\u001b[0m \u001b[0;34m+\u001b[0m \u001b[0mstr\u001b[0m\u001b[0;34m(\u001b[0m\u001b[0;36m10\u001b[0m\u001b[0;34m)\u001b[0m\u001b[0;34m)\u001b[0m \u001b[0;31m# 숫자를 문자화시키면 가능\u001b[0m\u001b[0;34m\u001b[0m\u001b[0;34m\u001b[0m\u001b[0m\n\u001b[0;32m----> 3\u001b[0;31m \u001b[0mprint\u001b[0m\u001b[0;34m(\u001b[0m\u001b[0;34m'Hello, '\u001b[0m \u001b[0;34m+\u001b[0m \u001b[0;36m10\u001b[0m\u001b[0;34m)\u001b[0m \u001b[0;31m# 문자와 숫자 연결하면 에러 발생\u001b[0m\u001b[0;34m\u001b[0m\u001b[0;34m\u001b[0m\u001b[0m\n\u001b[0m",
            "\u001b[0;31mTypeError\u001b[0m: can only concatenate str (not \"int\") to str"
          ]
        }
      ]
    },
    {
      "cell_type": "markdown",
      "source": [
        "11.3 시퀀스 객체 반복"
      ],
      "metadata": {
        "id": "MwUFyT6caFoh"
      }
    },
    {
      "cell_type": "code",
      "source": [
        "print([0, 10, 20, 30] * 3)\n",
        "print(list(range(0, 5, 2)) * 3)\n",
        "print('Hello, ' * 3)"
      ],
      "metadata": {
        "colab": {
          "base_uri": "https://localhost:8080/"
        },
        "id": "rDbgBTwoZluP",
        "outputId": "430b97f8-0ef1-4b6e-b199-90ce3681ac3d"
      },
      "execution_count": 145,
      "outputs": [
        {
          "output_type": "stream",
          "name": "stdout",
          "text": [
            "[0, 10, 20, 30, 0, 10, 20, 30, 0, 10, 20, 30]\n",
            "[0, 2, 4, 0, 2, 4, 0, 2, 4]\n",
            "Hello, Hello, Hello, \n"
          ]
        }
      ]
    },
    {
      "cell_type": "markdown",
      "source": [
        "11.4 시퀀스 요소 개수 구하기"
      ],
      "metadata": {
        "id": "8e-BDC2waWSG"
      }
    },
    {
      "cell_type": "code",
      "source": [
        "a = [0, 10, 20, 30, 40, 50, 60, 70, 80, 90]\n",
        "print(len(a)) # 리스트 요소 개수\n",
        "\n",
        "b = (38, 76, 43, 62, 19)\n",
        "print(len(b)) # 튜플 요소 개수\n",
        "\n",
        "print(len(range(0, 10, 2))) # range 요소 개수\n",
        "\n",
        "hello = 'Hello, World' # 문자열의 길이\n",
        "len(hello) # 공백 포함해서 카운트/ 문자열 바이트는 한글 글자 하나 당 3바이트"
      ],
      "metadata": {
        "colab": {
          "base_uri": "https://localhost:8080/"
        },
        "id": "cnbIzH3nabnP",
        "outputId": "eb63a2d7-d212-4a1c-9f2a-43fec6730f5e"
      },
      "execution_count": 2,
      "outputs": [
        {
          "output_type": "stream",
          "name": "stdout",
          "text": [
            "10\n",
            "5\n",
            "5\n"
          ]
        },
        {
          "output_type": "execute_result",
          "data": {
            "text/plain": [
              "12"
            ]
          },
          "metadata": {},
          "execution_count": 2
        }
      ]
    },
    {
      "cell_type": "markdown",
      "source": [
        "11.5 인덱스 사용"
      ],
      "metadata": {
        "id": "I7UkvONMJJYI"
      }
    },
    {
      "cell_type": "code",
      "source": [
        "a = [9,5,8,6,2] # 리스트\n",
        "print(a[0]) # 첫 번째 요소 출력\n",
        "print(a[-1]) # 마지막 요소 출력\n",
        "print(a.__getitem__(2)) # 시퀀스객체.__getitem__(인덱스)\n",
        "\n",
        "b = (5,8,9,7,8) # 튜플\n",
        "print(b[4]) # 네 번째 요소 출력\n",
        "print(b.__getitem__(1)) # 두 분째 요소 출력\n",
        "\n",
        "r = range(2,18,3) # range\n",
        "print(r[5]) # 다섯 번째 요소 출력\n",
        "print(r.__getitem__(-3))\n",
        "\n",
        "h = 'hi, there' # 문자열\n",
        "print(h[-3]) # 뒤에서 세 번째 요소 출력\n",
        "\n",
        "p = ['pineapple',2,True,'k'] # 리스트\n",
        "print(p) # 모든 인덱스 요소 출력\n",
        "print(p.__getitem__(2)) "
      ],
      "metadata": {
        "colab": {
          "base_uri": "https://localhost:8080/"
        },
        "id": "7RHSQV6yIfzC",
        "outputId": "a783e68c-b822-41d0-9336-779a732f8119"
      },
      "execution_count": 19,
      "outputs": [
        {
          "output_type": "stream",
          "name": "stdout",
          "text": [
            "9\n",
            "2\n",
            "8\n",
            "8\n",
            "8\n",
            "17\n",
            "11\n",
            "e\n",
            "['pineapple', 2, True, 'k']\n",
            "True\n"
          ]
        }
      ]
    },
    {
      "cell_type": "markdown",
      "source": [
        "11.6 마지막 요소에 접근"
      ],
      "metadata": {
        "id": "4faSfs6IL0-2"
      }
    },
    {
      "cell_type": "code",
      "source": [
        "a = [58,9,8,7,2,33,56]\n",
        "print(len(a)) # 리스트의 길이 구함\n",
        "print(a[6])\n",
        "print(a[len(a)-1]) # 마지막 요소 출력"
      ],
      "metadata": {
        "colab": {
          "base_uri": "https://localhost:8080/"
        },
        "id": "DQP7HgN6L3_L",
        "outputId": "a410637f-b660-4cfc-be20-f2413c0f1f3c"
      },
      "execution_count": 20,
      "outputs": [
        {
          "output_type": "stream",
          "name": "stdout",
          "text": [
            "7\n",
            "56\n",
            "56\n"
          ]
        }
      ]
    },
    {
      "cell_type": "markdown",
      "source": [
        "11.7 요소에 값 할당 <br>\n",
        "🤯 튜플, range, 문자열: read only"
      ],
      "metadata": {
        "id": "xfsmUTU5MVFy"
      }
    },
    {
      "cell_type": "code",
      "source": [
        "a = [None,None,None,None] # 리스트 \n",
        "a[0]='hi' # 첫 번째 요소에 값 할당\n",
        "a[1]=82 # 두 번째 요소에 값 할당\n",
        "a[2]='bye'\n",
        "a[3]=99\n",
        "print(a) # 범위를 벗어난 인덱스 지정 불가\n",
        "\n",
        "b = (0,0,0,0,0,0) # 튜플\n",
        "b[0]=22 # 튜플 삭제, 변경, 추가 불가 그러므로 에러 발생\n",
        "print(b)\n",
        "\n",
        "c = range(0,12,2) # range\n",
        "c[2] = 3 # range와 문자열 역시 저장된 요소 변경 불가"
      ],
      "metadata": {
        "colab": {
          "base_uri": "https://localhost:8080/",
          "height": 264
        },
        "id": "Cc1qW4cUMkY2",
        "outputId": "1c7375fe-3fcc-4f7f-d090-d38a59d09916"
      },
      "execution_count": 27,
      "outputs": [
        {
          "output_type": "stream",
          "name": "stdout",
          "text": [
            "['hi', 82, 'bye', 99]\n"
          ]
        },
        {
          "output_type": "error",
          "ename": "TypeError",
          "evalue": "ignored",
          "traceback": [
            "\u001b[0;31m---------------------------------------------------------------------------\u001b[0m",
            "\u001b[0;31mTypeError\u001b[0m                                 Traceback (most recent call last)",
            "\u001b[0;32m<ipython-input-27-6991f6126ae4>\u001b[0m in \u001b[0;36m<module>\u001b[0;34m\u001b[0m\n\u001b[1;32m      7\u001b[0m \u001b[0;34m\u001b[0m\u001b[0m\n\u001b[1;32m      8\u001b[0m \u001b[0mb\u001b[0m \u001b[0;34m=\u001b[0m \u001b[0;34m(\u001b[0m\u001b[0;36m0\u001b[0m\u001b[0;34m,\u001b[0m\u001b[0;36m0\u001b[0m\u001b[0;34m,\u001b[0m\u001b[0;36m0\u001b[0m\u001b[0;34m,\u001b[0m\u001b[0;36m0\u001b[0m\u001b[0;34m,\u001b[0m\u001b[0;36m0\u001b[0m\u001b[0;34m,\u001b[0m\u001b[0;36m0\u001b[0m\u001b[0;34m)\u001b[0m \u001b[0;31m# 튜플\u001b[0m\u001b[0;34m\u001b[0m\u001b[0;34m\u001b[0m\u001b[0m\n\u001b[0;32m----> 9\u001b[0;31m \u001b[0mb\u001b[0m\u001b[0;34m[\u001b[0m\u001b[0;36m0\u001b[0m\u001b[0;34m]\u001b[0m\u001b[0;34m=\u001b[0m\u001b[0;36m22\u001b[0m \u001b[0;31m# 튜플 삭제, 변경, 추가 불가 그러므로 에러 발생\u001b[0m\u001b[0;34m\u001b[0m\u001b[0;34m\u001b[0m\u001b[0m\n\u001b[0m\u001b[1;32m     10\u001b[0m \u001b[0mprint\u001b[0m\u001b[0;34m(\u001b[0m\u001b[0mb\u001b[0m\u001b[0;34m)\u001b[0m\u001b[0;34m\u001b[0m\u001b[0;34m\u001b[0m\u001b[0m\n\u001b[1;32m     11\u001b[0m \u001b[0;34m\u001b[0m\u001b[0m\n",
            "\u001b[0;31mTypeError\u001b[0m: 'tuple' object does not support item assignment"
          ]
        }
      ]
    },
    {
      "cell_type": "markdown",
      "source": [
        "11.8 del로 요소 삭제"
      ],
      "metadata": {
        "id": "ZzJQ1yvpOWvQ"
      }
    },
    {
      "cell_type": "code",
      "source": [
        "a = [98,57,88,65,0] # 리스트\n",
        "del(a[2]) # 세 번째 요소 삭제\n",
        "print(a)\n",
        "\n",
        "b = (38, 21, 53, 62, 19) # 튜플 read only 🤯\n",
        "del b[2] \n",
        "print(b)\n",
        "\n",
        "r = range(0, 10, 2) # range read only 🤯\n",
        "del r[2]\n",
        "\n",
        "hello = 'Hello, world!' # 문자열 read only 🤯\n",
        "del hello[2]"
      ],
      "metadata": {
        "colab": {
          "base_uri": "https://localhost:8080/",
          "height": 264
        },
        "id": "Jp29dQghOVcq",
        "outputId": "c2086cdf-cf72-4ac4-84c9-4d9a46ff4ee2"
      },
      "execution_count": 28,
      "outputs": [
        {
          "output_type": "stream",
          "name": "stdout",
          "text": [
            "[98, 57, 65, 0]\n"
          ]
        },
        {
          "output_type": "error",
          "ename": "TypeError",
          "evalue": "ignored",
          "traceback": [
            "\u001b[0;31m---------------------------------------------------------------------------\u001b[0m",
            "\u001b[0;31mTypeError\u001b[0m                                 Traceback (most recent call last)",
            "\u001b[0;32m<ipython-input-28-cd982d8e1078>\u001b[0m in \u001b[0;36m<module>\u001b[0;34m\u001b[0m\n\u001b[1;32m      4\u001b[0m \u001b[0;34m\u001b[0m\u001b[0m\n\u001b[1;32m      5\u001b[0m \u001b[0mb\u001b[0m \u001b[0;34m=\u001b[0m \u001b[0;34m(\u001b[0m\u001b[0;36m38\u001b[0m\u001b[0;34m,\u001b[0m \u001b[0;36m21\u001b[0m\u001b[0;34m,\u001b[0m \u001b[0;36m53\u001b[0m\u001b[0;34m,\u001b[0m \u001b[0;36m62\u001b[0m\u001b[0;34m,\u001b[0m \u001b[0;36m19\u001b[0m\u001b[0;34m)\u001b[0m \u001b[0;31m# 튜플 read only 🤯\u001b[0m\u001b[0;34m\u001b[0m\u001b[0;34m\u001b[0m\u001b[0m\n\u001b[0;32m----> 6\u001b[0;31m \u001b[0;32mdel\u001b[0m \u001b[0mb\u001b[0m\u001b[0;34m[\u001b[0m\u001b[0;36m2\u001b[0m\u001b[0;34m]\u001b[0m\u001b[0;34m\u001b[0m\u001b[0;34m\u001b[0m\u001b[0m\n\u001b[0m\u001b[1;32m      7\u001b[0m \u001b[0mprint\u001b[0m\u001b[0;34m(\u001b[0m\u001b[0mb\u001b[0m\u001b[0;34m)\u001b[0m\u001b[0;34m\u001b[0m\u001b[0;34m\u001b[0m\u001b[0m\n\u001b[1;32m      8\u001b[0m \u001b[0;34m\u001b[0m\u001b[0m\n",
            "\u001b[0;31mTypeError\u001b[0m: 'tuple' object doesn't support item deletion"
          ]
        }
      ]
    },
    {
      "cell_type": "markdown",
      "source": [
        "11.9 슬라이스 사용"
      ],
      "metadata": {
        "id": "7G1PltJlPLy1"
      }
    },
    {
      "cell_type": "code",
      "source": [
        "a = [0, 10, 20, 30, 40, 50, 60, 70, 80, 90] # 리스트\n",
        "print(a[0:4]) # 0 ~ 3번째만 추출\n",
        "print(a[0:10]) # 전체 출력\n",
        "print(a[1:1]) # 1 ~ 0번째 추출 → 시작과 끝 인덱스가 같을 시 아무것도 가져오지 않음\n",
        "print(a[4:-1]) # 음수를 인덱스 지정가능\n",
        "print(a[2:8:3]) # 슬라이스 안에 증가폭 설정 가능\n",
        "print(a[:5]) # 인덱스 생략 가능\n",
        "print(a[:]) # 둘 다 생략 == 전체\n",
        "print(a[::])\n",
        "print(a[:5:2]) # 생략하면서 증가폭 설정\n",
        "print(a[1::3]) # 생략하면서 증가폭 설정\n",
        "print(a[5:1:-1]) # 음수 폭 지정 가능\n",
        "print(a[0:len(a)]) # len응용하여 리스트 전체 호출 가능\n",
        "\n",
        "r = range(10)\n",
        "print(r[:7:2])\n",
        "print(list(r[:7:3]))\n",
        "\n",
        "hello = 'Hello, Python'\n",
        "print(hello[:6:2])"
      ],
      "metadata": {
        "colab": {
          "base_uri": "https://localhost:8080/"
        },
        "id": "aq5BfS4BPRId",
        "outputId": "a6d48dab-468e-4be3-ad93-94c99466b7ab"
      },
      "execution_count": 3,
      "outputs": [
        {
          "output_type": "stream",
          "name": "stdout",
          "text": [
            "[0, 10, 20, 30]\n",
            "[0, 10, 20, 30, 40, 50, 60, 70, 80, 90]\n",
            "[]\n",
            "[40, 50, 60, 70, 80]\n",
            "[20, 50]\n",
            "[0, 10, 20, 30, 40]\n",
            "[0, 10, 20, 30, 40, 50, 60, 70, 80, 90]\n",
            "[0, 10, 20, 30, 40, 50, 60, 70, 80, 90]\n",
            "[0, 20, 40]\n",
            "[10, 40, 70]\n",
            "[50, 40, 30, 20]\n",
            "[0, 10, 20, 30, 40, 50, 60, 70, 80, 90]\n",
            "range(0, 7, 2)\n",
            "[0, 3, 6]\n",
            "Hlo\n"
          ]
        }
      ]
    },
    {
      "cell_type": "markdown",
      "source": [
        "11.10 slice 객체 사용\n",
        "\n",
        "- 슬라이스객체 = slice(끝인덱스)\n",
        "\n",
        "- 슬라이스객체 = slice(시작인덱스, 끝인덱스)\n",
        "\n",
        "- 슬라이스객체 = slice(시작인덱스, 끝인덱스, 인덱스증가폭)\n",
        "\n",
        "- 시퀀스객체[슬라이스객체]\n",
        "\n",
        "- 시퀀스객체.__getitem__(슬라이스객체)"
      ],
      "metadata": {
        "id": "CDSFK36s7kUS"
      }
    },
    {
      "cell_type": "code",
      "source": [
        "print(range(10)[slice(4,7,2)])\n",
        "print(range(10).__getitem__(slice(4,7,2)))"
      ],
      "metadata": {
        "colab": {
          "base_uri": "https://localhost:8080/"
        },
        "id": "ZlNj1FcgPRFP",
        "outputId": "1579f6bf-9633-4c33-b145-4227465ab5e1"
      },
      "execution_count": 5,
      "outputs": [
        {
          "output_type": "stream",
          "name": "stdout",
          "text": [
            "range(4, 7, 2)\n",
            "range(4, 7, 2)\n"
          ]
        }
      ]
    },
    {
      "cell_type": "markdown",
      "source": [
        "11.11 슬라이스에 요소 할당\n",
        "<br>\n",
        "튜플, range, 문자열 🤯 read only "
      ],
      "metadata": {
        "id": "yVnuUDxw8P_m"
      }
    },
    {
      "cell_type": "code",
      "source": [
        "a = [10,5,3,6,8,4,5,3,1]\n",
        "a[2:5] = ['apple','orange','grapefruit']\n",
        "print(a)"
      ],
      "metadata": {
        "colab": {
          "base_uri": "https://localhost:8080/"
        },
        "id": "YlboPUaUPRCI",
        "outputId": "6589ad06-8caf-4198-ae31-73ced979712d"
      },
      "execution_count": 6,
      "outputs": [
        {
          "output_type": "stream",
          "name": "stdout",
          "text": [
            "[10, 5, 'apple', 'orange', 'grapefruit', 4, 5, 3, 1]\n"
          ]
        }
      ]
    },
    {
      "cell_type": "code",
      "source": [
        "a = [0, 10, 20, 30, 40, 50, 60, 70, 80, 90]\n",
        "a[2:5] = 'misletoe' # 슬라이스 범위보다 할당할 요소 개수가 많을 시\n",
        "print(a)\n",
        "\n",
        "a[8:13] ='K' # 슬라이스 범위보다 할당할 요소 개수가 적을 시\n",
        "print(a)\n",
        "\n",
        "a[2:5:2] = [5,9] # 인덱스 증가폭을 지정하여 요소 할당 🤍 요소 개수 일치\n",
        "print(a)"
      ],
      "metadata": {
        "colab": {
          "base_uri": "https://localhost:8080/"
        },
        "id": "tNoDCwfVPQ_F",
        "outputId": "71979f0d-be45-4275-c1dc-5875d5293134"
      },
      "execution_count": 10,
      "outputs": [
        {
          "output_type": "stream",
          "name": "stdout",
          "text": [
            "[0, 10, 'm', 'i', 's', 'l', 'e', 't', 'o', 'e', 50, 60, 70, 80, 90]\n",
            "[0, 10, 'm', 'i', 's', 'l', 'e', 't', 'K', 80, 90]\n",
            "[0, 10, 5, 'i', 9, 'l', 'e', 't', 'K', 80, 90]\n"
          ]
        }
      ]
    },
    {
      "cell_type": "markdown",
      "source": [
        "11.12 del로 슬라이스 삭제"
      ],
      "metadata": {
        "id": "uF0OcsbD9ftk"
      }
    },
    {
      "cell_type": "code",
      "source": [
        "a = [0, 10, 20, 30, 40, 50, 60, 70, 80, 90]\n",
        "del a[2:5]\n",
        "print(a)\n",
        "\n",
        "del a[2:5:2]\n",
        "print(a)"
      ],
      "metadata": {
        "colab": {
          "base_uri": "https://localhost:8080/"
        },
        "id": "S0XcMVHQPQyU",
        "outputId": "0dfe5ee7-4757-4df6-8d61-642e4fc86846"
      },
      "execution_count": 12,
      "outputs": [
        {
          "output_type": "stream",
          "name": "stdout",
          "text": [
            "[0, 10, 50, 60, 70, 80, 90]\n",
            "[0, 10, 60, 80, 90]\n"
          ]
        }
      ]
    },
    {
      "cell_type": "markdown",
      "source": [
        "연습문제) <br>\n",
        "표준 입력으로 문자열 두 개가 각 줄에 입력됩니다(문자열의 길이는 정해져 있지 않음). 첫 번째 문자열에서 인덱스가 홀수인 문자와 두 번째 문자열에서 인덱스가 짝수인 문자를 연결하여 출력하는 프로그램을 만드세요(input에서 안내 문자열은 출력하지 않아야 합니다). 연결 순서는 첫 번째 문자열, 두 번째 문자열 순입니다. 그리고 0은 짝수로 처리합니다. <br><br>\n",
        "\n",
        "입력(python<br>\n",
        "    python) <br>\n",
        "결과(yhnpto)"
      ],
      "metadata": {
        "id": "z-S0fr2191La"
      }
    },
    {
      "cell_type": "code",
      "source": [
        "a = input()\n",
        "b = input()\n",
        "print(a[1::2]+b[::2])"
      ],
      "metadata": {
        "colab": {
          "base_uri": "https://localhost:8080/"
        },
        "id": "3JN33FDN-F5u",
        "outputId": "db1c9115-f702-45ef-8e08-1ef6e1958afa"
      },
      "execution_count": 16,
      "outputs": [
        {
          "output_type": "stream",
          "name": "stdout",
          "text": [
            "apple\n",
            "strawberry\n",
            "plsrwer\n"
          ]
        }
      ]
    }
  ]
}