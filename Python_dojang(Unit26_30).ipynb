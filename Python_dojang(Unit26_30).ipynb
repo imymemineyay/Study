{
  "nbformat": 4,
  "nbformat_minor": 0,
  "metadata": {
    "colab": {
      "provenance": [],
      "authorship_tag": "ABX9TyM5HWeof81Oapxw5Lx+KvvW",
      "include_colab_link": true
    },
    "kernelspec": {
      "name": "python3",
      "display_name": "Python 3"
    },
    "language_info": {
      "name": "python"
    }
  },
  "cells": [
    {
      "cell_type": "markdown",
      "metadata": {
        "id": "view-in-github",
        "colab_type": "text"
      },
      "source": [
        "<a href=\"https://colab.research.google.com/github/imymemineyay/Study_Python/blob/main/Python_dojang(Unit26_30).ipynb\" target=\"_parent\"><img src=\"https://colab.research.google.com/assets/colab-badge.svg\" alt=\"Open In Colab\"/></a>"
      ]
    },
    {
      "cell_type": "markdown",
      "source": [
        "## **Unit 26. 세트 사용하기**"
      ],
      "metadata": {
        "id": "SkA_rtCLo0Rh"
      }
    },
    {
      "cell_type": "markdown",
      "source": [
        "세트(set)자료형 : 집합을 표현\n",
        "- 합집합, 교집합, 차집합 등의 연산 가능"
      ],
      "metadata": {
        "id": "rygZsHHFzFG5"
      }
    },
    {
      "cell_type": "markdown",
      "source": [
        "26.1 세트 만들기\n",
        "- 세트 = {값1, 값2, 값3}"
      ],
      "metadata": {
        "id": "xHOjclNlzNjg"
      }
    },
    {
      "cell_type": "code",
      "execution_count": null,
      "metadata": {
        "colab": {
          "base_uri": "https://localhost:8080/"
        },
        "id": "4SPRsOgroty5",
        "outputId": "c10d500a-f2df-4114-dcf5-a4e01d7c63f9"
      },
      "outputs": [
        {
          "output_type": "stream",
          "name": "stdout",
          "text": [
            "{'strawberry', 'pineapple', 'cherry', 'grape', 'orange'}\n"
          ]
        }
      ],
      "source": [
        "fruits = {'strawberry', 'grape', 'orange', 'pineapple', 'cherry'}\n",
        "print(fruits)"
      ]
    },
    {
      "cell_type": "markdown",
      "source": [
        "- 세트에 들어가는 요소는 중복 불가"
      ],
      "metadata": {
        "id": "pBqWTMd3zcab"
      }
    },
    {
      "cell_type": "code",
      "source": [
        "fruits = {'orange', 'orange', 'cherry'}\n",
        "print(fruits)"
      ],
      "metadata": {
        "colab": {
          "base_uri": "https://localhost:8080/"
        },
        "id": "chW1k7A5zcyk",
        "outputId": "20acc7d0-e4f7-41be-cdcc-0952d826fdea"
      },
      "execution_count": null,
      "outputs": [
        {
          "output_type": "stream",
          "name": "stdout",
          "text": [
            "{'cherry', 'orange'}\n"
          ]
        }
      ]
    },
    {
      "cell_type": "markdown",
      "source": [
        "- 세트는 리스트, 튜플, 딕셔너리와는 달리 [ ] (대괄호)로 특정 요소만 출력할 수 없음"
      ],
      "metadata": {
        "id": "wlQmGN9iozk6"
      }
    },
    {
      "cell_type": "code",
      "source": [
        "fruits = {'strawberry', 'grape', 'orange', 'pineapple', 'cherry'}\n",
        "print(fruits[0])"
      ],
      "metadata": {
        "colab": {
          "base_uri": "https://localhost:8080/",
          "height": 191
        },
        "id": "ijLy5krTzsDF",
        "outputId": "51e420b7-97fb-4526-9f73-43e320986160"
      },
      "execution_count": null,
      "outputs": [
        {
          "output_type": "error",
          "ename": "TypeError",
          "evalue": "ignored",
          "traceback": [
            "\u001b[0;31m---------------------------------------------------------------------------\u001b[0m",
            "\u001b[0;31mTypeError\u001b[0m                                 Traceback (most recent call last)",
            "\u001b[0;32m<ipython-input-4-f508c750fc6c>\u001b[0m in \u001b[0;36m<module>\u001b[0;34m\u001b[0m\n\u001b[1;32m      1\u001b[0m \u001b[0mfruits\u001b[0m \u001b[0;34m=\u001b[0m \u001b[0;34m{\u001b[0m\u001b[0;34m'strawberry'\u001b[0m\u001b[0;34m,\u001b[0m \u001b[0;34m'grape'\u001b[0m\u001b[0;34m,\u001b[0m \u001b[0;34m'orange'\u001b[0m\u001b[0;34m,\u001b[0m \u001b[0;34m'pineapple'\u001b[0m\u001b[0;34m,\u001b[0m \u001b[0;34m'cherry'\u001b[0m\u001b[0;34m}\u001b[0m\u001b[0;34m\u001b[0m\u001b[0;34m\u001b[0m\u001b[0m\n\u001b[0;32m----> 2\u001b[0;31m \u001b[0mprint\u001b[0m\u001b[0;34m(\u001b[0m\u001b[0mfruits\u001b[0m\u001b[0;34m[\u001b[0m\u001b[0;36m0\u001b[0m\u001b[0;34m]\u001b[0m\u001b[0;34m)\u001b[0m\u001b[0;34m\u001b[0m\u001b[0;34m\u001b[0m\u001b[0m\n\u001b[0m",
            "\u001b[0;31mTypeError\u001b[0m: 'set' object is not subscriptable"
          ]
        }
      ]
    },
    {
      "cell_type": "markdown",
      "source": [
        "26.2 세트에 특정 값이 있는지 확인\n",
        "- 값 in 세트\n",
        "- 값 not in 세트"
      ],
      "metadata": {
        "id": "kXUL_pYTz9k7"
      }
    },
    {
      "cell_type": "code",
      "source": [
        "fruits = {'strawberry', 'grape', 'orange', 'pineapple', 'cherry'}\n",
        "print('orange' in fruits)\n",
        "print('peach' in fruits)\n",
        "print('orange' not in fruits)"
      ],
      "metadata": {
        "colab": {
          "base_uri": "https://localhost:8080/"
        },
        "id": "0oe-szLsz7wm",
        "outputId": "f57926f0-5908-4d9a-dbe6-f0e59c341403"
      },
      "execution_count": null,
      "outputs": [
        {
          "output_type": "stream",
          "name": "stdout",
          "text": [
            "True\n",
            "False\n",
            "False\n"
          ]
        }
      ]
    },
    {
      "cell_type": "markdown",
      "source": [
        "26.3 set를 사용하여 세트 만들기\n",
        "\n",
        "- set(반복가능한객체) \n"
      ],
      "metadata": {
        "id": "nWfmPIoM0QRm"
      }
    },
    {
      "cell_type": "code",
      "source": [
        "a = set('apple')\n",
        "a"
      ],
      "metadata": {
        "colab": {
          "base_uri": "https://localhost:8080/"
        },
        "id": "kUNVt5oc0MQZ",
        "outputId": "77055a69-aa4e-4a0e-9131-3facfda7ac64"
      },
      "execution_count": null,
      "outputs": [
        {
          "output_type": "execute_result",
          "data": {
            "text/plain": [
              "{'a', 'e', 'l', 'p'}"
            ]
          },
          "metadata": {},
          "execution_count": 7
        }
      ]
    },
    {
      "cell_type": "code",
      "source": [
        "b = set(range(5))\n",
        "b"
      ],
      "metadata": {
        "colab": {
          "base_uri": "https://localhost:8080/"
        },
        "id": "ahu70dPq0akH",
        "outputId": "f9c624e5-dc08-4b34-918c-30b8d47136c8"
      },
      "execution_count": null,
      "outputs": [
        {
          "output_type": "execute_result",
          "data": {
            "text/plain": [
              "{0, 1, 2, 3, 4}"
            ]
          },
          "metadata": {},
          "execution_count": 8
        }
      ]
    },
    {
      "cell_type": "code",
      "source": [
        "c = set() #빈 딕셔너리가 만들어 짐\n",
        "c"
      ],
      "metadata": {
        "colab": {
          "base_uri": "https://localhost:8080/"
        },
        "id": "ZeOtb8FA0d3m",
        "outputId": "e5dd5872-b5ac-4303-b71e-e44ee37f5655"
      },
      "execution_count": null,
      "outputs": [
        {
          "output_type": "execute_result",
          "data": {
            "text/plain": [
              "set()"
            ]
          },
          "metadata": {},
          "execution_count": 11
        }
      ]
    },
    {
      "cell_type": "code",
      "source": [
        "c = {}\n",
        "type(c) # 자료형의 종류를 알 수 있음"
      ],
      "metadata": {
        "colab": {
          "base_uri": "https://localhost:8080/"
        },
        "id": "1qwQsRRY0hIc",
        "outputId": "a931d7d8-807d-4a8f-fba9-f843fc0f9db2"
      },
      "execution_count": null,
      "outputs": [
        {
          "output_type": "execute_result",
          "data": {
            "text/plain": [
              "dict"
            ]
          },
          "metadata": {},
          "execution_count": 12
        }
      ]
    },
    {
      "cell_type": "code",
      "source": [
        "c = set()\n",
        "type(c) "
      ],
      "metadata": {
        "colab": {
          "base_uri": "https://localhost:8080/"
        },
        "id": "_Zzm6oND0taJ",
        "outputId": "26b37bdc-ed00-462b-ecec-1cd338404960"
      },
      "execution_count": null,
      "outputs": [
        {
          "output_type": "execute_result",
          "data": {
            "text/plain": [
              "set"
            ]
          },
          "metadata": {},
          "execution_count": 13
        }
      ]
    },
    {
      "cell_type": "code",
      "source": [
        "set('안녕하세요') # 한글 문자열은 음절 단위로 세트가 생성됨"
      ],
      "metadata": {
        "id": "62h-UzU50wnA",
        "colab": {
          "base_uri": "https://localhost:8080/"
        },
        "outputId": "69e4e4af-77bc-4e21-b724-582eab776d5e"
      },
      "execution_count": 1,
      "outputs": [
        {
          "output_type": "execute_result",
          "data": {
            "text/plain": [
              "{'녕', '세', '안', '요', '하'}"
            ]
          },
          "metadata": {},
          "execution_count": 1
        }
      ]
    },
    {
      "cell_type": "markdown",
      "source": [
        "- 세트 안에 세트를 넣을 수 없다\n",
        "- 프로즌세트 = frozenset(반복가능한객체) :내용을 변경할 수 없는 세트 "
      ],
      "metadata": {
        "id": "QneSKpwBSJKQ"
      }
    },
    {
      "cell_type": "code",
      "source": [
        "a = frozenset(range(10))\n",
        "a.update({10}) # 요소 추가, 삭제 불가"
      ],
      "metadata": {
        "colab": {
          "base_uri": "https://localhost:8080/",
          "height": 191
        },
        "id": "Bv7qxSgQSeNw",
        "outputId": "43decd09-f735-497b-ad0e-beeee7c6296d"
      },
      "execution_count": 2,
      "outputs": [
        {
          "output_type": "error",
          "ename": "AttributeError",
          "evalue": "ignored",
          "traceback": [
            "\u001b[0;31m---------------------------------------------------------------------------\u001b[0m",
            "\u001b[0;31mAttributeError\u001b[0m                            Traceback (most recent call last)",
            "\u001b[0;32m<ipython-input-2-1d58c67fe786>\u001b[0m in \u001b[0;36m<module>\u001b[0;34m\u001b[0m\n\u001b[1;32m      1\u001b[0m \u001b[0ma\u001b[0m \u001b[0;34m=\u001b[0m \u001b[0mfrozenset\u001b[0m\u001b[0;34m(\u001b[0m\u001b[0mrange\u001b[0m\u001b[0;34m(\u001b[0m\u001b[0;36m10\u001b[0m\u001b[0;34m)\u001b[0m\u001b[0;34m)\u001b[0m\u001b[0;34m\u001b[0m\u001b[0;34m\u001b[0m\u001b[0m\n\u001b[0;32m----> 2\u001b[0;31m \u001b[0ma\u001b[0m\u001b[0;34m.\u001b[0m\u001b[0mupdate\u001b[0m\u001b[0;34m(\u001b[0m\u001b[0;34m{\u001b[0m\u001b[0;36m10\u001b[0m\u001b[0;34m}\u001b[0m\u001b[0;34m)\u001b[0m \u001b[0;31m# 요소 추가, 삭제 불가\u001b[0m\u001b[0;34m\u001b[0m\u001b[0;34m\u001b[0m\u001b[0m\n\u001b[0m",
            "\u001b[0;31mAttributeError\u001b[0m: 'frozenset' object has no attribute 'update'"
          ]
        }
      ]
    },
    {
      "cell_type": "markdown",
      "source": [
        "frozenset는 세트 안에 세트를 넣고 싶을 때 사용하며 일반 set는 넣을 수 없음"
      ],
      "metadata": {
        "id": "f-nDN5L6S29B"
      }
    },
    {
      "cell_type": "code",
      "source": [
        "a = frozenset({frozenset({1, 2}), frozenset({3, 4})}) \n",
        "print(a)"
      ],
      "metadata": {
        "colab": {
          "base_uri": "https://localhost:8080/"
        },
        "id": "fWXMfsqgSvsC",
        "outputId": "47b122a1-a146-43f2-cc25-8225dc41af6f"
      },
      "execution_count": 3,
      "outputs": [
        {
          "output_type": "stream",
          "name": "stdout",
          "text": [
            "frozenset({frozenset({3, 4}), frozenset({1, 2})})\n"
          ]
        }
      ]
    },
    {
      "cell_type": "markdown",
      "source": [
        "26.4 집합 연산 사용\n",
        "\n",
        "합집합 <br>\n",
        "- 세트1 | 세트2\n",
        "- set.union(세트1, 세트2)\n",
        "\n",
        "교집합 <br>\n",
        "- 세트1 & 세트2\n",
        "- set.intersection(세트1, 세트2) \n",
        "\n",
        "차집합 <br>\n",
        "- 세트1 - 세트2\n",
        "- set.difference(세트1, 세트2)\n",
        "\n",
        "\n",
        "대칭차집합<br>\n",
        "- 세트1 ^ 세트2\n",
        "- set.symmetric_difference(세트1, 세트2)"
      ],
      "metadata": {
        "id": "r7sh-RsnTCyh"
      }
    },
    {
      "cell_type": "code",
      "source": [
        "a = {1, 2, 3, 4}\n",
        "b = {3, 4, 5, 6}\n",
        "\n",
        "print(a|b) # 합집합\n",
        "print(set.union(a,b)) # 합집합\n",
        "\n",
        "print(a & b) # 교집합 \n",
        "print(set.intersection(a,b)) # 교집합\n",
        "\n",
        "print(a-b) # 차집합\n",
        "print(set.difference(a,b)) # 차집합\n",
        "\n",
        "print(a^b) # 대칭차집합\n",
        "print(set.symmetric_difference(a,b)) #대칭차집합, 두 집합 중 겹치지 않는 요소만 포함"
      ],
      "metadata": {
        "colab": {
          "base_uri": "https://localhost:8080/"
        },
        "id": "0pSL1ifqTBQq",
        "outputId": "720015cf-703b-4419-a08e-74ea139c26f7"
      },
      "execution_count": 6,
      "outputs": [
        {
          "output_type": "stream",
          "name": "stdout",
          "text": [
            "{1, 2, 3, 4, 5, 6}\n",
            "{1, 2, 3, 4, 5, 6}\n",
            "{3, 4}\n",
            "{3, 4}\n",
            "{1, 2}\n",
            "{1, 2}\n",
            "{1, 2, 5, 6}\n",
            "{1, 2, 5, 6}\n"
          ]
        }
      ]
    },
    {
      "cell_type": "markdown",
      "source": [
        "26.5 집합 연산 후 할당 연산자 사용\n",
        "- 세트 자료형에 |, &, -, ^ 연산자와 할당 연산자 =을 함께 사용하면 집합 연산의 결과를 변수에 다시 저장(할당)함<br>\n",
        "\n",
        "현재 세트에 다른 세트 추가\n",
        "- 세트1 |= 세트2\n",
        "- 세트1.update(세트2) <br>\n",
        "\n",
        "현재 세트와 다른 세트 중 겹치는 요소만 세트에 저장\n",
        "- 세트1 &= 세트2\n",
        "- 세트1.intersection_update(세트2) <br>\n",
        "\n",
        "현재 세트에서 다른 세트를 뺀 후 저장 \n",
        "- 세트1 -= 세트2\n",
        "- 세트1.difference_update(세트2) <br>\n",
        "\n",
        "현재 세트와 다른 세트 중에서 겹치지 않는 요소만 현재 세트에 저장 <br>\n",
        "- 세트1 ^= 세트2\n",
        "- 세트1.symmetric_difference_update(세트2)\n"
      ],
      "metadata": {
        "id": "8Tspu7HXUhYn"
      }
    },
    {
      "cell_type": "code",
      "source": [
        "a = {1, 2, 3, 4}\n",
        "a |= {5} # 추가\n",
        "print(a)\n",
        "\n",
        "a.update({6}) # 추가\n",
        "print(a)\n",
        "\n",
        "a &= {0, 1, 2} # 겹치는 요소만 저장\n",
        "print(a)\n",
        "\n",
        "a.intersection_update({3,4}) # 겹치는 요소만 저장\n",
        "print(a)\n",
        "\n",
        "b = {1, 2, 3, 4}\n",
        "b -= {3} # 현재 세트에서 다른 세트를 뺴고 저장\n",
        "print(b)\n",
        "\n",
        "b.difference_update({2}) # 현재 세트에서 다른 세트를 뺴고 저장\n",
        "print(b)\n",
        "\n",
        "c = {1, 2, 3, 4}\n",
        "c ^= {3,4,5,6} # 겹치지 않는 요소만 저장\n",
        "print(c)\n",
        "\n",
        "c.symmetric_difference_update({3,4,5,6}) # 겹치지 않는 요소만 저장\n",
        "print(c)"
      ],
      "metadata": {
        "colab": {
          "base_uri": "https://localhost:8080/"
        },
        "id": "2TBFjiZsTwZB",
        "outputId": "7736ac3b-7cc4-4734-ed39-e4af563bc770"
      },
      "execution_count": 13,
      "outputs": [
        {
          "output_type": "stream",
          "name": "stdout",
          "text": [
            "{1, 2, 3, 4, 5}\n",
            "{1, 2, 3, 4, 5, 6}\n",
            "{1, 2}\n",
            "set()\n",
            "{1, 2, 4}\n",
            "{1, 4}\n",
            "{1, 2, 5, 6}\n",
            "{1, 2, 3, 4}\n"
          ]
        }
      ]
    },
    {
      "cell_type": "markdown",
      "source": [
        "26.6 부분집합과 상위집합 확인\n",
        "- 세트는 부분집합, 진부분집합, 상위집합, 진상위집합과 같이 속하는 관계 표현 가능\n",
        "- 현재 세트가 다른 세트의 (진)부분집합 또는 (진)상위집합인지 확인할 때는 세트 자료형에 부등호와 등호 사용"
      ],
      "metadata": {
        "id": "-IAqMSa4WxZS"
      }
    },
    {
      "cell_type": "markdown",
      "source": [
        "\n",
        "\n",
        "1.   부분집합\n",
        "*   현재세트 <= 다른세트\n",
        "*   현재세트.issubset(다른세트) <br>\n",
        "\n",
        "\n",
        "2.   진부분집합\n",
        "*   현재세트 < 다른세트 <br>\n",
        "\n",
        "\n",
        "3.    상위집합\n",
        "*   현재세트 >= 다른세트\n",
        "*   현재세트.issuperset(다른세트) <br>\n",
        "\n",
        "\n",
        "4.   진상위집합\n",
        "*   현재세트 > 다른세트\n",
        "\n",
        "\n",
        "\n",
        "\n",
        "\n",
        "\n",
        "\n",
        "\n",
        "\n",
        "\n",
        "\n",
        "\n",
        "\n",
        "\n"
      ],
      "metadata": {
        "id": "pvfil-rDZ2sg"
      }
    },
    {
      "cell_type": "code",
      "source": [
        "a = {1, 2, 3, 4}\n",
        "print(a <= {1, 2, 3, 4}) # 부분집합\n",
        "print(a.issubset({1, 2, 3, 4, 5})) # 부분집합\n",
        "print(a < {1, 2, 3, 4, 5}) # 진부분집합\n",
        "print(a >= {1, 2, 3, 4}) # 상위집합\n",
        "print(a.issuperset({1, 2, 3, 4})) # 상위집합\n",
        "print(a > {1, 2, 3}) # 진상위집합"
      ],
      "metadata": {
        "colab": {
          "base_uri": "https://localhost:8080/"
        },
        "id": "mjSiqLzqValX",
        "outputId": "9b63fc34-06c8-4634-b323-1bbac54f5715"
      },
      "execution_count": 18,
      "outputs": [
        {
          "output_type": "stream",
          "name": "stdout",
          "text": [
            "True\n",
            "True\n",
            "True\n",
            "True\n",
            "True\n",
            "True\n"
          ]
        }
      ]
    },
    {
      "cell_type": "markdown",
      "source": [
        "26.7 세트가 같은지 다른지 확인하기\n",
        "- == : 같은지\n",
        "- != : 다른지"
      ],
      "metadata": {
        "id": "XKQLMdf0hInW"
      }
    },
    {
      "cell_type": "code",
      "source": [
        "a = {1, 2, 3, 4}\n",
        "print(a == {1, 2, 3, 4})\n",
        "print(a == {4, 2, 1, 3}) # 세트는 요소의 순서가 정해져 있지 않으므로 요소만 같으면 참"
      ],
      "metadata": {
        "colab": {
          "base_uri": "https://localhost:8080/"
        },
        "id": "NkNzAsTMVhWu",
        "outputId": "478ee725-a7d5-42be-90e9-81118b67f425"
      },
      "execution_count": 20,
      "outputs": [
        {
          "output_type": "stream",
          "name": "stdout",
          "text": [
            "True\n",
            "True\n"
          ]
        }
      ]
    },
    {
      "cell_type": "markdown",
      "source": [
        "26.8 세트가 겹치지 않는지 확인하기\n",
        "- 현재세트.isdisjoint(다른세트)"
      ],
      "metadata": {
        "id": "RFPYVQgZhggB"
      }
    },
    {
      "cell_type": "code",
      "source": [
        "a = {1, 2, 3, 4}\n",
        "print(a.isdisjoint({5, 6, 7, 8})) # 겹치는 요소 없음\n",
        "print(a.isdisjoint({3, 4, 5, 6})) # a와 3,4가 겹침"
      ],
      "metadata": {
        "colab": {
          "base_uri": "https://localhost:8080/"
        },
        "id": "xbOOTXfGhZet",
        "outputId": "63b2342d-5edf-4362-8e9d-e714b0e87a26"
      },
      "execution_count": 21,
      "outputs": [
        {
          "output_type": "stream",
          "name": "stdout",
          "text": [
            "True\n",
            "False\n"
          ]
        }
      ]
    },
    {
      "cell_type": "markdown",
      "source": [
        "26.9 세트에 요소 추가, 삭제, 길이 구하기\n",
        "- add(요소) : 세트에 요소 추가\n",
        "- remove(요소) : 세트에서 특정 요소 삭제 \n",
        "- discard(요소) : 세트에서 특정 요소를 삭제하고 요소가 없으면 그냥 넘어감\n",
        "- pop() : 세트에서 임의의 요소를 삭제하고 해당 요소를 반환\n",
        "- clear() : 세트에서 모든 요소 삭제\n",
        "- len(세트) : 세트의 요소 개수(길이) 구함"
      ],
      "metadata": {
        "id": "dc2mS0X0hwq1"
      }
    },
    {
      "cell_type": "code",
      "source": [
        "a = {1, 2, 3, 4}\n",
        "a.add(5) # 세트 요소 추가\n",
        "print(a)  \n",
        "\n",
        "a.remove(3) # 세트에서 특정 요소 삭제\n",
        "print(a) \n",
        "\n",
        "a.discard(2)  # 세트에서 특정 요소 삭제, 없을 시 건너뜀\n",
        "print(a)\n",
        "\n",
        "a.pop() # 세트에서 임의의 수 삭제\n",
        "print(a) \n",
        "\n",
        "a.clear() # 세트에서 모든 요소 삭제\n",
        "print(a)\n",
        "\n",
        "print(len(a)) # 세트의 길이 즉, 요소의 개수를 셈"
      ],
      "metadata": {
        "colab": {
          "base_uri": "https://localhost:8080/"
        },
        "id": "QJOCCZ_dhvE6",
        "outputId": "1083a26e-8b70-4f9b-c941-a4bd5c3fa279"
      },
      "execution_count": 22,
      "outputs": [
        {
          "output_type": "stream",
          "name": "stdout",
          "text": [
            "{1, 2, 3, 4, 5}\n",
            "{1, 2, 4, 5}\n",
            "{1, 4, 5}\n",
            "{4, 5}\n",
            "set()\n",
            "0\n"
          ]
        }
      ]
    },
    {
      "cell_type": "markdown",
      "source": [
        "26.10 세트의 할당과 복사\n"
      ],
      "metadata": {
        "id": "SeWaNDh1iyuN"
      }
    },
    {
      "cell_type": "code",
      "source": [
        "a = {1, 2, 3, 4}\n",
        "b = a\n",
        "print(a is b)\n",
        "\n",
        "b.add(5)\n",
        "print(a)\n",
        "print(b)"
      ],
      "metadata": {
        "colab": {
          "base_uri": "https://localhost:8080/"
        },
        "id": "TKOVDB3liw0F",
        "outputId": "ceda6e04-ed25-4aae-ab6e-8c59ae76f2ad"
      },
      "execution_count": 24,
      "outputs": [
        {
          "output_type": "stream",
          "name": "stdout",
          "text": [
            "True\n",
            "{1, 2, 3, 4, 5}\n",
            "{1, 2, 3, 4, 5}\n"
          ]
        }
      ]
    },
    {
      "cell_type": "code",
      "source": [
        "a = {1, 2, 3, 4}\n",
        "b = a.copy() # 완전히 두 개로 만들려면 copy메서드로 모든 요소 복사\n",
        "print(a is b)\n",
        "print(a == b)\n",
        "\n",
        "b.add(5)\n",
        "print(a)\n",
        "print(b)"
      ],
      "metadata": {
        "colab": {
          "base_uri": "https://localhost:8080/"
        },
        "id": "BRzbCxzTn9am",
        "outputId": "125593a8-7742-4472-eb8f-dcb603aa69ba"
      },
      "execution_count": 27,
      "outputs": [
        {
          "output_type": "stream",
          "name": "stdout",
          "text": [
            "False\n",
            "True\n",
            "{1, 2, 3, 4}\n",
            "{1, 2, 3, 4, 5}\n"
          ]
        }
      ]
    },
    {
      "cell_type": "markdown",
      "source": [
        "26.11 반복문으로 세트의 요소 모두 출력"
      ],
      "metadata": {
        "id": "X09OLMCFoSrY"
      }
    },
    {
      "cell_type": "code",
      "source": [
        "for i in {1, 2, 3, 4}:\n",
        "    print(i)"
      ],
      "metadata": {
        "colab": {
          "base_uri": "https://localhost:8080/"
        },
        "id": "gSudD2bQoMZW",
        "outputId": "3b467191-67ec-4dd4-d429-9e45d11daca7"
      },
      "execution_count": 28,
      "outputs": [
        {
          "output_type": "stream",
          "name": "stdout",
          "text": [
            "1\n",
            "2\n",
            "3\n",
            "4\n"
          ]
        }
      ]
    },
    {
      "cell_type": "code",
      "source": [
        "a = {1,2,3,4}\n",
        "for i in a:\n",
        "  print(i)"
      ],
      "metadata": {
        "colab": {
          "base_uri": "https://localhost:8080/"
        },
        "id": "YyXCEAW1o_md",
        "outputId": "e9c408ad-9cd3-4da6-d287-b3db081d1ebb"
      },
      "execution_count": 29,
      "outputs": [
        {
          "output_type": "stream",
          "name": "stdout",
          "text": [
            "1\n",
            "2\n",
            "3\n",
            "4\n"
          ]
        }
      ]
    },
    {
      "cell_type": "markdown",
      "source": [
        "26.12 세트 표현식 사용하기"
      ],
      "metadata": {
        "id": "jXeHjCy6pEA2"
      }
    },
    {
      "cell_type": "code",
      "source": [
        "a = {i for i in 'pineapple' if i not in 'apl'}\n",
        "print(a)"
      ],
      "metadata": {
        "colab": {
          "base_uri": "https://localhost:8080/"
        },
        "id": "BwzMnhdMpC5g",
        "outputId": "d81a32dd-1cef-4a5a-c89a-3c656d22f4c5"
      },
      "execution_count": 30,
      "outputs": [
        {
          "output_type": "stream",
          "name": "stdout",
          "text": [
            "{'e', 'n', 'i'}\n"
          ]
        }
      ]
    },
    {
      "cell_type": "code",
      "source": [
        "a = {i for i in range(1,101) if i % 3 == 0}\n",
        "b = {i for i in range(1,101) if i % 5 == 0}\n",
        "\n",
        "print(a&b)"
      ],
      "metadata": {
        "colab": {
          "base_uri": "https://localhost:8080/"
        },
        "id": "L7z1-dXQpPSp",
        "outputId": "b87f7117-aebc-47c7-9e6e-beb81aa62c87"
      },
      "execution_count": 31,
      "outputs": [
        {
          "output_type": "stream",
          "name": "stdout",
          "text": [
            "{75, 45, 15, 90, 60, 30}\n"
          ]
        }
      ]
    },
    {
      "cell_type": "markdown",
      "source": [
        "연습문제)<br>\n",
        "표준 입력으로 양의 정수 두 개가 입력됩니다. 다음 소스 코드를 완성하여 두 숫자의 공약수를 세트 형태로 구하도록 만드세요. 단, 최종 결과는 공약수의 합으로 판단합니다."
      ],
      "metadata": {
        "id": "eU9s36mms7n5"
      }
    },
    {
      "cell_type": "code",
      "source": [
        "n, m = map(int, input().split())\n",
        "a = {i for i in range(1,n+1) if n % i == 0}\n",
        "b = {i for i in range(1,m+1) if m % i == 0}\n",
        "\n",
        "\n",
        "divisor = a & b\n",
        " \n",
        "result = 0\n",
        "if type(divisor) == set:\n",
        "    result = sum(divisor)\n",
        " \n",
        "print(result)"
      ],
      "metadata": {
        "colab": {
          "base_uri": "https://localhost:8080/"
        },
        "id": "TlxPxyHts4Le",
        "outputId": "3090c0a8-0487-4509-d8f0-a35f58a6d2c7"
      },
      "execution_count": 32,
      "outputs": [
        {
          "output_type": "stream",
          "name": "stdout",
          "text": [
            "10 20\n",
            "18\n"
          ]
        }
      ]
    },
    {
      "cell_type": "markdown",
      "source": [
        "<Q & A>\n",
        "\n",
        "\n",
        "1.   딕셔너리를 더하려면?\n",
        "- update 메서드를 사용하면 + 로 더한 것과 같은 효과를 낼 수 있음. 즉, update에 딕셔너리를 넣을 수 있고 키가 없으면 키를 추가하는 특성을 이용한 것\n",
        "- 파이썬 3.5이상부터는 딕셔너리 언패킹을 이용한 병합을 지원함 {**닥셔너리, **딕셔너리}\n",
        "\n",
        "2.   딕셔너리와 세트는 while로 반복할 수 있나요?\n",
        "- while 반복하려면 복잡\n",
        "- 이터레이터를 얻은 뒤에 next로 요소를 차례로 꺼내야함\n",
        "\n"
      ],
      "metadata": {
        "id": "9jG0BZ5ovB9N"
      }
    },
    {
      "cell_type": "code",
      "source": [
        "x = {'a': 1, 'b': 2}\n",
        "y = {'c': 3, 'd': 4}\n",
        "x.update(y)\n",
        "x"
      ],
      "metadata": {
        "colab": {
          "base_uri": "https://localhost:8080/"
        },
        "id": "GCJOTVa5u19L",
        "outputId": "655500be-cf4c-487f-9d38-802eb49a58ea"
      },
      "execution_count": 33,
      "outputs": [
        {
          "output_type": "execute_result",
          "data": {
            "text/plain": [
              "{'a': 1, 'b': 2, 'c': 3, 'd': 4}"
            ]
          },
          "metadata": {},
          "execution_count": 33
        }
      ]
    },
    {
      "cell_type": "code",
      "source": [
        "{**x, **y}"
      ],
      "metadata": {
        "colab": {
          "base_uri": "https://localhost:8080/"
        },
        "id": "4fSzoy4ov0F3",
        "outputId": "0d1e7a6f-379a-402d-9350-81c85b2c37e3"
      },
      "execution_count": 34,
      "outputs": [
        {
          "output_type": "execute_result",
          "data": {
            "text/plain": [
              "{'a': 1, 'b': 2, 'c': 3, 'd': 4}"
            ]
          },
          "metadata": {},
          "execution_count": 34
        }
      ]
    },
    {
      "cell_type": "code",
      "source": [
        "x = {'a': 10, 'b': 20, 'c': 30, 'd': 40, 'e': 50}                # 딕셔너리\n",
        "#x = {'strawberry', 'grape', 'orange', 'pineapple', 'cherry'}    # 세트\n",
        "it = iter(x)                  # 이터레이터를 얻음\n",
        "while True:\n",
        "    try:\n",
        "        print(x[next(it)])    # 딕셔너리에 키를 지정해서 값 출력\n",
        "        #print(next(it))      # 세트의 요소 출력\n",
        "    except StopIteration:\n",
        "        break"
      ],
      "metadata": {
        "colab": {
          "base_uri": "https://localhost:8080/"
        },
        "id": "DiB-AjiNv2Q4",
        "outputId": "acfa224e-0b93-4ef1-96a7-319c637a77dd"
      },
      "execution_count": 35,
      "outputs": [
        {
          "output_type": "stream",
          "name": "stdout",
          "text": [
            "10\n",
            "20\n",
            "30\n",
            "40\n",
            "50\n"
          ]
        }
      ]
    },
    {
      "cell_type": "markdown",
      "source": [
        "## **Unit 27. 파일 사용하기**\n"
      ],
      "metadata": {
        "id": "TR1qTG-hv-J2"
      }
    },
    {
      "cell_type": "markdown",
      "source": [
        "📢 파일 처리 : 프로그래밍에서 중요한 축을 차지하는 부분\n"
      ],
      "metadata": {
        "id": "UM-FINaUwENv"
      }
    },
    {
      "cell_type": "markdown",
      "source": [
        "27.1 파일에 문자열 쓰기, 읽기, 파일 객체 닫기\n",
        "\n",
        "\n",
        "\n",
        "1.   파일에 문자열 쓰기\n",
        "\n",
        "*   파일객체 = open(파일이름, 파일모드)\n",
        "*   파일객체.write('문자열')\n",
        "*   파일객체.close() <br>\n",
        "\n",
        "\n",
        "\n",
        "2.   파일에 문자열 읽기\n",
        "\n",
        "*   변수 = 파일객체.read()\n",
        "\n",
        "\n",
        "3.   자동으로 파일 객체 닫기\n",
        "\n",
        "*   with open(파일이름, 파일모드) as 파일객체:\n",
        "    코드\n",
        "\n"
      ],
      "metadata": {
        "id": "zHDP4-e1wNs2"
      }
    },
    {
      "cell_type": "code",
      "source": [
        "file = open('hello.txt', 'w')    # hello.txt 파일을 쓰기 모드(w)로 열기. 파일 객체 반환\n",
        "file.write('Hello, world!')      # 파일에 문자열 저장\n",
        "file.close()                     # 파일 객체 닫기 .py파일이 있는 폴더에 hello.txt 파일 생성됨"
      ],
      "metadata": {
        "id": "J80pqRH4v5h6"
      },
      "execution_count": 36,
      "outputs": []
    },
    {
      "cell_type": "code",
      "source": [
        "file = open('hello.txt', 'r')    # hello.txt 파일을 읽기 모드(r)로 열기. 파일 객체 반환\n",
        "s = file.read()                  # 파일에서 문자열 읽기\n",
        "print(s)                         # Hello, world!\n",
        "file.close()                     # 파일 객체 닫기"
      ],
      "metadata": {
        "colab": {
          "base_uri": "https://localhost:8080/"
        },
        "id": "4CMvcC6ewwbJ",
        "outputId": "c82696df-c8c6-467a-d11e-7bb4abcfa53b"
      },
      "execution_count": 37,
      "outputs": [
        {
          "output_type": "stream",
          "name": "stdout",
          "text": [
            "Hello, world!\n"
          ]
        }
      ]
    },
    {
      "cell_type": "code",
      "source": [
        "with open('hello.txt', 'r') as file:    # hello.txt 파일을 읽기 모드(r)로 열기\n",
        "    s = file.read()                     # 파일에서 문자열 읽기\n",
        "    print(s)                            # Hello, world!"
      ],
      "metadata": {
        "colab": {
          "base_uri": "https://localhost:8080/"
        },
        "id": "_S7V7ePdwzYQ",
        "outputId": "d454f7b6-9336-4532-f2fd-2bbd5e1a3686"
      },
      "execution_count": 38,
      "outputs": [
        {
          "output_type": "stream",
          "name": "stdout",
          "text": [
            "Hello, world!\n"
          ]
        }
      ]
    },
    {
      "cell_type": "markdown",
      "source": [
        "27.2 문자열 여러 줄을 파일에 쓰기, 읽기\n",
        " \n",
        "1. 리스트에 있는 문자열을 파일에 쓰기\n",
        "* 파일객체.writelines(문자열리스트)\n",
        "\n",
        "2. 파일의 내용을 한 줄씩 리스트로 가져오기\n",
        "* 변수 = 파일객체.readlines()\n",
        "\n",
        "3. 파일의 내용을 한 줄씩 읽기\n",
        "* 변수 = 파일객체.readline()\n",
        "\n"
      ],
      "metadata": {
        "id": "qQWJtoIvxMLw"
      }
    },
    {
      "cell_type": "code",
      "source": [
        "with open('hello.txt', 'w') as file:    # hello.txt 파일을 쓰기 모드(w)로 열기\n",
        "    for i in range(3):\n",
        "        file.write('Hello, world! {0}\\n'.format(i)) # \\n을 붙이지 않으면 문자열이 모두 한 줄로 붙어서 저장되므로 주의"
      ],
      "metadata": {
        "id": "FpfHNUUmxIp0"
      },
      "execution_count": 40,
      "outputs": []
    },
    {
      "cell_type": "code",
      "source": [
        "lines = ['안녕하세요.\\n', '파이썬\\n', '코딩 도장입니다.\\n']\n",
        " \n",
        "with open('hello.txt', 'w') as file:    # hello.txt 파일을 쓰기 모드(w)로 열기\n",
        "    file.writelines(lines)"
      ],
      "metadata": {
        "id": "ux9rQ25JxVGQ"
      },
      "execution_count": 41,
      "outputs": []
    },
    {
      "cell_type": "code",
      "source": [
        "with open('hello.txt', 'r') as file:    # hello.txt 파일을 읽기 모드(r)로 열기\n",
        "    lines = file.readlines()\n",
        "    print(lines)"
      ],
      "metadata": {
        "colab": {
          "base_uri": "https://localhost:8080/"
        },
        "id": "t84KrLfqyAs6",
        "outputId": "6862aa36-64fb-4ab6-db38-bacd9bd5d867"
      },
      "execution_count": 42,
      "outputs": [
        {
          "output_type": "stream",
          "name": "stdout",
          "text": [
            "['안녕하세요.\\n', '파이썬\\n', '코딩 도장입니다.\\n']\n"
          ]
        }
      ]
    },
    {
      "cell_type": "markdown",
      "source": [
        "🔔🔔🔔\n",
        "\n",
        "readline으로 파일을 읽을 때는 while반복문을 활용해야 함<br>\n",
        "→ 파일에 문자열이 몇 줄이나 있는지 모르기 때문<br>\n",
        "\n",
        "readline은 더 이상 읽을 줄이 없을 때는 빈 문자열을 반환<br>\n",
        "→ line != ''과 같이 조건식을 만들어 줌<br>\n",
        "→ line = file.readline() 과 같이 문자열 한 줄을 읽어서 변수에 저장해주면 됨<br>\n",
        "→ line은 while로 반복하기 전에 None으로 초기화해줘야 함 "
      ],
      "metadata": {
        "id": "NAS9HtbwyXBl"
      }
    },
    {
      "cell_type": "code",
      "source": [
        "with open('hello.txt', 'r') as file:    # hello.txt 파일을 읽기 모드(r)로 열기\n",
        "    line = None    # 변수 line을 None으로 초기화\n",
        "    while line != '':\n",
        "        line = file.readline()  # 한 줄씩 순차적으로 읽으려면\n",
        "        print(line.strip('\\n'))    # 파일에서 읽어온 문자열에서 \\n 삭제하여 출력"
      ],
      "metadata": {
        "colab": {
          "base_uri": "https://localhost:8080/"
        },
        "id": "IpoTSkL2yFZM",
        "outputId": "4e60021e-35f9-4802-c67e-189a290b67d9"
      },
      "execution_count": 43,
      "outputs": [
        {
          "output_type": "stream",
          "name": "stdout",
          "text": [
            "안녕하세요.\n",
            "파이썬\n",
            "코딩 도장입니다.\n",
            "\n"
          ]
        }
      ]
    },
    {
      "cell_type": "markdown",
      "source": [
        "27.3 for 반복문으로 파일의 내용을 줄 단위로 읽기"
      ],
      "metadata": {
        "id": "x7oMA86zzO20"
      }
    },
    {
      "cell_type": "code",
      "source": [
        "with open('hello.txt', 'r') as file:    # hello.txt 파일을 읽기 모드(r)로 열기\n",
        "    for line in file:    # for에 파일 객체를 지정하면 파일의 내용을 한 줄씩 읽어서 변수에 저장함\n",
        "        print(line.strip('\\n'))    # 파일에서 읽어온 문자열에서 \\n 삭제하여 출력"
      ],
      "metadata": {
        "colab": {
          "base_uri": "https://localhost:8080/"
        },
        "id": "1aqukWSCyIX1",
        "outputId": "77328564-f733-4665-c642-b920bece2c94"
      },
      "execution_count": 44,
      "outputs": [
        {
          "output_type": "stream",
          "name": "stdout",
          "text": [
            "안녕하세요.\n",
            "파이썬\n",
            "코딩 도장입니다.\n"
          ]
        }
      ]
    },
    {
      "cell_type": "markdown",
      "source": [
        "<참고>\n",
        "\n",
        "파일 객체는 이터레이터<br>\n",
        "변수 여러 개에 저장하는 언패킹 가능"
      ],
      "metadata": {
        "id": "kn2Xjhhzza4O"
      }
    },
    {
      "cell_type": "code",
      "source": [
        "file = open('hello.txt', 'r')\n",
        "a, b, c = file\n",
        "a, b, c # 할당할 변수의 개수와 파일에 저장된 문자열의 줄 수가 일치해야 함"
      ],
      "metadata": {
        "colab": {
          "base_uri": "https://localhost:8080/"
        },
        "id": "Lbgb-bAlzWcc",
        "outputId": "e414d208-53f6-49fd-f447-529da97a2f0e"
      },
      "execution_count": 45,
      "outputs": [
        {
          "output_type": "execute_result",
          "data": {
            "text/plain": [
              "('안녕하세요.\\n', '파이썬\\n', '코딩 도장입니다.\\n')"
            ]
          },
          "metadata": {},
          "execution_count": 45
        }
      ]
    },
    {
      "cell_type": "markdown",
      "source": [
        "27.4 파이썬 객체를 파일에 저장하기, 가져오기"
      ],
      "metadata": {
        "id": "M9ceKv1pzuMU"
      }
    },
    {
      "cell_type": "markdown",
      "source": [
        "pickling : 파이썬 객체를 파일에 저장하는 과정\n",
        "\n",
        "unpickling : 파일에서 객체를 읽어오는 과정"
      ],
      "metadata": {
        "id": "mWZx2mni1SEy"
      }
    },
    {
      "cell_type": "markdown",
      "source": [
        "27.4.1 파이썬 객체를 파일에 저장하기 "
      ],
      "metadata": {
        "id": "_W-gCEwe1rE_"
      }
    },
    {
      "cell_type": "code",
      "source": [
        "import pickle\n",
        " \n",
        "name = 'james'\n",
        "age = 17\n",
        "address = '서울시 서초구 반포동'\n",
        "scores = {'korean': 90, 'english': 95, 'mathematics': 85, 'science': 82}\n",
        " \n",
        "with open('james.p', 'wb') as file:    # james.p 파일을 바이너리 쓰기 모드(wb)로 열기\n",
        "    pickle.dump(name, file)\n",
        "    pickle.dump(age, file)\n",
        "    pickle.dump(address, file)\n",
        "    pickle.dump(scores, file)"
      ],
      "metadata": {
        "id": "orItRQ1GzmYb"
      },
      "execution_count": 47,
      "outputs": []
    },
    {
      "cell_type": "markdown",
      "source": [
        "27.4.2 파일에서 파이썬 객체 읽기"
      ],
      "metadata": {
        "id": "ChcMV15F1w2O"
      }
    },
    {
      "cell_type": "code",
      "source": [
        "import pickle\n",
        " \n",
        "with open('james.p', 'rb') as file:    # james.p 파일을 바이너리 읽기 모드(rb)로 열기\n",
        "    name = pickle.load(file) # 순서대로 저장해서 같은 순서로 가져오면 됨\n",
        "    age = pickle.load(file)\n",
        "    address = pickle.load(file)\n",
        "    scores = pickle.load(file)\n",
        "    print(name)\n",
        "    print(age)\n",
        "    print(address)\n",
        "    print(scores)"
      ],
      "metadata": {
        "colab": {
          "base_uri": "https://localhost:8080/"
        },
        "id": "QFHN_oCW12uI",
        "outputId": "23b2d1be-1ee7-40e4-e6f4-9267cfa4cc99"
      },
      "execution_count": 48,
      "outputs": [
        {
          "output_type": "stream",
          "name": "stdout",
          "text": [
            "james\n",
            "17\n",
            "서울시 서초구 반포동\n",
            "{'korean': 90, 'english': 95, 'mathematics': 85, 'science': 82}\n"
          ]
        }
      ]
    },
    {
      "cell_type": "markdown",
      "source": [
        "![image.png](data:image/png;base64,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)\n"
      ],
      "metadata": {
        "id": "bDyJ4Kh62SNc"
      }
    },
    {
      "cell_type": "code",
      "source": [
        "file = open('practice.txt', 'w')  \n",
        "file.write('anonymously\\n')    \n",
        "file.write('compatibility\\n')\n",
        "file.write('dashboard\\n')\n",
        "file.write('experience\\n')\n",
        "file.write('photography\\n')\n",
        "file.write('spotlight\\n')\n",
        "file.write('warehouse\\n')\n",
        "file.close() "
      ],
      "metadata": {
        "id": "Az4ecuNq2Ar6"
      },
      "execution_count": 54,
      "outputs": []
    },
    {
      "cell_type": "code",
      "source": [
        "with open('practice.txt','r') as file : \n",
        "  words = file.readlines()\n",
        "count = 0\n",
        "for i in words:\n",
        "  if len(i.strip('\\n')) <= 10:\n",
        "    count += 1 \n",
        "print(count)"
      ],
      "metadata": {
        "colab": {
          "base_uri": "https://localhost:8080/"
        },
        "id": "92vait6C3raH",
        "outputId": "eb94cd1d-20e6-41aa-8c3f-10c3408c36de"
      },
      "execution_count": 57,
      "outputs": [
        {
          "output_type": "stream",
          "name": "stdout",
          "text": [
            "4\n"
          ]
        }
      ]
    },
    {
      "cell_type": "markdown",
      "source": [
        "연습문제)\n",
        "\n",
        "문자열이 저장된 words.txt 파일이 주어집니다(문자열은 한 줄로 저장되어 있습니다). words.txt 파일에서 문자 c가 포함된 단어를 각 줄에 출력하는 프로그램을 만드세요. 단어를 출력할 때는 등장한 순서대로 출력해야 하며 ,(콤마)와 .(점)은 출력하지 않아야 합니다."
      ],
      "metadata": {
        "id": "5U3eCNSh4g4A"
      }
    },
    {
      "cell_type": "code",
      "source": [
        "with open('words.txt','w') as file:\n",
        "  file.write('Fortunately, however, for the reputation of Asteroid B-612, a Turkish dictator made a law that his subjects, under pain of death, should change to European costume. So in 1920 the astronomer gave his demonstration all over again, dressed with impressive style and elegance. And this time everybody accepted his report.')"
      ],
      "metadata": {
        "id": "Sqa-Vdsx6Yei"
      },
      "execution_count": 59,
      "outputs": []
    },
    {
      "cell_type": "code",
      "source": [
        "with open('words.txt','r') as file:\n",
        "  for line in file: # for에 파일 객체를 지정하면 파일의 내용을 한 줄씩 읽어서 변수에 저장함\n",
        "    words = line.split()\n",
        "    for word in words:\n",
        "      if 'c' in word:\n",
        "        print(word.strip(',.'))"
      ],
      "metadata": {
        "colab": {
          "base_uri": "https://localhost:8080/"
        },
        "id": "AOUwKpaV5rVW",
        "outputId": "da810422-5c85-439f-b1b9-69938001cab5"
      },
      "execution_count": 60,
      "outputs": [
        {
          "output_type": "stream",
          "name": "stdout",
          "text": [
            "dictator\n",
            "subjects\n",
            "change\n",
            "costume\n",
            "elegance\n",
            "accepted\n"
          ]
        }
      ]
    },
    {
      "cell_type": "markdown",
      "source": [
        "## **Unit 28 회문 판별과 N-gram 만들기**\n"
      ],
      "metadata": {
        "id": "J2ev7sn19OXn"
      }
    },
    {
      "cell_type": "markdown",
      "source": [
        "N-gram은 빅 데이터 분석, 검색 엔진에서 많이 사용됨"
      ],
      "metadata": {
        "id": "RXOELzhe9YJa"
      }
    },
    {
      "cell_type": "markdown",
      "source": [
        "28.1 회문 판별하기\n",
        "- 회문 : 순서를 거꾸로 읽어도 제대로 읽은 것과 같은 단어와 문장을 말함 ex) level, sos, rotator\n",
        "\n",
        "🎯🎯 \n",
        "문자열(단어)의 길이가 가장 중요함\n",
        "문자열을 절반으로 나누어서 왼쪽 문자와 오른쪽 문자가 같은지 검사해야하니까\n"
      ],
      "metadata": {
        "id": "kHhJ75On9c1P"
      }
    },
    {
      "cell_type": "code",
      "source": [
        "word = input('단어를 입력하세요 : ')\n",
        "\n",
        "is_palindrome = True # 회문 판별값을 저장할 변수, 초깃값은 True\n",
        "\n",
        "for i in range(len(word)//2): # 0부터 문자열 길이의 절반만큼 반복\n",
        "  if word[i] != word[-1-i] : # 왼쪽 문자와 오른쪽 문자를 비교하여 문자가 다르면 \n",
        "    is_palindrom = False\n",
        "    break\n",
        "print(is_palindrome)"
      ],
      "metadata": {
        "colab": {
          "base_uri": "https://localhost:8080/"
        },
        "id": "NIdBku6y8_kk",
        "outputId": "a3957f40-9b11-444b-b5b4-c58975ba0f8b"
      },
      "execution_count": 75,
      "outputs": [
        {
          "output_type": "stream",
          "name": "stdout",
          "text": [
            "단어를 입력하세요 : level\n",
            "True\n"
          ]
        }
      ]
    },
    {
      "cell_type": "code",
      "source": [
        "word = input('단어를 입력하세요: ')\n",
        " \n",
        "print(word == word[::-1])    # 원래 문자열과 반대로 뒤집은 문자열을 비교"
      ],
      "metadata": {
        "colab": {
          "base_uri": "https://localhost:8080/"
        },
        "id": "y0HPLSWe-OGX",
        "outputId": "ecbde7eb-3460-4261-a643-f4deb30871cd"
      },
      "execution_count": 76,
      "outputs": [
        {
          "output_type": "stream",
          "name": "stdout",
          "text": [
            "단어를 입력하세요: level\n",
            "True\n"
          ]
        }
      ]
    },
    {
      "cell_type": "code",
      "source": [
        "word = 'level'\n",
        "\n",
        "list(word) == list(reversed(word))"
      ],
      "metadata": {
        "colab": {
          "base_uri": "https://localhost:8080/"
        },
        "id": "pZ3IdRM4IIRh",
        "outputId": "81fdcfde-7905-41f4-c332-ad2ed4850c88"
      },
      "execution_count": 77,
      "outputs": [
        {
          "output_type": "execute_result",
          "data": {
            "text/plain": [
              "True"
            ]
          },
          "metadata": {},
          "execution_count": 77
        }
      ]
    },
    {
      "cell_type": "code",
      "source": [
        "word = 'level'\n",
        "word == ''.join(reversed(word)) # 빈 문자열에 reversed(word)의 요소 연결"
      ],
      "metadata": {
        "colab": {
          "base_uri": "https://localhost:8080/"
        },
        "id": "GKd1u-KuIN2G",
        "outputId": "54434211-95dd-44f1-ca18-84344106f766"
      },
      "execution_count": 78,
      "outputs": [
        {
          "output_type": "execute_result",
          "data": {
            "text/plain": [
              "True"
            ]
          },
          "metadata": {},
          "execution_count": 78
        }
      ]
    },
    {
      "cell_type": "markdown",
      "source": [
        "28.2 N-gram 만들기\n",
        "\n",
        "문자열에서 N개의 연속된 요소를 추출하는 방법"
      ],
      "metadata": {
        "id": "sOX9X-EhIhcl"
      }
    },
    {
      "cell_type": "code",
      "source": [
        "text = 'Hello'\n",
        " \n",
        "for i in range(len(text) - 1):             # 2-gram이므로 문자열의 끝에서 한 글자 앞까지만 반복함\n",
        "    print(text[i], text[i + 1], sep='')    # 현재 문자와 그다음 문자 출력"
      ],
      "metadata": {
        "colab": {
          "base_uri": "https://localhost:8080/"
        },
        "id": "bPDOhzYHIgDW",
        "outputId": "9af4860d-0998-4e9b-dfa0-6eae6425c10e"
      },
      "execution_count": 81,
      "outputs": [
        {
          "output_type": "stream",
          "name": "stdout",
          "text": [
            "He\n",
            "el\n",
            "ll\n",
            "lo\n"
          ]
        }
      ]
    },
    {
      "cell_type": "code",
      "source": [
        "text = 'this is python script'\n",
        "words = text.split()                 # 공백을 기준으로 문자열을 분리하여 리스트로 만듦\n",
        " \n",
        "for i in range(len(words) - 1):      # 2-gram이므로 리스트의 마지막에서 요소 한 개 앞까지만 반복함\n",
        "    print(words[i], words[i + 1])    # 현재 문자열과 그다음 문자열 출력"
      ],
      "metadata": {
        "colab": {
          "base_uri": "https://localhost:8080/"
        },
        "id": "cpyB9F1OI0Kt",
        "outputId": "f486e181-33d0-425d-e502-8f9fd4e9f849"
      },
      "execution_count": 82,
      "outputs": [
        {
          "output_type": "stream",
          "name": "stdout",
          "text": [
            "this is\n",
            "is python\n",
            "python script\n"
          ]
        }
      ]
    },
    {
      "cell_type": "code",
      "source": [
        "text = 'hello'\n",
        " \n",
        "two_gram = zip(text, text[1:]) # 리스트 두 개를 딕셔너리로 만들 때 사용했는데,\n",
        "print(list(two_gram))          # zip 함수는 반복 가능한 객체의 각 요소를 튜플로 묶어줌 \n",
        "# for i in two_gram:\n",
        "#     print(i[0], i[1], sep='')"
      ],
      "metadata": {
        "colab": {
          "base_uri": "https://localhost:8080/"
        },
        "id": "678vLN0BJD6h",
        "outputId": "cee3675d-0bc1-471d-8eb0-860ee9faf0cf"
      },
      "execution_count": 93,
      "outputs": [
        {
          "output_type": "stream",
          "name": "stdout",
          "text": [
            "[('h', 'e'), ('e', 'l'), ('l', 'l'), ('l', 'o')]\n"
          ]
        }
      ]
    },
    {
      "cell_type": "code",
      "source": [
        "text = 'hello'\n",
        " \n",
        "two_gram = zip(text, text[1:]) # 리스트 두 개를 딕셔너리로 만들 때 사용했는데,\n",
        "                               # zip 함수는 반복 가능한 객체의 각 요소를 튜플로 묶어줌 \n",
        "for i in two_gram:\n",
        "    print(i[0], i[1], sep='')"
      ],
      "metadata": {
        "colab": {
          "base_uri": "https://localhost:8080/"
        },
        "id": "1L13halTLAGS",
        "outputId": "01214ff2-1c60-4ac2-f595-b0982e238784"
      },
      "execution_count": 94,
      "outputs": [
        {
          "output_type": "stream",
          "name": "stdout",
          "text": [
            "he\n",
            "el\n",
            "ll\n",
            "lo\n"
          ]
        }
      ]
    },
    {
      "cell_type": "code",
      "source": [
        "text = 'this is python script'\n",
        "words = text.split()\n",
        "list(zip(words, words[1:]))"
      ],
      "metadata": {
        "colab": {
          "base_uri": "https://localhost:8080/"
        },
        "id": "GXfsqbuwJe0l",
        "outputId": "ab64cb4b-b30c-4ffd-d420-d3a5e184661b"
      },
      "execution_count": 85,
      "outputs": [
        {
          "output_type": "execute_result",
          "data": {
            "text/plain": [
              "[('this', 'is'), ('is', 'python'), ('python', 'script')]"
            ]
          },
          "metadata": {},
          "execution_count": 85
        }
      ]
    },
    {
      "cell_type": "code",
      "source": [
        "text = 'hello'\n",
        "[text[i:] for i in range(3)]"
      ],
      "metadata": {
        "colab": {
          "base_uri": "https://localhost:8080/"
        },
        "id": "mNutik0IKFmZ",
        "outputId": "e84fac95-1a6c-45f1-b6db-d07d8d534f08"
      },
      "execution_count": 86,
      "outputs": [
        {
          "output_type": "execute_result",
          "data": {
            "text/plain": [
              "['hello', 'ello', 'llo']"
            ]
          },
          "metadata": {},
          "execution_count": 86
        }
      ]
    },
    {
      "cell_type": "code",
      "source": [
        "list(zip(['hello', 'ello', 'llo']))\n",
        "# zip은 반복 가능한 객체 여러 개를 콤마로 구분해서 넣어줘야 함"
      ],
      "metadata": {
        "colab": {
          "base_uri": "https://localhost:8080/"
        },
        "id": "MbiWebgWKP7j",
        "outputId": "64579efb-02da-4908-c5b6-b0e0f7f72bfb"
      },
      "execution_count": 95,
      "outputs": [
        {
          "output_type": "execute_result",
          "data": {
            "text/plain": [
              "[('hello',), ('ello',), ('llo',)]"
            ]
          },
          "metadata": {},
          "execution_count": 95
        }
      ]
    },
    {
      "cell_type": "code",
      "source": [
        "list(zip(*['hello', 'ello', 'llo'])) \n",
        "# zip에 리스트의 각 요소를 콤마로 구분해서 넣어주려면 리스트 앞에 *를 붙여야 함"
      ],
      "metadata": {
        "colab": {
          "base_uri": "https://localhost:8080/"
        },
        "id": "G11WUcn-LLGW",
        "outputId": "e5da926c-75f7-4f58-bcc2-a988260883c6"
      },
      "execution_count": 96,
      "outputs": [
        {
          "output_type": "execute_result",
          "data": {
            "text/plain": [
              "[('h', 'e', 'l'), ('e', 'l', 'l'), ('l', 'l', 'o')]"
            ]
          },
          "metadata": {},
          "execution_count": 96
        }
      ]
    },
    {
      "cell_type": "code",
      "source": [
        "list(zip(*[text[i:] for i in range(3)]))"
      ],
      "metadata": {
        "colab": {
          "base_uri": "https://localhost:8080/"
        },
        "id": "ZxgvOn57LiWU",
        "outputId": "0c77f8a5-da8e-42f3-ea4e-b7eb6ce2b81e"
      },
      "execution_count": 97,
      "outputs": [
        {
          "output_type": "execute_result",
          "data": {
            "text/plain": [
              "[('h', 'e', 'l'), ('e', 'l', 'l'), ('l', 'l', 'o')]"
            ]
          },
          "metadata": {},
          "execution_count": 97
        }
      ]
    },
    {
      "cell_type": "code",
      "source": [
        "n = int(input())\n",
        "text = input()\n",
        "words = text.split()        \n",
        " \n",
        "if len(words) < n :\n",
        "  print('wrong')\n",
        "else:\n",
        "  n_gram = zip(* [words[i:] for i in range(n)]) # N-gram은 리스트 표현식 사용, 결과는 튜플로 출력\n",
        "  for i in n_gram: # 리스트 표현식으로 문자열 리스트 만든 뒤 zip에 넣어 줌\n",
        "    print(i) # zip에 리스트의 각 요소를 콤마로 구분해서 넣을 수 있도록 리스트 앞에 * 붙여서 언패킹"
      ],
      "metadata": {
        "colab": {
          "base_uri": "https://localhost:8080/"
        },
        "id": "tn_QX_CHLn9h",
        "outputId": "5033591d-5321-4959-8831-6543f46b24b0"
      },
      "execution_count": 99,
      "outputs": [
        {
          "output_type": "stream",
          "name": "stdout",
          "text": [
            "7\n",
            "Python is a programming language that lets you work quickly\n",
            "('Python', 'is', 'a', 'programming', 'language', 'that', 'lets')\n",
            "('is', 'a', 'programming', 'language', 'that', 'lets', 'you')\n",
            "('a', 'programming', 'language', 'that', 'lets', 'you', 'work')\n",
            "('programming', 'language', 'that', 'lets', 'you', 'work', 'quickly')\n"
          ]
        }
      ]
    },
    {
      "cell_type": "markdown",
      "source": [
        "연습문제) <br>\n",
        "단어가 줄 단위로 저장된 words.txt 파일이 주어집니다. words.txt 파일에서 회문인 단어를 각 줄에 출력하는 프로그램을 만드세요. 단어를 출력할 때는 등장한 순서대로 출력해야 합니다. 그리고 파일에서 읽은 단어는 \\n이 붙어있으므로 \\n을 제외한 뒤 회문인지 판단해야 하며 단어를 출력할 때도 \\n이 출력되면 안 됩니다(단어 사이에 줄바꿈이 두 번 일어나면 안 됨).\n"
      ],
      "metadata": {
        "id": "raS2MZ6uTVPg"
      }
    },
    {
      "cell_type": "code",
      "source": [
        "with open('words.txt','w') as file:\n",
        "  file.write('apache\\n')\n",
        "  file.write('decal\\n')\n",
        "  file.write('did\\n')\n",
        "  file.write('neep\\n')\n",
        "  file.write('noon\\n')\n",
        "  file.write('refer\\n')\n",
        "  file.write('river\\n')"
      ],
      "metadata": {
        "id": "U_GufGJYVxRN"
      },
      "execution_count": 103,
      "outputs": []
    },
    {
      "cell_type": "code",
      "source": [
        "with open('words.txt','r') as file:\n",
        "  for line in file:\n",
        "    words = line.split()\n",
        "    for word in words:\n",
        "      if list(word) == list(reversed(word)):\n",
        "        print(word.strip('\\n'))"
      ],
      "metadata": {
        "colab": {
          "base_uri": "https://localhost:8080/"
        },
        "id": "QkNWAbbWStlY",
        "outputId": "1e332cd7-05ee-4ae4-f3a2-a2ab8c617f36"
      },
      "execution_count": 104,
      "outputs": [
        {
          "output_type": "stream",
          "name": "stdout",
          "text": [
            "did\n",
            "noon\n",
            "refer\n"
          ]
        }
      ]
    },
    {
      "cell_type": "code",
      "source": [
        "with open('words.txt','r') as file:\n",
        "  words = file.readlines()\n",
        "for word in words:\n",
        "  word = word.strip('\\n')\n",
        "  if word == word[::-1]:\n",
        "    print(word)"
      ],
      "metadata": {
        "colab": {
          "base_uri": "https://localhost:8080/"
        },
        "id": "ewoTwLGCWTcQ",
        "outputId": "87dfa988-074a-4980-c5fd-31e30def916e"
      },
      "execution_count": 117,
      "outputs": [
        {
          "output_type": "stream",
          "name": "stdout",
          "text": [
            "did\n",
            "noon\n",
            "refer\n"
          ]
        }
      ]
    },
    {
      "cell_type": "markdown",
      "source": [
        "## **Unit 29. 함수 사용하기**"
      ],
      "metadata": {
        "id": "8AzfXYQjYA6z"
      }
    },
    {
      "cell_type": "markdown",
      "source": [
        "함수를 사용하면 좋은 점\n",
        "\n",
        "- 코드의 용도를 구분할 수 있다\n",
        "- 코드를 재사용할 수 있다\n",
        "- 실수를 줄일 수 있다\n",
        "\n",
        "함수 만드는 법\n",
        "\n",
        "\n",
        "         def 함수이름():\n",
        "              코드"
      ],
      "metadata": {
        "id": "q8W1lME-YKza"
      }
    },
    {
      "cell_type": "markdown",
      "source": [
        "29.1 함수 생성"
      ],
      "metadata": {
        "id": "pTrWqa9LZcjr"
      }
    },
    {
      "cell_type": "code",
      "source": [
        "def hello():\n",
        "  print('hello, world')"
      ],
      "metadata": {
        "id": "Qo7Xv9x_Wfzr"
      },
      "execution_count": 118,
      "outputs": []
    },
    {
      "cell_type": "code",
      "source": [
        "hello() # 함수 호출 ※ 괄호를 붙이지 않으면 함수가 호출되지 않음"
      ],
      "metadata": {
        "colab": {
          "base_uri": "https://localhost:8080/"
        },
        "id": "1hlrmo-HYjNx",
        "outputId": "bf135f1e-2320-411f-c727-e5ab53a362fa"
      },
      "execution_count": 121,
      "outputs": [
        {
          "output_type": "stream",
          "name": "stdout",
          "text": [
            "hello, world\n"
          ]
        }
      ]
    },
    {
      "cell_type": "markdown",
      "source": [
        "함수의 실행 순서\n",
        "\n",
        "1. 파이썬 스크립트 최초 실행\n",
        "2. hello 함수 호출\n",
        "3. hello 함수 실행\n",
        "4. print 함수 실행 및 'Hello, world!' 출력\n",
        "5. hello 함수 종료\n",
        "6. 파이썬 스크립트 종료\n",
        "\n",
        "![image.png](data:image/png;base64,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)"
      ],
      "metadata": {
        "id": "fm45XsEiYw3M"
      }
    },
    {
      "cell_type": "markdown",
      "source": [
        "🔔🔔🔔📢📢📢\n",
        "함수를 만들기 전에 함수를 먼저 호출하면 안됨\n",
        "\n",
        "함수를 먼저 호출한 뒤 함수를 만들수 없음"
      ],
      "metadata": {
        "id": "qq8DYVvoZEva"
      }
    },
    {
      "cell_type": "markdown",
      "source": [
        "<참고>\n",
        "\n",
        "빈 함수 만들기\n",
        "\n",
        "      def hello(): \n",
        "            pass"
      ],
      "metadata": {
        "id": "zgUnJ-Y9ZQSL"
      }
    },
    {
      "cell_type": "markdown",
      "source": [
        "29.2 덧셈 함수 생성"
      ],
      "metadata": {
        "id": "4T9bJLhDZfLB"
      }
    },
    {
      "cell_type": "code",
      "source": [
        "def add(a,b):\n",
        "  print(a+b)"
      ],
      "metadata": {
        "id": "kVfODb3oYkfk"
      },
      "execution_count": 122,
      "outputs": []
    },
    {
      "cell_type": "code",
      "source": [
        "add(19,5)"
      ],
      "metadata": {
        "colab": {
          "base_uri": "https://localhost:8080/"
        },
        "id": "VjAE904QZnFx",
        "outputId": "2ef89ae0-b306-4c06-8801-fc7bf9d56c88"
      },
      "execution_count": 123,
      "outputs": [
        {
          "output_type": "stream",
          "name": "stdout",
          "text": [
            "24\n"
          ]
        }
      ]
    },
    {
      "cell_type": "markdown",
      "source": [
        "<참고> \n",
        "독스트링 : 문서화 문자열 \n",
        "\n",
        "함수의 :(콜론) 바로 다음 줄에 \"\"\" \"\"\" (큰따옴표 세 개)로 문자열을 입력하면 함수에 대한 설명을 넣을 수 있음\n",
        "\n",
        "※ 독스트링의 윗줄에 다른 코드가 오면 안됨\n",
        "\n",
        "        def 함수이름(매개변수):\n",
        "              \"\"\"독스트링\"\"\"\n",
        "              코드\n",
        "\n",
        "        def 함수이름(매개변수):\n",
        "              \"\"\"\n",
        "              여러 줄로 된 독스트링\n",
        "              \"\"\"\n",
        "              코드\n",
        "\n",
        "\n",
        "독스트링은 함수의 사용 방법만 기록할 뿐 함수를 호출해도 출력되지 않는다.\n",
        "\n",
        "만약 독스트링을 출력하고 싶을 시엔 \n",
        "          \n",
        "          print(함수명.__doc__)를 사용하면 된다.\n",
        "\n",
        "help()함수 : 함수의 이름, 매개변수, 독스트링을 도움말 형태로 출력해줌"
      ],
      "metadata": {
        "id": "iAtuf1U3Zr_V"
      }
    },
    {
      "cell_type": "code",
      "source": [
        "def add(a,b):\n",
        "  \"\"\" 이 함수는 a 와 b를 \n",
        "  더한 뒤 결과를 반환하는 \n",
        "  함수 입니다. \"\"\"\n",
        "  print(a+b)"
      ],
      "metadata": {
        "id": "TcXScvQWZo0B"
      },
      "execution_count": 124,
      "outputs": []
    },
    {
      "cell_type": "code",
      "source": [
        "x = add(10,4)"
      ],
      "metadata": {
        "colab": {
          "base_uri": "https://localhost:8080/"
        },
        "id": "EpGqkYXNavtX",
        "outputId": "7791857f-b8bf-468a-8694-dfc7844ddcf8"
      },
      "execution_count": 125,
      "outputs": [
        {
          "output_type": "stream",
          "name": "stdout",
          "text": [
            "14\n"
          ]
        }
      ]
    },
    {
      "cell_type": "code",
      "source": [
        "print(add.__doc__)"
      ],
      "metadata": {
        "colab": {
          "base_uri": "https://localhost:8080/"
        },
        "id": "kWlfenU4a0cU",
        "outputId": "e15cc11e-72c0-40cc-a172-81e1ac6e6c72"
      },
      "execution_count": 126,
      "outputs": [
        {
          "output_type": "stream",
          "name": "stdout",
          "text": [
            " 이 함수는 a 와 b를 \n",
            "  더한 뒤 결과를 반환하는 \n",
            "  함수 입니다. \n"
          ]
        }
      ]
    },
    {
      "cell_type": "code",
      "source": [
        "help(add)"
      ],
      "metadata": {
        "colab": {
          "base_uri": "https://localhost:8080/"
        },
        "id": "oH21tXMaa4BR",
        "outputId": "6cc89a6f-2bbc-45d8-9709-6e5fb0779971"
      },
      "execution_count": 127,
      "outputs": [
        {
          "output_type": "stream",
          "name": "stdout",
          "text": [
            "Help on function add in module __main__:\n",
            "\n",
            "add(a, b)\n",
            "    이 함수는 a 와 b를 \n",
            "    더한 뒤 결과를 반환하는 \n",
            "    함수 입니다.\n",
            "\n"
          ]
        }
      ]
    },
    {
      "cell_type": "markdown",
      "source": [
        "29.3 함수의 결과 반환\n",
        "\n",
        "        def 함수이름(매개변수):\n",
        "              return 반환값\n",
        "\n",
        "return을 사용하면 값을 함수 바깥으로 반환한다.\n",
        "return에 값을 지정하지 않으면 None을 반환시킴"
      ],
      "metadata": {
        "id": "BM-mw45Ga9Gx"
      }
    },
    {
      "cell_type": "code",
      "source": [
        "def add(a,b):\n",
        "  return a + b"
      ],
      "metadata": {
        "id": "jZTg7w3ka58j"
      },
      "execution_count": 128,
      "outputs": []
    },
    {
      "cell_type": "code",
      "source": [
        "x = add(10,3)\n",
        "print(x)  # return 을 사용하면 함수 바깥으로 반환 가능, 함수에서 나온 값을 변수에 저장 가능\n"
      ],
      "metadata": {
        "colab": {
          "base_uri": "https://localhost:8080/"
        },
        "id": "6SS0_IS-bW9-",
        "outputId": "119bb03e-95dd-4f5b-ce21-67f781a8dc94"
      },
      "execution_count": 133,
      "outputs": [
        {
          "output_type": "stream",
          "name": "stdout",
          "text": [
            "13\n"
          ]
        }
      ]
    },
    {
      "cell_type": "markdown",
      "source": [
        "return으로 반환하는 값은 반환값이라고 하며 함수를 호출해준 바깥에 결과를 알려주기 위해 사용\n",
        "\n",
        "반환값은 변수에 저장하지 않고 바로 다른 함수에 넣을 수도 있음\n",
        "\n",
        "![image.png](data:image/png;base64,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)"
      ],
      "metadata": {
        "id": "-1GSozS2bvwG"
      }
    },
    {
      "cell_type": "markdown",
      "source": [
        "<참고>\n",
        "\n",
        "매개변수는 없고 반환값만 있는 함수\n",
        "\n",
        "함수를 만들 때 매개변수는 없지만 값만 반환하는 함수를 만들 수도 있음 "
      ],
      "metadata": {
        "id": "LMvBDm4zcGPj"
      }
    },
    {
      "cell_type": "code",
      "source": [
        "def one():\n",
        "  return 1\n",
        "\n",
        "one()"
      ],
      "metadata": {
        "colab": {
          "base_uri": "https://localhost:8080/"
        },
        "id": "A1G5wYODbYqU",
        "outputId": "9e213123-f232-45ec-ae28-be0823233c1b"
      },
      "execution_count": 134,
      "outputs": [
        {
          "output_type": "execute_result",
          "data": {
            "text/plain": [
              "1"
            ]
          },
          "metadata": {},
          "execution_count": 134
        }
      ]
    },
    {
      "cell_type": "markdown",
      "source": [
        "<참고>\n",
        "\n",
        "return으로 함수 중간에서 빠져나오기\n",
        "\n",
        "return은 값을 반환하는 기능 뿐만 아니라 함수 중간에서 바로 빠져나오는 기능도 있음"
      ],
      "metadata": {
        "id": "JiZYdMNpcSyS"
      }
    },
    {
      "cell_type": "markdown",
      "source": [
        "![image.png](data:image/png;base64,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)"
      ],
      "metadata": {
        "id": "6HpBRwsddFnS"
      }
    },
    {
      "cell_type": "code",
      "source": [
        "def not_ten(a):\n",
        "  if a == 10:\n",
        "    return # 함수 중간에서 빠져나올 때 자주 사용\n",
        "  print(a,'입니다.',sep='')\n",
        "\n",
        "not_ten(10)"
      ],
      "metadata": {
        "id": "8gAirfWDcRev"
      },
      "execution_count": 136,
      "outputs": []
    },
    {
      "cell_type": "markdown",
      "source": [
        "29.4 함수에서 값을 여러 개 반환하기\n",
        "\n",
        "\n",
        "        def 함수이름(매개변수):\n",
        "            return 반환값 1, 반환값 2\n",
        "\n",
        "- return으로 값을 여러 개 반환하면 실제로는 튜플이 반환됨"
      ],
      "metadata": {
        "id": "wViKXwFrcsEn"
      }
    },
    {
      "cell_type": "code",
      "source": [
        "def add_sub(a,b):\n",
        "  return a+b, a-b"
      ],
      "metadata": {
        "id": "P088BFNFcmSf"
      },
      "execution_count": 137,
      "outputs": []
    },
    {
      "cell_type": "code",
      "source": [
        "x, y = add_sub(10,4)\n",
        "print(x, y , sep='\\n')"
      ],
      "metadata": {
        "colab": {
          "base_uri": "https://localhost:8080/"
        },
        "id": "ePa9G5g9c6to",
        "outputId": "816898f3-7940-4fb2-f958-388b998fa0fd"
      },
      "execution_count": 138,
      "outputs": [
        {
          "output_type": "stream",
          "name": "stdout",
          "text": [
            "14\n",
            "6\n"
          ]
        }
      ]
    },
    {
      "cell_type": "code",
      "source": [
        "k = add_sub(10,4)\n",
        "print(k) # 튜플이 변수 여러 개에 할당되는 특성을 이용한 것 "
      ],
      "metadata": {
        "colab": {
          "base_uri": "https://localhost:8080/"
        },
        "id": "gtGGkEUUdCQf",
        "outputId": "db79a0ee-41e0-4e75-e114-db84ed3725c4"
      },
      "execution_count": 140,
      "outputs": [
        {
          "output_type": "stream",
          "name": "stdout",
          "text": [
            "(14, 6)\n"
          ]
        }
      ]
    },
    {
      "cell_type": "markdown",
      "source": [
        "<참고>\n",
        "\n",
        "값 여러 개를 직접 반환하기\n",
        "\n",
        "- 함수에서 값 여러 개를 직접 반환할 때는 다음과 같이 return에 튜플을 지정해 주면 됨"
      ],
      "metadata": {
        "id": "_hY5oqBhdeOa"
      }
    },
    {
      "cell_type": "code",
      "source": [
        "def one_two():\n",
        "  return (1,2) "
      ],
      "metadata": {
        "id": "rXg3mergdXtZ"
      },
      "execution_count": 141,
      "outputs": []
    },
    {
      "cell_type": "code",
      "source": [
        "def one_two():\n",
        "  return 1, 2 # 파이썬에서 괄호 없이 값을 콤마로 구분하면 튜플이 됨"
      ],
      "metadata": {
        "id": "sJkYFNREdtyz"
      },
      "execution_count": 142,
      "outputs": []
    },
    {
      "cell_type": "code",
      "source": [
        "def one_two():\n",
        "  return [1,2] # 리스트를 사용해도 됨"
      ],
      "metadata": {
        "id": "XyfVvl6adwjr"
      },
      "execution_count": 144,
      "outputs": []
    },
    {
      "cell_type": "markdown",
      "source": [
        "29.5 함수의 호출 과정 알아보기\n",
        "\n",
        "스택 다이어그램 : 스택을 접시 쌓기와 같은데 접시를 차곡차곡 쌓고 꺼낼 때는 위쪽부터 차례로 꺼내는 방식.\n",
        "\n",
        "파이썬에서는 접시 쌓기와 방향이 반대, 함수가 아래쪽 방향으로 추가되고 함수가 끝나면 위쪽 방향으로 사라짐 \n"
      ],
      "metadata": {
        "id": "MJ0zqpENd-1b"
      }
    },
    {
      "cell_type": "code",
      "source": [
        "def mul(a,b):\n",
        "  c = a * b\n",
        "  return c\n",
        "\n",
        "def add(a,b):\n",
        "  c = a + b\n",
        "  print(c)\n",
        "  d = mul(a,b)\n",
        "  print(d)\n",
        "\n",
        "x = 10\n",
        "y = 20\n",
        "add(x, y)"
      ],
      "metadata": {
        "colab": {
          "base_uri": "https://localhost:8080/"
        },
        "id": "4zhsPDmcd02B",
        "outputId": "85bb607b-20f3-4668-f9b6-66db2dae8502"
      },
      "execution_count": 145,
      "outputs": [
        {
          "output_type": "stream",
          "name": "stdout",
          "text": [
            "30\n",
            "200\n"
          ]
        }
      ]
    },
    {
      "cell_type": "markdown",
      "source": [
        "![image.png](data:image/png;base64,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)"
      ],
      "metadata": {
        "id": "wq2wXoe5ev2O"
      }
    },
    {
      "cell_type": "markdown",
      "source": [
        "- 프레임 : 메모리에서 함수와 함수에 속한 변수가 저장되는 독립적인 공간\n",
        "\n",
        "- 전역 프레임 : 파이썬 스크립트 전체에서 접근할 수 있어서 전역 프레임이라고 불림"
      ],
      "metadata": {
        "id": "2dNPyNO0ew-k"
      }
    },
    {
      "cell_type": "markdown",
      "source": [
        "![image.png](data:image/png;base64,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)"
      ],
      "metadata": {
        "id": "gdBE1tNyfMaz"
      }
    },
    {
      "cell_type": "markdown",
      "source": [
        "![image.png](data:image/png;base64,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)"
      ],
      "metadata": {
        "id": "G2PXyRz5fWsw"
      }
    },
    {
      "cell_type": "markdown",
      "source": [
        "![image.png](data:image/png;base64,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)"
      ],
      "metadata": {
        "id": "jqqVwWO7fdeU"
      }
    },
    {
      "cell_type": "markdown",
      "source": [
        "![image.png](data:image/png;base64,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)"
      ],
      "metadata": {
        "id": "bW3la5oFfhKL"
      }
    },
    {
      "cell_type": "markdown",
      "source": [
        "함수는 스택 방식으로 호출된다. \n",
        "\n",
        "함수를 호출하면 스택의 아래쪽 방향으로 함수가 추가되고 함수가 끝나면 위쪽 방향으로 사라진다.\n",
        "\n",
        "특히 프레임은 스택 안에 있어서 각 프레임을 스택 프레임이라고 부른다.\n",
        "\n",
        "전역 프레임은 스크립트 파일의 실행이 끝나면 사라진다."
      ],
      "metadata": {
        "id": "0JDrkjtdmFZe"
      }
    },
    {
      "cell_type": "code",
      "source": [
        "x = 10\n",
        "y = 3\n",
        "\n",
        "def get_quotient_remainder(x,y):\n",
        "  return divmod(x,y)\n",
        "\n",
        "quotient, remainder = get_quotient_remainder(x, y)\n",
        "print('몫: {0}, 나머지: {1}'.format(quotient, remainder))"
      ],
      "metadata": {
        "colab": {
          "base_uri": "https://localhost:8080/"
        },
        "id": "EiwMSZE5en5b",
        "outputId": "c0821233-836c-4be8-e2d4-f8927ddab426"
      },
      "execution_count": 146,
      "outputs": [
        {
          "output_type": "stream",
          "name": "stdout",
          "text": [
            "몫: 3, 나머지: 1\n"
          ]
        }
      ]
    },
    {
      "cell_type": "markdown",
      "source": [
        "연습문제) \n",
        "\n",
        "표준 입력으로 숫자 두 개가 입력됩니다. 다음 소스 코드를 완성하여 두 숫자의 덧셈, 뺄셈, 곱셈, 나눗셈의 결과가 출력되게 만드세요. 이때 나눗셈의 결과는 실수라야 합니다."
      ],
      "metadata": {
        "id": "eByVa__Du1bl"
      }
    },
    {
      "cell_type": "code",
      "source": [
        "x, y = map(int, input().split())\n",
        "\n",
        "def calc(x,y):\n",
        "  return (x+y, x-y, x*y, x/y)\n",
        "\n",
        "a, s, m, d = calc(x, y)\n",
        "print('덧셈: {0}, 뺄셈: {1}, 곱셈: {2}, 나눗셈: {3}'.format(a, s, m, d))"
      ],
      "metadata": {
        "colab": {
          "base_uri": "https://localhost:8080/"
        },
        "id": "sHAMg8M0uxUS",
        "outputId": "3feb3474-6e09-45b8-8c50-0ba685918ef8"
      },
      "execution_count": 147,
      "outputs": [
        {
          "output_type": "stream",
          "name": "stdout",
          "text": [
            "15 3\n",
            "덧셈: 18, 뺄셈: 12, 곱셈: 45, 나눗셈: 5.0\n"
          ]
        }
      ]
    },
    {
      "cell_type": "markdown",
      "source": [
        "## **Unit 30. 함수에서 위치 인수와 키워드 인수 사용하기**\n",
        "\n"
      ],
      "metadata": {
        "id": "Wy4FWlaMvPi7"
      }
    },
    {
      "cell_type": "markdown",
      "source": [
        "30.1 위치 인수와 리스트 언패킹 사용하기\n",
        "\n",
        "위치 인수 : 함수에 인수를 순서대로 넣는 방식 ※ 위치가 정해져 있음\n",
        "\n",
        "인수를 순서대로 넣을 떄 리스트나 튜플 사용 가능\n",
        "\n",
        "→ 리스트 또는 튜플 앞에 * 붙여서 함수에 넣어주면 됨\n",
        "\n",
        "        함수(*리스트)\n",
        "        함수(*튜플)\n",
        "\n",
        "        "
      ],
      "metadata": {
        "id": "qSYENxrQvWxx"
      }
    },
    {
      "cell_type": "code",
      "source": [
        "print(10,20,30)"
      ],
      "metadata": {
        "colab": {
          "base_uri": "https://localhost:8080/"
        },
        "id": "pu7RSlx3vNmx",
        "outputId": "ccbdc2b2-24e2-4918-b358-4cc9ad747839"
      },
      "execution_count": 148,
      "outputs": [
        {
          "output_type": "stream",
          "name": "stdout",
          "text": [
            "10 20 30\n"
          ]
        }
      ]
    },
    {
      "cell_type": "code",
      "source": [
        "def print_numbers(a,b,c):\n",
        "  print(a)\n",
        "  print(b)\n",
        "  print(c)"
      ],
      "metadata": {
        "id": "HqWLr_IMvne_"
      },
      "execution_count": 149,
      "outputs": []
    },
    {
      "cell_type": "code",
      "source": [
        "print_numbers(10,20,30)"
      ],
      "metadata": {
        "colab": {
          "base_uri": "https://localhost:8080/"
        },
        "id": "jL-8Me7nvv0k",
        "outputId": "3c0b7c23-9dca-45bc-83ab-9b942427d6dc"
      },
      "execution_count": 151,
      "outputs": [
        {
          "output_type": "stream",
          "name": "stdout",
          "text": [
            "10\n",
            "20\n",
            "30\n"
          ]
        }
      ]
    },
    {
      "cell_type": "code",
      "source": [
        "x = [10, 20, 30]\n",
        "print_numbers(*x)"
      ],
      "metadata": {
        "colab": {
          "base_uri": "https://localhost:8080/"
        },
        "id": "4OewFrx4vxrR",
        "outputId": "74057237-40a4-4738-a710-9f8261cfd617"
      },
      "execution_count": 153,
      "outputs": [
        {
          "output_type": "stream",
          "name": "stdout",
          "text": [
            "10\n",
            "20\n",
            "30\n"
          ]
        }
      ]
    },
    {
      "cell_type": "code",
      "source": [
        "print_numbers(*[10,20,30])"
      ],
      "metadata": {
        "colab": {
          "base_uri": "https://localhost:8080/"
        },
        "id": "Wy_tgJLqY0zD",
        "outputId": "aa979516-5151-40f5-8033-d8f61283cf21"
      },
      "execution_count": 154,
      "outputs": [
        {
          "output_type": "stream",
          "name": "stdout",
          "text": [
            "10\n",
            "20\n",
            "30\n"
          ]
        }
      ]
    },
    {
      "cell_type": "markdown",
      "source": [
        "🎯 함수의 매개변수 개수와 리스트의 요소 개수는 같아야 함 "
      ],
      "metadata": {
        "id": "-qIKNrjwZ113"
      }
    },
    {
      "cell_type": "markdown",
      "source": [
        "위치 인수와 리스트 언패킹은 인수의 개수가 정해지지 않은 가변 인수에 사용함\n",
        "\n",
        "즉, 같은 함수에 인수 한 개를 넣을 수도 있고, 열 개를 넣을 수도 있고 인수를 넣지 않을 수도 있음\n",
        "\n",
        "\n",
        "         def 함수이름(*매개변수):\n",
        "                코드"
      ],
      "metadata": {
        "id": "RXlFKwAwZ_qJ"
      }
    },
    {
      "cell_type": "code",
      "source": [
        "def print_numbers(*args): #  args는 튜플이라서 for로 반복 가능\n",
        "  for arg in args:\n",
        "    print(arg)"
      ],
      "metadata": {
        "id": "aroHsyaPZtvM"
      },
      "execution_count": 155,
      "outputs": []
    },
    {
      "cell_type": "code",
      "source": [
        "print_numbers(10,20,30,40)"
      ],
      "metadata": {
        "colab": {
          "base_uri": "https://localhost:8080/"
        },
        "id": "Ox4KYSgaaeZI",
        "outputId": "0e362dd9-cb6e-4e66-e065-47c8e1e22202"
      },
      "execution_count": 156,
      "outputs": [
        {
          "output_type": "stream",
          "name": "stdout",
          "text": [
            "10\n",
            "20\n",
            "30\n",
            "40\n"
          ]
        }
      ]
    },
    {
      "cell_type": "code",
      "source": [
        "print_numbers(*[10]) # 리스트 "
      ],
      "metadata": {
        "colab": {
          "base_uri": "https://localhost:8080/"
        },
        "id": "bWtxrUqBagrT",
        "outputId": "af39da8d-be80-4c61-d442-aa448fabc7d6"
      },
      "execution_count": 159,
      "outputs": [
        {
          "output_type": "stream",
          "name": "stdout",
          "text": [
            "10\n"
          ]
        }
      ]
    },
    {
      "cell_type": "markdown",
      "source": [
        "<참고>\n",
        "\n",
        "고정 인수와 가변 인수를 함께 사용하기\n",
        "\n",
        "고정 매개변수를 먼저 지정하고, 그 다음 매개변수에 *를 붙여주면 된다.\n"
      ],
      "metadata": {
        "id": "6PNzn7eDa_A_"
      }
    },
    {
      "cell_type": "code",
      "source": [
        "def print_numbers(a,*args):\n",
        "  print(a)\n",
        "  print(args)"
      ],
      "metadata": {
        "id": "Fcy0QwuaatpP"
      },
      "execution_count": 160,
      "outputs": []
    },
    {
      "cell_type": "code",
      "source": [
        "print_numbers(1)"
      ],
      "metadata": {
        "colab": {
          "base_uri": "https://localhost:8080/"
        },
        "id": "s22wu6GJbL7o",
        "outputId": "53040ed1-df8e-46fa-b543-c8bf3129de88"
      },
      "execution_count": 161,
      "outputs": [
        {
          "output_type": "stream",
          "name": "stdout",
          "text": [
            "1\n",
            "()\n"
          ]
        }
      ]
    },
    {
      "cell_type": "code",
      "source": [
        "print_numbers(1,10,20)"
      ],
      "metadata": {
        "colab": {
          "base_uri": "https://localhost:8080/"
        },
        "id": "TMLGq_oCbVI9",
        "outputId": "3f3440d5-2df0-41b3-cab0-bd01264a1ed3"
      },
      "execution_count": 162,
      "outputs": [
        {
          "output_type": "stream",
          "name": "stdout",
          "text": [
            "1\n",
            "(10, 20)\n"
          ]
        }
      ]
    },
    {
      "cell_type": "code",
      "source": [
        "print_numbers(*[10, 20, 30])"
      ],
      "metadata": {
        "colab": {
          "base_uri": "https://localhost:8080/"
        },
        "id": "cYJsQrfYbWgV",
        "outputId": "2b93a528-1fba-4524-d4ff-28b450bba2e5"
      },
      "execution_count": 163,
      "outputs": [
        {
          "output_type": "stream",
          "name": "stdout",
          "text": [
            "10\n",
            "(20, 30)\n"
          ]
        }
      ]
    },
    {
      "cell_type": "markdown",
      "source": [
        "30.2 키워드 인수 사용하기"
      ],
      "metadata": {
        "id": "Gwj97xlsbdzq"
      }
    },
    {
      "cell_type": "code",
      "source": [
        "def personal_info(name, age, address):\n",
        "  print('name is ', name)\n",
        "  print('age is ', age)\n",
        "  print('address is ', address)"
      ],
      "metadata": {
        "id": "OArdcNTPbZYA"
      },
      "execution_count": 164,
      "outputs": []
    },
    {
      "cell_type": "code",
      "source": [
        "personal_info('jamie', 19, 'seoul itaewon')"
      ],
      "metadata": {
        "colab": {
          "base_uri": "https://localhost:8080/"
        },
        "id": "UOhyzlM9b4OZ",
        "outputId": "16921f35-e9bf-41ef-ef69-81c150bebd48"
      },
      "execution_count": 165,
      "outputs": [
        {
          "output_type": "stream",
          "name": "stdout",
          "text": [
            "name is  jamie\n",
            "age is  19\n",
            "address is  seoul itaewon\n"
          ]
        }
      ]
    },
    {
      "cell_type": "markdown",
      "source": [
        "▷ 인수의 순서와 용도를 이렇게 기억해야하는 것은 매우 불편한 일\n",
        "\n",
        "▶ 인수의 순서와 용도를 매번 기억하지 않도록 키워드 인수 기능 제공\n",
        "\n",
        "         함수(키워드=값)"
      ],
      "metadata": {
        "id": "uBmizbRwcBjU"
      }
    },
    {
      "cell_type": "code",
      "source": [
        "personal_info(age = 30, address = 'incheon bupyeong', name = 'chris') # 키워드 인수 사용시 순서 맞추지 않아도 됨"
      ],
      "metadata": {
        "colab": {
          "base_uri": "https://localhost:8080/"
        },
        "id": "D2KYXt6tb-VU",
        "outputId": "0900322a-8459-492e-8d61-80939be28759"
      },
      "execution_count": 167,
      "outputs": [
        {
          "output_type": "stream",
          "name": "stdout",
          "text": [
            "name is  chris\n",
            "age is  30\n",
            "address is  incheon bupyeong\n"
          ]
        }
      ]
    },
    {
      "cell_type": "code",
      "source": [
        "print(10, 20, 30, sep=':', end='') # sep, end 역시 키워드 인수"
      ],
      "metadata": {
        "colab": {
          "base_uri": "https://localhost:8080/"
        },
        "id": "muNfczRBcmP7",
        "outputId": "91b3ce2e-093a-48d4-a3ed-908a5291a788"
      },
      "execution_count": 168,
      "outputs": [
        {
          "output_type": "stream",
          "name": "stdout",
          "text": [
            "10:20:30"
          ]
        }
      ]
    },
    {
      "cell_type": "markdown",
      "source": [
        "30.3 키워드 인수와 딕셔너리 언패킹 사용하기\n",
        "\n",
        "     함수(**딕셔너리)\n",
        "\n",
        "* 딕셔너리 키워드(키)는 반드시 문자열 형태야 함\n",
        "* 딕셔너리 언패킹을 사용할 때는 함수의 매개변수 이름과 딕셔너리의 키 이름이 같아야 함\n",
        "* 매개변수 개수와 딕셔너리 키의 개수도 같아야 함\n",
        "\n",
        "🔔 *을 두 번 사용하는 이유: 딕셔너리는 키-값 쌍 형태로 값이 저장되어 있기 때문이다.\n",
        "\n",
        "한 번 사용했을 때는 키를 출력하고 ** 두 번 사용하면 값을 사용할 수 있다. "
      ],
      "metadata": {
        "id": "hKdA4B3-czCb"
      }
    },
    {
      "cell_type": "code",
      "source": [
        "def personal_info(name, age, address):\n",
        "  print('이름 : ', name)\n",
        "  print('나이 : ', age)\n",
        "  print('주소 : ', address)"
      ],
      "metadata": {
        "id": "oBgueG3ocyXh"
      },
      "execution_count": 169,
      "outputs": []
    },
    {
      "cell_type": "code",
      "source": [
        "x = {'name' : 'alice', 'age': 23, 'address': 'yongsan'}\n",
        "\n",
        "personal_info(**x)"
      ],
      "metadata": {
        "colab": {
          "base_uri": "https://localhost:8080/"
        },
        "id": "ByJ9PtbqhihA",
        "outputId": "91c70b74-bfbf-4cf5-a823-981903a52b62"
      },
      "execution_count": 170,
      "outputs": [
        {
          "output_type": "stream",
          "name": "stdout",
          "text": [
            "이름 :  alice\n",
            "나이 :  23\n",
            "주소 :  yongsan\n"
          ]
        }
      ]
    },
    {
      "cell_type": "markdown",
      "source": [
        "       def 함수이름(**매개변수):\n",
        "           코드"
      ],
      "metadata": {
        "id": "xcTCf_oYjVuI"
      }
    },
    {
      "cell_type": "code",
      "source": [
        "def personal_info(**kwargs): # key + arguments \n",
        "  for kw, arg in kwargs.items():\n",
        "    print(kw, ' : ', arg, sep='')"
      ],
      "metadata": {
        "id": "QhvRSohqhvaI"
      },
      "execution_count": 178,
      "outputs": []
    },
    {
      "cell_type": "code",
      "source": [
        "x = {'name': '홍길동'}\n",
        "personal_info(**x)"
      ],
      "metadata": {
        "colab": {
          "base_uri": "https://localhost:8080/"
        },
        "id": "LkggqmdKjsho",
        "outputId": "73e6ed0e-f8bc-473a-c152-0cf0a3965ef1"
      },
      "execution_count": 179,
      "outputs": [
        {
          "output_type": "stream",
          "name": "stdout",
          "text": [
            "name : 홍길동\n"
          ]
        }
      ]
    },
    {
      "cell_type": "code",
      "source": [
        "y = {'name': '홍길동', 'age': 30, 'address': '서울시 용산구 이촌동'}\n",
        "personal_info(**y)"
      ],
      "metadata": {
        "colab": {
          "base_uri": "https://localhost:8080/"
        },
        "id": "eplXXNzpjvVO",
        "outputId": "d2c04ef1-2625-47a4-d72d-16f9d6a8d8e1"
      },
      "execution_count": 180,
      "outputs": [
        {
          "output_type": "stream",
          "name": "stdout",
          "text": [
            "name : 홍길동\n",
            "age : 30\n",
            "address : 서울시 용산구 이촌동\n"
          ]
        }
      ]
    },
    {
      "cell_type": "code",
      "source": [
        "personal_info(name='alice')"
      ],
      "metadata": {
        "colab": {
          "base_uri": "https://localhost:8080/"
        },
        "id": "85etzbMGj07x",
        "outputId": "803b40d3-ca47-46ba-a082-cc9d30c81d4b"
      },
      "execution_count": 181,
      "outputs": [
        {
          "output_type": "stream",
          "name": "stdout",
          "text": [
            "name : alice\n"
          ]
        }
      ]
    },
    {
      "cell_type": "markdown",
      "source": [
        "<참고>\n",
        "\n",
        "고정 인수와 가변 인수(키워드 인수)를 함께 사용하기\n",
        "\n",
        "고정 인수와 가변 인수(키워드 인수)를 함께 사용할 때는 다음과 같이 고정 매개 변수를 먼저 지정하고, 그 다음 매개변수에 **를 붙여주면 된다.\n"
      ],
      "metadata": {
        "id": "u2fIdN0euD9e"
      }
    },
    {
      "cell_type": "code",
      "source": [
        "def personal_info(name, **kwargs):\n",
        "  print(name)\n",
        "  print(kwargs)"
      ],
      "metadata": {
        "id": "enEROfYUtJgH"
      },
      "execution_count": 182,
      "outputs": []
    },
    {
      "cell_type": "code",
      "source": [
        "personal_info('홍길동')"
      ],
      "metadata": {
        "colab": {
          "base_uri": "https://localhost:8080/"
        },
        "id": "4oCatTdyuW6O",
        "outputId": "434b812d-e097-4adf-f853-891f1dd4f40e"
      },
      "execution_count": 183,
      "outputs": [
        {
          "output_type": "stream",
          "name": "stdout",
          "text": [
            "홍길동\n",
            "{}\n"
          ]
        }
      ]
    },
    {
      "cell_type": "code",
      "source": [
        "personal_info('홍길동', age=30, address='서울시 용산구 이촌동')"
      ],
      "metadata": {
        "colab": {
          "base_uri": "https://localhost:8080/"
        },
        "id": "tYo9DISuuYQY",
        "outputId": "fc8ab4f1-f065-4e60-d7f0-2da0b618576c"
      },
      "execution_count": 184,
      "outputs": [
        {
          "output_type": "stream",
          "name": "stdout",
          "text": [
            "홍길동\n",
            "{'age': 30, 'address': '서울시 용산구 이촌동'}\n"
          ]
        }
      ]
    },
    {
      "cell_type": "code",
      "source": [
        "personal_info(**{'name': '홍길동', 'age': 30, 'address': '서울시 용산구 이촌동'})"
      ],
      "metadata": {
        "colab": {
          "base_uri": "https://localhost:8080/"
        },
        "id": "Lpm9-IiWuZ7I",
        "outputId": "91ffaec7-b252-4f7a-d842-48b866c29e69"
      },
      "execution_count": 185,
      "outputs": [
        {
          "output_type": "stream",
          "name": "stdout",
          "text": [
            "홍길동\n",
            "{'age': 30, 'address': '서울시 용산구 이촌동'}\n"
          ]
        }
      ]
    },
    {
      "cell_type": "markdown",
      "source": [
        "<참고>\n",
        "\n",
        "위치 인수와 키워드 인수를 함께 사용하기\n",
        "\n",
        "함수에서 위치 인수를 받는 *args와 키워드 인수를 받는 **kwargs를 함께 사용할 수도 있다.\n",
        "\n",
        "함수의 매개변수를 *args, **kwargs로 지정하면 위치 인수와 키워드 인수를 함께 사용한다."
      ],
      "metadata": {
        "id": "dljyt6i9udjn"
      }
    },
    {
      "cell_type": "code",
      "source": [
        "def custom_print(*args, **kwargs):\n",
        "  print(*args, **kwargs)\n",
        "\n",
        "custom_print(1,2,3,sep=':',end='')"
      ],
      "metadata": {
        "colab": {
          "base_uri": "https://localhost:8080/"
        },
        "id": "Ny9CPsUcub5z",
        "outputId": "d6a35899-9331-491d-9b3a-cb1a244c0a25"
      },
      "execution_count": 186,
      "outputs": [
        {
          "output_type": "stream",
          "name": "stdout",
          "text": [
            "1:2:3"
          ]
        }
      ]
    },
    {
      "cell_type": "markdown",
      "source": [
        "30.4 매개변수에 초깃값 지정하기\n",
        "\n",
        "\n",
        "    def 함수이름(매개변수=값):\n",
        "          코드"
      ],
      "metadata": {
        "id": "VfYMZoalu4av"
      }
    },
    {
      "cell_type": "code",
      "source": [
        "def personal_info(name, age, gender ='비공개'):\n",
        "  print('이름 ; ', name)\n",
        "  print('나이 : ', age)\n",
        "  print('성별 : ', gender)"
      ],
      "metadata": {
        "id": "5O0lLpzguxNl"
      },
      "execution_count": 187,
      "outputs": []
    },
    {
      "cell_type": "code",
      "source": [
        "personal_info('홍길동', 30)"
      ],
      "metadata": {
        "colab": {
          "base_uri": "https://localhost:8080/"
        },
        "id": "GYDe0vc4vRCi",
        "outputId": "dd7a0d70-f7b4-490c-daf7-d58a21e60185"
      },
      "execution_count": 188,
      "outputs": [
        {
          "output_type": "stream",
          "name": "stdout",
          "text": [
            "이름 ;  홍길동\n",
            "나이 :  30\n",
            "성별 :  비공개\n"
          ]
        }
      ]
    },
    {
      "cell_type": "code",
      "source": [
        "personal_info('홍길동', 30, '남')"
      ],
      "metadata": {
        "colab": {
          "base_uri": "https://localhost:8080/"
        },
        "id": "sF5bYKKJvTlA",
        "outputId": "fa285f03-2f3a-4b44-d990-fc879af2d503"
      },
      "execution_count": 189,
      "outputs": [
        {
          "output_type": "stream",
          "name": "stdout",
          "text": [
            "이름 ;  홍길동\n",
            "나이 :  30\n",
            "성별 :  남\n"
          ]
        }
      ]
    },
    {
      "cell_type": "markdown",
      "source": [
        "🔔 초깃값이 지정된 매개변수 다음에는 초깃값이 없는 매개변수가 올 수 없습니다."
      ],
      "metadata": {
        "id": "1DghO6FWvaKN"
      }
    },
    {
      "cell_type": "code",
      "source": [
        "def personal_info(name, gender='비공개', age):\n",
        "  print('이름 : ', name)\n",
        "  print('나이 : ', age)\n",
        "  print('성별 : ', gender)"
      ],
      "metadata": {
        "colab": {
          "base_uri": "https://localhost:8080/",
          "height": 136
        },
        "id": "MrS9ScWlvXav",
        "outputId": "94e9d711-5feb-4913-a14e-e2b8d9f949bb"
      },
      "execution_count": 190,
      "outputs": [
        {
          "output_type": "error",
          "ename": "SyntaxError",
          "evalue": "ignored",
          "traceback": [
            "\u001b[0;36m  File \u001b[0;32m\"<ipython-input-190-e8f97f12e397>\"\u001b[0;36m, line \u001b[0;32m1\u001b[0m\n\u001b[0;31m    def personal_info(name, gender='비공개', age):\u001b[0m\n\u001b[0m                      ^\u001b[0m\n\u001b[0;31mSyntaxError\u001b[0m\u001b[0;31m:\u001b[0m non-default argument follows default argument\n"
          ]
        }
      ]
    },
    {
      "cell_type": "code",
      "source": [
        "def personal_info(name, age, address='비공개'): # 초깃값 지정된 매개변수는 뒤쪽으로\n",
        "  pass\n",
        "def personal_info(name, age=0, address='비공개'):\n",
        "  pass\n",
        "def personal_info(name='비공개', age=0, address='비공개'): # 모든 매개 변수 초기값 지정\n",
        "  pass"
      ],
      "metadata": {
        "id": "krbTF4o_v0QM"
      },
      "execution_count": 192,
      "outputs": []
    },
    {
      "cell_type": "code",
      "source": [
        "korean, english, mathematics, science = 100, 86, 81, 91\n",
        "\n",
        "def get_max_score(*args):\n",
        "  return  max(args)\n",
        "  \n",
        "\n",
        "max_score = get_max_score(korean, english, mathematics, science)\n",
        "print('높은 점수:', max_score)\n",
        " \n",
        "max_score = get_max_score(english, science)\n",
        "print('높은 점수:', max_score)"
      ],
      "metadata": {
        "colab": {
          "base_uri": "https://localhost:8080/"
        },
        "id": "EYJZBd1gwHCi",
        "outputId": "6ac4f95e-c835-46e7-aedd-c46a86200aa8"
      },
      "execution_count": 193,
      "outputs": [
        {
          "output_type": "stream",
          "name": "stdout",
          "text": [
            "높은 점수: 100\n",
            "높은 점수: 91\n"
          ]
        }
      ]
    },
    {
      "cell_type": "markdown",
      "source": [
        "연습문제)\n",
        "\n",
        "표준 입력으로 국어, 영어, 수학, 과학 점수가 입력됩니다. 다음 소스 코드를 완성하여 가장 높은 점수, 가장 낮은 점수, 평균 점수가 출력되게 만드세요. 평균 점수는 실수로 출력되어야 합니다."
      ],
      "metadata": {
        "id": "inqYsl7DxAJc"
      }
    },
    {
      "cell_type": "code",
      "source": [
        "korean, english, mathematics, science = map(int, input().split())\n",
        "\n",
        "def get_min_max_score(*args):\n",
        "  return min(args), max(args)\n",
        "\n",
        "def get_average(**kwargs):\n",
        "  return sum(kwargs.values()) / len(kwargs)\n",
        "\n",
        "min_score, max_score = get_min_max_score(korean, english, mathematics, science)\n",
        "average_score = get_average(korean=korean, english=english, mathematics=mathematics, science=science)\n",
        "\n",
        "print('낮은 점수: {0:.2f}, 높은 점수: {1:.2f}, 평균 점수: {2:.2f}'\n",
        "      .format(min_score, max_score, average_score))\n",
        " \n",
        "min_score, max_score = get_min_max_score(english, science)\n",
        "average_score = get_average(english=english, science=science)\n",
        "\n",
        "print('낮은 점수: {0:.2f}, 높은 점수: {1:.2f}, 평균 점수: {2:.2f}'\n",
        "      .format(min_score, max_score, average_score))"
      ],
      "metadata": {
        "colab": {
          "base_uri": "https://localhost:8080/"
        },
        "id": "w6kUAXuJw9nO",
        "outputId": "030f22f3-cadb-49c1-ce23-dc6de74fb492"
      },
      "execution_count": 199,
      "outputs": [
        {
          "output_type": "stream",
          "name": "stdout",
          "text": [
            "76 82 89 84\n",
            "낮은 점수: 76.00, 높은 점수: 89.00, 평균 점수: 82.75\n",
            "낮은 점수: 82.00, 높은 점수: 84.00, 평균 점수: 83.00\n"
          ]
        }
      ]
    }
  ]
}