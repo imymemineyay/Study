{
  "nbformat": 4,
  "nbformat_minor": 0,
  "metadata": {
    "colab": {
      "provenance": [],
      "authorship_tag": "ABX9TyPlmZKjErcywAiWsyjL05vh",
      "include_colab_link": true
    },
    "kernelspec": {
      "name": "python3",
      "display_name": "Python 3"
    },
    "language_info": {
      "name": "python"
    }
  },
  "cells": [
    {
      "cell_type": "markdown",
      "metadata": {
        "id": "view-in-github",
        "colab_type": "text"
      },
      "source": [
        "<a href=\"https://colab.research.google.com/github/imymemineyay/Study_Python/blob/main/Python_dojang(Unit36_37).ipynb\" target=\"_parent\"><img src=\"https://colab.research.google.com/assets/colab-badge.svg\" alt=\"Open In Colab\"/></a>"
      ]
    },
    {
      "cell_type": "markdown",
      "source": [
        "## **Unit 36. 클래스 상속 사용하기**"
      ],
      "metadata": {
        "id": "ikmBLx6LeQlO"
      }
    },
    {
      "cell_type": "markdown",
      "source": [
        "클래스 상속 : 물려받은 기능을 유지한채로 다른 기능을 추가할 때 사용하는 기능\n",
        "\n",
        "기반 클래스 : 기능을 물려주는 클래스\n",
        "\n",
        "파생 클래스 : 상속을 받아 새롭게 만드는 클래스 "
      ],
      "metadata": {
        "id": "XMb2M89IeWUZ"
      }
    },
    {
      "cell_type": "markdown",
      "source": [
        "- 재사용함에 있어 효율적\n",
        "\n",
        "        class 기반클래스이름:\n",
        "            코드\n",
        " \n",
        "        class 파생클래스이름(기반클래스이름):\n",
        "            코드"
      ],
      "metadata": {
        "id": "WQE3I3u6WNbN"
      }
    },
    {
      "cell_type": "code",
      "source": [
        "class Person:\n",
        "  def greeting(self):\n",
        "    print('안녕하세요')\n",
        "  \n",
        "class Student(Person): # 기반 클래스 상속\n",
        "  def study(self):\n",
        "    print('공부하기')\n",
        "\n",
        "james = Student() \n",
        "james.greeting() # 안녕하세요.: 기반 클래스 Person의 메서드 호출\n",
        "james.study() # 공부하기: 파생 클래스 Student에 추가한 study 메서드"
      ],
      "metadata": {
        "colab": {
          "base_uri": "https://localhost:8080/"
        },
        "id": "HhfpoVOSeQVZ",
        "outputId": "60f37332-6470-43c4-b691-cbc4ee556218"
      },
      "execution_count": 1,
      "outputs": [
        {
          "output_type": "stream",
          "name": "stdout",
          "text": [
            "안녕하세요\n",
            "공부하기\n"
          ]
        }
      ]
    },
    {
      "cell_type": "markdown",
      "source": [
        "<참고>\n",
        "\n",
        "상속 관계 확인하기\n",
        "\n",
        "        issubclass(파생클래스, 기반클래스)"
      ],
      "metadata": {
        "id": "KvukpfbvXZ02"
      }
    },
    {
      "cell_type": "code",
      "execution_count": 2,
      "metadata": {
        "colab": {
          "base_uri": "https://localhost:8080/"
        },
        "id": "H4szAVlyeLWp",
        "outputId": "1779dabe-52fa-4b81-fd66-06ae7103747a"
      },
      "outputs": [
        {
          "output_type": "execute_result",
          "data": {
            "text/plain": [
              "True"
            ]
          },
          "metadata": {},
          "execution_count": 2
        }
      ],
      "source": [
        "class Person:\n",
        "  pass\n",
        "\n",
        "class Student(Person):\n",
        "  pass\n",
        "\n",
        "issubclass(Student, Person)"
      ]
    },
    {
      "cell_type": "markdown",
      "source": [
        "36.2 상속 관계"
      ],
      "metadata": {
        "id": "An8paQATYSH6"
      }
    },
    {
      "cell_type": "markdown",
      "source": [
        "- 상속은 명확하게 같은 종류이며 동등한 관계일 때 사용\n",
        "- 상속 관계를 영어로 is-a관계라고 부름 \n",
        "\n",
        "ex) Student is a Person"
      ],
      "metadata": {
        "id": "JzI2ZFEAYXqB"
      }
    },
    {
      "cell_type": "code",
      "source": [
        "class Person:\n",
        "  def greeting(self):\n",
        "    print('hi')\n",
        "\n",
        "class Student(Person):\n",
        "  def study(self):\n",
        "    print('study hard')"
      ],
      "metadata": {
        "id": "vyJ5yf-2Xo7W"
      },
      "execution_count": 3,
      "outputs": []
    },
    {
      "cell_type": "markdown",
      "source": [
        "사람 목록을 관리하는 클래스 생성법\n",
        "\n",
        "- 리스트 속성에 Person인스턴스를 넣어서 관리\n",
        "- 상속을 사용하지 않고 속성에 인스턴스를 넣어서 관리하므로 PersonList가 Person을 포함함\n",
        "- PersonList 와 Person은 동등한 관계가 아니라 포함 관계\n",
        "- has-a관계 \n",
        "\n",
        "PersonList has a Person\n",
        "\n",
        "📢🎯 같은 종류에 동등한 관계일 때는 상속을 사용하고, 그 이외에는 속성에 인스턴스를 넣는 포함 방식을 사용하면 됨"
      ],
      "metadata": {
        "id": "a6LVESnqYtwW"
      }
    },
    {
      "cell_type": "code",
      "source": [
        "class Person:\n",
        "  def greeting(self):\n",
        "    print('hi')\n",
        "class PersonList:\n",
        "  def  __init__(self):\n",
        "    self.person_list = []\n",
        "  \n",
        "  def append_person(self,person): # 리스트 속성에 Person인스턴스를 추가하는 함수\n",
        "    self.person_list.append(person)"
      ],
      "metadata": {
        "id": "kFL6cZACYqD0"
      },
      "execution_count": 4,
      "outputs": []
    },
    {
      "cell_type": "code",
      "source": [
        "class Person:\n",
        "  def __init__(self):\n",
        "    print('Person__init__')\n",
        "    self.hello = 'hi'\n",
        "\n",
        "class Student(Person):\n",
        "  def __init__(self):\n",
        "    print('Student __init__')\n",
        "    self.school = 'python coding dojang'\n",
        "\n",
        "james = Student()\n",
        "print(james.school)\n",
        "print(james.hello) # 기반 클래스의 속성을 출력하려고 하면 에러가 발생"
      ],
      "metadata": {
        "colab": {
          "base_uri": "https://localhost:8080/",
          "height": 246
        },
        "id": "ceGAw_5RZ1Sg",
        "outputId": "0f31739f-54a8-4727-c17d-5fb95f00a62b"
      },
      "execution_count": 5,
      "outputs": [
        {
          "output_type": "stream",
          "name": "stdout",
          "text": [
            "Student __init__\n",
            "python coding dojang\n"
          ]
        },
        {
          "output_type": "error",
          "ename": "AttributeError",
          "evalue": "ignored",
          "traceback": [
            "\u001b[0;31m---------------------------------------------------------------------------\u001b[0m",
            "\u001b[0;31mAttributeError\u001b[0m                            Traceback (most recent call last)",
            "\u001b[0;32m<ipython-input-5-a9e8c07af53c>\u001b[0m in \u001b[0;36m<module>\u001b[0;34m\u001b[0m\n\u001b[1;32m     11\u001b[0m \u001b[0mjames\u001b[0m \u001b[0;34m=\u001b[0m \u001b[0mStudent\u001b[0m\u001b[0;34m(\u001b[0m\u001b[0;34m)\u001b[0m\u001b[0;34m\u001b[0m\u001b[0;34m\u001b[0m\u001b[0m\n\u001b[1;32m     12\u001b[0m \u001b[0mprint\u001b[0m\u001b[0;34m(\u001b[0m\u001b[0mjames\u001b[0m\u001b[0;34m.\u001b[0m\u001b[0mschool\u001b[0m\u001b[0;34m)\u001b[0m\u001b[0;34m\u001b[0m\u001b[0;34m\u001b[0m\u001b[0m\n\u001b[0;32m---> 13\u001b[0;31m \u001b[0mprint\u001b[0m\u001b[0;34m(\u001b[0m\u001b[0mjames\u001b[0m\u001b[0;34m.\u001b[0m\u001b[0mhello\u001b[0m\u001b[0;34m)\u001b[0m\u001b[0;34m\u001b[0m\u001b[0;34m\u001b[0m\u001b[0m\n\u001b[0m",
            "\u001b[0;31mAttributeError\u001b[0m: 'Student' object has no attribute 'hello'"
          ]
        }
      ]
    },
    {
      "cell_type": "markdown",
      "source": [
        "- super()로 기반 클래스 초기화\n",
        "\n",
        ": super()를 사용해서 기반 클래스의 __init__ 메서드 호출\n",
        "     \n",
        "      super().메서드()\n"
      ],
      "metadata": {
        "id": "6sWRRW0MbLLE"
      }
    },
    {
      "cell_type": "code",
      "source": [
        "class Person:\n",
        "  def __init__(self):\n",
        "    print('Person __init__')\n",
        "    self.hello = 'hi'\n",
        "\n",
        "class Student(Person):\n",
        "  def __init__(self):\n",
        "    print('Student __init__')\n",
        "    super().__init__()\n",
        "    self.school = 'python coding dojang'\n",
        "\n",
        "james = Student()\n",
        "print(james.school)\n",
        "print(james.hello)"
      ],
      "metadata": {
        "colab": {
          "base_uri": "https://localhost:8080/"
        },
        "id": "8fI7eO6xagLM",
        "outputId": "2249486e-1aad-48c6-a749-78155620a461"
      },
      "execution_count": 8,
      "outputs": [
        {
          "output_type": "stream",
          "name": "stdout",
          "text": [
            "Student __init__\n",
            "Person __init__\n",
            "python coding dojang\n",
            "hi\n"
          ]
        }
      ]
    },
    {
      "cell_type": "markdown",
      "source": [
        "![image.png](data:image/png;base64,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)"
      ],
      "metadata": {
        "id": "RKZJP8WycgI3"
      }
    },
    {
      "cell_type": "markdown",
      "source": [
        "- 기반 클래스를 초기화하지 않아도 되는 경우\n",
        "\n",
        "파생 클래스에서 __init__ 메서드를 생략한다면 기반 클래스의 __init__ 이 자동으로 호출되므로 super()는 사용하지 않아도 됨\n",
        "\n",
        "▶ 파생 클래스에 __init__ 메서드가 없다면 기반 클래스의 __init__이 자동으로 호출되므로 기반 클래스의 속성 사용 가능"
      ],
      "metadata": {
        "id": "GXDr_K8IczJo"
      }
    },
    {
      "cell_type": "code",
      "source": [
        "class Person:\n",
        "  def __init__(self):\n",
        "    print('Person__init__')\n",
        "    self.hello = 'hi'\n",
        "\n",
        "class Student(Person):\n",
        "  pass\n",
        "\n",
        "james = Student()\n",
        "print(james.hello)"
      ],
      "metadata": {
        "colab": {
          "base_uri": "https://localhost:8080/"
        },
        "id": "jUnDCoRPcogP",
        "outputId": "9cb721c3-fbc8-401d-d774-f76240e78461"
      },
      "execution_count": 10,
      "outputs": [
        {
          "output_type": "stream",
          "name": "stdout",
          "text": [
            "Person__init__\n",
            "hi\n"
          ]
        }
      ]
    },
    {
      "cell_type": "markdown",
      "source": [
        "<참고> 좀 더 명확하게 super 사용\n",
        "\n",
        "super : 파생 클래스와 self를 넣어서 현재 클래스가 어떤 클래스인지 명확하게 표시하는 방법도 가지고 있음\n",
        "\n",
        "      super(파생클래스, self).메서드"
      ],
      "metadata": {
        "id": "R3-16OCedjtz"
      }
    },
    {
      "cell_type": "code",
      "source": [
        "class Student(Person):\n",
        "  def __init__(self):\n",
        "    print('Student__init__')\n",
        "    super(Student,self).__init__() # super(파생클래스,self) 로 기반 클래스의 메서드 호출\n",
        "    self.school = 'python coding dojang'"
      ],
      "metadata": {
        "id": "-4HEj6mTdejA"
      },
      "execution_count": 12,
      "outputs": []
    },
    {
      "cell_type": "markdown",
      "source": [
        "36.4 메서드 오버라이딩 사용하기\n",
        "\n",
        "오버라이딩 \n",
        "\n",
        ": 무시하다, 우선하다\n",
        "\n",
        ": 기반 클래스의 메서드를 무시하고 새로운 메서드를 만든다는 뜻\n",
        "\n",
        "- 프로그램에서 어떤 기능이 같은 메서드 이름으로 계속 사용되어야 할 때 메서드 오버라이딩 활용\n",
        "\n",
        "- 원래 기능을 유지하면서 새로운 기능을 덧붙일 때 사용\n"
      ],
      "metadata": {
        "id": "JVi6_W7-eRqG"
      }
    },
    {
      "cell_type": "code",
      "source": [
        "class Person:\n",
        "    def greeting(self):\n",
        "        print('안녕하세요.')\n",
        " \n",
        "class Student(Person):\n",
        "    def greeting(self):\n",
        "        print('안녕하세요. 저는 파이썬 코딩 도장 학생입니다.')\n",
        " \n",
        "james = Student()\n",
        "james.greeting() # Person의 greeting을 무시하고 Student의 greeting 사용\n",
        "                 # Person greeting 메서드와 Student 클래스의 greeting메서드\n",
        "                 # '안녕하세요' 문구 중복을 기반 클래스의 메서드를 재활용함으로써\n",
        "                 # 중복 줄일 수 있음\n",
        "                 # 오버라이딩된 메서드에서 super()로 기반 클래스의 메서드를 호출"
      ],
      "metadata": {
        "colab": {
          "base_uri": "https://localhost:8080/"
        },
        "id": "eI_JYfm2d95R",
        "outputId": "943eaf16-d057-4fb0-bdce-8ed3edb728d7"
      },
      "execution_count": 15,
      "outputs": [
        {
          "output_type": "stream",
          "name": "stdout",
          "text": [
            "안녕하세요. 저는 파이썬 코딩 도장 학생입니다.\n"
          ]
        }
      ]
    },
    {
      "cell_type": "code",
      "source": [
        "class Person:\n",
        "  def greeting(self):\n",
        "    print('hi')\n",
        "\n",
        "class Student(Person):\n",
        "  def greeting(self):\n",
        "    super().greeting() # 기반 클래스의 메서드 호출하여 중복을 줄임\n",
        "    print('저는 파이썬 코딩 도장 학생입니다.')\n",
        "\n",
        "james = Student()\n",
        "james.greeting()"
      ],
      "metadata": {
        "colab": {
          "base_uri": "https://localhost:8080/"
        },
        "id": "2kY6dryCevxl",
        "outputId": "6b876435-126d-487f-fd4d-045ea3a2142d"
      },
      "execution_count": 16,
      "outputs": [
        {
          "output_type": "stream",
          "name": "stdout",
          "text": [
            "hi\n",
            "저는 파이썬 코딩 도장 학생입니다.\n"
          ]
        }
      ]
    },
    {
      "cell_type": "markdown",
      "source": [
        "36.5 다중 상속 사용하기\n",
        "\n",
        "- 여러 기반 클래스로부터 상속을 받아서 파생 클래스를 만드는 방법\n",
        "\n",
        "        class 기반클래스이름1:\n",
        "            코드\n",
        "        class 기반클래스이름2:\n",
        "            코드\n",
        "        class 기반클래스이름3:\n",
        "            코드"
      ],
      "metadata": {
        "id": "l0TOWscofx40"
      }
    },
    {
      "cell_type": "code",
      "source": [
        "class Person:\n",
        "  def greeting(self):\n",
        "    print('hi')\n",
        "\n",
        "class University:\n",
        "  def manage_credit(self):\n",
        "    print('GPA Management')\n",
        "\n",
        "class Undergraduate(Person, University): # 두 기반 클래스의 기능을 모두 상속 받음\n",
        "  def study(self):\n",
        "    print('studying')\n",
        "\n",
        "james = Undergraduate()\n",
        "james.greeting()\n",
        "james.manage_credit()\n",
        "james.study()"
      ],
      "metadata": {
        "colab": {
          "base_uri": "https://localhost:8080/"
        },
        "id": "CnxdbmJQfjqz",
        "outputId": "cb40ca96-e405-4551-a905-cfdd957fa801"
      },
      "execution_count": 17,
      "outputs": [
        {
          "output_type": "stream",
          "name": "stdout",
          "text": [
            "hi\n",
            "GPA Management\n",
            "studying\n"
          ]
        }
      ]
    },
    {
      "cell_type": "markdown",
      "source": [
        "![image.png](data:image/png;base64,iVBORw0KGgoAAAANSUhEUgAAAkMAAAHQCAYAAACiI27rAAAgAElEQVR4nOzdeVhUZf8G8HvYF1lUVMgA1zQMFzRJwV1REbeyXDK3XDIVNbeg1Nxyx13UtOx9FddM/YUW9r6Va5iCpOaWO7KJ7NsMwzy/P4zzOg4gKsMZmPtzXV7p2ebLxJy5z3Oe5zkKIYQAERERkZEykbsAIiIiIjkxDBEREZFRYxgiIiIio8YwREREREaNYYiIiIiMGsMQERERGTWGISIiIjJqDENERERk1BiGiIiIyKgxDBEREZFRYxgiIiIio8YwREREREbNCMJQPI7MGYuxY8diU7TctZSvqM1jMXZzlNxlFOPx/5e54fFyF0JEREbOTO4CXkw8jsyZi4MJxW/hNX4LPmpRfhWVm+hNGBtaQsBp+RG2jPN6+ePo8MJHWz5CKY4siQ+fi7mR3pg33x8uz7FfsRKOYO6cSHjPnwd/57I4IBERkVxh6Hm+iJ37ld2XaaXx/MFER4uPsGXLU8seHMTceUcQ79oP8z7zh4tBtRvm4OpPJxGPZESeuYdu/d1gLndJRERUKZQQhvKRk5EL9fMczNIeNpYvXVMpuMB//hb46yx/dovRs+keo7hWpqjNY7Hp/LO3K81rSErbslOm8pH8+7cI2X4JTu99hG5X/4WFXyRj+MTBaF3zJSNHRjLSgZcLs/nJOLl1KXbdqo9hn/XD1fVLEZwwGLNG+8KJiYiIiF5SCWHIHDe/n4F1p3JKeSg3vLv0c3QrTRgqqlXiaSW2HpVF6Cn9caNCx2KTVtCJwqaxm/B0dVGhYzG37zzM6/Wsr/543Cvz2p9Tfg4yUhNw9Y8IhP94EclO3hg+f/nj8NPVE41/34V1C6bgWydP9OrcEW80c4OLvc1ztMZk4NKFeCAnHxfvA41dn7e8DKQnXMXZY+EI/zMZTq2HY96XreFkDvh+WQ9nw9Zh7pRdcGraC726tUZjZwfY2zAZERHR8yvxNplnn15wO7UP90pxIBufvuhWtYyqkkv0ISkIPW7l+V84ivr+COJbPL5dFx9+6J8g9L/bVYWtRPGR0Yjv5VJyS0j0WZ39y5UmHkeWLER4hgsav+WNwZ9+iMa1nwwS5nB6axjmvTUYGbci8dMP+7Fu7z3YdJ2HeX1L18aTEx2G8PueaN3yJo7t+gXdZ3aCfRHbxR+ai7GHAK334sERLP0yHOmvNEZr78H4fERjuDwZss2d0Hr4PLQeFI+rJ07i2K6l+Pa+DbrNnod+tV/0TSEiImNVcp+hqt3Q1ye8FK1DbujVx7PsqnoOZdlROursP209zv3QtwUAuKCFtwsOHooHEu4hHoAL4hEd+XgElEvfvlKQ8Rq3Bc9q7CoUH/fPCCpnN3n6Qpm4wH/2hiJuMz7NHPb1fPFuoC/efY7D5/y9DyGbr6LxuC8xulk6Xlm0EAu+dsC8UV6weWpbl6Ja0mr74/MNRVT3dAdqSxc07vouGnd9nuqIiIi0PbMDdWlahypFqxCKCjRROHTon+DSsvXj4JMQjch/Wo9cXonHprFzpdtlpQ1m8bH/HDPhIOaOPfjPUhf008coqfObMHbsP3/Xd3+k/AxcjdiKTf8XjzfGfYnRLWwA2MB/2jRkr1yC4JX98NEYfzQuqomIiIhIJs8eTfbM1iH5WoWAx/10xhazzqHrp1j+nvWLHfjJPkvO/TCviBARFbpJp5ZNzwxE8Uh4UPTyg3PG4l5ZTwmgE4CK7u/04sf7n+Sz32JbpBOGzJ+k3fHaph7e/WwFGu9aiW27nDFvnG4LkaQUIw0PzhmLg8Wsq7RTKhARkd6Uamh9Sa1DhtwqlP4oGcBz9tz9h3QrCwASDuJQtH8RX7KF/VyK7ltUpCdalv73xf2/gPLM/V+aFz4qtvf6458j0rs0ncB1OflMwnKfYlaa2MPz/XlY/qyDlKZzPRERURkq3TxDxbYO6a9VKDkh+fFfajsXEQyKG1pftOfZVnqFXvOwpdc/EwceikdU6FwcmT9P6zj/6zPkAv/+XjgYGgUkRCI6wR8uOIK5cw5Ca37llh9hyzh/zNvydDVe+Gi81+MWkcL9K8GkgvkPzuLgdxE4eyce6Vn5jxeamMPBtTFat++L7l9sgb9BzWVERETGqNSTLhbVOqTPVqF8TX6ptisMK6XxIrdQXHr1hdehTYhCPCLPx8O/5fPtrx9R2DS2uJuDeL6+QfnJOHt4FyLO3kR8ag7yAeDQXIw9YgOHVxqjk/8AdGvh9NwTHMYfXYiFh3Lg2XsAJo3yhFuVf46gzEHygygc/Hohpv9awuSOCUWEyeJwYk4iInoJpZ+BWqd1SL99hQo7Gbu8Wl5fcU/MMVRSmHB+3FIVL9VYzl/BZXkbKfUs1i3Yintu3TB44ofwrG0D83+CSX5OBuKv/YT9YcGIOPsRviypn4/OcY9h2/fJ8A5cjWFvPLXO0gZO9Xwxev4rcPhsCdZ9/wa+fMdN9xjORbWg6Xr8yI/SFkZERKTruR7H8WTr0Au1Cj3387CenIfmGS07xQaY0k7Q6ALn2gASAJw/hCMJXvB3fnJOIRd4t3QB4ILWLYGo809uF48j3xd2tvZGC2cAKObL/In3QKvPUOH70rJvuT1369axfbhY/V2smNJNZw4gcxt7uLV4F584ADOWHMGvSV7wr1nKA9+5iXtoDP+ng9CTTOqhfh3gWHIygCLCEBERUTl5vmeTSa1DTrKOINMXr3EfwWvs41tiOiOWnggpJW3n1f8Zt2ta9EU/56jHna11RsK5oF/fcp+CsWSa53kgyz/q1IcbwnHpEuBVXCDS3MLNO4CLL29uERGRvJ77Qa2efXqhMZxfrK+QPkcKPTmfzgvzwkdb5pXi2WRFbVfaeYIed/52fuq5ZnLMRl0vYDC8Pt+EBavTMPid7mjsbI/CJ1rk5yTj/qVfcHD3L8hv+RE6lrZVCACqdsOH/SOxcH0wcnoPgH8H7T5D926eQkTYPpy16Yd5PRmGiIhIXgohhHjuvTQADGQUkL47UFdkUZvHYhOe0Zk6PxlREftx5PhNxKenI1/zz3JLB7i4NoJ3t34v1IEaKMVoMh832L/k79HjPkPe7EBNREQv7MXCEBEREVElYSDtO0RERETyYBgiIiIio8YwREREREaNYYiIiIiMGsMQERERGTWGISIiIjJqDENERERk1BiGiIiIyKgxDBEREZFRYxgiIiIio8YwREREREaNYYiIiIiMGsMQERERGTWGISIiIjJqDENERERk1BiGiIiIyKgxDBEREZFRYxgiIiIio8YwREREREaNYYiIiIiMGsMQERERGTWGISIiIjJqDENERERk1BiGiIiIyKgxDBEREZFRYxgiIiIio8YwREREREaNYYiIiIiMGsMQERERGTWGISIiIjJqDENERERk1BiGiIiIyKgxDBEREZFRYxgiIiIio8YwREREREaNYYiIiIiMGsMQERERGTWGISIiIjJqDENERERk1BiGiIiIyKgxDBEREZFRYxgiIiIio8YwREREREaNYYiIiIiMGsMQERERGTWGISIiIjJqDENERERk1BiGiIiIyKgxDBEREZFRYxgiIiIio8YwREREREaNYYiIiIiMGsMQERERGTWGISIiIjJqDENERERk1BiGiIiIyKgxDBEREZFRYxgiIiIio8YwREREREaNYYiIiIiMGsMQERERGTWGISIiIjJqDENERERk1BiGiIiIyKgxDBEREZFRYxgiIiIio8YwREREREaNYYiIiIiMGsMQERERGTWGISIiIjJqDENERERk1BiGiIiIyKgxDBEREZFRYxgiIiIio8YwREREREaNYYiIiIiMGsMQERERGTWGISIiIjJqDENERERk1BiGiIiIyKgxDBEREZFRYxgiIiIio8YwREREREaNYYiIiIiMGsMQERERGTWGISIiIjJqDENERERk1BiGiIiIyKgxDBEREZFRYxgiIiIio8YwREREREaNYYiIiIiMGsMQERERGTUzuQsgbYmJibh16xbOnj2LK1eu4OHDh7h+/TrMzMyQnZ0NW1tb6b85OTmwsbFBXl4erKysoFKpYGZmBo1GAwAwMTGBWq2GhYWFtE3hPjyW4R7LyckJTk5OaNy4Mdq2bYv69evD3d0dpqam5f3rSAQA0Gg0uHHjBv766y9cvXoVUVFRyM7Oxt27dw3yM8Rj6edYb775JmrVqoXXX38dXl5eaNCgAezt7cv1d1FfFEIIIXcRBERGRiI0NBRHjhxBZmYm8vLy5C6JDICpqSns7e3RqFEjBAYGYvDgwXKXREZm48aNWLJkCTIyMpCZmSl9YZJxs7Gxgb29Pd555x0sWLAAVatWlbukl8IwJLPTp0/j66+/xs6dO5GXlwc7Ozt07twZbdu2xRtvvAFra2u4ubmhWrVqFf6XjUpWUFCAu3fvIjU1FUlJSXjw4AFOnDiBM2fO4MaNGwCAVq1aYcqUKRgwYAAsLS1lrpgqq9TUVISFhSEkJAS3bt2CQqFA06ZN4ePjgzfffBOurq5wd3eHhYUF3Nzc5C6X9CwzMxNJSUm4e/cuMjIyEBUVhTNnzuDMmTPIzs6GpaUlxowZg08++QR169aVu9wXwjAkk/z8fEyaNAmbN2+GQqGAlZUVFi9ejAkTJsDMjHcvSdupU6cwaNAgxMXFQaPRoFatWvjrr79QrVo1uUujSub69evo0KEDEhISYGZmhubNm+PAgQNwdXWVuzQyMDk5OZgzZw5CQ0ORk5MDAFi+fDk++eQTmJhUsC7JgspdSkqK6NKli1AoFKJatWpi+fLlIjY2Vu6yyMDl5eWJvXv3itatWwsAok6dOuK///2v3GVRJaHRaMSWLVuEjY2NACA6d+4sjh07JpRKpdylkQHTaDQiJiZGzJw5U5iYmAgLCwsxdOhQkZqaKndpz4UtQ+Xs0qVL6NatGxITE1GvXj0cPnwYHh4ecpdFFUhOTg5GjBiBgwcPIj8/H2FhYexLRC8lLy8PS5cuxRdffAFLS0vMmTMHwcHBcpdFFUxUVBQCAgIQHx+PgIAAfP3116hRo4bcZZUKw1A5io+PR6tWrRAXF4eBAwdiw4YNqF69utxlUQWUn5+PDRs2YPr06bC2tsbhw4fRqVMnucuiCmrJkiUICgqCg4MDDhw4gA4dOnD0Ir2Q2NhYdOzYETdv3kT37t3x/fffw9raWu6ynolhqJwolUoEBATgv//9LwICArBv3z5YWFjIXRZVcKtWrcKMGTNgZWWFyMhINGnSRO6SqALRaDQ4cuQIBg0aBI1Ggx9++AGdO3eWuyyq4NLS0uDr64vLly8jODgY8+fPN/hwzTBUTt59913s378fTZo0wenTpyvN3AwkLyEEZsyYgZUrV6JRo0Y4d+4cqlSpIndZVEFcuHABHTp0QEZGBn788Uf4+flBoVDIXRZVAvfv34eHhweys7OxZMkSzJw5U+6SSlTBuntXTMePH8f+/fvh7OyMffv2MQhRmVEoFJg9ezZatWqFa9eu4YsvvpC7JKpAVq1ahYyMDAQGBqJ79+4MQlRmXF1dsWvXLlhZWSE0NFTucp6JLUPloHfv3ggPD8fGjRvx0UcfyV0OVUKpqalwc3ODnZ0dIiMjOQyanuno0aPw9/eHpaUl7t69i1q1asldElVCHTp0wPHjxzFp0iSsWbPGYAM3W4b07MyZMzh27Bjs7e3Rv39/ucuhSsrBwQE9e/ZEfHw81q1bJ3c5ZODy8vKwYsUKAMC2bdsYhEhv/v3vf8PS0hKhoaG4fPmy3OUUi2FIzxYtWgSlUomlS5fyhEN6Y2JiguXLl8PMzAwbNmxAVlaW3CWRAUtJSUF0dDRef/11BAQEyF0OVWJubm4IDAyEWq3Gr7/+Knc5xWIY0qO4uDicOHECNWvWxJgxY+Quhyo5d3d39OnTBzk5Ofjll1/kLocMWHh4OFJTU9GxY0c4ODjIXQ5Vcj169AAAHDt2TOZKiscwpEeXL19GTk4OOnfuXPGmJqcKaeDAgVAoFDh8+LDcpZABW79+PQDggw8+kLkSMgZeXl6wsrLCjz/+aLCt1vyG1qPffvsNarUabdq0kbsUMhJNmzaFg4MDYmJiUFBQIHc5ZIBu3LiBP//8Ey4uLjw3UblwdHRE7969oVKpsHfvXrnLKRLDkB4VPmm8WbNmMldCxqJmzZqoWrUqUlNTwYGiVJS7d+8CALp06SJzJWRM3n//fQDAzZs3Za6kaHw8uh4lJiYCQKW+J69UKvHXX39JrRBmZmZwdXVFtWrVDHYIZWVmaWkJCwsLJCcnQ6PRyF0OGaDY2FgAMJoBHcnJybhz5w6aNWsGc3NzucuRGGpd+vLqq68C+F8jgaFhy5AeFf5PL/wlqIzu37+P9u3b480338Sbb76J1q1bw9fXF3/99ZfcpRkla2trWFpaIi0tjS1DVKSMjAwAQJ06dWSu5NneffddnT4mhVNIlNbRo0fh7e2N+/fvl3V5L8VQ69KXhg0bAgBu374tcyVFYxjSo+zsbACVu2WosGN4fHw8hBDIzMxE9+7d0blzZ+nnp/JjYmKC6tWrs78QFSslJQUAULt2bZkrebbLly9DrVZL/87Ly8ONGzdgZlb6mxoffPABCgoKUK9ePX2U+MJKqis5ORmOjo6IiYmRoTL9sLKygrW1NfLz8+UupUgMQ3pU+CDWytwE+nTrg6WlJWbOnAlzc3NcuXLluY4VERGBmjVrwtXV9aWvlpKSkjBr1iycOXMG9vb2sLe3N9iOe2XtyS8PoqcVBmVLS0uZK3m2p0O9lZUVVCoVzMzMcPfuXXz22WeIiIiQPuM///xzudd47tw5NGzYEM7Ozrh48WKZHLPwFrehP9z0eRnyrXuGIT0y1ARcloq6FZObmwulUik9MHTnzp1o0qQJFAoFatSogT179gB4/P68+uqrcHBwwKZNm7B48WJMnToVH374Ifbv3w8AOHDggLSvQqHAu+++K71OWloaPvroI9jb20OhUKB169a4fv06gMe3AjZu3Ijx48cjODgYkydPxoQJEwx6BtSywge1Ukmep1VFbsXVqlKp8PDhQyxduhRBQUEIDg7GxIkTMXLkSOk2YHx8PGrUqCGdO+Li4qT94+Li0KhRIyQlJUnLbt26hW7dukGlUgF4fHHWsmVLKBQK2NjYYNOmTdK2r732GkxNTbF06VKMGzcOw4cPx8cff4xDhw4BAH799Ve0atVKeu2uXbtKwa6kum7duoWqVauiVq1aSE9Ph6enJxQKBfr16wcAOHToEHr37i2Fivz8fPj5+WH79u0v/V6Xh8IGAoMkSG+cnJxEZX+L79y5I+zs7MS5c+fE3bt3RVRUlGjWrJno1auXEEKIzMxM8dprr4mff/5ZCCHEqVOnhJ2dnbh586Z0jHHjxom6deuKnJwcrWOr1Wrh4OAg1q1bJy27d++e9PetW7eK6tWri0uXLomCggIxevRo0aBBA5Geni7VtWvXLmn7hQsXiuDgYL28D4akR48eAoDIy8uTuxQyQAsWLBAARHh4uNyllKigoEB4enqK1NRUaZlGoxENGzYU9+7dE3/++aewtLQUv//+u7R+5MiRYtu2bVrHuXLlinB0dBQPHjyQlqnVatGrVy/x7bffSssWLFggQkJChBBCZGdnizfeeEN89913Qgghbt68KWrXri0uXrwobT9jxgxRp04dkZmZqVO3o6Oj+PTTT6Vl9+7dExqNpsi6/v77b52fPSUlRTg6Omq9XqFWrVpJn+2kpCTx2muviezsbJ3tDI1SqRRVqlQRzZo1k7uUIrFlSI8MuUmwrOTn50MIgVatWsHd3R39+/fHoEGDpNafoKAgvP3229Iw3jZt2mDkyJHYt2+f1jGmT58Oa2trrWOr1Wp07NgRfn5+0rInH0AaHh6OI0eOoEmTJjAxMcGqVaugVCpx+/Ztqa62bdtK27do0ULqL1GZsb8QlURUkI71Go1Gp9aCggKoVCpUqVIFSqUSVlZWWn1u3njjDVy9elXnWEIIKJVK6d+mpqZ4++23cejQIajVamRlZeHf//43fHx8AACrVq2Ch4eH9DzJunXrYtKkSdiwYYNWTe+9955OS2xBQQH8/PzQsWNHaZmrq2uRo2uFEDrnvcLlxenfv7/0WIuIiAgMGDAANjY2xW5vSAz5d49hSI8q2/3eojzdgfrOnTv49NNPYWtrCwDYv38/lixZIjUJm5iYYO3atVrN07m5uahbt67OsS0tLbFz506sXbsWO3fuRHR0tBQw8/LycPnyZbi7u0vbV6lSBe3bt0diYqJU15PNstnZ2RXqFsGLMobbs/TiKkqfMjMzM50vz8KLnMJgoVAodD7TheeeQoXnnqf7SPXr1w/Z2dnIz89HdHQ0srKy4OHhgYKCAkRERGDv3r0wMTGRzluffvop4uLipJqys7OL7IRubm6OnTt34vTp09i+fTvOnTtX5AVKYV1FrSsoKCg2OPj4+CA4OBjZ2dlYv369dAutIjDkC7XK/80go7y8PLlL0LvSJP2VK1eib9++WsueHGFX1JVRIVtbW6xfvx6PHj3Cjh07sHXrVmzYsAFWVlZFvrZarS72RGJqaqp1dVhZlfR+Ehny1fnTnm5Nsba2LrF+lUql8+gjtVpdZCt9tWrV4OLigsTERISHh+Pjjz/WauX55JNP8PHHH2vtY2NjIx3/6dD1JDMzM8ybNw/p6enYv38/li1bht27d2vVVlhXcS1GxXnzzTdx//59hIWFITY2Fg0aNCh2W0NjyIOJ2DKkR8bQCvGsE+uwYcNw/vx51K9fX+uPk5OTtE1hh8WSVK9eHZMnT8b169dx5swZAI9vez05n1FKSgpu3bqFOnXqFFuXQXfgKyOleT/JeFWkFmtLS0v88ccf0r+TkpJgamqKvLy8Is+v1tbWOr//ha07RX0u/P39sWHDBly7dg3Tpk2Tlvfp0wdRUVGoU6eO1nnLxcVF2qY0F1YODg748MMPYWFhofOQ0idbnZ5mampa7KS1NjY2WLFiBRYsWIBx48ahatWqz6zDUBhyyxDDkB4ZQxiysLAocabppUuX4ujRoxgzZgzS0tKQnZ2NRYsWITc3FwUFBWjXrh127NgBf39/uLi4ID09Xdo3OzsbmzdvRmZmJpRKJYKCgvDf//5X+vD37dsX3bp1w2+//Ybc3FyMHTsW2dnZcHNzK7Iua2tr5Obm6ueNMCDGEPjoxVWk81L//v3h7++PmJgYPHr0CH379oWHhwecnJyKvN1X2KcIAO7cuQMLCwt4eHggPT0ddevW1Znyw9vbG1u2bIGZmRmsrKyk5dOmTcOVK1fwzjvv4OHDh8jNzUVoaKg0d9qAAQOwdu1aTJ48Gfb29rh06ZK0b25uLlasWIGUlBQolUqEhIQgLCwM1atXL7Ku2rVr69RlZ2cHU1NTREREIC8vT2eakg8++AAZGRkIDAwsg3e5/BjyA8srzqeCDJKjoyPWrVtX4sSSBw8exKxZs+Dk5AQLCwsMHz4cFhYWMDExwaxZszB8+HAAj/v8PNkRUKVSYfv27QgMDIRKpULjxo2xadMmNG7cGMDj2WnT0tIwcOBAJCUlYfDgwfjpp59ga2uLgoICnboaNWqEMWPG6OmdMBzsM0QlMeSr86eNHz8ejx49QseOHZGVlYU+ffogJCQEZmZmqFOnDtauXat1u6pLly5Sq7CTkxM2bdqkdYvMxMREq5/PK6+8gi1bthQ58eGPP/6IadOmoXbt2hBCYODAgdL5Y/z48ejRoweAxxcfTz5lQK1W4/Dhw/jiiy+QnZ2NevXqYdmyZfDy8gIA2NvbP7MuMzMzrFy5EjNmzMCMGTPw+eefY968edL6o0ePomfPnrC3t3+xN1YmhjyoSCEq0g3kCsbe3h6ZmZkV6h49VXz+/v44evQo8vLyKsTEelS+5syZgwULFiA8PBz+/v5yl0PP4f79+7h37x769OmDr776Cm+//bbcJZWaSqWCk5MT6tWrhwsXLshdjg7DbbMioheSk5MjdwlkwPgA5Ypr4cKF8PX1xcSJE9GzZ0+5y3luhtxqzdtkemRlZYXMzEy5yyAjwz5DVJKK1IGatG3evBmbN2+Wu4wXZsi/e2wZIqpkDPmEQ/Lj7wfJxZBbJRmG9MiQmwSp8jLkEw7Jr6JMukiVjyGfmxiG9IgnHZJD4fBfoqJUpNFkVLkY8hxoDEN6xJmASQ68DUIlMeSrc6rcDHmeIcOtrBLgFRjJ4cnJ44ieVpEmXaTKxZB/9xiG9MiQUzARGSe2DBHp4re1HrEDNcnBGB5GSy+OfRlJLob8u8cwpEec74XkwBBOJeHte5KDEMKgH8fBMKRHhtxzniqvKlWqyF0CGTB2sCc5KBQKg24gYBjSI0PuLEaVlyFffZH8eF4iuRjyczr5qSgH7du3l7sEMiIxMTFyl0AGrPALaebMmViyZInM1ZCx0Gg0Bv3cRIYhPSocTXbixAmZKyEieqzwvHT58mWZKyEyHAxDepSbmwsAePTokcyVkDEZOHAgfv75Z7nLIAOVl5cHANizZw+6du0qczVkLFQqFRo2bCh3GcViGNIja2trZGVloVq1anKXQkbE3Nxc7hLIgBX2GapSpQrPTVRuVCqVQc9xxQ7UemTIncWIyDixAzWRLoYhPeKoHiIiIsPHMKRHhjzbJhEZJ85/RqSLYUiPLC0t5S6BiEgLb98T6WIY0iO2DBGRoeFFGpEuhiE9YkdFIiIiw8cwRERkRPigViJdDEN6VDi5GRGRoeDteyJdDEN6ZMgTTBGRcWKfISJdDEN6xJMOERka3iYj0sUwRERkRAof1EpE/8NPhR7l5+fLXQIRkRa2DBHpYhjSIz4wk4gMDaf8INLFMKRHSqVS7hKIiLSwxZpIF8OQHrFliIgMjampqdwlEBkchiEiIiPCKT+IdDEM6RFHbRCRoWEYItLFb2s9ysnJkbsEIiItnBmfSBfDkB7Z2NjIXQIRkRb2GSLSxTCkRxqNRu4SiAx4BAMAACAASURBVIi0cGAHkS6GIT0SQshdAhERET0Dw5Ae8enQFcelS5d0WvLS0tKQlpYmU0VE+sF5hoxTbGwsMjIytJZpNBr8+uuvMlVkWBiG9IgPaq0YvvnmG+zatUtnlE1GRgZmzJghU1UvLjs7W+4SyIDx9r3h6927d5l3dP/ss890+rEqFArs3r0bERERZfpaxVGpVOXyOi+CYUiPeAVWNh48eABbW1ucPXu2zI+dnp6On376CXPnztUJQ25ubnB2dkZISEiFuuVpa2srdwlkwNiB2vA9fPhQK7SmpaVBoVBg7969L3S8DRs2oEOHDjqPYlEoFNi0aRO++uqrcnligoWFhd5f40UxDOkRnwFUOrm5ufDy8sLp06eLXF+7dm1kZ2ejdevWZf7aP//8Mzp27Fjsh3TBggX44YcfKtQ0CRUpuFH543nJsAkhdO4qODo6QgiB9957r8h91q1bh7Vr1xa5Ljk5GV988QUCAgKKfc1WrVohJCTkxYsuJUM+NzEM6VFFao7OyclBUFAQhgwZgp9++gnR0dGIiorS2S4zMxPTp0/HBx98gPPnz5fJawshXuhDcurUKWRmZmLjxo0YMmQIVq1apbNNaGgohgwZgi1btuDhw4f47bffpHVZWVlYuHAhunXrVuLrtGnTBn///fdz1ycXPpWc5DRnzhwEBwdj69atSEhIwKhRo7Bt27ZSfcajoqIQGxuLXbt2YciQIZg/f/5zvXZqaio++OADDBkyBKdOncJvv/2GK1euvOiPouPy5csYMWIEhgwZgjlz5hTZL/Ts2bMYMmQIxo0b90J9DgsKCp77fFjSZz4iIgLjx49HzZo1i90mICAAu3btQm5u7nO97vMy5DAEQXpTo0YNURHeYpVKJd5//31Rp04d4evrK1xdXUXz5s3Fhg0bhBBCNG/eXAAQy5YtEzVq1BBt2rQRbdu2FYMHDxZCCJGXlyfmzp0rAAgAIjQ0VCiVSun40dHRolu3bgKAaNiwobh48aL0urVr15b2K/zj6+sr7duqVStpeWRkpFbdEyZMEG+99ZZ47bXXhK+vr3BxcRFBQUFCo9EItVot5s+fL5ycnISvr69o1KiR6NmzpwgMDJT2P378uHj11VdFZmZmie/P5s2bxejRo1/uTS5HPXv2FABEXl6e3KWQAZozZ44AIMLDw/VyfFtbW9GiRQtRvXp1MXToUOHt7S1q1aolkpOThRBC3LlzRwwYMED6XK9du1ZoNBohhBBffvmlaNq0qXB3dxe+vr6ibt26YsSIEdL65ORkMXXqVGFmZiYAiClTpoi0tDQhhBBKpVL06NFDOh80bNhQNGjQQOzevVsIIYRarRb79u0T7u7uAoAYOXKkSEpKKtXPpNFoxObNm4W1tbV46623hK+vr2jTpo1IS0sTN2/eFI6OjqJWrVri4sWLokGDBsLX11d4e3uLpUuXCiGEuH79unj77bcFAFG1alVx8uRJ6dhZWVli6tSpwtzcXFSvXl2cOHFCtGnTRmRnZwshhOjQoYP0Xu3Zs0erLh8fH53zp6mpqTh79qy0zbBhw8Tp06dL/PnS09NFjRo1xKVLl0r1frwIpVIp7OzsRLNmzfT2Gi/D8L+pKzA7O7sKEYZOnDghXF1dxdWrV4UQQsTHxwsXFxcpDF2/fl1MnTpVNGnSRPzxxx+ioKBAaDQakZubK4QQYuLEicLPz0/ExMSIyMhI0bBhQ/HDDz9Ix/f09BTr1q0TMTExIjQ0VDg7O4vExESh0WjEX3/9Jc6ePSsaN24s/vWvf4mYmBjx999/S/tev35dxMTECF9f3yLDkK+vr0hJSRFCCHHw4EFRt25d8ejRI3Hnzh3h6Ogovv/+eyGEEKmpqcLDw0OMGjVK2v+7774Tfn5+0om2OD///LPo16/fi7695a7w5MkwREWZPXu23sJQVlaW8PDwEDk5OeLjjz8WHh4eIi8vT3Tt2lX6XAcFBYlNmzaJmJgYcfr0adGoUSPx559/CiGEWLRokWjRooVITEwUQghx8uRJYW5uLu7evSuEEGLr1q1i1qxZIjo6Wvzxxx+iVatWYu3atUIIIcLDw0XTpk2l0BUdHS0cHR2lMHT06FFhaWkpwsPDRXR0tOjbt68YNGiQUKvVz/y5rl27JhwcHMTOnTul7Qsv+JRKpbh06ZLo06ePaNasmVRrfn6+9Bn08fERixYtEjExMeLgwYOidu3a4v79+0IIIVavXi3MzMzEzz//LP7zn/+Ixo0bi+bNm0th6O+//xYxMTGiV69eOmGocF1QUJCYNWuWiImJEX/++ae0rxBCvPvuu9J7UpKOHTuK8+fPP3O7F6VUKoWVlZXBhiHePNajinJvPiIiAp6enmjYsCEAwNnZGd27d5c6gDds2BDVq1dHo0aN0KpVK2k/KysrxMTEYNu2bfj777/xyiuvAAC+++47TJw4Eb169UJwcDA6d+6MiRMnAgCaNm2KU6dOYd++fZgwYQJef/11ZGdnw9LSEvXr10fTpk21aiusydraWqduS0tLfPjhh6hatSoAwMfHB6ampsjIyMDff/8NS0tL9OrVC8Dje+6ffvqp1q09KysrFBQUQKPRlNip1MLCokJ1hufM51QSfZ6XbG1t4eDgAGtrazRo0AApKSmwtLSEu7s77t+/j/r16+PLL7/EgwcPcPLkSaSlpaFly5bYs2cPPD09odFo0L9/f+mWTosWLWBlZYWHDx/Czc0NH374IdLS0vDbb78hISEB/fr1w8mTJzFp0iTs3r0bHTp0QPXq1QEAHh4eaNq0qXQra9myZTh16hRatmwJADh48CDat2+PrKwsODg4lPhznTlzBl27dsWQIUOkZYX9DC0sLNCkSRMUFBQgODgYbm5uAB6/z2ZmZli9ejWqVauGTz/9FCYmJtI5cO3atVi4cCF27NiB33//Xapr2rRpWoM26tevDwCoUqWKzm2swnXHjh2Dubm5zvkTeHyeLE3naDs7O7137TDkCT8rxrd1BVVRwlBaWhqsrKy07ufa2dlpDYO0sLCAi4uLzr7379+HSqWCu7u7tEwIAY1Gg5ycHBw4cAA3btzAhg0bpPUajQaOjo4625fEzMwMqampWsuUSiVq1KhR5Pa5ubmwtrZGQUGB9AG0tbXV6Qh98+bNZ4ah9PT0CtWBmqgk+h5N9mSw0Gg0UKvVWgH9t99+Q5cuXaDRaKRzTuEUFvb29loPuM7Pz4elpaV0fvj777/RuHFjrX379u0LALhz5w46duwo7WtiYgJ7e3vpQiYmJgZvvfWWVq0FBQV49OjRM8PQ77//rnXsopiZmUmB5kkRERH48ccftTpFazQadO3aFTk5OcjKytLab+DAgVi/fr3Og77NzMyKvCgEHr9PxQWNzMzMUg3Tv3r1aoXq51rWKsa3NemNEAJVqlSBUqnUGlqem5tbqmGQSqUSjo6OmD17ts46U1NTKJVKvP/++zoniWbNmkl/VygUOh/8ohS2ABV6esSFhYWF9HNYWVlBqVRqnfhzcnK0/t2oUSMAQEpKCmrVqlXs6167dg0jR458Zn2GoiK1YlHlolKptC6qCj/bhRcTFy9eRLdu3bBmzRqMGDECtra2WL16tXShk5GRoXWhZGZmBqVSCRMTE6SmpiIgIABTp05FUFAQqlWrhujoaCxevBgA4O7ujvT0dGlfjUaj1ZJiZmaGFStW6NRc2JJUEmtr6xfqDK3RaKBUKtGzZ0/4+flprXNzc4OpqSns7e21lmdlZcHU1FSns3FJn+uSWly8vLxw6tQp1KtXr9htEhMTkZGRoXVRqw+GPLiDYUiPKsLToRUKBby9vbFv3z7cv38f7u7uePToEY4cOYLGjRtL22VlZRW5f61ataBQKDBkyJAiW2m8vb3h4uKCyZMnF1uDiYnJM8NQUaMcnm76ValU0Gg0MDExgbOzMzIzM3H69Gl06NABmZmZWLp0KTp16iRtX79+fTRr1gw3b94sNgyp1Wr88ssv2LFjR4n1GRJDboom+elzPpknW5MVCoX0p/DzHR0dDXt7e4wfP15a9uuvv0rnmqfPA2q1WrqoSU1NRVJSEmbPni0FiO+++066wHnrrbcQFhaGtLQ0ODo64vr164iKisLYsWMBAK6urujevbvWea20evbsiSlTpmDatGnFts4UdY4yMTFB8+bNce/ePQQGBurMZQY8vqhLT0+XWqeuXbsGtVqts+2LhqHOnTtj0aJFGDx4cLF3K44dOwYvL68SLwrLgiHPccWh9XpU1C++IerZsyfq1auHbt26wc/PD2+++SZyc3OlE9P69euxa9cuHD58GN27d9ea/NDLywvW1tYYMWKENPPxnTt3EBsbCwBYs2YNtmzZgrVr16KgoAAFBQXYs2ePzknTxMQEkZGRAB5fpRTq27cv/Pz8cOnSJUyaNAl+fn74/fffi/1ZCm+NvfHGG/jggw8wcOBA+Pn5wcfHB4mJiTonrFmzZmHnzp3FHu/EiRMwNTWFnZ1dad9O2el7eCxVbPo8L1WpUqXI1yn8u7u7OzIzM3HkyBGoVCrMnz8fP/zwg3SuKeqiyMTERGrBdnBwwNq1a6HRaLBnzx6sXLlS+n0fN24cNBoN2rVrBz8/PwQEBGjdgu/Xrx/at28vnT9yc3Nx7NixUg33fuutt2BqaoqBAwciMzMTAJCQkID8/HxkZGRgxIgRiI6OxvDhwzF8+HCtfYODg3Hs2DGsWrUK2dnZ0Gg0OHr0qHSx3LRpU7Rr1w6PHj1CcnIypk6dqjXdSP/+/aXz3qJFi+Dn54eff/5Z6zUsLCxw5MgRAI8vXJ987IaXlxcuX76Mc+fOFfvz7d+/Hxs3bnzm+/CyDLnVmmFIjyrK4zgsLCxw4MABBAQEwNbWFsuWLUP79u3Rrl07aX2TJk3QsmVL2NraaqV7GxsbXL16FampqahatSoUCgV8fHykZu9atWph2bJlWLFiBSwsLGBtbY2VK1dqvb6VlRX69u2Lzz//HAqFAuPHj5fW2drawtbWFr6+vnjllVdga2srXd20bt1a60rGwsICXbt2hY2NDRQKBTZu3Ii5c+fC1tYWI0aMwJQpU+Dj46P12m+++SYePXqE6OhonfclNzcXq1evxtKlSw36iuZpxV25EgH678tYOMiicePGUv+epk2bwsnJCR06dEC/fv3w3nvvwdraGvv27cOMGTOkW+D169fXup1jY2ODd999F1WqVEHNmjUxatQohISEwNTUFLNmzcLatWu1OiyHh4dL56mQkBDUr18fr7/+OoDHFz4+Pj7o2bMnFAoFatasqTXvWEns7OzwzTffICUlRTrPtWrVCjk5OVAoFLC2toaPjw9q1Kih8/mrXr06du7ciQ0bNsDe3h7m5uYICgqS1gcFBaFKlSpwcnKCm5sbBg4cCCcnJ633wNbWFt7e3qhXrx5sbW11HmvRpk0bXLx4EQqFArVr18aDBw+09j958iTCwsKK/Nn+/PNPeHp6ok6dOqV6L16GQbdayzGEzVhUlHmGkpOTRUhIiDRUftmyZaJjx47PdYzs7GwRFxcnYmNjxaNHj7SGqxcUFIiUlBTx4MEDERcXJ3JycnT2V6vVIiEhQcTGxor09PSX+4H+qeeLL76Q5hE5ePCgqFevnoiNjdXZNisrS4wfP15nvqHjx4+L48ePv3Qt5Y3zDFFJFixYoNd5hp5FpVKJ+Ph48eDBA5GZmSlUKpXIysoq1b5qtVokJSWJ2NhYkZqaKjQajbRvfHy82Lp1q3TumTlzphgyZIjWuSg/P1/aPyEhQahUqueqPS8vTzx48EDExsaK5OTkZ07LUUij0YjU1FTx4MED8eDBA52fNzc3V8TGxor4+HihVqtFSkpKqY9dePzk5GTp5ypq32+//VZnaH5mZqZo166ddO7XJ84zZMQcHR0rRBjKysoS77zzjrCwsBAARIcOHUR0dLTcZb0UpVIpAgMDpf8HTZo0EQcOHJC7rHLRpUsXhiEq1sKFC2UNQ/qSnp4uevbsKRQKhQAgevXqJW7dulWqfevVq6czeWHhn6+++krPlRsHpVIpbGxsDDYMsQO1HhU1VbshsrW1xf79++Uuo0xZWFhgzZo1WLNmjdyllDtDfhgiya8iDOx4Efb29lK/med18+bNMq6GimLI3Q3YZ0iP2HeD5FBZv+yobBjyFxJVbobcQMAwpEfGPIEVycfKykruEsiAMQyRXAx5ImKGISIiI1JRpvwgKk8MQ3pkyE2CVHnxNhmVhGGI5GLI34kMQ3rEjqwkB94mo5IwLJNceJvMSBnybJtUeenzcQtU8RnyFxJVbmwZMlI86ZAcKsrM5yQPdqAmuRjydyLDkB5xNBkRGRpRimdxERkbhiE94hUYyYEPaqWSFPUwVKLyYMhdR/ip0KPCLyX24aDyxBZJKknh+SgnJ0fmSsjYGHKrJMOQHtWuXRsApCe4E+mbWq1GSkoKWyWpWDVr1gQAJCQkyFwJGZO0tDQolUqDHWXNMKRHbm5uAIDY2FiZKyFjkZeXB5VKhapVq3I+GSqSi4sLAODq1asyV0LG5Pbt2wCABg0ayFxJ0RiG9MjR0REAm6Op/OTm5iIvLw+Ojo7sG0JFsre3BwBkZGTIXAkZk8LwXadOHZkrKRrPlnpUv359AMCVK1dkroSMRWZmJnJzc9kyRMVydXUFAERGRrJ/GZWb6OhoAGwZMko+Pj4wNTXFiRMn5C6FjMTFixeRnJwMDw8P9huiIr322muoX78+rl+/jqioKLnLISOQlZWF0NBQAMDAgQNlrqZoDEN61LRpU9jY2OCXX36RuxQyEjt27IAQAgEBAXKXQgbKxMQEkydPBvD494VI3/744w+oVCr4+fnB1tZW7nKKxDCkR25ubmjVqhXi4uKkVEykL/fu3cOBAwcAAD179pS5GjJk/fv3h729PSIiIpCeni53OVTJHTlyBIBhn5cYhvRs9uzZMDc3xxdffIGkpCS5y6FKSqPRYP78+dBoNJg0aZLBXn2RYahevTqaNm2Ka9euSV9URPqQmJiIbdu2wczMDB07dpS7nGIxDOlZp06d0L17dzx8+BBHjx6VuxyqpBITE7Fr1y44OztjxowZcpdDBs7a2hpBQUEAgHHjxnHEK+mFRqNB//79kZqaitGjR6N58+Zyl1QshqFyMHbsWAghMH36dMTFxcldDlUyWVlZGDRoEHJycjB48GC88sorcpdEFYC/vz/8/PyQmZmJuXPnyl0OVULHjh3DhQsXULduXSxdulTuckrEMFQOevfujf79+yM5ORm9e/fmPXoqUwsWLMDx48fRoEEDLFq0iKPIqNQWL16MKlWqYM2aNfj+++/lLocqkWvXrmHUqFHIzc3FhAkTpPmtDBXDUDnZsWMH2rdvjwsXLmDo0KFyl0OVxPbt2xESEgIbGxvs27cP1tbWcpdEFUizZs1w+PBh5Ofn4/333+fIVyoTGRkZGDJkCOLi4jBt2jQEBgbKXdIzMQyVExsbG4SGhqJevXr44YcfMHjwYD6zjF6YSqXC8uXLMXbsWFhZWWHPnj0GfT+eDJNCoUCnTp0wZ84c5ObmYtiwYdi7dy/UarXcpVEF9eeff6JHjx6IiopCly5dMG/ePJibm8td1jMphCE/RrYSunbtGtq1a4eHDx/C0dERFy9exKuvvip3WVSBKJVKjB49Gjt27ICpqSm2bNmCUaNGyV0WVXCDBw/G3r17oVAosGnTJowcOZK3XKnUhBBITExEs2bNkJSUhCZNmuDSpUtyl1VqbBkqZ40aNcLZs2fRvXt3pKWloU2bNggKCkJaWprcpZGBE0Jg9+7d6Nq1K8LCwlCnTh388MMPDEJUJsLCwrBlyxYUFBRgzJgx6NWrF44fPy53WVQBJCQkYOLEiahbty6SkpIwYcIE/Pbbb3KX9VzYMiSTnJwcDB06FBEREcjOzoarqyuWL18OX19f1KxZs0I0K5L+aTQaJCcn49atWwgODsYvv/wCU1NTNG/eHF9//TWaNm0qd4lUyZw9exZDhw7FjRs3AAAjRozAtGnT4OrqCgcHB5mrI0ORl5eH+Ph4/PTTT5gxYwaysrJQtWpVTJ06FbNnz5a7vOfGMCSzqKgoBAcH46effoKJiQmcnZ1Rr1499OnTB506dUKNGjXg7u4ud5lUjpRKJS5evIj79+9j8+bNuHbtGhISEpCXlwdnZ2ds2LAB3bt358SKpDdJSUk4cOAAJk+eDJVKBWtra7i5uaF169YYNWoUqlWrBk9PTz4M2MjExcUhLi4OBw4cQHh4OOLi4pCcnAwAGDRoEObNm4cGDRrAxKTi3XRiGDIABQUFOHjwIHbv3o3Lly/j+vXrKCgo0NqmWrVqBj80kV7e3bt38fRHsnbt2mjSpAm6deuG0aNHw9HRUabqyNg8evQIK1aswMmTJ3H58mWdQR8WFhac18oIqFQqnTnyTExM4OnpiVatWmH06NF46623ZKqubDAMGRAhBFQqFW7duoWvvvoK586dw8OHD3H16lW5S6NyVLVqVXh6euKNN95A79690aFDB1hYWLAzK8kmPz8fKpUKBw8exOHDh3H9+nXExMToBHeq3Dw8PGBlZYVhw4Zh1KhRsLS0hLm5eaVoIWQYIoOVnp6OTp06ITo6usTtjh49ih49epRTVURU2eTl5aFr1644depUiduFhIRg6tSp5VQVlSeGITJoFy5cgI+PT7HPTgoICMD//d//lXNVRFTZpKamwtXVFdnZ2UWu79mzJx9qW4lVvF5OZFQ8PT0xbNiwYte3aNECKpWqHCsiospIrVbDzc2tyHUODg4G/2wtejkMQ2TQTE1NERoaiiZNmhS5fsGCBWjbti2OHz8OpVJZztURUUWXlZWFLVu2oG7durhy5UqR20ybNg2enp7lXBmVJ94mowrh2LFj6NGjBzQaTZHrzc3N0b59exw6dIhDzomoVE6ePInhw4fj7t27OiN4C3Xq1AkREREwMzMr5+qoPLFliCqETp06YcSIEQAeB59FixZhwIAB0gkqPz8f//nPf+Ds7Iz58+frDAMlIir0119/YcSIEWjXrh1u3bolBSEXFxfMmDEDjRo1krZdtGgRg5ARYMsQVSheXl7IyMjAlStXYG5ujqtXr8Lf3x+3b9/W2q5q1arYv38/OnbsWCEnACOisqdWq7F06VJ8/vnnWstNTEzQvHlzHD16FDVr1sS5c+fg7e2NmTNnYvHixTJVS+WJYYgqlB9++AENGjRA48aNpWUPHz7E/v37sXjxYty/f19r+y5duiAoKAhdunQp71KJyICEhYVh1apVOHfunNbyZs2aYcmSJTrTc+zYsQODBw/m/F5GgmGIKo20tDSMHDkS//nPf5CZmSktNzExwYQJEzBjxgy8+uqrlWKCMCJ6No1Gg+vXr2PMmDE4efKktFyhUKBmzZoIDAzErFmzGHiIYYgql4KCAly7dg1TpkzBsWPHtNY5Oztj4sSJmD59OiwtLWWqkIjKQ3Z2NgIDA3Ho0CE8evRIa11gYCAmT56MevXqyVQdGRqGIaqU1Go1vv76a2zYsAF//vmn1jpPT08sXrwYXbp0gZWVlUwVEpE+FD42ZPr06Vq3zU1NTdG2bVt89tln6N69u4wVkiFiGKJKLS8vDytXrsS8efOQn58vLTc1NYW3tzf27t2L2rVry1ghEZWVa9euoWfPnrh3757OUPl9+/ahb9++MDc3l6k6MmQcZkOVmpWVFT777DNcuHABI0eOlG6PFRQU4PTp02jYsCGmTp2qMxqNiCqOO3fuYMKECfD29sbt27elIGRhYYGZM2ciLi4OAwYMYBCiYrFliIzKhQsXMGjQINy4cUNrAsdq1arhX//6Fzp16gQbGxsZKySi0srLy8Pu3bsxcuRIreVmZmZ47bXXcOTIEbi7u8tUHVUkbBkio9K8eXNERkZiz549qFOnjrQ8JSUFAQEB6Nq1KyIiImSskIhKIyIiAh07dsTo0aO1lteoUQO7d+9GTEwMgxCVGluGyGg9evQIM2fOxIEDB5CWliYtVygUGDp0KD777DM0bNiQkzYSGZC//voLGzZswMaNG7WW16pVC2+//TbWr1/Pzyw9N4YhMmoajQYPHjzAuHHjcPToUa11jo6OmDRpEoKCgmBtbS1ThUQEPH7kzqJFi7B27VqkpqZqrevVqxfWrVuHOnXqcB4xeiEMQ0R43KE6LCwMa9aswfnz57XWNWrUCMHBwRgwYAD7ExGVMyEEDhw4gOXLlyMyMlJrnZeXF2bOnImBAwfKVB1VFgxDRE/ZuHEjAgMDdYbmtmzZEhEREahatSqvPonKQUJCAvz9/REdHa213MTEBEuXLsX06dNlqowqG95YJXrKxx9/jCtXrmDChAlaM1WfP38etWrVwpgxY3Dv3j0ZKySq3FJSUjBr1iw0b95cJwiNHTsWly9fZhCiMsWWIaISXLlyBYMHD8bFixe1huLb2dlh7dq16N+/PxwcHGSskKjyyM3NRUREBAIDA7UuOExNTdGkSRNs2rQJbdq0kbFCqqwYhoieITs7GzExMXj//fdx584drXVNmzbF3Llz8fbbb8tUHVHlEBUVhQ8//BBXrlyBUqmUlpuammLr1q145513YGdnJ2OFVJkxDBGVUlpaGoKDg/Hdd98hKSlJa93gwYPxySefwMvLi8N6iZ7DvXv3sHXrVqxYsQK5ubnSchsbG7z//vtYvXo1By6Q3jEMET0HIQSSkpIwadIk7Nu3T2udpaUlRo8ejfXr18tUHVHFoVar8dVXX2HmzJnIysrSWte8eXMcPHgQr776KkxNTWWqkIwJL2GJnoNCoUCtWrUQFhaGQ4cOoW3bttI6pVKJDRs2oEGDBti4caPWVS4RPSaEwJEjR9C3b19MmjRJKwg1bNgQmzdvRmRkJNzd3RmEqNywZYjoJYWGhmLu3Ll4+PCh1nIPDw8cOnQIdevW5UmdCEBi4ZX1PQAAIABJREFUYiI+//xzbN26VWu5ra0tBg0apLOcqLwwDBGVgdu3b2P79u1YsWIFcnJypOWWlpbo06cPvvzySzRo0EDGConkk5eXh8WLF2P79u0601IEBARg0aJFaNq0qUzVETEMEZWpyMhIBAUF4cSJE1Cr1dJye3t7LFq0CAMGDICzs7OMFRKVn/z8fJw5cwaffPKJzszuHh4emDt3Lt577z2ZqiP6H4YhojKmUqnw+++/Y9iwYbh796603MTEBHXr1sWWLVvQuXNnGSsk0r9bt25h4sSJ+OWXX5CXlyctNzMzw7JlyzBy5Eg4OjrKWCHR/zAMEelJamoqQkJC8M033+DBgwda63r16oW5c+eiZcuWHIpPlUpiYiK2b9+O1atXIyEhQWvd0KFDMX36dDRr1kym6oiKxjBEpGc5OTkYOXIk9u7dq7VcoVBg2LBh+Oabb/isM6oUTp8+jd69eyMlJUVrubOzM86ePQtXV1eZKiMqGS9JifTMxsYGO3fuREREBLp27SoFHyEEvv32WzRs2BAhISE6c60QVQRCCJw7dw4BAQHo2LGjVhCqVasWVq1ahcuXLzMIkUFjyxBROdu8eTMWLlyI2NhYreVvvPEGtmzZAi8vL60HxBIZquTkZKxevRorV67U6hdkYWGB3r1749tvv4Wtra2MFRKVDsMQkQwSExOxbds2LFiwQKdzae/evbFq1Sq4u7vLWCFR8fLz8/Gvf/0LX375JW7duqW1rm3btli1ahVatGgBc3NzmSokej4MQ0QyunjxIj7//HP8+OOPUKlU0nJra2t8/vnnGDlyJFxcXGSskOh/1Go1IiMjsXDhQvz4449a6+rVq4fAwECMHz8eFhYWMlVI9GIYhohkplarcf78eQwbNgzXr1/XWlerVi1s2rQJ/fr1k6k6osdycnIwbdo0fPPNN1pPlTcxMcHkyZMxb948PlWeKiyGISIDkZqain//+98ICQnRmp8IAHr06IEZM2agQ4cOfLQHlausrCxs374dixcvRlxcnNa6gIAAfPrpp/Dx8ZGpOqKywTBEZGDy8vIwYsQIHDp0SKs/EQB8+OGHCAkJgZ2dHYfjk14VFBTg7t278Pf3x7Vr17TWvfLKK1izZg0GDBggU3VEZYtD64kMjJWVFcLCwnD8+HH06tVLK/Rs27YNHh4emDNnjtatCqKydPv2bQwZMgSNGjXSCkJ2dnZYsWIFzp49yyBElQpbhogMWEFBAfbs2YN58+bp9CeqX78+tm3bBm9vb1hZWclUIVUmSUlJ+P777zFr1iykp6dLyy0sLNChQwesX78er732mowVEukHwxBRBZCSkoL9+/dj6tSpyMnJkZabm5ujXbt22LFjB0ed0Us5ffo0Ro0ahRs3bkCj0UjL69evj927d8PT05PzX1GlxTBEVIFcvnwZCxcuxOHDh7VCkYWFBaZNm4axY8eiTp06MlZIFYlGo0FMTAxWrFiBsLAwrXU1atTAxIkTMWXKFNjb28tUIVH5YBgiqoBu3LiB7t274/bt21rL7ezsEBoaivfff1+myqgimT17NhYvXoyCggKt5X379sX333/PTvpkNNiBmqgCatiwIWJiYrB9+3bUr19fWp6ZmYmhQ4eiU6dO+Omnn2SskAxVfn4+vv76azRr1gwLFy7UCkLt27dHeHg49u3bxyBERoUtQ0QVnFKpxJgxY3Do0CFkZGRorRs8eDCWL18OFxcXmJjw2seYFRQU4M6dOxgzZgx++eUXrXU1a9ZEcHAwPv74Yz5Cg4wSwxBRJSCEwOXLlzF79mwcPnxYqwNszZo1MXz4cMyfP5+jzoxUTk4OAgMDERYWhtzcXGm5mZkZxo8fj+nTp8PNzU3GConkxTBEVIkUFBTgwIEDWLx4MS5cuIAnP97169fHypUr0aVLF1SpUkXGKqm85OTkYP/+/ZgyZQpSU1Ol5WZmZvD29sby5cvRpk0bGSskMgwMQ0SVUE7O/7d35wFRlYv7wJ8zMzDDpogbKCjiguWamXY1SM0y01ukqKk31yyX7NItlxSvmpr2jdKrVpapaJCWllqadc1McYt7SQQ3VBRlUUBRBxyY7by/P/x5rhNqi8JhOM/nn5rzzvIwyPDwnvecY0FiYiImTpzocnJGg8GABx98EOvXr0dISIiKCamiHTt2DNHR0Th+/LjLTKG/vz8SEhLQs2dPHipP9P9xEQFRNeTt7Y0xY8bg6NGjGD9+PLy9vQH876rjLVu2xNixY5GZmalyUrrXjh8/jokTJ+L+++/H0aNHlSLk7++P6dOn4/Dhw+jTpw+LENFNODNEpAGHDx/GsGHDcOjQIZdZAl9fX3zwwQcYOHAgfzm6ubKyMnz22WcYO3Ys7Ha7sl2v16NFixbYvn07GjZsqGJCoqqLM0NEGtC6dWvs3r0ba9euRatWrZTtJSUlGDZsGB555BGsX79exYR0N7Zs2YJHH30Uo0ePdilCbdq0wYYNG3Dw4EEWIaI74MwQkcZcu3YNEydOxNatW1FQUOAyNmDAAMyePRstWrSAXq9XKSH9HrIs4+zZs5g1axbWrFnjMlanTh0MHjwYb7/9Nry8vFRKSOQ+WIaINCo7OxtvvPEGEhMTXbbXqFEDw4YNw5IlS1RKRr/H1KlTsXLlShQWFrpsHzp0KObNm4fGjRurlIzI/bAMEWmYLMv4+uuvERcXh3379rkcih8YGIj58+cjOjqah+JXEXa7HV999RXmzJmDI0eOKNslSULXrl3x8ssvY8CAATzBJtEfxDJERJBlGfHx8ZgwYQLKysqU7ZIkoVWrVvjpp59Qu3ZtFROS2WxGZGQk0tLS8OuP7YULF+KVV15hCSL6k/iTQ0TQ6XQYNWoUTpw4gSlTpsDPzw/A9TNbHz58GHXq1MGwYcOQlZWlclLtKS0txaRJk9CwYUMcOnRIKUImkwkTJ07EyZMnERMTwyJEdBc4M0RE5Zw8eRJ/+9vfkJqaCpvNpmw3mUxYuHAhBg0ahFq1aqmYsPq7du0atm/fjujoaJeLqRoMBtx33334+OOP8fDDD6uYkKj64J8SRFRO8+bNsWvXLmzduhVt27ZVtpeVlWHcuHF45JFHsHnzZhUTVm8pKSl44oknMHDgQJci1KBBAyxfvhwHDhxgESK6hzgzRER3VFxcjLlz5yIhIQF5eXkuY3379sXMmTPRoUMH7qa5B86ePYulS5ciLi7OZXtAQACioqIwb948BAYGqpSOqPpiGSKi36WoqAgxMTH49NNPXbZ7eXmhX79+SEhIUClZ9fDhhx9i2rRpuHr1qssC6datW2P9+vUIDw+HJEkqJiSqvvinHBH9LgEBAVi9ejW2bduGnj17KjNBpaWlSExMROPGjbF06VJcvXpV5aTu5dtvv0VkZCTGjx+PK1euKEWoXbt2WLFiBdLS0tCyZUsWIaIKxJkhIvpT1q9fj5EjR+LatWsu28PDw7F582Y0a9aMZ7G+DSEELl++jOeeew7bt293GTMajZgwYQLmz58PT09PlRISaQtnhojoTxkwYABOnTqFOXPmuBxZlpGRgZYtW+L5559HRkaGigmrJlmWERsbiwceeKBcERowYAD27duHd999l0WIqBJxZoiI7trZs2cxfPhw7N+/3+VQfA8PD7z55psYPXo06tSpo+ldPTabDfv27cPgwYNx4cIFZbtOp0OLFi2wYMECPPPMMyomJNIuliEiuifsdjtSU1MxevRopKenu4yFhYVh5syZGDZsmErp1JWTk4NBgwbh4MGDKC0tdRn717/+heHDh6NmzZoqpSMiliEiuqfMZjOWLVuGZcuW4cyZMy5jffr0wZQpU9ClSxdNrCcqLCzEJ598gtmzZ8NqtSrbTSYTBg4ciNmzZyM0NFTFhEQEsAwRUQUpKSnB+PHjyx2Kr9frER0djXXr1qmUrHJs3rwZAwcOhN1udzlUvk6dOtixYwfatGmj6d2GRFUJF1ATUYXw9fXF6tWrkZSUhH79+imH4judTnz++ecICgrCO++8g+LiYpWT3ltJSUkYNGgQ+vfvD5vNphShoKAgLF26FDk5OWjbti2LEFEVwpkhIqoUGzZswOTJk8vtOmvUqBESExPx0EMPwWg0qpTu7hUUFGDx4sWYN2+ey3ZfX1/06tUL8fHx8PX1VSkdEd0JyxARVZqCggJ8+eWXmDZtGq5cuaJsNxgM6NWrFxYvXoywsDAVE/5xTqcTH374Id577z1kZWW57BJ76KGHsGTJEnTu3FnFhET0W1iGiKjSHT9+HNOnT8d3330Hi8WibNfpdJg1axZGjBiBkJAQFRP+Pnv27MGsWbOwY8cOl+1NmzbF1KlT8cILL6iUjIj+CJYhIlKFLMtIT0/H0KFDceTIEZexwMBAxMXFYejQoSqlu7OLFy9iyJAh2LNnT7lD5adOnYrJkye7nIiSiKo2liEiUpXFYsGqVauwZMmScmes7tatG6ZNm4bu3bvDYDColPB/SkpKsHz5cixcuBDZ2dkuY8888wxiY2PRsWNHldIR0Z/FMkREVYLVasWkSZPw0UcfuZzFGgCioqKQmJgILy8vVY7CkmUZqamp6Nu3L86fP69slyQJ/v7+2LBhA3r06FHpuYjo3uCh9URUJRiNRixevBh79+7Fc88953JSxk2bNiEsLAyxsbEuC68rQ0ZGBvr374+IiAiXIuTt7Y3Zs2fj9OnTLEJEbo4zQ0RUJW3cuBHTpk1DRkaGyxFaQUFBSEhIQOfOneHj41Nhr3/p0iWsWbMGb7zxRrmzR/fs2RMrV65E3bp1K+z1iajysAwRUZVlNpuxfv16vPrqqy4nZ/Tw8MBf/vIXfPrpp2jUqNE9fU1ZlvH111/jtddeQ1ZWFmRZVsaaNGmClStXokuXLryqPFE1wjJERFVeVlYWZs+eja+++gpms9ll7B//+AcmTJhwT85PlJKSgoULF2LdunVwOp3K9oYNG2Ls2LGIjY2969cgoqqHZYiI3IIQAjk5OYiKisIvv/ziMubn54e4uDi8+OKLf+q5bTYbpk6diqVLl8Jut7uMPfvss1i7di08PT15CQ2iaooLqInILUiShJCQECQlJSEhIQFt2rRRxoqLi/HSSy/hkUcewZdfflmu0NxOaWkpVq1ahfbt22PhwoUuj+vWrRu+//57fPXVVzAajSxCRNUYZ4aIyC3ZbDa8/vrrWL16dbldZ/369cPSpUtRv3595QKxNxNC4PDhw3jxxRdx4MABl7H69etj/vz5GDlyZIXmJ6Kqg2WIiNza0aNH8fbbbyMxMdFlnY+/vz9GjRqFuXPnwsvLS9men5+PCRMmYPv27eVK1NSpUzFu3Lh7viibiKo2liEicnuyLGP79u2IjY3FwYMHyy1+jouLQ2RkJA4cOIAJEybgwoULyrjBYEBERATi4uLQoUMHNeITkcpYhoio2rBYLPj+++8xcuRIXL16Vdmu1+sREBCAixcvupyzKCAgAOvWrUNERARMJpMakYmoCmAZIqrmTuUV42SeGZl5ZuRfLYPdIeOS2frbD3Qjep0EIQABAQjAbrch7/x5yPL1GSKdpIMs5JseIcGg1yGkUWMAwI1PQUmSUN0+Ej0MOtStaUINbw8EBXihdeNaaFLfF37eHmpHI6oyWIaIqqEymxPf/JyNb/+Tg8sl16/zJUmATpIgSRIk6fptCdX/CCkhBKxWKzw9PWGz2TR1ZJgQAgKALP/vvwBg0Evo1jYQQyOD4V/DDxp5O4hui2WIqBqx2p349j85+CktH2cLSgAAjer6oOt9AQgLqomAGl4weerhazLA22iAh6H6n13DarVix44d6Ny5Mw4cOIAePXq4LKiuzkpK7bDaZZgtdlisDpwrvIafjxciPesynLKAj8mAB5vVxuBuYQgK0MZ7QnQrLENE1YAAUHilDPO/SMeZC8UweujRpL4vxvYJR2h9X7XjURVjtTuR8ONp7D6cD7PFBj8vD7zUuwUevq8e9DpOE5H2sAwRVQMZOVcx//N0XLlmQ9MGfnipVxiah9TWwE4wuhsFV8rw7X9y8M3P2RAC+GvnEIx8opnasYgqHcsQkZv79j85+HjbCUgS0OvBhhjRsxlMnnq1Y5Eb2XkoD6u2Z8JssSOidX2MfSocPiaD2rGIKg3LEJEbO5x1Gf9MSIUE4JW+TRHRLgQ6roalP8FidWD8+wdwtcSGfl0b4/nHmqodiajSVP/Vk0TV1JnzZrz1eRr0koQxT7bAo+0bsQjRn+ZtNOCfQ9rB39cTX+49i6/3n612pxkguh2WISI35HDK+NfXx2GxOtGnUzCe7NhQ7UhUDYQF+mFKvxbwNOjw2a4sXCq2qR2JqFKwDBG5oS92ZyErvwStGvtjQESo2nGoGmnRuC76dW2MMpsT89YegsPJ2SGq/liGiNxMUbEVP6Seh7fRgFeeuZ8LXeme0kkSnnu0CYJqeeFMfgmSMwrUjkRU4ViGiNzMluQcFBVb0aFZAOrV5PW0qGI8/1hT6CQJ2/6bq3YUogrHMkTkRhwOB35KuwCdJGFItzBeRoEqTPumAahdw4j0rCsovFqmdhyiCsUyRORGTuaVoKjYipC6PmhQ21vtOFSNeRsN6NMpGADw1b5zKqchqlgsQ0RuJPnERQDAUw/x6DGqeD3aBUEnSfj5eCHKbE614xBVGJYhIjchC4Hj2Vdh8tSjZUhNteOQBtTw9kB4SA1cK7PjwuVSteMQVRiWISJ3IQC7U8DkoYeXkUeQUeWo42eCUwZKOTNE1RjLEJGbEAAul1jhYdDB5OHe1x6bNm0aFi1apHaMP8TpdKJFixY4e/as2lEqVQ0vPWQhYClzqB2FqMKwDBG5CSEErFYbPAw6eBoq90d3wIABmDdvnsu2yMhIvPXWW3/q+Tw9PeFwuNcvV51OB5PJpLlLVPj5GCHLAqU29/p+Ef0RLENEbsQuS/A06Cr1qvRCCDidTkg3HccvyzKsVis8PT3/1HPKsvynH6sWWZbhdDqh092bj02LxYL27dtj165d9+T5KsqNf2vaqoCkNSxDRPSbbDaby4yIEAJ2ux16vR6yLOOf//wnUlNT0aRJE0iShFdffRVWq1W5vyzLuHDhAnJzc1FcXAyr1QoPDw9l3Ol0orCwELm5ubh8+bKy3Wq1Ii8vD/n5+XA4HJgzZw4kSUJgYCBOnz4NANi1axckSYIkSVi7di1ee+01pKSkQAiBCxcuIC8vD3a7HQkJCTCZTKhZsyZSUlKUXEVFRcjNzUVubi5sNtdrcZWWlipj165dgyzLkCQJDocDeXl5kGXZ5b43Z3c4HMrXlJ+fr9z3Rq6cnBxYrVZcuXIFubm5KCwsdHl/zWaz8tp2u/2uvn9EdGcsQ0T0m/T68jNROp0OTqcTQgjs3LkT0dHRmDJlCtatW4f4+Hi8//77yn2XL1+OsLAwBAcHo3Pnzjh9+jSczusLcq1WK4YPH46WLVsiODgY7dq1w5YtWwAA+/fvR2hoKLp27YoVK1bg4sWL2LhxI9566y1kZ2ejoKAAgwcPxvTp07Fx40asWrUKy5Ytw+XLl+FwONCxY0e0bNkSixcvxqeffoq1a9figw8+QHp6OgBgxYoVaNu2LYKDgxEcHIzhw4crmQsLC/H0008jODgYISEhePPNNyFJEoQQyMrKQnh4OMrK/ncywq1btyI2Nla5PXXqVISHhyM4OBjNmjXD5MmTAUDJFR4ejuPHjyMqKgrBwcHo16+f8tikpCR06tRJyTVp0qR78W0kottgGSKiO5IkqdwuLb1eD6PRqMxY6PV6jBgxAmPHjsWgQYOwYcMGZffPkSNHEBsbi/j4eAghMHnyZGzZskWZOfruu++Qnp6O5ORkCCGwYMECxMTE4OLFi+jWrRtsNhuaN2+OTZs24d1330VUVBRGjRqFRx99FMuXL0f37t0xd+5cREVFYeHChTAYDLDb7fDw8EBOTg4GDx6MxMREbN68Gc8++yyGDh2KESNGALg+m/PDDz9ACIGSkhKcOnUKu3fvBgCsXr0aubm5OHPmDOx2O44ePYqioiIIIWAwGCBJkssuM0mSXGaKGjVqhIyMDAghsGvXLsTHxyMjI0PJde3aNbRv3x579+6FEAJJSUkAgKKiIsTExGDGjBlKrv3792Pbtm0V9B0mIpYhIvpNt1onc/M2p9OJqKgo5Xbz5s1RWnr9vDTx8fHo0qULoqOjAQAjRoxA3759ld1uS5YswbJly9C0aVMAwODBg9GlSxecOHFCeb6SkhLMmzcPBoPrKQXWrl2Lxx9/XLndpEkTBAcHu+zSczgcGDt2LEym8tdxe+WVV5CVlYXu3bujQ4cOOHXqFH7++WcA12ezNmzYgNDQUOj1esTFxUEIASGEy/qpGzw9PV1e95VXXsHmzZvx4IMPYtCgQSgpKUFmZqYyfmPX3q+tW7cOHh4eGDhwIADAx8cHkyZNwkcffeR2i86J3AVPVkJEdySEKLeW5sYC6hvrfiRJclkDdGOb0+lEZmYmunXr5lKe6tWrB6PRCFmWkZKSgi5dupR77NChQ5XbdrtdKUs3ZyguLlZ2t938mjdnsVqtCAkJKfd1lZaWYuTIkfjll1/QvXt3tGvXDj/99BP0ej0KCgoghEC9evWU+wcGBsJkMim7B39dEG02m1LWzGYzevToAUmS8PDDDwMAPv/8c5fdjbIsu8wk3ZCamork5ORys3GhoaGaO5KNqLKwDBHRHV0/pN/qsk2SJGUB9Y37/JrBYIBer0dAQACKiopcxmw2mzKT4uPjg8OHD6Nhw9tfYuR2M1OtW7d2WbR87do1mM1ml9JhNBpv+ZyfffYZkpOTceDAAaX0TJw4ET4+Psrtm4uWLMuw2+3Q6XSw2WwuYzfGb5Sw6dOnIygoCN988w2A60eO7dixw6WkCSHKlaEb7/Xo0aPxySef3Pb9IKJ7i7vJiOiOdDodGjZs6LLbymKxoKys7LZFA4Aym9SxY0f8+OOPsFgsytjhw4dRVlYGvV6PiIgILFmy5I4ZbrU7CbheXj7++GOkpaUBAD766CMUFha6LGy22Wy3fPylS5dQu3Zt+Pv7K9u2bNmi5G7atKmyywyAsrZHlmWlnB09ehQAUFxcjLffflvZNZidnY02bdoojz1y5AjOnTtXbhbr1yVPkiT06dMHP/74IwoKCu74nhDRvcMyRES/acGCBdiyZQsWLFiAtLQ0zJgxA0VFRYiOjr7lLjJfX1/l/4cPH47c3FxMnz4daWlpGDJkCNLT05X1LzExMVi6dCneeOMNpKWlITk5GTNmzIDD4cCpU6fg5+eHffv2wd/fH+3bt3d5nSeffBIdO3ZE+/btIUkS1qxZA4PBAF9fXzidTkRERCAhIQG9e/dGUFAQzGaz8thevXrhyJEj+OCDD5CSkoJ27dqhsLBQKUMxMTGIjo7GF198gYMHD2LmzJnK0WRBQUEIDw/HggULkJqaiv79++P06dPKTM/48ePx4YcfYtOmTdi5cydGjhwJp9PpsubHZDLB19cXH3/8MQ4dOqQsoB44cCACAgIQFRWF3bt3Iy0tDQsXLnTJTkT3mCAit2B3OMXAt3aKvy/7WZXX37Ztm2jTpo0AIDp16iSOHDkihBBClmVx6NAhYbFYlPuWlZWJ9PR05XZaWppo3ry5ACDGjBkj5syZI5YtWyaEEMLpdIqkpCTRoUMHAUAEBgaKhIQEIcuyKC0tFfv27RNJSUkiKSlJpKamlstlsVjEnj17RFJSkkhJSRG1a9cWly5dUnLdeGxycrJwOBwuj125cqXw9fUV3t7eYsaMGSI+Pl6sWbNG+Ro++eQTYTQahV6vF5s2bRK9evUS2dnZQgghzp07J9q2bSsAiJ49e4qNGzeK8ePHK889ZcoUAUDUqlVLLFmyREyfPl3s2bNHGZdlWSQnJ4uwsDABQPz9739XxvLz88Xo0aOFyWQSAMSwYcPKZa8sG/edFc/M3iF2H76gyusTVQZJCK7II3IHDqeMof+3G0EB3lj0Uie141QJeXl5mDt3LiIiIgAA77//PkaMGIEXXnhB5WTVx6b95xC//RRe698KEa3qqx2HqEJwATURua2goCB4eXlhyJAhAIBVq1Zh2LBhKqciInfDNUNE5LYkScK7776rnP9nxIgR9+zaYUSkHfzUICIiIk1jGSIiIiJNYxkiIiIiTWMZIiIiIk1jGSIiIiJNYxkiIiIiTWMZIiIiIk1jGSIiIiJNYxkiIiIiTWMZIiIiIk3jtcmI3Ex24TUMi0tSOwZphM0hqx2BqMKxDBG5GacsYLbY1Y5BRFRtsAwRuZnQ+r5Y9FIntWOQRqxPykLiztNqxyCqUFwzREREt+Vh4K8Jqv74r5yIiIg0jWWIiIiINI1liIiIiDSNZYiIiIg0jWWIiIiINI1liIiIiDSNZYiIiIg0jWWIiIiINI1liIiIiDSNZYiIiIg0jWWIiIiINI1liIiIiDSNZYiIiIg0jWWIiIiINI1liIiIiDSNZYiIiIg0jWWIiIiINI1liIiIiDSNZYiIiIg0jWWIiIiINI1liIiIiDSNZYiI6DfIsozk5ORy2w8cOACr1apCIiK6l1iGiEgzzGYznnjiiT/0GCEExowZA4vFUm7MYrFg0KBBkGX5XkUkIhWwDBGRZphMJhiNxj/0mB9//BElJSWIjIwsN9ajRw/UrVsX33333b2KSEQqYBkioirvzJkz8PPzQ2Zm5l09j16vhxDid99flmVs2LAB8+bNg05364/Ld955B/Hx8XeVi4jUxTJERFWe0WiEJEnw8PCo1NfNz89Hfn4+mjVrdtv7+Pj4wGw249ixY5WYjIjuJZYhIlJVSUkJZs+ejYCAAEiShDp16mDTpk0Aru+i8vT0RMOGDVFcXIzGjRtDkiSMHj0aALB8+XK8+eabynNZLBY0a9YM3377LQDg/Pnz6Nu3LyRJQkhICPbu3avcd9u2bejQoQNKS0uVbS/I/chnAAAIsklEQVS//DJmzpyp3N6yZQsCAgLumF+v1yMgIAD//ve/7/7NICJVGNQOQETatmPHDsyZMwf79u1Du3btcOnSJVy5cgUA0K1bNxQXFyM/Px+tW7fGL7/8gpCQEOj1euXxt1oDZDKZIITA66+/jmPHjiE/Px/nzp1D9+7d0alTJwBAZGQkrly5goKCAjRu3BgAsHfvXuzcuVN5nnPnzqFVq1Z3zK/T6dCqVStcvHjxrt8LIlIHZ4aISFW1atXCo48+ik6dOsFoNKJBgwa4//77AVwvGkajUVmv4+npCaPRCIPh+t9xRqMRDofD5fk8PT3hdDrhcDiQmpqKHTt2oF69eujYsSPee+895f4+Pj6YPHkykpKSAFw/TD48PBz+/v7Kc/n4+PyuQ+clSYLdbr/7N4OIVMEyRESqioyMRFxcHIYOHYoTJ0647La64deF5wZPT89y23Q6HRwOB06fPg0fHx+EhoYqY7169XJ5TPfu3bFy5UrYbDbMmTMHTz75pMtzGY1GnDlz5je/huzsbEiS9Jv3I6KqiWWIiFT3wAMPYMWKFcjMzMS4ceOU2Zobbnck163O7yOEgCRJCAwMhLe3t8uYj4+Py+3Q0FBYrVYkJCRg+/bt6N69u8t47969cenSpTtmdzqdOHv2LPr373/H+xFR1cUyRERVgslkQu/evTFq1CiMGjUKZrNZGbt5jdDNysrKkJWVpdzOyMhAbm4udDodvL29UVZWhry8PGV869atLgXKaDRi3LhxmDNnDl588UVl7dANLVu2hN1uV9Yw3crFixdht9vRsWPHP/w1E1HVwDJERKpKSUlBRkYGgOuzLLNmzYIkSS67nW4Um8zMTNjtdpw4cQIA0LVrV6xbtw4nT55EYWEhHn/8cVy9ehVCCBgMBgQHB+Ppp5+G2WxGWloaYmJiYLPZXF5/wIAByM/Px6RJk26ZLzIyEqtWrbpt/vXr1yM6Ovpu3wYiUhHLEBGpKisrC4899phyHiFZlrF48WL4+fkp96lVqxYmTJiAp556Ct7e3vjmm28AAOHh4RgzZgxatGiBevXq4a9//SvatGmjlKlFixahbt26qFmzJh5//HGsWLECjRo1cnn9Q4cOoWPHjggODr5lvrFjx+Kzzz7DyZMny41lZmbiiy++wKBBg+7hO0JElU0Sf+R0rESkGodTxtD/242gAG8seqmT2nHcns1mg9lsRu/evdGrVy/MnTv3tvd1OBxYsGABYmNjXbYvWrQIMTExFR1VVZv2n0P89lN4rX8rRLSqr3YcogrBmSEi0qR33nkHdevWRVhY2G8WGoPBUK4IAaj2RYhIK1iGiEiTpk+fDiEEPv/8c9SpU0ftOESkIpYhIiIi0jSWISIiItI0liEiIiLSNJYhIiIi0jSWISIiItI0liEiIiLSNJYhIiIi0jSWISIiItI0liEiIrotWeYVm6j6YxkicjM2h4wym1PtGKQRNocMAJBUzkFUkViGiNyEJEmo6eMJp8MOp8OmdhzSiGKLFTpJgpenQe0oRBWGZYjIjfiYDLA5JZQ5+KNLlcNikyFJgKcH/81R9cV/3URuQpIAk4ceZXYZ16wOteOQRlwyW6HXSfA2cmaIqi+WISI3oZMkNK7rhTKrA+eLLGrHIQ2w2+04faEEHgYJQTVZhqj6YhkiciMPNK8LAWDLzzlqRyEN2HvsEkpK7bivUS14e3upHYeowrAMEbmR1o1rwaCTcOzcFZgtdrXjUDXmdDqxef85AMCgiFCV0xBVLJYhIjfiYzKge/sgOGSBjfuy1I5D1djRbDOyL1oQFOCN5g1rqB2HqEKxDBG5mb92CoGftweS0s+jlAupqYJsPpANh1NG744N1Y5CVOFYhojcTHAdbzwQFoCLxQ4s+/YE7E5Z7UhUzXz/3xz898RFBNbyQo92gWrHIapwLENEbkankzCub0t4G/XYnX4B36fkqh2JqpGCK2VYtzsLOknCq8+2gq+Xh9qRiCocyxCRG/Ly1OPvUfdDr9dh7U9ncOTcFbUjUTVw4XIp5n+RhsslNjzxYAM0a+CndiSiSsEyROSmOofXxfOPhcFidWBWQiqOZV9VOxK5MbtDxpKvj+HMhRK0Ca2FsU+FQ6/jFclIGyQhBC9JTOTGPvn+JLb8nA0fkwGDIkLwVKdQGPT8JUa/35GsS1i65QTOF5WiSX0f/HNIO9TyM6kdi6jSsAwRVQNfJGXhqz1nYHUIPN6+AQZENEJdf2+1Y1EVV1Jqx4HjhYj/4RRKSh14qEUdTH+urdqxiCodyxBRNSCEwJGsIsxKTINDFqjprUfbJrUxtk84fExcAEuuZFnGDwfzsGl/Ds5ftkCChKgujTDgkVB4GfVqxyOqdCxDRNWI2WJH4s7TSM4oxOUSG2p4e6BdWAA6NQ9A48Aa8DUZ4GsywNODv/C0QgiBqxYbbHaBvCIL0k9fxH8zr+BcQQk89DrcF1IT/R8JRdsmtdSOSqQaliGiakYIoLjUjqVbjiP5eCGA61e8N+h10EkSdLrrF30NruMDkydLUXV2oagUxaV2yLKAgIDdKSDL1z/yG9T2xoS+LdEypCYXSpPmsQwRVWOFV8twPOcqjp27iszzxSgqtqLEYkWpnT/2WqGTJPj7esLbaECDAC+0bxqAVo38EVLXGzodDygmAliGiIiISOP4ZwERERFpGssQERERaRrLEBEREWkayxARERFpGssQERERaRrLEBEREWkayxARERFpGssQERERaRrLEBEREWkayxARERFpGssQERERaRrLEBEREWkayxARERFpGssQERERaRrLEBEREWkayxARERFpGssQERERaRrLEBEREWkayxARERFpGssQERERaRrLEBEREWkayxARERFpGssQERERaRrLEBEREWkayxARERFpGssQERERaRrLEBEREWkayxARERFpGssQERERaRrLEBEREWkayxARERFpGssQERERadr/AyEHZpfB/sk4AAAAAElFTkSuQmCC)"
      ],
      "metadata": {
        "id": "1DAfPBhUgmkv"
      }
    },
    {
      "cell_type": "markdown",
      "source": [
        "- 다이아몬드 상속"
      ],
      "metadata": {
        "id": "c3ul4Ci5gnz9"
      }
    },
    {
      "cell_type": "code",
      "source": [
        "class A :\n",
        "  def greeting(self):\n",
        "    print('hi, i am A')\n",
        "\n",
        "class B(A) :\n",
        "  def greeting(self):\n",
        "    print('hi, i am B')\n",
        "\n",
        "class C(A) :\n",
        "  def greeting(self):\n",
        "    print('hi, i am C')\n",
        "\n",
        "class D(B,C) :\n",
        "  pass\n",
        "\n",
        "x = D()\n",
        "x.greeting()\n"
      ],
      "metadata": {
        "colab": {
          "base_uri": "https://localhost:8080/"
        },
        "id": "jHQu9SFggc90",
        "outputId": "864ed725-5770-484d-c8bd-ee25f566c298"
      },
      "execution_count": 20,
      "outputs": [
        {
          "output_type": "stream",
          "name": "stdout",
          "text": [
            "hi, i am B\n"
          ]
        }
      ]
    },
    {
      "cell_type": "markdown",
      "source": [
        "![image.png](data:image/png;base64,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)"
      ],
      "metadata": {
        "id": "BUogsguohJO_"
      }
    },
    {
      "cell_type": "markdown",
      "source": [
        "- 메서드 탐색 순서 확인\n",
        "\n",
        ": 메서트 탐색 순서를 따라 다이아몬드 상속의 문제를 해결한다.\n",
        "\n",
        "        클래스.mro()"
      ],
      "metadata": {
        "id": "MdnTOVevhdb5"
      }
    },
    {
      "cell_type": "code",
      "source": [
        "D.mro() # D의 메서드가 없으니 B 메서드를 우선으로 사용"
      ],
      "metadata": {
        "colab": {
          "base_uri": "https://localhost:8080/"
        },
        "id": "WCkRMMFjg-Ld",
        "outputId": "43fe15d6-bd20-4243-f2c1-243ba6bb036e"
      },
      "execution_count": 21,
      "outputs": [
        {
          "output_type": "execute_result",
          "data": {
            "text/plain": [
              "[__main__.D, __main__.B, __main__.C, __main__.A, object]"
            ]
          },
          "metadata": {},
          "execution_count": 21
        }
      ]
    },
    {
      "cell_type": "markdown",
      "source": [
        "- 파이썬은 다중 상속을 한다면 클래스의 목록 중 왼쪽에서 오른쪽 순서로 메서드를 찾음"
      ],
      "metadata": {
        "id": "zNQRWb9Ih5WU"
      }
    },
    {
      "cell_type": "markdown",
      "source": [
        "<참고>\n",
        "\n",
        "object 클래스\n",
        "\n",
        "파이썬에서 object는 모든 클래스의 조상\n",
        "int의 MRO를 출력해보면 int 자시자신과 object가 출력됨\n",
        "\n",
        "파이썬 3 에서 모든 클래스는 object클래스를 상속받으므로 기본적으로 object 생략"
      ],
      "metadata": {
        "id": "OB1WvouGiKQh"
      }
    },
    {
      "cell_type": "code",
      "source": [
        "int.mro()"
      ],
      "metadata": {
        "colab": {
          "base_uri": "https://localhost:8080/"
        },
        "id": "NC_vxAWyhxjm",
        "outputId": "7d7d8f10-cb77-4123-f0ff-6726024ea1a4"
      },
      "execution_count": 22,
      "outputs": [
        {
          "output_type": "execute_result",
          "data": {
            "text/plain": [
              "[int, object]"
            ]
          },
          "metadata": {},
          "execution_count": 22
        }
      ]
    },
    {
      "cell_type": "markdown",
      "source": [
        "36.6 추상 클래스 사용하기"
      ],
      "metadata": {
        "id": "MkauUkB0ik-p"
      }
    },
    {
      "cell_type": "markdown",
      "source": [
        "추상 클래스 \n",
        "\n",
        ": 메서드의 목록만 가진 클래스이며 상속받은 클래스에서 메서드 구현을 강제하기 위해 사용\n",
        "\n",
        "        from abc import *\n",
        " \n",
        "        class 추상클래스이름(metaclass=ABCMeta):\n",
        "            @abstractmethod\n",
        "            def 메서드이름(self):\n",
        "                코드"
      ],
      "metadata": {
        "id": "cjS5KCaUin2O"
      }
    },
    {
      "cell_type": "code",
      "source": [
        "from abc import *\n",
        "\n",
        "class StudentBase(metaclass=ABCMeta):\n",
        "  @abstractmethod\n",
        "  def study(self):  # 추상 클래스 StudentBase에서는 추상 메서드로 study와 go_to_school을 정의\n",
        "    pass\n",
        "  \n",
        "  @abstractmethod\n",
        "  def go_to_school(self):\n",
        "    pass\n",
        "\n",
        "class Student(StudentBase):\n",
        "  def study(self): # study 메서드만 구현, 추상 클래스를 상속받았다면\n",
        "    print('study') # @abstractmethod가 붙은 추상 메서드를 모두 구현해야함\n",
        "                   # def go_to_school(self)도 추가해줘야 함\n",
        "\n",
        "james = Student()\n",
        "james.study"
      ],
      "metadata": {
        "colab": {
          "base_uri": "https://localhost:8080/",
          "height": 227
        },
        "id": "-ygX2m91iViN",
        "outputId": "2c497c77-e08d-4575-c886-12187a6f4f8c"
      },
      "execution_count": 23,
      "outputs": [
        {
          "output_type": "error",
          "ename": "TypeError",
          "evalue": "ignored",
          "traceback": [
            "\u001b[0;31m---------------------------------------------------------------------------\u001b[0m",
            "\u001b[0;31mTypeError\u001b[0m                                 Traceback (most recent call last)",
            "\u001b[0;32m<ipython-input-23-1c40aa684565>\u001b[0m in \u001b[0;36m<module>\u001b[0;34m\u001b[0m\n\u001b[1;32m     14\u001b[0m     \u001b[0mprint\u001b[0m\u001b[0;34m(\u001b[0m\u001b[0;34m'study'\u001b[0m\u001b[0;34m)\u001b[0m\u001b[0;34m\u001b[0m\u001b[0;34m\u001b[0m\u001b[0m\n\u001b[1;32m     15\u001b[0m \u001b[0;34m\u001b[0m\u001b[0m\n\u001b[0;32m---> 16\u001b[0;31m \u001b[0mjames\u001b[0m \u001b[0;34m=\u001b[0m \u001b[0mStudent\u001b[0m\u001b[0;34m(\u001b[0m\u001b[0;34m)\u001b[0m\u001b[0;34m\u001b[0m\u001b[0;34m\u001b[0m\u001b[0m\n\u001b[0m\u001b[1;32m     17\u001b[0m \u001b[0mjames\u001b[0m\u001b[0;34m.\u001b[0m\u001b[0mstudy\u001b[0m\u001b[0;34m\u001b[0m\u001b[0;34m\u001b[0m\u001b[0m\n",
            "\u001b[0;31mTypeError\u001b[0m: Can't instantiate abstract class Student with abstract methods go_to_school"
          ]
        }
      ]
    },
    {
      "cell_type": "code",
      "source": [
        "from abc import *\n",
        "\n",
        "class StudentBase(metaclass=ABCMeta):\n",
        "  @abstractmethod\n",
        "  def study(self): # 학생이 반드시 해야 하는 일을 추상 메서드로 만듦\n",
        "    pass\n",
        "  \n",
        "  @abstractmethod\n",
        "  def go_to_school(self):\n",
        "    pass\n",
        "\n",
        "class Student(StudentBase):\n",
        "  def study(self): # 모든 추상 메서드를 구현하여 학생 클래스 작성\n",
        "    print('study')\n",
        "  def go_to_school(self): # 추상 클래스는 파생 클래스가 반드시 구현해야 하는 메서드를\n",
        "                          # 정해 줄 수 있음\n",
        "    print('go to school')\n",
        "\n",
        "james = Student()\n",
        "james.study()\n",
        "james.go_to_school()"
      ],
      "metadata": {
        "colab": {
          "base_uri": "https://localhost:8080/"
        },
        "id": "qUwTbsZbjh6K",
        "outputId": "67774d97-3905-4863-b085-0c378bb6455b"
      },
      "execution_count": 24,
      "outputs": [
        {
          "output_type": "stream",
          "name": "stdout",
          "text": [
            "study\n",
            "go to school\n"
          ]
        }
      ]
    },
    {
      "cell_type": "markdown",
      "source": [
        "- 추상 클래스 : 파생 클래스가 반드시 구현해야 하는 메서드를 정해줄 수 있음\n",
        "- 추상 클래스의 추상 메서드를 모두 구현했는지 확인하는 시점은 파생 클래스가 인스턴스를 만들 때이다. (james = Student()에서 확인)"
      ],
      "metadata": {
        "id": "P6IBK2wakva_"
      }
    },
    {
      "cell_type": "markdown",
      "source": [
        "추상 메서드를 빈 메서드로 만드는 이유\n",
        "\n",
        "- 추상 클래스는 인스턴스로 만들 수 없음\n",
        "- 그래서 추상 메서드를 만들 때 pass만 넣어 빈 메서드로 만든 것\n",
        "- 추상 클래스는 인스턴스를 만들 수 없으니 추상 메서드도 호출할 일 없음"
      ],
      "metadata": {
        "id": "FJkbJ6JFk_tl"
      }
    },
    {
      "cell_type": "markdown",
      "source": [
        "🎯🎯📢📢🔔🔔\n",
        "\n",
        "추상 클래스는 인스턴스로 만들 때는 사용하지 않으며 오로지 상속에만 사용한다.\n",
        "\n",
        "파생 클래스에서 반드시 구현해야 할 메서들르 정해 줄 때 사용한다.\n"
      ],
      "metadata": {
        "id": "OmwbEu-glQpr"
      }
    },
    {
      "cell_type": "code",
      "source": [
        "class AdvancedList(list):\n",
        "\n",
        "  def replace(self,old,new):\n",
        "    while old in self:\n",
        "      self[self.index(old)] = new\n",
        "\n",
        "\n",
        "x = AdvancedList([1, 2, 3, 1, 2, 3, 1, 2, 3])\n",
        "x.replace(1, 100)\n",
        "print(x)"
      ],
      "metadata": {
        "colab": {
          "base_uri": "https://localhost:8080/"
        },
        "id": "7GDbRAACka5L",
        "outputId": "6de138c8-80f2-48a5-b399-fb53d71b76d1"
      },
      "execution_count": 26,
      "outputs": [
        {
          "output_type": "stream",
          "name": "stdout",
          "text": [
            "[100, 2, 3, 100, 2, 3, 100, 2, 3]\n"
          ]
        }
      ]
    },
    {
      "cell_type": "markdown",
      "source": [
        "연습문제)\n",
        "\n",
        "다음 소스 코드에서 동물 클래스 Animal과 날개 클래스 Wing을 상속받아 새 클래스 Bird를 작성하여 '먹다', '파닥거리다', '날다', True, True가 각 줄에 출력되게 만드세요."
      ],
      "metadata": {
        "id": "Xcz0lSNPm_qJ"
      }
    },
    {
      "cell_type": "code",
      "source": [
        "class Animal:\n",
        "    def eat(self):\n",
        "        print('먹다')\n",
        " \n",
        "class Wing:\n",
        "    def flap(self):\n",
        "        print('파닥거리다')\n",
        "\n",
        "class Bird(Animal, Wing):\n",
        "  def fly(self):\n",
        "    print('날다')\n",
        "    \n",
        "b = Bird()\n",
        "b.eat()\n",
        "b.flap()\n",
        "b.fly()\n",
        "print(issubclass(Bird, Animal))\n",
        "print(issubclass(Bird, Wing))"
      ],
      "metadata": {
        "colab": {
          "base_uri": "https://localhost:8080/"
        },
        "id": "gQ9TTDQBm0Pb",
        "outputId": "d3604c9b-7143-417f-c4b0-528879622c2d"
      },
      "execution_count": 27,
      "outputs": [
        {
          "output_type": "stream",
          "name": "stdout",
          "text": [
            "먹다\n",
            "파닥거리다\n",
            "날다\n",
            "True\n",
            "True\n"
          ]
        }
      ]
    },
    {
      "cell_type": "markdown",
      "source": [
        "Unit 37. 두 점 사이의 거리 구하기"
      ],
      "metadata": {
        "id": "LoEPn25qnyq0"
      }
    },
    {
      "cell_type": "markdown",
      "source": [
        "37.1 두 점 사이의 거리 구하기"
      ],
      "metadata": {
        "id": "Wg9TtH-Sn6hf"
      }
    },
    {
      "cell_type": "markdown",
      "source": [
        "- 클래스로 점 구현하기"
      ],
      "metadata": {
        "id": "CF6jNASFoDcH"
      }
    },
    {
      "cell_type": "code",
      "source": [
        "class Point2D:\n",
        "  def __init__(self,x,y): # 클래스로 점 두 개 만듦\n",
        "    self.x = x\n",
        "    self.y = y\n",
        "\n",
        "p1 = Point2D(x=30,y=20)\n",
        "p2 = Point2D(x=60, y=50)\n",
        "\n",
        "print('p1 : {} {}'. format(p1.x,p1.y))\n",
        "print('p2 : {} {}'. format(p2.x,p2.y))\n"
      ],
      "metadata": {
        "colab": {
          "base_uri": "https://localhost:8080/"
        },
        "id": "jvnhjAf4noeY",
        "outputId": "241e987d-690e-46f7-b3d4-001d55444eb8"
      },
      "execution_count": 29,
      "outputs": [
        {
          "output_type": "stream",
          "name": "stdout",
          "text": [
            "p1 : 30 20\n",
            "p2 : 60 50\n"
          ]
        }
      ]
    },
    {
      "cell_type": "markdown",
      "source": [
        "- 피타고라스의 정리로 두 점의 거리 구하기\n",
        "\n",
        ":  임의의 직각 삼각형에서 빗변을 한변으로 하는 정사각형의 넓이는 다른 두 변을 각각 한 변으로 하는 정사각형의 넓이의 합과 같다.\n",
        "\n",
        ": a^2 + b^2 = c^2"
      ],
      "metadata": {
        "id": "lElwCB2-oirc"
      }
    },
    {
      "cell_type": "code",
      "source": [
        "a = p2.x - p1.x # a의 길이\n",
        "b = p2.y - p1.y # b의 길이"
      ],
      "metadata": {
        "id": "lS2ePxxeoLxh"
      },
      "execution_count": 30,
      "outputs": []
    },
    {
      "cell_type": "markdown",
      "source": [
        "c의 길이를 계산하려면 a,b의 제곱의 합을 구해야함\n",
        "      \n",
        "      거듭제곱 구현법:\n",
        "      math.pow(값, 지수)\n",
        "\n",
        "\n",
        "c의 길이를 계산하려면 제곱근을 구해야 함\n",
        "\n",
        "      루트 구현법:\n",
        "      math.sqrt(값)\n",
        "\n"
      ],
      "metadata": {
        "id": "8Ugxk7wxpE1m"
      }
    },
    {
      "cell_type": "code",
      "source": [
        "import math\n",
        "\n",
        "class Point2D:\n",
        "  def __init__(self, x, y):\n",
        "    self.x = x\n",
        "    self.y = y\n",
        "\n",
        "p1 = Point2D(x = 30, y = 20)\n",
        "p2 = Point2D(x = 60, y = 50)\n",
        "\n",
        "a = p2.x - p1.x\n",
        "b = p2.y - p1.y\n",
        "\n",
        "c = math.sqrt(a**2 + b**2)\n",
        "print(c)\n"
      ],
      "metadata": {
        "colab": {
          "base_uri": "https://localhost:8080/"
        },
        "id": "_PDH6cRmpEG9",
        "outputId": "6fa927b4-8e73-43d4-a440-b17d25a7c76f"
      },
      "execution_count": 31,
      "outputs": [
        {
          "output_type": "stream",
          "name": "stdout",
          "text": [
            "42.42640687119285\n"
          ]
        }
      ]
    },
    {
      "cell_type": "code",
      "source": [
        "c = math.sqrt(math.pow(a,2) + math.pow(b,2))\n",
        "print(c)"
      ],
      "metadata": {
        "colab": {
          "base_uri": "https://localhost:8080/"
        },
        "id": "ENTXIQP1ptmv",
        "outputId": "513d315f-4f95-492f-8193-5fc9ed79cc00"
      },
      "execution_count": 33,
      "outputs": [
        {
          "output_type": "stream",
          "name": "stdout",
          "text": [
            "42.42640687119285\n"
          ]
        }
      ]
    },
    {
      "cell_type": "markdown",
      "source": [
        "<참고> 절댓값 함수\n",
        "\n",
        "내장 함수 abs 또는 math모듈의 fabs 함수를 사용하면 양수 또는 음수를 절댓값으로 만들 수 있음\n",
        "\n",
        "abs(값) : 정수는 절댓값을 정수로 반환, 실수는 절댓값을 실수로 반환\n",
        "\n",
        "math.fabs(값) : 절댓값을 실수로 반환"
      ],
      "metadata": {
        "id": "nC4-Ud9DqKDD"
      }
    },
    {
      "cell_type": "markdown",
      "source": [
        "<참고> namedtuple 사용하기\n",
        "\n",
        "namedtuple \n",
        "\n",
        ": 각 요소에 이름을 지정해 줄 수 있는 튜플\n",
        "\n",
        ": 자료형 이름과 요소의 이름을 지정하면 클래스를 생성해줌\n",
        "\n",
        ": 자료형 이름은 문자열, 요소의 이름은 문자열 리스트\n",
        "\n",
        "\n",
        "        클래스 = collections.namedtuple('자료형이름',['요소이름1','요소이름2'])\n",
        "\n",
        "namedtuple로 생성한 클래스는 값을 넣어서 인스턴스를 만들 수 있음\n",
        "\n",
        "        인스턴스 = 클래스(값1, 값2)\n",
        "        인스턴스 = 클래스(요소이름1=값1, 요소이름2=값2)\n",
        "        인스턴스.요소이름1\n",
        "        인스턴스[인덱스]\n",
        "        \n"
      ],
      "metadata": {
        "id": "PKP_3hw0qepQ"
      }
    },
    {
      "cell_type": "code",
      "source": [
        "import math\n",
        "import collections\n",
        "\n",
        "Point2D = collections.namedtuple('Point2D',['x','y'])\n",
        "\n",
        "p1 = Point2D(x=30, y=20)\n",
        "p2 = Point2D(x=60, y=50)\n",
        "\n",
        "a = p2.x - p1.x\n",
        "b = p2.y - p1.y\n",
        "\n",
        "c = math.sqrt((a*a)+(b*b))\n",
        "print(c)"
      ],
      "metadata": {
        "colab": {
          "base_uri": "https://localhost:8080/"
        },
        "id": "GEpenpSKqD-P",
        "outputId": "f490ff2e-ed15-4088-eec4-b105355d4b0d"
      },
      "execution_count": 35,
      "outputs": [
        {
          "output_type": "stream",
          "name": "stdout",
          "text": [
            "42.42640687119285\n"
          ]
        }
      ]
    },
    {
      "cell_type": "code",
      "source": [
        "class Rectangle:\n",
        "    def __init__(self, x1, y1, x2, y2):\n",
        "        self.x1 = x1\n",
        "        self.y1 = y1\n",
        "        self.x2 = x2\n",
        "        self.y2 = y2\n",
        " \n",
        "rect = Rectangle(x1=20, y1=20, x2=40, y2=30)\n",
        "\n",
        "a = rect.x1 - rect.x2\n",
        "b = rect.y1 - rect.y2\n",
        "\n",
        "area = abs(a) * abs(b)\n",
        "\n",
        "\n",
        "print(area)"
      ],
      "metadata": {
        "colab": {
          "base_uri": "https://localhost:8080/"
        },
        "id": "CgymccW2rk1U",
        "outputId": "4a709a76-d291-4a04-82c5-b5359fbe4396"
      },
      "execution_count": 37,
      "outputs": [
        {
          "output_type": "stream",
          "name": "stdout",
          "text": [
            "200\n"
          ]
        }
      ]
    },
    {
      "cell_type": "markdown",
      "source": [
        "연습문제)\n",
        "\n",
        "표준 입력으로 x, y 좌표 4개가 입력되어 Point2D 클래스의 인스턴스 리스트에 저장됩니다. 여기서 점 4개는 첫 번째 점부터 마지막 점까지 순서대로 이어져 있습니다. 다음 소스 코드를 완성하여 첫 번째 점부터 마지막 점까지 연결된 선의 길이가 출력되게 만드세요."
      ],
      "metadata": {
        "id": "nKsfT2TjsKCC"
      }
    },
    {
      "cell_type": "code",
      "source": [
        "import math\n",
        " \n",
        "class Point2D:\n",
        "    def __init__(self, x=0, y=0):\n",
        "        self.x = x\n",
        "        self.y = y\n",
        " \n",
        "length = 0.0\n",
        "p = [Point2D(), Point2D(), Point2D(), Point2D()]\n",
        "p[0].x, p[0].y, p[1].x, p[1].y, p[2].x, p[2].y, p[3].x, p[3].y = map(int, input().split())\n",
        "\n",
        "for i in range(3):\n",
        "  a = p[i+1].x - p[i].x\n",
        "  b = p[i+1].y - p[i].y\n",
        "  length += math.sqrt((a*a)+(b*b))\n",
        "\n",
        "print(length)"
      ],
      "metadata": {
        "colab": {
          "base_uri": "https://localhost:8080/"
        },
        "id": "-54_ajoDr_o6",
        "outputId": "a3961cb5-d9ae-4a63-d6fe-6dd57ecf592d"
      },
      "execution_count": 38,
      "outputs": [
        {
          "output_type": "stream",
          "name": "stdout",
          "text": [
            "10 10 20 20 30 30 40 40\n",
            "42.42640687119285\n"
          ]
        }
      ]
    },
    {
      "cell_type": "markdown",
      "source": [
        "<참고>\n",
        "\n",
        "덕 타이핑 : 실제 타입은 상관하지 않고, 구현된 메서드로만 판단하는 방식\n",
        "\n",
        "in_the_forest 함수는 객체에 quack메서드와 feathers메서드만 있으면 함수를 호출할 수 있음\n",
        "\n",
        "즉, 객체에 quack메서드와 feathers메서드가 있으면 오리 타입으로 간주하는 방식\n"
      ],
      "metadata": {
        "id": "HQJlzN_9wpqV"
      }
    },
    {
      "cell_type": "code",
      "source": [
        "class Duck:                 # 오리 클래스를 만들고 quack과 feathers 메서드 정의\n",
        "    def quack(self): print('꽥~!')\n",
        "    def feathers(self): print('오리는 흰색과 회색 털을 가지고 있습니다.')\n",
        " \n",
        "class Person:               # 사람 클래스를 만들고 quack과 feathers 메서드 정의\n",
        "    def quack(self): print('사람은 오리를 흉내냅니다. 꽥~!')\n",
        "    def feathers(self): print('사람은 땅에서 깃털을 주워서 보여줍니다.')\n",
        " \n",
        "def in_the_forest(duck):    # 덕 타이핑을 사용하는 함수. 클래스의 종류는 상관하지 않음\n",
        "    duck.quack()            # quack 메서드와\n",
        "    duck.feathers()         # feathers 메서드만 있으면 함수를 호출할 수 있음\n",
        " \n",
        "donald = Duck()             # 오리 클래스로 donald 인스턴스를 만듦\n",
        "james = Person()            # 사람 클래스로 james 인스턴스를 만듦\n",
        "in_the_forest(donald)       # in_the_forest에 오리 클래스의 인스턴스 donald를 넣음\n",
        "in_the_forest(james)        # in_the_forest에 사람 클래스의 인스턴스 james를 넣음"
      ],
      "metadata": {
        "colab": {
          "base_uri": "https://localhost:8080/"
        },
        "id": "C1eYzG1BuKUj",
        "outputId": "481bb36b-4366-4764-96a7-c4c80bd344e6"
      },
      "execution_count": 39,
      "outputs": [
        {
          "output_type": "stream",
          "name": "stdout",
          "text": [
            "꽥~!\n",
            "오리는 흰색과 회색 털을 가지고 있습니다.\n",
            "사람은 오리를 흉내냅니다. 꽥~!\n",
            "사람은 땅에서 깃털을 주워서 보여줍니다.\n"
          ]
        }
      ]
    },
    {
      "cell_type": "markdown",
      "source": [
        "<참고>\n",
        "\n",
        "믹스인 : 다른 클래스에서 사용할 수 있도록 공통적으로 메서드를 모아 놓은 클래스\n",
        "\n"
      ],
      "metadata": {
        "id": "zPQkp2y6x13o"
      }
    },
    {
      "cell_type": "code",
      "source": [
        "class HelloMixIn:\n",
        "    def greeting(self):               # 인사하는 메서드는 공통적인 메서드\n",
        "        print('안녕하세요.')\n",
        " \n",
        "class Person():\n",
        "    def __init__(self, name):\n",
        "        self.name = name\n",
        " \n",
        "class Student(HelloMixIn, Person):    # HelloMixIn과 Person을 상속받아 학생 클래스를 만듦\n",
        "    def study(self):\n",
        "        print('공부하기')\n",
        " \n",
        "class Teacher(HelloMixIn, Person):    # HelloMixIn과 Person을 상속받아 선생님 클래스를 만듦\n",
        "    def teach(self):\n",
        "        print('가르치기')"
      ],
      "metadata": {
        "id": "Bj048TqAxyZG"
      },
      "execution_count": 40,
      "outputs": []
    },
    {
      "cell_type": "markdown",
      "source": [
        "<참고>\n",
        "\n",
        "ForkingMixIn : 포크(리눅스/유닉스에서 자식 프로세스를 생성)방식을 구현한 믹스인이고, ThreadingMixIn은 스레드 방식을 구현한 믹스인\n",
        "\n",
        "즉, 이 믹스인과 UDP프로토콜 서버인 UDPServer, TCP프로토콜 서버인 TCPServer를 상속받아 ForkingUDPServer, ForkingTCPServer, ThreadingUDPServer, ThreadingTCPServer 네 종류의 클래스를 만든다는 뜻"
      ],
      "metadata": {
        "id": "l1bARsL5yElF"
      }
    },
    {
      "cell_type": "code",
      "source": [
        "class ForkingUDPServer(ForkingMixIn, UDPServer): pass\n",
        "class ForkingTCPServer(ForkingMixIn, TCPServer): pass\n",
        "class ThreadingUDPServer(ThreadingMixIn, UDPServer): pass\n",
        "class ThreadingTCPServer(ThreadingMixIn, TCPServer): pass"
      ],
      "metadata": {
        "id": "Yl_CEI_Yx0Qd"
      },
      "execution_count": null,
      "outputs": []
    }
  ]
}