{
  "nbformat": 4,
  "nbformat_minor": 0,
  "metadata": {
    "colab": {
      "provenance": [],
      "authorship_tag": "ABX9TyNnezyKfMIQprxdyOdeNHgr",
      "include_colab_link": true
    },
    "kernelspec": {
      "name": "python3",
      "display_name": "Python 3"
    },
    "language_info": {
      "name": "python"
    }
  },
  "cells": [
    {
      "cell_type": "markdown",
      "metadata": {
        "id": "view-in-github",
        "colab_type": "text"
      },
      "source": [
        "<a href=\"https://colab.research.google.com/github/imymemineyay/Study_Python/blob/main/Python_dojang(Unit21_24).ipynb\" target=\"_parent\"><img src=\"https://colab.research.google.com/assets/colab-badge.svg\" alt=\"Open In Colab\"/></a>"
      ]
    },
    {
      "cell_type": "code",
      "execution_count": null,
      "metadata": {
        "id": "pBNa4tcF7b93"
      },
      "outputs": [],
      "source": []
    },
    {
      "cell_type": "markdown",
      "source": [
        "## **Unit 21. 터틀 그래픽스로 그림 그리기**"
      ],
      "metadata": {
        "id": "0pluTa7l7ibV"
      }
    },
    {
      "cell_type": "markdown",
      "source": [
        "- 터틀 <BR>\n",
        ": 어린이 및 초보자가 파이썬을 쉽게 배울 수 있도록 만든 모듈 <BR>\n",
        ": 거북이가 기어가는 모양대로 그림을 그린다고 해서 터틀<BR>\n",
        ": Windows, 리눅스, macOS 그래픽 환경에서만 동작<BR>\n",
        ": 콘솔만 있는 환경에서는 사용불가"
      ],
      "metadata": {
        "id": "8g4GYpwz7rrI"
      }
    },
    {
      "cell_type": "markdown",
      "source": [
        "21.1 사각형 그리기"
      ],
      "metadata": {
        "id": "QcK-Xng28EA9"
      }
    },
    {
      "cell_type": "code",
      "source": [
        "import turtle as t"
      ],
      "metadata": {
        "id": "m-k-9fsQ8K-z"
      },
      "execution_count": 2,
      "outputs": []
    },
    {
      "cell_type": "code",
      "source": [
        "t.forward(100)"
      ],
      "metadata": {
        "colab": {
          "base_uri": "https://localhost:8080/",
          "height": 361
        },
        "id": "qEZNgMF-QZmh",
        "outputId": "06c1cb27-b6a8-48a5-b8f4-69c2ca433299"
      },
      "execution_count": 5,
      "outputs": [
        {
          "output_type": "error",
          "ename": "TclError",
          "evalue": "ignored",
          "traceback": [
            "\u001b[0;31m---------------------------------------------------------------------------\u001b[0m",
            "\u001b[0;31mTclError\u001b[0m                                  Traceback (most recent call last)",
            "\u001b[0;32m<ipython-input-5-b28095d68588>\u001b[0m in \u001b[0;36m<module>\u001b[0;34m\u001b[0m\n\u001b[0;32m----> 1\u001b[0;31m \u001b[0mt\u001b[0m\u001b[0;34m.\u001b[0m\u001b[0mforward\u001b[0m\u001b[0;34m(\u001b[0m\u001b[0;36m100\u001b[0m\u001b[0;34m)\u001b[0m\u001b[0;34m\u001b[0m\u001b[0;34m\u001b[0m\u001b[0m\n\u001b[0m",
            "\u001b[0;32m/usr/lib/python3.8/turtle.py\u001b[0m in \u001b[0;36mforward\u001b[0;34m(distance)\u001b[0m\n",
            "\u001b[0;32m/usr/lib/python3.8/turtle.py\u001b[0m in \u001b[0;36m__init__\u001b[0;34m(self, shape, undobuffersize, visible)\u001b[0m\n\u001b[1;32m   3811\u001b[0m                  visible=_CFG[\"visible\"]):\n\u001b[1;32m   3812\u001b[0m         \u001b[0;32mif\u001b[0m \u001b[0mTurtle\u001b[0m\u001b[0;34m.\u001b[0m\u001b[0m_screen\u001b[0m \u001b[0;32mis\u001b[0m \u001b[0;32mNone\u001b[0m\u001b[0;34m:\u001b[0m\u001b[0;34m\u001b[0m\u001b[0;34m\u001b[0m\u001b[0m\n\u001b[0;32m-> 3813\u001b[0;31m             \u001b[0mTurtle\u001b[0m\u001b[0;34m.\u001b[0m\u001b[0m_screen\u001b[0m \u001b[0;34m=\u001b[0m \u001b[0mScreen\u001b[0m\u001b[0;34m(\u001b[0m\u001b[0;34m)\u001b[0m\u001b[0;34m\u001b[0m\u001b[0;34m\u001b[0m\u001b[0m\n\u001b[0m\u001b[1;32m   3814\u001b[0m         RawTurtle.__init__(self, Turtle._screen,\n\u001b[1;32m   3815\u001b[0m                            \u001b[0mshape\u001b[0m\u001b[0;34m=\u001b[0m\u001b[0mshape\u001b[0m\u001b[0;34m,\u001b[0m\u001b[0;34m\u001b[0m\u001b[0;34m\u001b[0m\u001b[0m\n",
            "\u001b[0;32m/usr/lib/python3.8/turtle.py\u001b[0m in \u001b[0;36mScreen\u001b[0;34m()\u001b[0m\n\u001b[1;32m   3661\u001b[0m     else return the existing one.\"\"\"\n\u001b[1;32m   3662\u001b[0m     \u001b[0;32mif\u001b[0m \u001b[0mTurtle\u001b[0m\u001b[0;34m.\u001b[0m\u001b[0m_screen\u001b[0m \u001b[0;32mis\u001b[0m \u001b[0;32mNone\u001b[0m\u001b[0;34m:\u001b[0m\u001b[0;34m\u001b[0m\u001b[0;34m\u001b[0m\u001b[0m\n\u001b[0;32m-> 3663\u001b[0;31m         \u001b[0mTurtle\u001b[0m\u001b[0;34m.\u001b[0m\u001b[0m_screen\u001b[0m \u001b[0;34m=\u001b[0m \u001b[0m_Screen\u001b[0m\u001b[0;34m(\u001b[0m\u001b[0;34m)\u001b[0m\u001b[0;34m\u001b[0m\u001b[0;34m\u001b[0m\u001b[0m\n\u001b[0m\u001b[1;32m   3664\u001b[0m     \u001b[0;32mreturn\u001b[0m \u001b[0mTurtle\u001b[0m\u001b[0;34m.\u001b[0m\u001b[0m_screen\u001b[0m\u001b[0;34m\u001b[0m\u001b[0;34m\u001b[0m\u001b[0m\n\u001b[1;32m   3665\u001b[0m \u001b[0;34m\u001b[0m\u001b[0m\n",
            "\u001b[0;32m/usr/lib/python3.8/turtle.py\u001b[0m in \u001b[0;36m__init__\u001b[0;34m(self)\u001b[0m\n\u001b[1;32m   3677\u001b[0m         \u001b[0;31m# preserved (perhaps by passing it as an optional parameter)\u001b[0m\u001b[0;34m\u001b[0m\u001b[0;34m\u001b[0m\u001b[0;34m\u001b[0m\u001b[0m\n\u001b[1;32m   3678\u001b[0m         \u001b[0;32mif\u001b[0m \u001b[0m_Screen\u001b[0m\u001b[0;34m.\u001b[0m\u001b[0m_root\u001b[0m \u001b[0;32mis\u001b[0m \u001b[0;32mNone\u001b[0m\u001b[0;34m:\u001b[0m\u001b[0;34m\u001b[0m\u001b[0;34m\u001b[0m\u001b[0m\n\u001b[0;32m-> 3679\u001b[0;31m             \u001b[0m_Screen\u001b[0m\u001b[0;34m.\u001b[0m\u001b[0m_root\u001b[0m \u001b[0;34m=\u001b[0m \u001b[0mself\u001b[0m\u001b[0;34m.\u001b[0m\u001b[0m_root\u001b[0m \u001b[0;34m=\u001b[0m \u001b[0m_Root\u001b[0m\u001b[0;34m(\u001b[0m\u001b[0;34m)\u001b[0m\u001b[0;34m\u001b[0m\u001b[0;34m\u001b[0m\u001b[0m\n\u001b[0m\u001b[1;32m   3680\u001b[0m             \u001b[0mself\u001b[0m\u001b[0;34m.\u001b[0m\u001b[0m_root\u001b[0m\u001b[0;34m.\u001b[0m\u001b[0mtitle\u001b[0m\u001b[0;34m(\u001b[0m\u001b[0m_Screen\u001b[0m\u001b[0;34m.\u001b[0m\u001b[0m_title\u001b[0m\u001b[0;34m)\u001b[0m\u001b[0;34m\u001b[0m\u001b[0;34m\u001b[0m\u001b[0m\n\u001b[1;32m   3681\u001b[0m             \u001b[0mself\u001b[0m\u001b[0;34m.\u001b[0m\u001b[0m_root\u001b[0m\u001b[0;34m.\u001b[0m\u001b[0mondestroy\u001b[0m\u001b[0;34m(\u001b[0m\u001b[0mself\u001b[0m\u001b[0;34m.\u001b[0m\u001b[0m_destroy\u001b[0m\u001b[0;34m)\u001b[0m\u001b[0;34m\u001b[0m\u001b[0;34m\u001b[0m\u001b[0m\n",
            "\u001b[0;32m/usr/lib/python3.8/turtle.py\u001b[0m in \u001b[0;36m__init__\u001b[0;34m(self)\u001b[0m\n\u001b[1;32m    433\u001b[0m     \u001b[0;34m\"\"\"Root class for Screen based on Tkinter.\"\"\"\u001b[0m\u001b[0;34m\u001b[0m\u001b[0;34m\u001b[0m\u001b[0m\n\u001b[1;32m    434\u001b[0m     \u001b[0;32mdef\u001b[0m \u001b[0m__init__\u001b[0m\u001b[0;34m(\u001b[0m\u001b[0mself\u001b[0m\u001b[0;34m)\u001b[0m\u001b[0;34m:\u001b[0m\u001b[0;34m\u001b[0m\u001b[0;34m\u001b[0m\u001b[0m\n\u001b[0;32m--> 435\u001b[0;31m         \u001b[0mTK\u001b[0m\u001b[0;34m.\u001b[0m\u001b[0mTk\u001b[0m\u001b[0;34m.\u001b[0m\u001b[0m__init__\u001b[0m\u001b[0;34m(\u001b[0m\u001b[0mself\u001b[0m\u001b[0;34m)\u001b[0m\u001b[0;34m\u001b[0m\u001b[0;34m\u001b[0m\u001b[0m\n\u001b[0m\u001b[1;32m    436\u001b[0m \u001b[0;34m\u001b[0m\u001b[0m\n\u001b[1;32m    437\u001b[0m     \u001b[0;32mdef\u001b[0m \u001b[0msetupcanvas\u001b[0m\u001b[0;34m(\u001b[0m\u001b[0mself\u001b[0m\u001b[0;34m,\u001b[0m \u001b[0mwidth\u001b[0m\u001b[0;34m,\u001b[0m \u001b[0mheight\u001b[0m\u001b[0;34m,\u001b[0m \u001b[0mcwidth\u001b[0m\u001b[0;34m,\u001b[0m \u001b[0mcheight\u001b[0m\u001b[0;34m)\u001b[0m\u001b[0;34m:\u001b[0m\u001b[0;34m\u001b[0m\u001b[0;34m\u001b[0m\u001b[0m\n",
            "\u001b[0;32m/usr/lib/python3.8/tkinter/__init__.py\u001b[0m in \u001b[0;36m__init__\u001b[0;34m(self, screenName, baseName, className, useTk, sync, use)\u001b[0m\n\u001b[1;32m   2259\u001b[0m                 \u001b[0mbaseName\u001b[0m \u001b[0;34m=\u001b[0m \u001b[0mbaseName\u001b[0m \u001b[0;34m+\u001b[0m \u001b[0mext\u001b[0m\u001b[0;34m\u001b[0m\u001b[0;34m\u001b[0m\u001b[0m\n\u001b[1;32m   2260\u001b[0m         \u001b[0minteractive\u001b[0m \u001b[0;34m=\u001b[0m \u001b[0;36m0\u001b[0m\u001b[0;34m\u001b[0m\u001b[0;34m\u001b[0m\u001b[0m\n\u001b[0;32m-> 2261\u001b[0;31m         \u001b[0mself\u001b[0m\u001b[0;34m.\u001b[0m\u001b[0mtk\u001b[0m \u001b[0;34m=\u001b[0m \u001b[0m_tkinter\u001b[0m\u001b[0;34m.\u001b[0m\u001b[0mcreate\u001b[0m\u001b[0;34m(\u001b[0m\u001b[0mscreenName\u001b[0m\u001b[0;34m,\u001b[0m \u001b[0mbaseName\u001b[0m\u001b[0;34m,\u001b[0m \u001b[0mclassName\u001b[0m\u001b[0;34m,\u001b[0m \u001b[0minteractive\u001b[0m\u001b[0;34m,\u001b[0m \u001b[0mwantobjects\u001b[0m\u001b[0;34m,\u001b[0m \u001b[0museTk\u001b[0m\u001b[0;34m,\u001b[0m \u001b[0msync\u001b[0m\u001b[0;34m,\u001b[0m \u001b[0muse\u001b[0m\u001b[0;34m)\u001b[0m\u001b[0;34m\u001b[0m\u001b[0;34m\u001b[0m\u001b[0m\n\u001b[0m\u001b[1;32m   2262\u001b[0m         \u001b[0;32mif\u001b[0m \u001b[0museTk\u001b[0m\u001b[0;34m:\u001b[0m\u001b[0;34m\u001b[0m\u001b[0;34m\u001b[0m\u001b[0m\n\u001b[1;32m   2263\u001b[0m             \u001b[0mself\u001b[0m\u001b[0;34m.\u001b[0m\u001b[0m_loadtk\u001b[0m\u001b[0;34m(\u001b[0m\u001b[0;34m)\u001b[0m\u001b[0;34m\u001b[0m\u001b[0;34m\u001b[0m\u001b[0m\n",
            "\u001b[0;31mTclError\u001b[0m: no display name and no $DISPLAY environment variable"
          ]
        }
      ]
    },
    {
      "cell_type": "markdown",
      "source": [
        "## **Unit 22 리스트와 튜플 응용하기**"
      ],
      "metadata": {
        "id": "u8aejbapR-P2"
      }
    },
    {
      "cell_type": "markdown",
      "source": [
        "22.1 리스트에 요소 추가 \n",
        "- append : 요소 하나를 추가\n",
        "- extend : 리스트를 연결하여 확장\n",
        "- insert : 특정 인덱스에 요소 추가"
      ],
      "metadata": {
        "id": "YgBsDIt1URH4"
      }
    },
    {
      "cell_type": "markdown",
      "source": [
        "22.2 리스트 추가"
      ],
      "metadata": {
        "id": "vvkNuqwXnKFt"
      }
    },
    {
      "cell_type": "code",
      "source": [
        "a = [10, 20, 30] # 마지막에 요소 추가\n",
        "a.append(500)\n",
        "print(a, len(a))"
      ],
      "metadata": {
        "colab": {
          "base_uri": "https://localhost:8080/"
        },
        "id": "yptK1H90QcgQ",
        "outputId": "98c67a6b-4a3b-433b-9fc9-ef00a7c08b90"
      },
      "execution_count": 6,
      "outputs": [
        {
          "output_type": "stream",
          "name": "stdout",
          "text": [
            "[10, 20, 30, 500] 4\n"
          ]
        }
      ]
    },
    {
      "cell_type": "code",
      "source": [
        "a = []\n",
        "a.append(20)\n",
        "print(a,len(a))"
      ],
      "metadata": {
        "colab": {
          "base_uri": "https://localhost:8080/"
        },
        "id": "LjNYLQ03m8ys",
        "outputId": "3c24952a-5e26-4115-ffa4-8ff7006a4fb6"
      },
      "execution_count": 7,
      "outputs": [
        {
          "output_type": "stream",
          "name": "stdout",
          "text": [
            "[20] 1\n"
          ]
        }
      ]
    },
    {
      "cell_type": "markdown",
      "source": [
        "22.3 리스트 확장"
      ],
      "metadata": {
        "id": "FJpp64ztnNWr"
      }
    },
    {
      "cell_type": "code",
      "source": [
        "a = [10, 20, 30]\n",
        "a.extend([500,600])\n",
        "print(a,len(a))"
      ],
      "metadata": {
        "colab": {
          "base_uri": "https://localhost:8080/"
        },
        "id": "2Pgf8z-znGF7",
        "outputId": "53c6734c-c698-4e27-9b48-fda677de3959"
      },
      "execution_count": 8,
      "outputs": [
        {
          "output_type": "stream",
          "name": "stdout",
          "text": [
            "[10, 20, 30, 500, 600] 5\n"
          ]
        }
      ]
    },
    {
      "cell_type": "markdown",
      "source": [
        "22.4 리스트의 특정 인덱스에 요소 추가"
      ],
      "metadata": {
        "id": "7uBo2euNncY9"
      }
    },
    {
      "cell_type": "code",
      "source": [
        "a = [10, 20, 30]\n",
        "a.insert(2,500) # insert(인덱스, 요소)\n",
        "print(a,len(a))\n",
        "b = [10,20,30]\n",
        "b.insert(len(b),900)\n",
        "print(b,len(b)) # 마지막에 요소 추가\n",
        "c = [12,52,36]\n",
        "c[1:1] = [599,566] # 시작 인덱스와 끝인덱스를 같게 지정하면 해당 인덱스 요소를 덮어쓰지 않으며\n",
        "print(c,len(c)) # 요소 여러 개를 중간에 추가 가능"
      ],
      "metadata": {
        "colab": {
          "base_uri": "https://localhost:8080/"
        },
        "id": "AWUZ867znVN6",
        "outputId": "d02fe344-0dc5-4411-f44f-4e9cf7b21974"
      },
      "execution_count": 11,
      "outputs": [
        {
          "output_type": "stream",
          "name": "stdout",
          "text": [
            "[10, 20, 500, 30] 4\n",
            "[10, 20, 30, 900] 4\n",
            "[12, 599, 566, 52, 36] 5\n"
          ]
        }
      ]
    },
    {
      "cell_type": "code",
      "source": [
        "a = [10,20,30]\n",
        "a[len(a):] = [500]\n",
        "print(a)\n",
        "\n",
        "b = [10,20,30]\n",
        "b.append(500)\n",
        "print(b)"
      ],
      "metadata": {
        "colab": {
          "base_uri": "https://localhost:8080/"
        },
        "id": "OzDIYb15xrS0",
        "outputId": "447d5945-7559-4879-fa21-9cf8a923aa1d"
      },
      "execution_count": 25,
      "outputs": [
        {
          "output_type": "stream",
          "name": "stdout",
          "text": [
            "[10, 20, 30, 500]\n",
            "[10, 20, 30, 500]\n"
          ]
        }
      ]
    },
    {
      "cell_type": "code",
      "source": [
        "a = [10,20,30]\n",
        "a[len(a):] = [500,600]\n",
        "print(a)\n",
        "\n",
        "b = [10,20,30]\n",
        "b.extend([500,600])\n",
        "print(b)"
      ],
      "metadata": {
        "colab": {
          "base_uri": "https://localhost:8080/"
        },
        "id": "UgttW0JAx4lg",
        "outputId": "7808ae31-6fda-4b40-ef14-4871e46c1edb"
      },
      "execution_count": 26,
      "outputs": [
        {
          "output_type": "stream",
          "name": "stdout",
          "text": [
            "[10, 20, 30, 500, 600]\n",
            "[10, 20, 30, 500, 600]\n"
          ]
        }
      ]
    },
    {
      "cell_type": "markdown",
      "source": [
        "22.5 리스트에서 요소 삭제\n",
        "- pop : 마지막 요소 또는 특정 인덱스의 요소 삭제\n",
        "- remove : 특정 값을 찾아서 삭제"
      ],
      "metadata": {
        "id": "cFa47lAtpGkB"
      }
    },
    {
      "cell_type": "markdown",
      "source": [
        "22.6 pop() "
      ],
      "metadata": {
        "id": "pDoxgXWSpscz"
      }
    },
    {
      "cell_type": "code",
      "source": [
        "a = [10,20,30]\n",
        "a.pop() # 빈 인덱스 == 마지막 요소\n",
        "print(a) \n",
        "\n",
        "b = [10,20,30]\n",
        "b.pop(2) # 인덱스 2 == 해당 리스트에서 마지막 요소\n",
        "print(b)\n",
        "\n",
        "c = [10,20,30]\n",
        "del c[2] # del을 사용해도 됨 사용법이 다름\n",
        "print(c)"
      ],
      "metadata": {
        "colab": {
          "base_uri": "https://localhost:8080/"
        },
        "id": "E9YUXqcnojU1",
        "outputId": "63e26ac5-f9b8-4046-fbe2-f57d9577ab98"
      },
      "execution_count": 15,
      "outputs": [
        {
          "output_type": "stream",
          "name": "stdout",
          "text": [
            "[10, 20]\n",
            "[10, 20]\n",
            "[10, 20]\n"
          ]
        }
      ]
    },
    {
      "cell_type": "markdown",
      "source": [
        "22.7 remove(값) "
      ],
      "metadata": {
        "id": "5uoaUYf3qPEd"
      }
    },
    {
      "cell_type": "code",
      "source": [
        "a = [10, 20, 30]\n",
        "a.remove(20)\n",
        "print(a)\n",
        "\n",
        "b = [10,20,30,20]\n",
        "b.remove(20) # 가장 처음 찾은 값을 삭제 \n",
        "print(b)"
      ],
      "metadata": {
        "colab": {
          "base_uri": "https://localhost:8080/"
        },
        "id": "5llFmaKkpzWI",
        "outputId": "b9838916-dc1f-4b28-9049-f7e60c8bd955"
      },
      "execution_count": 17,
      "outputs": [
        {
          "output_type": "stream",
          "name": "stdout",
          "text": [
            "[10, 30]\n",
            "[10, 30, 20]\n"
          ]
        }
      ]
    },
    {
      "cell_type": "markdown",
      "source": [
        "22.8 clear() 리스트의 모든 요소 삭제"
      ],
      "metadata": {
        "id": "nQ3okW0xxFNK"
      }
    },
    {
      "cell_type": "code",
      "source": [
        "a = [10, 20, 30]\n",
        "a.clear()\n",
        "print(a)\n",
        "\n",
        "b = [10,20,30]\n",
        "del b[:]\n",
        "print(b)"
      ],
      "metadata": {
        "colab": {
          "base_uri": "https://localhost:8080/"
        },
        "id": "hgl2QUi4xHHv",
        "outputId": "eb95c76c-0d27-4103-df82-936e355f6ab4"
      },
      "execution_count": 24,
      "outputs": [
        {
          "output_type": "stream",
          "name": "stdout",
          "text": [
            "[]\n",
            "[]\n"
          ]
        }
      ]
    },
    {
      "cell_type": "markdown",
      "source": [
        "22.9 index(값) : 리스트에서 특정 값의 인덱스 구하기 \n"
      ],
      "metadata": {
        "id": "T6-lvNfOuOH4"
      }
    },
    {
      "cell_type": "code",
      "source": [
        "a = [10,20,30,15,20,40]\n",
        "a.index(20) # 가장 처음 찾은 인덱스를 구함"
      ],
      "metadata": {
        "colab": {
          "base_uri": "https://localhost:8080/"
        },
        "id": "HZFBKJwiqVuD",
        "outputId": "836a1216-515b-48b8-f934-3899856ac14b"
      },
      "execution_count": 18,
      "outputs": [
        {
          "output_type": "execute_result",
          "data": {
            "text/plain": [
              "1"
            ]
          },
          "metadata": {},
          "execution_count": 18
        }
      ]
    },
    {
      "cell_type": "markdown",
      "source": [
        "22.10  count(값) : 특정 값의 개수 구하기"
      ],
      "metadata": {
        "id": "s9blZEdUu_1_"
      }
    },
    {
      "cell_type": "code",
      "source": [
        "a = [10,20,30,40,20,20]\n",
        "a.count(20)"
      ],
      "metadata": {
        "colab": {
          "base_uri": "https://localhost:8080/"
        },
        "id": "epyA_hNuueIX",
        "outputId": "c665c5de-23e3-48c3-912c-7e2a1a81ae11"
      },
      "execution_count": 19,
      "outputs": [
        {
          "output_type": "execute_result",
          "data": {
            "text/plain": [
              "3"
            ]
          },
          "metadata": {},
          "execution_count": 19
        }
      ]
    },
    {
      "cell_type": "markdown",
      "source": [
        "22.11 reverse() : 리스트 요소 순서 뒤집기"
      ],
      "metadata": {
        "id": "64x8q8qOvJt9"
      }
    },
    {
      "cell_type": "code",
      "source": [
        "a = [10,20,30,40,50]\n",
        "a.reverse()\n",
        "a"
      ],
      "metadata": {
        "colab": {
          "base_uri": "https://localhost:8080/"
        },
        "id": "5k_9QKjGvG93",
        "outputId": "77cf1e24-90cb-4fc8-85ce-d631c7d8d0f0"
      },
      "execution_count": 21,
      "outputs": [
        {
          "output_type": "execute_result",
          "data": {
            "text/plain": [
              "[50, 40, 30, 20, 10]"
            ]
          },
          "metadata": {},
          "execution_count": 21
        }
      ]
    },
    {
      "cell_type": "markdown",
      "source": [
        "22.12 \n",
        "- sort()/ sort(reverse=False) 리스트의 요소를 작은 순서대로 정렬(오름차순)\n",
        "- sort(reverse=True) 리스트의 값을 큰 순서대로 정렬(내림차순)"
      ],
      "metadata": {
        "id": "VBzEXmn2vedq"
      }
    },
    {
      "cell_type": "code",
      "source": [
        "a = [10,20,30,40,20,30]\n",
        "a.sort()\n",
        "a"
      ],
      "metadata": {
        "colab": {
          "base_uri": "https://localhost:8080/"
        },
        "id": "f9HNQwfiva9_",
        "outputId": "c28a54f3-0bfa-40a6-db14-96774113f688"
      },
      "execution_count": 22,
      "outputs": [
        {
          "output_type": "execute_result",
          "data": {
            "text/plain": [
              "[10, 20, 20, 30, 30, 40]"
            ]
          },
          "metadata": {},
          "execution_count": 22
        }
      ]
    },
    {
      "cell_type": "markdown",
      "source": [
        "sort 메서드와 sorted 함수\n",
        "- sort : 리스트의 내용을 변경하여 정렬\n",
        "- sorted : 정렬된 새 리스트를 생성"
      ],
      "metadata": {
        "id": "A9_u0AUHv_gy"
      }
    },
    {
      "cell_type": "code",
      "source": [
        "a = [10, 20, 30, 15, 20, 40]\n",
        "a.sort()    # a의 내용을 변경하여 정렬\n",
        "print(a)\n",
        "\n",
        "b = [10, 20, 30, 15, 20, 40]\n",
        "print(sorted(b))    # 정렬된 새 리스트를 생성"
      ],
      "metadata": {
        "colab": {
          "base_uri": "https://localhost:8080/"
        },
        "id": "G3G-Ugr6v2kA",
        "outputId": "67743931-e8bf-43ba-a047-078953a0e16a"
      },
      "execution_count": 23,
      "outputs": [
        {
          "output_type": "stream",
          "name": "stdout",
          "text": [
            "[10, 15, 20, 20, 30, 40]\n",
            "[10, 15, 20, 20, 30, 40]\n"
          ]
        }
      ]
    },
    {
      "cell_type": "markdown",
      "source": [
        "22.13 리스트가 비어 있는지 확인"
      ],
      "metadata": {
        "id": "Uu8tTIZLw7bc"
      }
    },
    {
      "cell_type": "code",
      "source": [
        "seq = []\n",
        "if seq: # 리스트에 내용이 있으면 True | not seq 비어있으면 True\n",
        "  print(seq[-1]) "
      ],
      "metadata": {
        "id": "mBHueFW8weGm"
      },
      "execution_count": 27,
      "outputs": []
    },
    {
      "cell_type": "markdown",
      "source": [
        "22.14 리스트의 할당과 복사 "
      ],
      "metadata": {
        "id": "YNH477sYyrGt"
      }
    },
    {
      "cell_type": "code",
      "source": [
        "a = [0,0,0,0,0]\n",
        "b = a # 리스트를 다른 변수에 할당하면 리스크는 두 개가 될 것 같지만, 실제로는 한 개의 리스트\n",
        "print(a is b)  # 변수 이름만 다를 뿐 같은 객체\n",
        "b[2] = 99\n",
        "print(a) # 같은 객체이므로 리스트 a,b에 변경 사항이 모두 반영됨\n",
        "print(b)"
      ],
      "metadata": {
        "colab": {
          "base_uri": "https://localhost:8080/"
        },
        "id": "fbRUPPTdyjwr",
        "outputId": "075d0262-c31e-4190-9d5f-585e39192db9"
      },
      "execution_count": 28,
      "outputs": [
        {
          "output_type": "stream",
          "name": "stdout",
          "text": [
            "True\n",
            "[0, 0, 99, 0, 0]\n",
            "[0, 0, 99, 0, 0]\n"
          ]
        }
      ]
    },
    {
      "cell_type": "code",
      "source": [
        "a = [0,0,0,0,0]\n",
        "b = a.copy() # 리스트 a와 b를 완전히 두개로 만듦\n",
        "print('a is b : ', a is b)\n",
        "print('a == b : ', a == b)"
      ],
      "metadata": {
        "colab": {
          "base_uri": "https://localhost:8080/"
        },
        "id": "t1I0MjPz1PeQ",
        "outputId": "1e80079c-0198-4f72-d1e4-f6a172c110cf"
      },
      "execution_count": 30,
      "outputs": [
        {
          "output_type": "stream",
          "name": "stdout",
          "text": [
            "a is b :  False\n",
            "a == b :  True\n"
          ]
        }
      ]
    },
    {
      "cell_type": "code",
      "source": [
        "b[2] = 99\n",
        "print(a)\n",
        "print(b) # a와 b는 별개이므로 한쪽의 값을 변경해도 다른 리스트에 영향 미치지 않음"
      ],
      "metadata": {
        "colab": {
          "base_uri": "https://localhost:8080/"
        },
        "id": "fWX_hHQG12cO",
        "outputId": "24d4367e-6e79-453a-97d8-ffd158d48915"
      },
      "execution_count": 31,
      "outputs": [
        {
          "output_type": "stream",
          "name": "stdout",
          "text": [
            "[0, 0, 0, 0, 0]\n",
            "[0, 0, 99, 0, 0]\n"
          ]
        }
      ]
    },
    {
      "cell_type": "markdown",
      "source": [
        "22.15 반복문으로 리스트의 요소를 모두 출력"
      ],
      "metadata": {
        "id": "3XekJGwC2e9X"
      }
    },
    {
      "cell_type": "code",
      "source": [
        "a = [38,23,21,25,4,3,33]\n",
        "for index, value in enumerate(a) : # 인덱스와 요소 함께 출력\n",
        "  print(index, value)"
      ],
      "metadata": {
        "colab": {
          "base_uri": "https://localhost:8080/"
        },
        "id": "iWYOwTgn2ZvO",
        "outputId": "58620929-4e7b-4bd3-dd6c-994a235a6878"
      },
      "execution_count": 33,
      "outputs": [
        {
          "output_type": "stream",
          "name": "stdout",
          "text": [
            "0 38\n",
            "1 23\n",
            "2 21\n",
            "3 25\n",
            "4 4\n",
            "5 3\n",
            "6 33\n"
          ]
        }
      ]
    },
    {
      "cell_type": "code",
      "source": [
        "for index, value in enumerate(a, start = 1): # 인덱스 1부터 시작\n",
        "  print(index, value)"
      ],
      "metadata": {
        "colab": {
          "base_uri": "https://localhost:8080/"
        },
        "id": "DXcvGuz22sDp",
        "outputId": "731d3254-2e15-43fd-e331-2a723b57964c"
      },
      "execution_count": 34,
      "outputs": [
        {
          "output_type": "stream",
          "name": "stdout",
          "text": [
            "1 38\n",
            "2 23\n",
            "3 21\n",
            "4 25\n",
            "5 4\n",
            "6 3\n",
            "7 33\n"
          ]
        }
      ]
    },
    {
      "cell_type": "code",
      "source": [
        "a = [38, 21, 53, 62, 19]\n",
        "for i in range(len(a)):\n",
        "  print(a[i])"
      ],
      "metadata": {
        "colab": {
          "base_uri": "https://localhost:8080/"
        },
        "id": "tpQzg3Sd3PQw",
        "outputId": "e130ca9e-c2ca-45c3-d447-ed9167cf1a77"
      },
      "execution_count": 35,
      "outputs": [
        {
          "output_type": "stream",
          "name": "stdout",
          "text": [
            "38\n",
            "21\n",
            "53\n",
            "62\n",
            "19\n"
          ]
        }
      ]
    },
    {
      "cell_type": "code",
      "source": [
        "a = [38,21,50,41,56]\n",
        "i = 0 \n",
        "while i < len(a):\n",
        "  print(a[i])\n",
        "  i += 1"
      ],
      "metadata": {
        "colab": {
          "base_uri": "https://localhost:8080/"
        },
        "id": "Lak7sdTy5Web",
        "outputId": "05cdf10c-e238-4be9-e129-da91031767da"
      },
      "execution_count": 36,
      "outputs": [
        {
          "output_type": "stream",
          "name": "stdout",
          "text": [
            "38\n",
            "21\n",
            "50\n",
            "41\n",
            "56\n"
          ]
        }
      ]
    },
    {
      "cell_type": "markdown",
      "source": [
        "22.16 가장 작은 수와 가장 큰 수 구하기"
      ],
      "metadata": {
        "id": "9qS3uSSQ7bpc"
      }
    },
    {
      "cell_type": "code",
      "source": [
        "a = [38, 21, 53, 62 ,19]\n",
        "smallest = a[0]\n",
        "for i in a:\n",
        "  if i < smallest:\n",
        "    smallest = i \n",
        "print(i)"
      ],
      "metadata": {
        "colab": {
          "base_uri": "https://localhost:8080/"
        },
        "id": "aAv1GOhs6-dL",
        "outputId": "a1b88ee9-4d33-451c-a4b9-e39d241b39a3"
      },
      "execution_count": 38,
      "outputs": [
        {
          "output_type": "stream",
          "name": "stdout",
          "text": [
            "19\n"
          ]
        }
      ]
    },
    {
      "cell_type": "code",
      "source": [
        "a = [38, 21, 53, 62, 19]\n",
        "largest = a[0]\n",
        "for i in a :\n",
        "  if i > largest:\n",
        "    largest = i\n",
        "print(largest)"
      ],
      "metadata": {
        "colab": {
          "base_uri": "https://localhost:8080/"
        },
        "id": "laJu-hUY8As2",
        "outputId": "2fe9a70a-593a-4b8a-a199-1ab1cd8db49d"
      },
      "execution_count": 39,
      "outputs": [
        {
          "output_type": "stream",
          "name": "stdout",
          "text": [
            "62\n"
          ]
        }
      ]
    },
    {
      "cell_type": "code",
      "source": [
        "a = [38,21,53,62,19]\n",
        "a.sort()\n",
        "print(a[0]) # smallest\n",
        "\n",
        "a.sort(reverse=True)\n",
        "print(a[0]) # largest"
      ],
      "metadata": {
        "colab": {
          "base_uri": "https://localhost:8080/"
        },
        "id": "oeR2YIFz8kO8",
        "outputId": "bba1e05b-cc84-4c1e-d0e1-06a3c7eb120c"
      },
      "execution_count": 40,
      "outputs": [
        {
          "output_type": "stream",
          "name": "stdout",
          "text": [
            "19\n",
            "62\n"
          ]
        }
      ]
    },
    {
      "cell_type": "code",
      "source": [
        "a = [38, 21, 35, 89, 99]\n",
        "print('min(a) : ' ,min(a), ', max(a) : ', max(a))"
      ],
      "metadata": {
        "colab": {
          "base_uri": "https://localhost:8080/"
        },
        "id": "ymx7ldNk9Svd",
        "outputId": "26034747-b16c-4d5c-d634-8435f95db656"
      },
      "execution_count": 42,
      "outputs": [
        {
          "output_type": "stream",
          "name": "stdout",
          "text": [
            "min(a) :  21 , max(a) :  99\n"
          ]
        }
      ]
    },
    {
      "cell_type": "markdown",
      "source": [
        "22.17 요소의 합계 구하기"
      ],
      "metadata": {
        "id": "unyQo9xE9nuF"
      }
    },
    {
      "cell_type": "code",
      "source": [
        "a = [10,10,10,10,10]\n",
        "x = 0\n",
        "for i in a:\n",
        "  x += i\n",
        "print(x)"
      ],
      "metadata": {
        "colab": {
          "base_uri": "https://localhost:8080/"
        },
        "id": "NfDX-OPe9iQy",
        "outputId": "0db62cf7-aa79-4df5-f3d6-3dd3c27199c4"
      },
      "execution_count": 43,
      "outputs": [
        {
          "output_type": "stream",
          "name": "stdout",
          "text": [
            "50\n"
          ]
        }
      ]
    },
    {
      "cell_type": "code",
      "source": [
        "a = [10,10,10,10,10]\n",
        "sum(a) # 반복 가능한 객체(리스트, 튜플, 딕셔너리, 세트, range)를 사용할 수 있음 "
      ],
      "metadata": {
        "colab": {
          "base_uri": "https://localhost:8080/"
        },
        "id": "uWCQvA1MAuug",
        "outputId": "5d916e9a-d99d-4ccb-b703-c02cea1a24d7"
      },
      "execution_count": 45,
      "outputs": [
        {
          "output_type": "execute_result",
          "data": {
            "text/plain": [
              "50"
            ]
          },
          "metadata": {},
          "execution_count": 45
        }
      ]
    },
    {
      "cell_type": "markdown",
      "source": [
        "22.18 리스트 컴프리헨션(리스트 표현식) : for 반복문, if 조건문 등을 지정하여 리스트를 생성하는 것<br>\n",
        "- [식 for 변수 in 리스트]\n",
        "- list(식 for 변수 in 리스트)"
      ],
      "metadata": {
        "id": "7f3UDYLKBeml"
      }
    },
    {
      "cell_type": "code",
      "source": [
        "a = [i for i in range(10)] # 대괄호 방식이 파이썬 다운 코드이다\n",
        "print(a)\n",
        "\n",
        "b = list(i for i in range(10))\n",
        "print(b)"
      ],
      "metadata": {
        "colab": {
          "base_uri": "https://localhost:8080/"
        },
        "id": "5JdfusIIA2P7",
        "outputId": "b90c5fd5-8cb6-4b25-df84-cb372d5914f2"
      },
      "execution_count": 46,
      "outputs": [
        {
          "output_type": "stream",
          "name": "stdout",
          "text": [
            "[0, 1, 2, 3, 4, 5, 6, 7, 8, 9]\n",
            "[0, 1, 2, 3, 4, 5, 6, 7, 8, 9]\n"
          ]
        }
      ]
    },
    {
      "cell_type": "code",
      "source": [
        "a = [i*2 for i in range(5)]\n",
        "print(a)"
      ],
      "metadata": {
        "colab": {
          "base_uri": "https://localhost:8080/"
        },
        "id": "dpaVlOQeCZH4",
        "outputId": "5a67b530-b53c-4ee1-8a80-8cb39165d514"
      },
      "execution_count": 47,
      "outputs": [
        {
          "output_type": "stream",
          "name": "stdout",
          "text": [
            "[0, 2, 4, 6, 8]\n"
          ]
        }
      ]
    },
    {
      "cell_type": "code",
      "source": [
        "a = [i for i in range(10) if i % 2 == 0]\n",
        "print(a)"
      ],
      "metadata": {
        "colab": {
          "base_uri": "https://localhost:8080/"
        },
        "id": "pNfuS39PDIaQ",
        "outputId": "dbd43cc5-9c1a-458c-aa4e-623a61039083"
      },
      "execution_count": 48,
      "outputs": [
        {
          "output_type": "stream",
          "name": "stdout",
          "text": [
            "[0, 2, 4, 6, 8]\n"
          ]
        }
      ]
    },
    {
      "cell_type": "code",
      "source": [
        "a = [i * j for j in range(2,10) \n",
        "           for i in range(1,10)] # for가 여러 개일 때 처리 순서는 뒤에서 앞으로\n",
        "a"
      ],
      "metadata": {
        "colab": {
          "base_uri": "https://localhost:8080/"
        },
        "id": "fkqsUFvcD9qM",
        "outputId": "d2c1c2ef-8eba-4d83-8add-a344aed3f0cb"
      },
      "execution_count": 52,
      "outputs": [
        {
          "output_type": "execute_result",
          "data": {
            "text/plain": [
              "[2,\n",
              " 4,\n",
              " 6,\n",
              " 8,\n",
              " 10,\n",
              " 12,\n",
              " 14,\n",
              " 16,\n",
              " 18,\n",
              " 3,\n",
              " 6,\n",
              " 9,\n",
              " 12,\n",
              " 15,\n",
              " 18,\n",
              " 21,\n",
              " 24,\n",
              " 27,\n",
              " 4,\n",
              " 8,\n",
              " 12,\n",
              " 16,\n",
              " 20,\n",
              " 24,\n",
              " 28,\n",
              " 32,\n",
              " 36,\n",
              " 5,\n",
              " 10,\n",
              " 15,\n",
              " 20,\n",
              " 25,\n",
              " 30,\n",
              " 35,\n",
              " 40,\n",
              " 45,\n",
              " 6,\n",
              " 12,\n",
              " 18,\n",
              " 24,\n",
              " 30,\n",
              " 36,\n",
              " 42,\n",
              " 48,\n",
              " 54,\n",
              " 7,\n",
              " 14,\n",
              " 21,\n",
              " 28,\n",
              " 35,\n",
              " 42,\n",
              " 49,\n",
              " 56,\n",
              " 63,\n",
              " 8,\n",
              " 16,\n",
              " 24,\n",
              " 32,\n",
              " 40,\n",
              " 48,\n",
              " 56,\n",
              " 64,\n",
              " 72,\n",
              " 9,\n",
              " 18,\n",
              " 27,\n",
              " 36,\n",
              " 45,\n",
              " 54,\n",
              " 63,\n",
              " 72,\n",
              " 81]"
            ]
          },
          "metadata": {},
          "execution_count": 52
        }
      ]
    },
    {
      "cell_type": "markdown",
      "source": [
        "22.19 리스트에 map 사용하기\n",
        "- list(map(함수, 리스트))\n",
        "- tuple(map(함수, 튜플))"
      ],
      "metadata": {
        "id": "osDfqZ_fGtFy"
      }
    },
    {
      "cell_type": "code",
      "source": [
        "a = [1.2, 2.5, 3.7, 4.6]\n",
        "for i in range(len(a)):\n",
        "  a[i] = int(a[i])\n",
        "print(a)"
      ],
      "metadata": {
        "colab": {
          "base_uri": "https://localhost:8080/"
        },
        "id": "_vPmH-CHGCOs",
        "outputId": "de6c4d11-a6fd-40c0-85cd-3fcd53634e8f"
      },
      "execution_count": 53,
      "outputs": [
        {
          "output_type": "stream",
          "name": "stdout",
          "text": [
            "[1, 2, 3, 4]\n"
          ]
        }
      ]
    },
    {
      "cell_type": "code",
      "source": [
        "a = [1.2,2.3,2.5,1.8]\n",
        "a = list(map(int,a))\n",
        "print(a)"
      ],
      "metadata": {
        "colab": {
          "base_uri": "https://localhost:8080/"
        },
        "id": "W5nxW9w-HxMS",
        "outputId": "f418b370-a00d-4236-831a-d6551015af5f"
      },
      "execution_count": 54,
      "outputs": [
        {
          "output_type": "stream",
          "name": "stdout",
          "text": [
            "[1, 2, 2, 1]\n"
          ]
        }
      ]
    },
    {
      "cell_type": "code",
      "source": [
        "a = input().split()\n",
        "a"
      ],
      "metadata": {
        "colab": {
          "base_uri": "https://localhost:8080/"
        },
        "id": "6Y0YNVlZIIoW",
        "outputId": "c6b4486a-c8d2-4ea5-bec9-d61bc1def781"
      },
      "execution_count": 55,
      "outputs": [
        {
          "name": "stdout",
          "output_type": "stream",
          "text": [
            "10 20\n"
          ]
        },
        {
          "output_type": "execute_result",
          "data": {
            "text/plain": [
              "['10', '20']"
            ]
          },
          "metadata": {},
          "execution_count": 55
        }
      ]
    },
    {
      "cell_type": "code",
      "source": [
        "a = map(int, input().split())\n",
        "list(a)"
      ],
      "metadata": {
        "colab": {
          "base_uri": "https://localhost:8080/"
        },
        "id": "32H1hKEcIvjc",
        "outputId": "ac601427-eb6c-4cf0-8c49-c597d85e72fb"
      },
      "execution_count": 56,
      "outputs": [
        {
          "name": "stdout",
          "output_type": "stream",
          "text": [
            "20 50 60 45\n"
          ]
        },
        {
          "output_type": "execute_result",
          "data": {
            "text/plain": [
              "[20, 50, 60, 45]"
            ]
          },
          "metadata": {},
          "execution_count": 56
        }
      ]
    },
    {
      "cell_type": "code",
      "source": [
        "a, b = map(int, input().split())\n",
        "print(a)\n",
        "print(b)"
      ],
      "metadata": {
        "colab": {
          "base_uri": "https://localhost:8080/"
        },
        "id": "WitPG6OPI4ES",
        "outputId": "970e55c0-7104-490a-980c-cc000b08925e"
      },
      "execution_count": 60,
      "outputs": [
        {
          "output_type": "stream",
          "name": "stdout",
          "text": [
            "20 50\n",
            "20\n",
            "50\n"
          ]
        }
      ]
    },
    {
      "cell_type": "markdown",
      "source": [
        "22.20 튜플 응용하기"
      ],
      "metadata": {
        "id": "wF3Mwin8JUyn"
      }
    },
    {
      "cell_type": "markdown",
      "source": [
        "튜플은 read only🤯<br>\n",
        "→ 내용 변경 및 삭제 메서드 사용 불가 <br>\n",
        "→ 요소의 정보를 구하는 메서드만 사용 가능"
      ],
      "metadata": {
        "id": "t6Sy5u6wJvpI"
      }
    },
    {
      "cell_type": "markdown",
      "source": [
        "22.21 <br>\n",
        "index(값) : 튜플에서 특정 값의 인덱스를 구함 <br>\n",
        "같은 값이 여러 개일 경우 처음 찾는 인덱스를 구함"
      ],
      "metadata": {
        "id": "WnCniWs9KdYy"
      }
    },
    {
      "cell_type": "code",
      "source": [
        "a = (38,21,53,62,83,38)\n",
        "a.index(38)"
      ],
      "metadata": {
        "colab": {
          "base_uri": "https://localhost:8080/"
        },
        "id": "aFikZzdHI-Sq",
        "outputId": "ef4354de-e9d6-4d93-a82c-4e8173ee6413"
      },
      "execution_count": 61,
      "outputs": [
        {
          "output_type": "execute_result",
          "data": {
            "text/plain": [
              "0"
            ]
          },
          "metadata": {},
          "execution_count": 61
        }
      ]
    },
    {
      "cell_type": "markdown",
      "source": [
        "22.22<br>\n",
        "count(값) : 특정 값의 개수를 구함"
      ],
      "metadata": {
        "id": "HZ1uJGlQLHtY"
      }
    },
    {
      "cell_type": "code",
      "source": [
        "a = (10,19,29,30,10,10)\n",
        "a.count(10)"
      ],
      "metadata": {
        "colab": {
          "base_uri": "https://localhost:8080/"
        },
        "id": "OmWNh2IPLFh-",
        "outputId": "afde39f4-c1cf-405c-9fbd-9700d5627204"
      },
      "execution_count": 62,
      "outputs": [
        {
          "output_type": "execute_result",
          "data": {
            "text/plain": [
              "3"
            ]
          },
          "metadata": {},
          "execution_count": 62
        }
      ]
    },
    {
      "cell_type": "markdown",
      "source": [
        "22.23 <br>\n",
        "for 반복문으로 요소 출력"
      ],
      "metadata": {
        "id": "NgutFfeNLTlr"
      }
    },
    {
      "cell_type": "code",
      "source": [
        "a = (38,21,29,38,20)\n",
        "for i in a:\n",
        "  print(i, end=' ')"
      ],
      "metadata": {
        "colab": {
          "base_uri": "https://localhost:8080/"
        },
        "id": "xQTeRhcnLRSz",
        "outputId": "f7b7e75a-c5a4-44b8-ff20-532650288d5d"
      },
      "execution_count": 64,
      "outputs": [
        {
          "output_type": "stream",
          "name": "stdout",
          "text": [
            "38 21 29 38 20 "
          ]
        }
      ]
    },
    {
      "cell_type": "markdown",
      "source": [
        "22.24 <br>\n",
        "튜플 표현식 사용하기"
      ],
      "metadata": {
        "id": "OTZpGvvGLum5"
      }
    },
    {
      "cell_type": "code",
      "source": [
        "a = tuple(i for i in range(10) if i % 2 == 0) # 괄호안에 표현식을 넣으면 튜플이 아니라 제너레이터 표현식이 됨\n",
        "print(a)"
      ],
      "metadata": {
        "colab": {
          "base_uri": "https://localhost:8080/"
        },
        "id": "DB6oMYIbLekC",
        "outputId": "906d7b68-bd0c-475d-ff95-c5a95230c1a6"
      },
      "execution_count": 66,
      "outputs": [
        {
          "output_type": "stream",
          "name": "stdout",
          "text": [
            "(0, 2, 4, 6, 8)\n"
          ]
        }
      ]
    },
    {
      "cell_type": "markdown",
      "source": [
        "22.25<br>\n",
        "tuple에 map 사용"
      ],
      "metadata": {
        "id": "IUZKPZEOMMkl"
      }
    },
    {
      "cell_type": "code",
      "source": [
        "a = (1.2, 3.5, 4.4, 2.3)\n",
        "a = tuple(map(int,a))\n",
        "print(a)"
      ],
      "metadata": {
        "colab": {
          "base_uri": "https://localhost:8080/"
        },
        "id": "by7wozOmL5mZ",
        "outputId": "aa334673-4b06-4e09-b9e5-cdc047841bb6"
      },
      "execution_count": 67,
      "outputs": [
        {
          "output_type": "stream",
          "name": "stdout",
          "text": [
            "(1, 3, 4, 2)\n"
          ]
        }
      ]
    },
    {
      "cell_type": "markdown",
      "source": [
        "22.26<br>\n",
        "튜플에서 가장 작은 수, 가장 큰 수, 합계 구하기"
      ],
      "metadata": {
        "id": "FFJh3DaaMZ-1"
      }
    },
    {
      "cell_type": "code",
      "source": [
        "a = (36, 54, 43,23, 12)\n",
        "print('min(a) : ', min(a), ', max(a) : ', max(a), ', sum(a) : ', sum(a))"
      ],
      "metadata": {
        "colab": {
          "base_uri": "https://localhost:8080/"
        },
        "id": "0yIXUZEKMYBM",
        "outputId": "775e0241-8bd1-46d1-cc10-c7726f76ca3a"
      },
      "execution_count": 68,
      "outputs": [
        {
          "output_type": "stream",
          "name": "stdout",
          "text": [
            "min(a) :  12 , max(a) :  54 , sum(a) :  168\n"
          ]
        }
      ]
    },
    {
      "cell_type": "code",
      "source": [
        "a = ['alpha', 'bravo', 'charlie', 'delta', 'echo', 'foxtrot', 'golf', 'hotel', 'india']\n",
        "b = [i for i in a if len(i)==5]\n",
        "b"
      ],
      "metadata": {
        "colab": {
          "base_uri": "https://localhost:8080/"
        },
        "id": "Qfm7pLwuMw-z",
        "outputId": "35fcd046-27d5-4585-b8e7-222da298bd93"
      },
      "execution_count": 70,
      "outputs": [
        {
          "output_type": "execute_result",
          "data": {
            "text/plain": [
              "['alpha', 'bravo', 'delta', 'hotel', 'india']"
            ]
          },
          "metadata": {},
          "execution_count": 70
        }
      ]
    },
    {
      "cell_type": "markdown",
      "source": [
        "연습문제)<br>\n",
        "표준 입력으로 정수 두 개가 입력됩니다(첫 번째 입력 값의 범위는 1-20, 두 번째 입력 값의 범위는 10-30이며 첫 번째 입력 값은 두 번째 입력 값보다 항상 작습니다). 첫 번째 정수부터 두 번째 정수까지를 지수로 하는 2의 거듭제곱 리스트를 출력하는 프로그램을 만드세요(input에서 안내 문자열은 출력하지 않아야 합니다). 단, 리스트의 두 번째 요소와 뒤에서 두 번째 요소는 삭제한 뒤 출력하세요. 출력 결과는 리스트 형태라야 합니다."
      ],
      "metadata": {
        "id": "ODAsWmJLPqgc"
      }
    },
    {
      "cell_type": "code",
      "source": [
        "a , b = map(int,input().split())\n",
        "c = [2**i for i in range(a,b+1)]\n",
        "c.pop(1)\n",
        "c.pop(-2)\n",
        "print(c)"
      ],
      "metadata": {
        "colab": {
          "base_uri": "https://localhost:8080/"
        },
        "id": "LqH4ILDjPmhW",
        "outputId": "19274b1b-15d2-4b7a-dac1-336e7eac5c3f"
      },
      "execution_count": 76,
      "outputs": [
        {
          "output_type": "stream",
          "name": "stdout",
          "text": [
            "10 20\n",
            "[1024, 4096, 8192, 16384, 32768, 65536, 131072, 262144, 1048576]\n"
          ]
        }
      ]
    },
    {
      "cell_type": "markdown",
      "source": [
        "## **Unit 23 2차원 리스트 사용하기**"
      ],
      "metadata": {
        "id": "j5MhbeJQSr-s"
      }
    },
    {
      "cell_type": "markdown",
      "source": [
        "23.1<br>\n",
        "2차원 리스트를 만들고 요소에 접근하기 <br>\n",
        "\n",
        "- 리스트 안에 리스트를 넣어서 만들 수 있으며 안쪽의 각 리스트는 ,(콤마)로 구분 <br>\n",
        "- 리스트 = [[값,값],[값,값],[값,값]]\n",
        "- 리스트[세로인덱스][가로인덱스] <br>\n",
        "  리스트[세로인덱스][가로인덱스] = 값"
      ],
      "metadata": {
        "id": "tw-06s_jS8t5"
      }
    },
    {
      "cell_type": "code",
      "source": [
        "a = [[10,20],[30,40],[50,60]]\n",
        "print(a)\n",
        "\n",
        "b = [[10,20],\n",
        "     [30,40],\n",
        "     [50,60]]\n",
        "print(b)"
      ],
      "metadata": {
        "colab": {
          "base_uri": "https://localhost:8080/"
        },
        "id": "DovlCl_AQ2oH",
        "outputId": "1479250a-f0e5-4e1a-e4bd-037b522bbc1e"
      },
      "execution_count": 79,
      "outputs": [
        {
          "output_type": "stream",
          "name": "stdout",
          "text": [
            "[[10, 20], [30, 40], [50, 60]]\n",
            "[[10, 20], [30, 40], [50, 60]]\n"
          ]
        }
      ]
    },
    {
      "cell_type": "code",
      "source": [
        "a = [[10,20],[30,40],[50,60]]\n",
        "\n",
        "print(a[0][0])\n",
        "print(a[2][0])\n",
        "print(a[1][1])\n",
        "a[2][1]= 600 \n",
        "print(a[2][1])\n"
      ],
      "metadata": {
        "colab": {
          "base_uri": "https://localhost:8080/"
        },
        "id": "NLxwHM-nTi8r",
        "outputId": "77fd5c6b-3c0a-4edc-cb4f-3a5f3b165d2b"
      },
      "execution_count": 81,
      "outputs": [
        {
          "output_type": "stream",
          "name": "stdout",
          "text": [
            "10\n",
            "50\n",
            "40\n",
            "600\n"
          ]
        }
      ]
    },
    {
      "cell_type": "markdown",
      "source": [
        "<참고><br>\n",
        "톱니형 리스트<br> : 가로 크기가 불규칙한 형태"
      ],
      "metadata": {
        "id": "-M6tByo0UgbZ"
      }
    },
    {
      "cell_type": "code",
      "source": [
        "a = [[10, 20],\n",
        "     [500, 600, 700],\n",
        "     [9],\n",
        "     [30, 40],\n",
        "     [8],\n",
        "     [800, 900, 1000]]\n",
        "print(a)"
      ],
      "metadata": {
        "colab": {
          "base_uri": "https://localhost:8080/"
        },
        "id": "vp4GZ2h5URmh",
        "outputId": "2684350e-2aa1-4855-a4d0-f9c22858a11f"
      },
      "execution_count": 83,
      "outputs": [
        {
          "output_type": "stream",
          "name": "stdout",
          "text": [
            "[[10, 20], [500, 600, 700], [9], [30, 40], [8], [800, 900, 1000]]\n"
          ]
        }
      ]
    },
    {
      "cell_type": "markdown",
      "source": [
        "<참고><br>\n",
        "2차원 튜플 : 튜플 안에 튜플을 넣는 방식 <br>\n",
        "- 튜플 = ((값,값),(값,값),(값,값))\n",
        "- 튜플 = ([값,값],[값,값],[값,값])\n",
        "- 리스트 = [(값,값),(값,값),(값,값)]"
      ],
      "metadata": {
        "id": "ZXZBcBU_U_up"
      }
    },
    {
      "cell_type": "code",
      "source": [
        "a = ((10, 20), (30, 40), (50, 60))    # 튜플 안에 튜플을 넣은 2차원 튜플\n",
        "b = ([10, 20], [30, 40], [50, 60])    # 튜플 안에 리스트를 넣음\n",
        "c = [(10, 20), (30, 40), (50, 60)]    # 리스트 안에 튜플을 넣음\n",
        "\n",
        "a[0][0] = 500        # 안쪽 튜플은 변경할 수 없음. TypeError 발생\n",
        "a[0] = (500, 600)    # 바깥쪽 튜플은 변경할 수 없음. TypeError 발생\n",
        "b[0][0] = 500        # 안쪽 리스트는 변경할 수 있음\n",
        "b[0] = (500, 600)    # 바깥쪽 튜플은 변경할 수 없음. TypeError 발생\n",
        "c[0][0] = 500        # 안쪽 튜플은 변경할 수 없음. TypeError 발생\n",
        "c[0] = (500, 600)    # 바깥쪽 리스트는 변경할 수 있음"
      ],
      "metadata": {
        "id": "5dlXFGEjU65_"
      },
      "execution_count": null,
      "outputs": []
    },
    {
      "cell_type": "markdown",
      "source": [
        "<참고> <br>\n",
        "2차원 리스트의 사각형 구조를 유지하도록 출력하려면 pprint 모듈의 pprint함수를 사용해야함"
      ],
      "metadata": {
        "id": "hRVBkOb-VsAm"
      }
    },
    {
      "cell_type": "code",
      "source": [
        "from pprint import pprint\n",
        "pprint(a, indent = 4, width = 20)\n"
      ],
      "metadata": {
        "colab": {
          "base_uri": "https://localhost:8080/"
        },
        "id": "RIhMMpm2XtrB",
        "outputId": "1b9f11af-c368-4992-c600-855bef9e0dfe"
      },
      "execution_count": 84,
      "outputs": [
        {
          "output_type": "stream",
          "name": "stdout",
          "text": [
            "[   [10, 20],\n",
            "    [500, 600, 700],\n",
            "    [9],\n",
            "    [30, 40],\n",
            "    [8],\n",
            "    [   800,\n",
            "        900,\n",
            "        1000]]\n"
          ]
        }
      ]
    },
    {
      "cell_type": "markdown",
      "source": [
        "23.2 for 반복문을 한 번만 사용"
      ],
      "metadata": {
        "id": "ja_Fp4MYYKn5"
      }
    },
    {
      "cell_type": "code",
      "source": [
        "a = [[10,20],[30,40],[50,60]]\n",
        "for x, y in a :\n",
        "  print(x,y)"
      ],
      "metadata": {
        "colab": {
          "base_uri": "https://localhost:8080/"
        },
        "id": "3jDhnuvuX0xs",
        "outputId": "1c714b35-891d-4a89-8976-b2ad28fcb14c"
      },
      "execution_count": 85,
      "outputs": [
        {
          "output_type": "stream",
          "name": "stdout",
          "text": [
            "10 20\n",
            "30 40\n",
            "50 60\n"
          ]
        }
      ]
    },
    {
      "cell_type": "markdown",
      "source": [
        "23.3 for 반복문을 두 번 사용하기"
      ],
      "metadata": {
        "id": "eSPRP0ezZPsB"
      }
    },
    {
      "cell_type": "code",
      "source": [
        "a = [[10,20],[30,40],[50,60]]\n",
        "for i in a :\n",
        "  for j in i:\n",
        "    print(j, end=' ')\n",
        "  print()"
      ],
      "metadata": {
        "colab": {
          "base_uri": "https://localhost:8080/"
        },
        "id": "Mu8Ewq1OYWFf",
        "outputId": "26e179d0-8d7e-4157-872e-320e691261f5"
      },
      "execution_count": 86,
      "outputs": [
        {
          "output_type": "stream",
          "name": "stdout",
          "text": [
            "10 20 \n",
            "30 40 \n",
            "50 60 \n"
          ]
        }
      ]
    },
    {
      "cell_type": "markdown",
      "source": [
        "23.4 for와 range 사용하기"
      ],
      "metadata": {
        "id": "_gZe5MtCZsMw"
      }
    },
    {
      "cell_type": "code",
      "source": [
        "a = [[10,20],[30,40],[50,60]]\n",
        "for i in range(len(a)): # 세로 크기\n",
        "  for j in range(len(a[i])): # 가로 크기\n",
        "    print(a[i][j], end=' ')\n",
        "  print()"
      ],
      "metadata": {
        "colab": {
          "base_uri": "https://localhost:8080/"
        },
        "id": "tvXGQqURZi79",
        "outputId": "86cfe8a7-7932-4e3d-b67f-630e34273b89"
      },
      "execution_count": 87,
      "outputs": [
        {
          "output_type": "stream",
          "name": "stdout",
          "text": [
            "10 20 \n",
            "30 40 \n",
            "50 60 \n"
          ]
        }
      ]
    },
    {
      "cell_type": "markdown",
      "source": [
        "23.5 while 반복문을 한 번 사용하기"
      ],
      "metadata": {
        "id": "y_8Gq8z-bKkC"
      }
    },
    {
      "cell_type": "code",
      "source": [
        "a = [[10,20],[30,40],[50,60]]\n",
        "\n",
        "i = 0\n",
        "while i < len(a): # 반복할 때 리스트의 크기 활용(세로 크기)\n",
        "  x, y = a[i]\n",
        "  print(x,y)\n",
        "  i += 1"
      ],
      "metadata": {
        "colab": {
          "base_uri": "https://localhost:8080/"
        },
        "id": "7XDaaUoCaalN",
        "outputId": "1adfa4c2-0da4-42ca-df24-8458d365b689"
      },
      "execution_count": 89,
      "outputs": [
        {
          "output_type": "stream",
          "name": "stdout",
          "text": [
            "10 20\n",
            "30 40\n",
            "50 60\n"
          ]
        }
      ]
    },
    {
      "cell_type": "code",
      "source": [
        "i = 0\n",
        "while i < len(a):\n",
        "  j = 0\n",
        "  while j < len(a[i]):\n",
        "    print(a[i][j], end=' ')\n",
        "    j += 1\n",
        "  i += 1\n",
        "  print()"
      ],
      "metadata": {
        "colab": {
          "base_uri": "https://localhost:8080/"
        },
        "id": "EncY247-bdGh",
        "outputId": "a41a5d7f-6919-415c-a1d8-b47f7bd17717"
      },
      "execution_count": 91,
      "outputs": [
        {
          "output_type": "stream",
          "name": "stdout",
          "text": [
            "10 20 \n",
            "30 40 \n",
            "50 60 \n"
          ]
        }
      ]
    },
    {
      "cell_type": "markdown",
      "source": [
        "23.6 for 반복문으로 1차원 리스트 만들기"
      ],
      "metadata": {
        "id": "nr3m48RMcrFi"
      }
    },
    {
      "cell_type": "code",
      "source": [
        "a = []\n",
        "for i in range(10):\n",
        "  a.append(i)\n",
        "print(a)"
      ],
      "metadata": {
        "colab": {
          "base_uri": "https://localhost:8080/"
        },
        "id": "WSJ2kP45chhd",
        "outputId": "35d0b9ef-d3db-4f83-9b1c-e820849b3752"
      },
      "execution_count": 92,
      "outputs": [
        {
          "output_type": "stream",
          "name": "stdout",
          "text": [
            "[0, 1, 2, 3, 4, 5, 6, 7, 8, 9]\n"
          ]
        }
      ]
    },
    {
      "cell_type": "markdown",
      "source": [
        "23.7 for 반복문으로 2차원 리스트 만들기"
      ],
      "metadata": {
        "id": "c4JyJqCCc4zg"
      }
    },
    {
      "cell_type": "code",
      "source": [
        "a = []\n",
        "\n",
        "for i in range(3):\n",
        "  b = []\n",
        "  for j in range(2):\n",
        "    b.append(0)\n",
        "  a.append(b)\n",
        "print(a)"
      ],
      "metadata": {
        "colab": {
          "base_uri": "https://localhost:8080/"
        },
        "id": "X2n5GwGpc1WG",
        "outputId": "5e40ddb8-a658-40dd-ca56-7d6e6c480a2b"
      },
      "execution_count": 93,
      "outputs": [
        {
          "output_type": "stream",
          "name": "stdout",
          "text": [
            "[[0, 0], [0, 0], [0, 0]]\n"
          ]
        }
      ]
    },
    {
      "cell_type": "markdown",
      "source": [
        "23.8 리스트 표현식으로 2차원 리스트 만들기"
      ],
      "metadata": {
        "id": "O6tazHStdyCN"
      }
    },
    {
      "cell_type": "code",
      "source": [
        "a = [[0 for j in range(2)] for i in range(3)]\n",
        "print(a)"
      ],
      "metadata": {
        "colab": {
          "base_uri": "https://localhost:8080/"
        },
        "id": "Qei-9Bgddi2y",
        "outputId": "355f0e57-82f8-4002-dcd0-88d342c93755"
      },
      "execution_count": 96,
      "outputs": [
        {
          "output_type": "stream",
          "name": "stdout",
          "text": [
            "[[0, 0], [0, 0], [0, 0]]\n"
          ]
        }
      ]
    },
    {
      "cell_type": "code",
      "source": [
        "a = [[0]*2 for i in range(3)]\n",
        "print(a)"
      ],
      "metadata": {
        "colab": {
          "base_uri": "https://localhost:8080/"
        },
        "id": "0l0zCccDeBLr",
        "outputId": "74585cc7-a95e-4a24-e7b6-c91654f34871"
      },
      "execution_count": 97,
      "outputs": [
        {
          "output_type": "stream",
          "name": "stdout",
          "text": [
            "[[0, 0], [0, 0], [0, 0]]\n"
          ]
        }
      ]
    },
    {
      "cell_type": "markdown",
      "source": [
        "23.9 톱니형 리스트"
      ],
      "metadata": {
        "id": "i-I0PrmheSJu"
      }
    },
    {
      "cell_type": "code",
      "source": [
        "a = [3,1,3,2,5]\n",
        "b = []\n",
        "\n",
        "for i in a:\n",
        "  line = []\n",
        "  for j in range(i):\n",
        "    line.append(0)\n",
        "  b.append(line)\n",
        "print(b)"
      ],
      "metadata": {
        "colab": {
          "base_uri": "https://localhost:8080/"
        },
        "id": "f56nDg6TeQpu",
        "outputId": "3c9fcb5d-5082-4220-cdca-d1fba4e88ee9"
      },
      "execution_count": 98,
      "outputs": [
        {
          "output_type": "stream",
          "name": "stdout",
          "text": [
            "[[0, 0, 0], [0], [0, 0, 0], [0, 0], [0, 0, 0, 0, 0]]\n"
          ]
        }
      ]
    },
    {
      "cell_type": "code",
      "source": [
        "a = [[0] * i for i in [3,1,2,6]]\n",
        "print(a)"
      ],
      "metadata": {
        "colab": {
          "base_uri": "https://localhost:8080/"
        },
        "id": "Fnu4JHO2emNq",
        "outputId": "cc058175-4c83-40d5-b5ec-343799f04b3c"
      },
      "execution_count": 99,
      "outputs": [
        {
          "output_type": "stream",
          "name": "stdout",
          "text": [
            "[[0, 0, 0], [0], [0, 0], [0, 0, 0, 0, 0, 0]]\n"
          ]
        }
      ]
    },
    {
      "cell_type": "markdown",
      "source": [
        "<참고><br>\n",
        "sorted(반복가능한 객체, key = 정렬함수, reverse=True | False)"
      ],
      "metadata": {
        "id": "MZ5-aWb9exe6"
      }
    },
    {
      "cell_type": "code",
      "source": [
        "students = [['john', 'C', 19],\n",
        "            ['maria','A', 25],\n",
        "            ['andrew','B',7]]\n",
        "\n",
        "print(sorted(students, key = lambda student : student[1])) # 안쪽 리스트의 인덱스 1을 기준으로 정렬\n",
        "print(sorted(students, key = lambda student : student[2]))"
      ],
      "metadata": {
        "colab": {
          "base_uri": "https://localhost:8080/"
        },
        "id": "6-bkKdr9evWZ",
        "outputId": "75730faf-71bf-405d-b003-dbbd1454d7f6"
      },
      "execution_count": 100,
      "outputs": [
        {
          "output_type": "stream",
          "name": "stdout",
          "text": [
            "[['maria', 'A', 25], ['andrew', 'B', 7], ['john', 'C', 19]]\n",
            "[['andrew', 'B', 7], ['john', 'C', 19], ['maria', 'A', 25]]\n"
          ]
        }
      ]
    },
    {
      "cell_type": "markdown",
      "source": [
        "23.10 리스트의 할당과 복사"
      ],
      "metadata": {
        "id": "sVpg5MECgP9-"
      }
    },
    {
      "cell_type": "code",
      "source": [
        "a = [[10,20],[30,40]]\n",
        "b = a\n",
        "b[0][0] = 500\n",
        "print(a)\n",
        "print(b)"
      ],
      "metadata": {
        "colab": {
          "base_uri": "https://localhost:8080/"
        },
        "id": "7d5qFgg8fbZq",
        "outputId": "07fe814e-d5cb-4c62-8070-5980d302ab5f"
      },
      "execution_count": 101,
      "outputs": [
        {
          "output_type": "stream",
          "name": "stdout",
          "text": [
            "[[500, 20], [30, 40]]\n",
            "[[500, 20], [30, 40]]\n"
          ]
        }
      ]
    },
    {
      "cell_type": "code",
      "source": [
        "a = [[10, 20], [30, 40]]\n",
        "b = a.copy()\n",
        "b[0][0] = 500\n",
        "print(a)\n",
        "print(b)"
      ],
      "metadata": {
        "colab": {
          "base_uri": "https://localhost:8080/"
        },
        "id": "Q88I0W8lgdlw",
        "outputId": "d4f32b93-4533-4fe5-cbf3-a5477535767a"
      },
      "execution_count": 102,
      "outputs": [
        {
          "output_type": "stream",
          "name": "stdout",
          "text": [
            "[[500, 20], [30, 40]]\n",
            "[[500, 20], [30, 40]]\n"
          ]
        }
      ]
    },
    {
      "cell_type": "code",
      "source": [
        "a = [[10, 20], [30, 40]]\n",
        "import copy             # copy 모듈을 가져옴\n",
        "b = copy.deepcopy(a)    # copy.deepcopy 함수를 사용하여 깊은 복사\n",
        "b[0][0] = 500\n",
        "print(a)\n",
        "print(b)\n",
        "print(a is b)"
      ],
      "metadata": {
        "colab": {
          "base_uri": "https://localhost:8080/"
        },
        "id": "cwca0soLgl-_",
        "outputId": "a9c97460-7bba-4169-fac6-d98d5b59d68a"
      },
      "execution_count": 104,
      "outputs": [
        {
          "output_type": "stream",
          "name": "stdout",
          "text": [
            "[[10, 20], [30, 40]]\n",
            "[[500, 20], [30, 40]]\n",
            "False\n"
          ]
        }
      ]
    },
    {
      "cell_type": "code",
      "source": [
        "a = [[[0 for i in range(3)] for i in range(4)]for i in range(2)]\n",
        "print(a)"
      ],
      "metadata": {
        "colab": {
          "base_uri": "https://localhost:8080/"
        },
        "id": "Pz-PQuEaiaQq",
        "outputId": "b96bded1-88bd-4a63-e237-5ee254014bab"
      },
      "execution_count": 110,
      "outputs": [
        {
          "output_type": "stream",
          "name": "stdout",
          "text": [
            "[[[0, 0, 0], [0, 0, 0], [0, 0, 0], [0, 0, 0]], [[0, 0, 0], [0, 0, 0], [0, 0, 0], [0, 0, 0]]]\n"
          ]
        }
      ]
    },
    {
      "cell_type": "code",
      "source": [
        "[[0 for col in range(3)] for row in range(4)]"
      ],
      "metadata": {
        "colab": {
          "base_uri": "https://localhost:8080/"
        },
        "id": "9iSUq1Nxixgj",
        "outputId": "bc4ba07c-df0d-4627-f383-9084c15dfe3d"
      },
      "execution_count": 111,
      "outputs": [
        {
          "output_type": "execute_result",
          "data": {
            "text/plain": [
              "[[0, 0, 0], [0, 0, 0], [0, 0, 0], [0, 0, 0]]"
            ]
          },
          "metadata": {},
          "execution_count": 111
        }
      ]
    },
    {
      "cell_type": "markdown",
      "source": [
        "연습문제)<br>\n",
        "표준 입력으로 2차원 리스트의 가로(col)와 세로(row)가 입력되고 그 다음 줄부터 리스트의 요소로 들어갈 문자가 입력됩니다. 이때 2차원 리스트 안에서 *는 지뢰이고 .은 지뢰가 아닙니다. 지뢰가 아닌 요소에는 인접한 지뢰의 개수를 출력하는 프로그램을 만드세요(input에서 안내 문자열은 출력하지 않아야 합니다).\n",
        "\n",
        "여러 줄을 입력 받으려면 다음과 같이 for 반복문에서 input을 호출한 뒤 append로 각 줄을 추가하면 됩니다(list 안에 문자열을 넣으면 문자열이 문자 리스트로 변환됩니다).\n",
        "\n",
        "      matrix = []\n",
        "      for i in range(row):\n",
        "          matrix.append(list(input()))\n",
        "이 문제는 지금까지 심사문제 중에서 가장 어렵습니다. 처음 풀어보는 경우 대략 두 시간은 걸립니다. 시간을 두고 천천히 고민해서 풀어보세요. 지금까지 학습한 내용을 모두 동원해야 풀 수 있으며 막힐 때는 지금까지 학습한 내용을 다시 복습하면서 힌트를 찾아보세요."
      ],
      "metadata": {
        "id": "Td79LMOVkxWW"
      }
    },
    {
      "cell_type": "markdown",
      "source": [
        "## **Unit 24 문자열 응용하기**"
      ],
      "metadata": {
        "id": "EHoQlNF9vN8x"
      }
    },
    {
      "cell_type": "markdown",
      "source": [
        "24.1  문자열 바꾸기 <br>\n",
        "replace('바꿀문자열', '새문자열') <br>\n",
        "문자열 자체는 변경하지 않으며 바뀐 결과를 반환함"
      ],
      "metadata": {
        "id": "QdJpN8Xnwc0j"
      }
    },
    {
      "cell_type": "code",
      "source": [
        "s = 'Hello, world'\n",
        "s = s.replace('world','Minimi')\n",
        "print(s)"
      ],
      "metadata": {
        "colab": {
          "base_uri": "https://localhost:8080/"
        },
        "id": "vp5VgET4ks7d",
        "outputId": "00108027-a256-481c-bd35-33f0bc676e72"
      },
      "execution_count": 2,
      "outputs": [
        {
          "output_type": "stream",
          "name": "stdout",
          "text": [
            "Hello, Minimi\n"
          ]
        }
      ]
    },
    {
      "cell_type": "markdown",
      "source": [
        "24.2 문자 바꾸기<br>\n",
        "① 변환 테이블 생성 : str.maketrans('바꿀문자','새문자') <br>\n",
        "② 결과 반환 : translate(테이블) "
      ],
      "metadata": {
        "id": "Yhp9e6fqxF0B"
      }
    },
    {
      "cell_type": "code",
      "source": [
        "table = str.maketrans('aeiou', '12345')\n",
        "'apple'.translate(table)"
      ],
      "metadata": {
        "colab": {
          "base_uri": "https://localhost:8080/",
          "height": 35
        },
        "id": "cWO2KfcDw5Jm",
        "outputId": "be56e118-63a4-417f-a57e-bc5dc19499f2"
      },
      "execution_count": 4,
      "outputs": [
        {
          "output_type": "execute_result",
          "data": {
            "text/plain": [
              "'1ppl2'"
            ],
            "application/vnd.google.colaboratory.intrinsic+json": {
              "type": "string"
            }
          },
          "metadata": {},
          "execution_count": 4
        }
      ]
    },
    {
      "cell_type": "markdown",
      "source": [
        "24.3 문자열 분리하기 <br>\n",
        "- split() : 공백을 기준으로 문자열을 분리하여 리스트 생성\n",
        "- split('기준문자열') : 문자열을 지정하면 기준 문자열로 문자열을 분리\n"
      ],
      "metadata": {
        "id": "phGPjplt0lZm"
      }
    },
    {
      "cell_type": "code",
      "source": [
        "'apple cherry orange pineapple strawberry'.split() # 공백을 기준으로 분리"
      ],
      "metadata": {
        "colab": {
          "base_uri": "https://localhost:8080/"
        },
        "id": "AOifSFu3yMAg",
        "outputId": "2a4d8511-54ba-4451-f967-528ce791dd23"
      },
      "execution_count": 5,
      "outputs": [
        {
          "output_type": "execute_result",
          "data": {
            "text/plain": [
              "['apple', 'cherry', 'orange', 'pineapple', 'strawberry']"
            ]
          },
          "metadata": {},
          "execution_count": 5
        }
      ]
    },
    {
      "cell_type": "code",
      "source": [
        "'apple, cherry, orange, pineapple, strawberry'.split(', ') # 콤마와 공백을 기준으로 분리"
      ],
      "metadata": {
        "colab": {
          "base_uri": "https://localhost:8080/"
        },
        "id": "Cl5faZxa1Aj8",
        "outputId": "678ba6e2-e128-464b-9a70-2850c104821a"
      },
      "execution_count": 6,
      "outputs": [
        {
          "output_type": "execute_result",
          "data": {
            "text/plain": [
              "['apple', 'cherry', 'orange', 'pineapple', 'strawberry']"
            ]
          },
          "metadata": {},
          "execution_count": 6
        }
      ]
    },
    {
      "cell_type": "markdown",
      "source": [
        "24.4 구분자 문자열과 문자열 리스트 연결하기 <br>\n",
        "join(리스트) : 구분자 문자열과 문자열 리스트의 요소를 연결하여 문자열로 만듦"
      ],
      "metadata": {
        "id": "YoQ9HSgi1Nbf"
      }
    },
    {
      "cell_type": "code",
      "source": [
        "' '.join(['apple', 'cherry', 'orange', 'pineapple', 'strawberry'])"
      ],
      "metadata": {
        "colab": {
          "base_uri": "https://localhost:8080/",
          "height": 35
        },
        "id": "ulYHKivs1LpP",
        "outputId": "041d367c-e69e-49cf-8e54-a5afd0da01eb"
      },
      "execution_count": 7,
      "outputs": [
        {
          "output_type": "execute_result",
          "data": {
            "text/plain": [
              "'apple cherry orange pineapple strawberry'"
            ],
            "application/vnd.google.colaboratory.intrinsic+json": {
              "type": "string"
            }
          },
          "metadata": {},
          "execution_count": 7
        }
      ]
    },
    {
      "cell_type": "code",
      "source": [
        "'-'.join(['apple', 'cherry', 'orange', 'pineapple', 'strawberry'])"
      ],
      "metadata": {
        "colab": {
          "base_uri": "https://localhost:8080/",
          "height": 35
        },
        "id": "FupMJgId1eWe",
        "outputId": "6af73797-31d0-491f-8984-9ee7fa0e44e2"
      },
      "execution_count": 8,
      "outputs": [
        {
          "output_type": "execute_result",
          "data": {
            "text/plain": [
              "'apple-cherry-orange-pineapple-strawberry'"
            ],
            "application/vnd.google.colaboratory.intrinsic+json": {
              "type": "string"
            }
          },
          "metadata": {},
          "execution_count": 8
        }
      ]
    },
    {
      "cell_type": "markdown",
      "source": [
        "24.5 대소문자 변환 <br>\n",
        "- upper() : 문자열의 문자를 모두 대문자로 변환 <br>\n",
        "- lower() : 문자열의 문자를 모두 소문자로 변환 <br>"
      ],
      "metadata": {
        "id": "gbn22-6D1ieJ"
      }
    },
    {
      "cell_type": "code",
      "source": [
        "'python'.upper()"
      ],
      "metadata": {
        "colab": {
          "base_uri": "https://localhost:8080/",
          "height": 35
        },
        "id": "qrW-RGbm1g-8",
        "outputId": "a6ada88b-19b3-40f2-9e06-9232a0563f84"
      },
      "execution_count": 9,
      "outputs": [
        {
          "output_type": "execute_result",
          "data": {
            "text/plain": [
              "'PYTHON'"
            ],
            "application/vnd.google.colaboratory.intrinsic+json": {
              "type": "string"
            }
          },
          "metadata": {},
          "execution_count": 9
        }
      ]
    },
    {
      "cell_type": "code",
      "source": [
        "'PYTHON'.lower()"
      ],
      "metadata": {
        "colab": {
          "base_uri": "https://localhost:8080/",
          "height": 35
        },
        "id": "2-ZOq3bA1zyK",
        "outputId": "8bbecb69-575e-4750-b91a-55c44d1e2835"
      },
      "execution_count": 10,
      "outputs": [
        {
          "output_type": "execute_result",
          "data": {
            "text/plain": [
              "'python'"
            ],
            "application/vnd.google.colaboratory.intrinsic+json": {
              "type": "string"
            }
          },
          "metadata": {},
          "execution_count": 10
        }
      ]
    },
    {
      "cell_type": "markdown",
      "source": [
        "24.6 공백 삭제\n",
        "- lstrip() : 문자열 왼쪽에 있는 연속된 모든 공백 삭제\n",
        "- rstrip() : 문자열에서 오른쪽에 있는 연속된 모든 공백 삭제\n",
        "- strip() : 문자열에서 양쪽에 있는 연속된 모든 공백 삭제"
      ],
      "metadata": {
        "id": "XcGAzjv814uu"
      }
    },
    {
      "cell_type": "code",
      "source": [
        "'     python       '.lstrip()"
      ],
      "metadata": {
        "colab": {
          "base_uri": "https://localhost:8080/",
          "height": 35
        },
        "id": "JASpk3ZI13jU",
        "outputId": "d7f97285-79a4-4998-b608-4935ce5af5e3"
      },
      "execution_count": 11,
      "outputs": [
        {
          "output_type": "execute_result",
          "data": {
            "text/plain": [
              "'python       '"
            ],
            "application/vnd.google.colaboratory.intrinsic+json": {
              "type": "string"
            }
          },
          "metadata": {},
          "execution_count": 11
        }
      ]
    },
    {
      "cell_type": "code",
      "source": [
        "'     python       '.rstrip()"
      ],
      "metadata": {
        "colab": {
          "base_uri": "https://localhost:8080/",
          "height": 35
        },
        "id": "9IHletdG2QA0",
        "outputId": "1a751d74-821e-42ec-db30-e5fd40e69c59"
      },
      "execution_count": 12,
      "outputs": [
        {
          "output_type": "execute_result",
          "data": {
            "text/plain": [
              "'     python'"
            ],
            "application/vnd.google.colaboratory.intrinsic+json": {
              "type": "string"
            }
          },
          "metadata": {},
          "execution_count": 12
        }
      ]
    },
    {
      "cell_type": "code",
      "source": [
        "'     python       '.strip()"
      ],
      "metadata": {
        "colab": {
          "base_uri": "https://localhost:8080/",
          "height": 35
        },
        "id": "hYlqI7NC2SGZ",
        "outputId": "34c1959d-c8a5-44a0-b4fd-59ae77cb260a"
      },
      "execution_count": 13,
      "outputs": [
        {
          "output_type": "execute_result",
          "data": {
            "text/plain": [
              "'python'"
            ],
            "application/vnd.google.colaboratory.intrinsic+json": {
              "type": "string"
            }
          },
          "metadata": {},
          "execution_count": 13
        }
      ]
    },
    {
      "cell_type": "markdown",
      "source": [
        "24.7 특정 문자 삭제하기\n",
        "- lstrip('삭제할문자들') : 문자열 왼쪽에 있는 문자 삭제\n",
        "- rstrip('삭제할문자들') : 문자열 오른쪽에 있는 문자 삭제\n",
        "- strip('삭제할문자들') :  문자열 양쪽에 있는 문자 삭제"
      ],
      "metadata": {
        "id": "Mnqq-6TO2Vk3"
      }
    },
    {
      "cell_type": "code",
      "source": [
        "', python,.'.lstrip(', ')"
      ],
      "metadata": {
        "colab": {
          "base_uri": "https://localhost:8080/",
          "height": 35
        },
        "id": "ejGbLHhY2TQ5",
        "outputId": "23e94d10-f0c5-4f10-a38f-595dfa8cd313"
      },
      "execution_count": 15,
      "outputs": [
        {
          "output_type": "execute_result",
          "data": {
            "text/plain": [
              "'python,.'"
            ],
            "application/vnd.google.colaboratory.intrinsic+json": {
              "type": "string"
            }
          },
          "metadata": {},
          "execution_count": 15
        }
      ]
    },
    {
      "cell_type": "code",
      "source": [
        "', python,.'.rstrip(',.')"
      ],
      "metadata": {
        "colab": {
          "base_uri": "https://localhost:8080/",
          "height": 35
        },
        "id": "JDhKbsa62x4W",
        "outputId": "8df7839a-5344-4747-deb8-b501bbe79557"
      },
      "execution_count": 16,
      "outputs": [
        {
          "output_type": "execute_result",
          "data": {
            "text/plain": [
              "', python'"
            ],
            "application/vnd.google.colaboratory.intrinsic+json": {
              "type": "string"
            }
          },
          "metadata": {},
          "execution_count": 16
        }
      ]
    },
    {
      "cell_type": "code",
      "source": [
        "', python,.'.strip(',. ')"
      ],
      "metadata": {
        "colab": {
          "base_uri": "https://localhost:8080/",
          "height": 35
        },
        "id": "q_Dl2X4X24Pb",
        "outputId": "e48fd2ba-9793-4fd6-8583-e945a1a83909"
      },
      "execution_count": 18,
      "outputs": [
        {
          "output_type": "execute_result",
          "data": {
            "text/plain": [
              "'python'"
            ],
            "application/vnd.google.colaboratory.intrinsic+json": {
              "type": "string"
            }
          },
          "metadata": {},
          "execution_count": 18
        }
      ]
    },
    {
      "cell_type": "markdown",
      "source": [
        "<참고><br>\n",
        "- 구두점을 간단하게 삭제하기\n",
        "string 모듈의 punctuation에는 모든 구두점이 있음 <br>\n",
        "- strip 메서드에 string.punctuation을 넣으면 문자열 양쪽의 모든 구두점을 간단하게 삭제 가능"
      ],
      "metadata": {
        "id": "HCrsXCDs2_0R"
      }
    },
    {
      "cell_type": "code",
      "source": [
        "import string\n",
        "', python . .'.strip(string.punctuation)"
      ],
      "metadata": {
        "colab": {
          "base_uri": "https://localhost:8080/",
          "height": 35
        },
        "id": "HIFKKO7327Z8",
        "outputId": "b84e0311-84a8-4ac8-88cd-cde127a3b03f"
      },
      "execution_count": 20,
      "outputs": [
        {
          "output_type": "execute_result",
          "data": {
            "text/plain": [
              "' python . '"
            ],
            "application/vnd.google.colaboratory.intrinsic+json": {
              "type": "string"
            }
          },
          "metadata": {},
          "execution_count": 20
        }
      ]
    },
    {
      "cell_type": "code",
      "source": [
        "', python . .'.strip(string.punctuation + ' ') # 공백을 연결"
      ],
      "metadata": {
        "colab": {
          "base_uri": "https://localhost:8080/",
          "height": 35
        },
        "id": "fqcUhN_a3Uw8",
        "outputId": "7db41d42-dbe3-423d-aa51-7dfc5678a9cb"
      },
      "execution_count": 21,
      "outputs": [
        {
          "output_type": "execute_result",
          "data": {
            "text/plain": [
              "'python'"
            ],
            "application/vnd.google.colaboratory.intrinsic+json": {
              "type": "string"
            }
          },
          "metadata": {},
          "execution_count": 21
        }
      ]
    },
    {
      "cell_type": "code",
      "source": [
        "string.punctuation"
      ],
      "metadata": {
        "colab": {
          "base_uri": "https://localhost:8080/",
          "height": 35
        },
        "id": "8WxBPBo93me6",
        "outputId": "7bd91cc8-d204-4d4d-faf5-a2d2b00d281b"
      },
      "execution_count": 22,
      "outputs": [
        {
          "output_type": "execute_result",
          "data": {
            "text/plain": [
              "'!\"#$%&\\'()*+,-./:;<=>?@[\\\\]^_`{|}~'"
            ],
            "application/vnd.google.colaboratory.intrinsic+json": {
              "type": "string"
            }
          },
          "metadata": {},
          "execution_count": 22
        }
      ]
    },
    {
      "cell_type": "markdown",
      "source": [
        "24.8 문자열 정렬 <br>\n",
        "- ljust(길이) :  문자열을 지정된 길이로 만든 뒤 왼쪽으로 정렬하며 남은 공간을 공백으로 채움\n",
        "- rjust(길이) : 문자열을 지정된 길이로 만든 뒤 오른쪽 정렬하며 남은 공간을 공백으로 채움\n",
        "- center(길이) : 문자열을 지정된 길이로 만든 뒤 가운데로 정렬하며 남는 공간을 공백으로 채움"
      ],
      "metadata": {
        "id": "J6a5kxZo3uOr"
      }
    },
    {
      "cell_type": "code",
      "source": [
        "'python'.ljust(10)"
      ],
      "metadata": {
        "colab": {
          "base_uri": "https://localhost:8080/",
          "height": 35
        },
        "id": "zWa7Ed_53sc9",
        "outputId": "491ef1d7-7525-4332-b7e6-2548b703165b"
      },
      "execution_count": 23,
      "outputs": [
        {
          "output_type": "execute_result",
          "data": {
            "text/plain": [
              "'python    '"
            ],
            "application/vnd.google.colaboratory.intrinsic+json": {
              "type": "string"
            }
          },
          "metadata": {},
          "execution_count": 23
        }
      ]
    },
    {
      "cell_type": "code",
      "source": [
        "'python'.rjust(10)"
      ],
      "metadata": {
        "colab": {
          "base_uri": "https://localhost:8080/",
          "height": 35
        },
        "id": "r28jyo3Z3_tB",
        "outputId": "2a41b3d9-e211-4cdf-81b4-eae55c86d182"
      },
      "execution_count": 24,
      "outputs": [
        {
          "output_type": "execute_result",
          "data": {
            "text/plain": [
              "'    python'"
            ],
            "application/vnd.google.colaboratory.intrinsic+json": {
              "type": "string"
            }
          },
          "metadata": {},
          "execution_count": 24
        }
      ]
    },
    {
      "cell_type": "code",
      "source": [
        "'python'.center(10)"
      ],
      "metadata": {
        "colab": {
          "base_uri": "https://localhost:8080/",
          "height": 35
        },
        "id": "YQ7bvKpM4MXm",
        "outputId": "cce4d815-15bb-4163-b4b5-803ab95dd8e3"
      },
      "execution_count": 25,
      "outputs": [
        {
          "output_type": "execute_result",
          "data": {
            "text/plain": [
              "'  python  '"
            ],
            "application/vnd.google.colaboratory.intrinsic+json": {
              "type": "string"
            }
          },
          "metadata": {},
          "execution_count": 25
        }
      ]
    },
    {
      "cell_type": "code",
      "source": [
        "'python'.center(11) # 가운데 정렬 후 전체 길이와 남는 공간이 모두 홀수면 왼쪽에 공백이 하나 더 들어가야함"
      ],
      "metadata": {
        "colab": {
          "base_uri": "https://localhost:8080/",
          "height": 35
        },
        "id": "7UBmScqG4YPc",
        "outputId": "55fa3007-981a-4b2b-b948-33c9dfb34622"
      },
      "execution_count": 26,
      "outputs": [
        {
          "output_type": "execute_result",
          "data": {
            "text/plain": [
              "'   python  '"
            ],
            "application/vnd.google.colaboratory.intrinsic+json": {
              "type": "string"
            }
          },
          "metadata": {},
          "execution_count": 26
        }
      ]
    },
    {
      "cell_type": "markdown",
      "source": [
        "24.9 메서드 체이닝 <br>\n",
        ": 메서드를 줄줄이 연결하는 것"
      ],
      "metadata": {
        "id": "egKDeti24qL7"
      }
    },
    {
      "cell_type": "code",
      "source": [
        "'python'.rjust(10).upper()\n"
      ],
      "metadata": {
        "colab": {
          "base_uri": "https://localhost:8080/",
          "height": 35
        },
        "id": "M1BVCyFM4kdZ",
        "outputId": "4653bcbe-4194-4b20-caa9-3dcd25c81680"
      },
      "execution_count": 27,
      "outputs": [
        {
          "output_type": "execute_result",
          "data": {
            "text/plain": [
              "'    PYTHON'"
            ],
            "application/vnd.google.colaboratory.intrinsic+json": {
              "type": "string"
            }
          },
          "metadata": {},
          "execution_count": 27
        }
      ]
    },
    {
      "cell_type": "markdown",
      "source": [
        "24.10 문자열 채우기<br>\n",
        "zfill(길이) : zero fill로 지정된 길이에 맞춰 왼쪽에 0을 채움"
      ],
      "metadata": {
        "id": "lboAfZJg43nM"
      }
    },
    {
      "cell_type": "code",
      "source": [
        "print('숫자 앞 0 채움 : ','35'.zfill(4))\n",
        "print('문자 앞 0 채움 : ', 'hi'.zfill(4))"
      ],
      "metadata": {
        "colab": {
          "base_uri": "https://localhost:8080/"
        },
        "id": "mGyLmLcH41_h",
        "outputId": "a876cae1-c0d1-4728-9130-9a13ef23ecb0"
      },
      "execution_count": 29,
      "outputs": [
        {
          "output_type": "stream",
          "name": "stdout",
          "text": [
            "숫자 앞 0 채움 :  0035\n",
            "문자 앞 0 채움 :  00hi\n"
          ]
        }
      ]
    },
    {
      "cell_type": "markdown",
      "source": [
        "24.11 문자열 위치 찾기\n",
        "- find('찾을 문자열') : 문자열에서 특정 문자열을 찾아서 인덱스를 반환하고, 문자열이 없으면 -1을 반환 <br>\n",
        "- 왼쪽에서부터 찾고 같은 문자열이 여러개일 시, 처음 찾은 문자열의 인덱스 반환\n",
        "- rfind('찾을문자열')은 오른쪽에서부터 특정 문자열을 찾아서 인덱스를 반환하고, 문자열이 없으면 -1을 반환\n",
        "- index('찾을문자열')은 왼쪽에서부터 특정 문자열을 찾아서 인덱스를 반환, 문자열이 없으면 에러 발생\n",
        "- rindex('찾을문자열')은 오른쪽에서부터 특정 문자열을 찾아서 인덱스를 반환\n",
        "\n"
      ],
      "metadata": {
        "id": "v4vxESib5aCe"
      }
    },
    {
      "cell_type": "code",
      "source": [
        "'apple pineapple'.find('apple')"
      ],
      "metadata": {
        "colab": {
          "base_uri": "https://localhost:8080/"
        },
        "id": "yw7AdJOs5HJk",
        "outputId": "4faa7f8d-b5d8-4cc8-923e-5bf7768dceae"
      },
      "execution_count": 30,
      "outputs": [
        {
          "output_type": "execute_result",
          "data": {
            "text/plain": [
              "0"
            ]
          },
          "metadata": {},
          "execution_count": 30
        }
      ]
    },
    {
      "cell_type": "code",
      "source": [
        "'apple pineapple'.rfind('pl') # 오른쪽에서부터  문자열 위치 찾기"
      ],
      "metadata": {
        "colab": {
          "base_uri": "https://localhost:8080/"
        },
        "id": "kDHXSQY95zuU",
        "outputId": "5e234a21-a728-4d12-b459-b980792cf5c7"
      },
      "execution_count": 31,
      "outputs": [
        {
          "output_type": "execute_result",
          "data": {
            "text/plain": [
              "12"
            ]
          },
          "metadata": {},
          "execution_count": 31
        }
      ]
    },
    {
      "cell_type": "code",
      "source": [
        "'apple pineapple'.index('pl')"
      ],
      "metadata": {
        "colab": {
          "base_uri": "https://localhost:8080/"
        },
        "id": "WbmYw1Wq6B6o",
        "outputId": "824a45bf-0fb1-4325-fd63-ec1acb0a2f92"
      },
      "execution_count": 32,
      "outputs": [
        {
          "output_type": "execute_result",
          "data": {
            "text/plain": [
              "2"
            ]
          },
          "metadata": {},
          "execution_count": 32
        }
      ]
    },
    {
      "cell_type": "code",
      "source": [
        "'apple pineapple'.rindex('pl')"
      ],
      "metadata": {
        "colab": {
          "base_uri": "https://localhost:8080/"
        },
        "id": "sxbPfjJo6Xmv",
        "outputId": "ed88b8b9-fe4e-47ab-a7b7-7966739c4e19"
      },
      "execution_count": 33,
      "outputs": [
        {
          "output_type": "execute_result",
          "data": {
            "text/plain": [
              "12"
            ]
          },
          "metadata": {},
          "execution_count": 33
        }
      ]
    },
    {
      "cell_type": "markdown",
      "source": [
        "24.12 문자열 개수 세기<br>\n",
        "- count('문자열')"
      ],
      "metadata": {
        "id": "fros-jha6ad0"
      }
    },
    {
      "cell_type": "code",
      "source": [
        "'apple pineapple'.count('pl')"
      ],
      "metadata": {
        "colab": {
          "base_uri": "https://localhost:8080/"
        },
        "id": "pE8sL8E76Y9u",
        "outputId": "7a328d3e-aab2-4c52-dfc0-241fbc1d5064"
      },
      "execution_count": 34,
      "outputs": [
        {
          "output_type": "execute_result",
          "data": {
            "text/plain": [
              "2"
            ]
          },
          "metadata": {},
          "execution_count": 34
        }
      ]
    },
    {
      "cell_type": "markdown",
      "source": [
        "24.13 특정 부분을 원하는 값으로 변환<br>\n",
        "- 서식 지정자 (format specifier)\n",
        "- 문자열 포매팅 (string formatting)"
      ],
      "metadata": {
        "id": "wrTgMp2l6k3C"
      }
    },
    {
      "cell_type": "markdown",
      "source": [
        "24.14 서식 지정자 (format specifier)\n",
        "- '%s' % '문자열' (s = string)\n",
        "- '%d' % 숫자 (d = decimal integer)\n",
        "- '%f' % 숫자 (f = fixed point)  ※ 기본적으로 소수점 이하 6자리까지 표시\n",
        "- '%.자릿수f' % 숫자 ※ 자릿수 지정\n",
        "- %길이s : %뒤 숫자를 붙이면 문자열을 지정된 길이로 만든 뒤 오른쪽으로 정렬하고 남은 공간 공백 처리\n",
        "- %-길이s\n",
        "- '%d %s' % (숫자, '문자열')"
      ],
      "metadata": {
        "id": "Yg1OzZaM649u"
      }
    },
    {
      "cell_type": "code",
      "source": [
        "name = 'maria'    \n",
        "'I am %s.' % name  # '%s' % '문자열"
      ],
      "metadata": {
        "colab": {
          "base_uri": "https://localhost:8080/",
          "height": 35
        },
        "id": "NMutvj736i4I",
        "outputId": "92d1506d-b25f-41db-900a-cc95485dd2b1"
      },
      "execution_count": 35,
      "outputs": [
        {
          "output_type": "execute_result",
          "data": {
            "text/plain": [
              "'I am maria.'"
            ],
            "application/vnd.google.colaboratory.intrinsic+json": {
              "type": "string"
            }
          },
          "metadata": {},
          "execution_count": 35
        }
      ]
    },
    {
      "cell_type": "code",
      "source": [
        "'I am %d years old.' % 20 # '%d' % 숫자"
      ],
      "metadata": {
        "colab": {
          "base_uri": "https://localhost:8080/",
          "height": 35
        },
        "id": "KJ2cjGWE7iFy",
        "outputId": "b0e666ae-eaae-4a51-f8fd-5037fd76ce5d"
      },
      "execution_count": 36,
      "outputs": [
        {
          "output_type": "execute_result",
          "data": {
            "text/plain": [
              "'I am 20 years old.'"
            ],
            "application/vnd.google.colaboratory.intrinsic+json": {
              "type": "string"
            }
          },
          "metadata": {},
          "execution_count": 36
        }
      ]
    },
    {
      "cell_type": "code",
      "source": [
        "'%f' % 2.5  # '%f' % 숫자"
      ],
      "metadata": {
        "colab": {
          "base_uri": "https://localhost:8080/",
          "height": 35
        },
        "id": "BVZE70L87tt7",
        "outputId": "a8d67189-674e-4c6f-e7a2-f4f57f869f2e"
      },
      "execution_count": 37,
      "outputs": [
        {
          "output_type": "execute_result",
          "data": {
            "text/plain": [
              "'2.500000'"
            ],
            "application/vnd.google.colaboratory.intrinsic+json": {
              "type": "string"
            }
          },
          "metadata": {},
          "execution_count": 37
        }
      ]
    },
    {
      "cell_type": "code",
      "source": [
        "'%.2f' % 2.5 # '%.자릿수f' % 숫자"
      ],
      "metadata": {
        "colab": {
          "base_uri": "https://localhost:8080/",
          "height": 35
        },
        "id": "POgAqO4r71P4",
        "outputId": "77ef1d5d-4d47-41f6-de54-7f35c5cf91a0"
      },
      "execution_count": 38,
      "outputs": [
        {
          "output_type": "execute_result",
          "data": {
            "text/plain": [
              "'2.50'"
            ],
            "application/vnd.google.colaboratory.intrinsic+json": {
              "type": "string"
            }
          },
          "metadata": {},
          "execution_count": 38
        }
      ]
    },
    {
      "cell_type": "code",
      "source": [
        "'%10s' % 'python'  # %길이s"
      ],
      "metadata": {
        "colab": {
          "base_uri": "https://localhost:8080/",
          "height": 35
        },
        "id": "yi7NSxsZ8N0V",
        "outputId": "75a05595-3c75-4447-f107-f13ecbd72707"
      },
      "execution_count": 39,
      "outputs": [
        {
          "output_type": "execute_result",
          "data": {
            "text/plain": [
              "'    python'"
            ],
            "application/vnd.google.colaboratory.intrinsic+json": {
              "type": "string"
            }
          },
          "metadata": {},
          "execution_count": 39
        }
      ]
    },
    {
      "cell_type": "code",
      "source": [
        "'%10d' % 150"
      ],
      "metadata": {
        "colab": {
          "base_uri": "https://localhost:8080/",
          "height": 35
        },
        "id": "t2Xm7AdF8fzA",
        "outputId": "9017db4b-e0e7-44f3-81d8-f9e34919f5c1"
      },
      "execution_count": 40,
      "outputs": [
        {
          "output_type": "execute_result",
          "data": {
            "text/plain": [
              "'       150'"
            ],
            "application/vnd.google.colaboratory.intrinsic+json": {
              "type": "string"
            }
          },
          "metadata": {},
          "execution_count": 40
        }
      ]
    },
    {
      "cell_type": "code",
      "source": [
        "'%10.2f' % 2000.3"
      ],
      "metadata": {
        "colab": {
          "base_uri": "https://localhost:8080/",
          "height": 35
        },
        "id": "yZK62mVI8k5B",
        "outputId": "c9a59f02-a724-416a-8cb6-05e5e59054a7"
      },
      "execution_count": 41,
      "outputs": [
        {
          "output_type": "execute_result",
          "data": {
            "text/plain": [
              "'   2000.30'"
            ],
            "application/vnd.google.colaboratory.intrinsic+json": {
              "type": "string"
            }
          },
          "metadata": {},
          "execution_count": 41
        }
      ]
    },
    {
      "cell_type": "code",
      "source": [
        "'%-10s' % 'python' # 왼쪽 정렬"
      ],
      "metadata": {
        "colab": {
          "base_uri": "https://localhost:8080/",
          "height": 35
        },
        "id": "TtYb41CP8nOh",
        "outputId": "878fcf1c-0bb7-44ec-95af-17960adaba03"
      },
      "execution_count": 42,
      "outputs": [
        {
          "output_type": "execute_result",
          "data": {
            "text/plain": [
              "'python    '"
            ],
            "application/vnd.google.colaboratory.intrinsic+json": {
              "type": "string"
            }
          },
          "metadata": {},
          "execution_count": 42
        }
      ]
    },
    {
      "cell_type": "code",
      "source": [
        "'Today is %d %s.' % (3, 'April')"
      ],
      "metadata": {
        "colab": {
          "base_uri": "https://localhost:8080/",
          "height": 35
        },
        "id": "yswyye5r8wm_",
        "outputId": "e8fd0e83-3e99-4f57-eac6-97ab9469cf14"
      },
      "execution_count": 43,
      "outputs": [
        {
          "output_type": "execute_result",
          "data": {
            "text/plain": [
              "'Today is 3 April.'"
            ],
            "application/vnd.google.colaboratory.intrinsic+json": {
              "type": "string"
            }
          },
          "metadata": {},
          "execution_count": 43
        }
      ]
    },
    {
      "cell_type": "code",
      "source": [
        "'Today is %d%s.' % (3, 'April') # 서식지정자 사이에 공백을 주지 않으면 붙어서 나오니 주의"
      ],
      "metadata": {
        "colab": {
          "base_uri": "https://localhost:8080/",
          "height": 35
        },
        "id": "iT-_245A9Gl8",
        "outputId": "10dcca88-d531-4a98-d9ac-1ad078ef7d12"
      },
      "execution_count": 44,
      "outputs": [
        {
          "output_type": "execute_result",
          "data": {
            "text/plain": [
              "'Today is 3April.'"
            ],
            "application/vnd.google.colaboratory.intrinsic+json": {
              "type": "string"
            }
          },
          "metadata": {},
          "execution_count": 44
        }
      ]
    },
    {
      "cell_type": "markdown",
      "source": [
        "24.15 Format 매서드 사용하기\n",
        "- '{인덱스}'.format(값)\n"
      ],
      "metadata": {
        "id": "tIbbiYkl9QlB"
      }
    },
    {
      "cell_type": "code",
      "source": [
        "'Hello, {0}'.format(100)"
      ],
      "metadata": {
        "colab": {
          "base_uri": "https://localhost:8080/",
          "height": 35
        },
        "id": "7tYxAscZ9PZN",
        "outputId": "a75186d6-3215-4b27-f392-2227a663eb8d"
      },
      "execution_count": 45,
      "outputs": [
        {
          "output_type": "execute_result",
          "data": {
            "text/plain": [
              "'Hello, 100'"
            ],
            "application/vnd.google.colaboratory.intrinsic+json": {
              "type": "string"
            }
          },
          "metadata": {},
          "execution_count": 45
        }
      ]
    },
    {
      "cell_type": "code",
      "source": [
        "'Hello, {0} {2} {1}'.format('Python', 'Script', 3.6)"
      ],
      "metadata": {
        "colab": {
          "base_uri": "https://localhost:8080/",
          "height": 35
        },
        "id": "kzV_34bw9axe",
        "outputId": "37419834-bfa0-44c7-db2c-e237a46ccb0c"
      },
      "execution_count": 46,
      "outputs": [
        {
          "output_type": "execute_result",
          "data": {
            "text/plain": [
              "'Hello, Python 3.6 Script'"
            ],
            "application/vnd.google.colaboratory.intrinsic+json": {
              "type": "string"
            }
          },
          "metadata": {},
          "execution_count": 46
        }
      ]
    },
    {
      "cell_type": "code",
      "source": [
        "'{0} {0} {1} {1}'.format('Python', 'Script')"
      ],
      "metadata": {
        "colab": {
          "base_uri": "https://localhost:8080/",
          "height": 35
        },
        "id": "z6q8JLMv9ezQ",
        "outputId": "5cf9fb97-4bcc-4fa7-829e-f0c1bf8bfc62"
      },
      "execution_count": 47,
      "outputs": [
        {
          "output_type": "execute_result",
          "data": {
            "text/plain": [
              "'Python Python Script Script'"
            ],
            "application/vnd.google.colaboratory.intrinsic+json": {
              "type": "string"
            }
          },
          "metadata": {},
          "execution_count": 47
        }
      ]
    },
    {
      "cell_type": "code",
      "source": [
        "'Hello, {} {} {}'.format('Python', 'Script', 3.6) # 인덱스 생략시 지정 순서대로 값이 들어감"
      ],
      "metadata": {
        "colab": {
          "base_uri": "https://localhost:8080/",
          "height": 35
        },
        "id": "1RIzm4m79n0H",
        "outputId": "f4dd1ad4-7279-4156-a424-9aaaa95a14e0"
      },
      "execution_count": 49,
      "outputs": [
        {
          "output_type": "execute_result",
          "data": {
            "text/plain": [
              "'Hello, Python Script 3.6'"
            ],
            "application/vnd.google.colaboratory.intrinsic+json": {
              "type": "string"
            }
          },
          "metadata": {},
          "execution_count": 49
        }
      ]
    },
    {
      "cell_type": "code",
      "source": [
        "'Hello, {language} {version}'.format(language='Python', version=3.6)"
      ],
      "metadata": {
        "colab": {
          "base_uri": "https://localhost:8080/",
          "height": 35
        },
        "id": "E25geaVm9qaM",
        "outputId": "e5fc3295-fdc3-4b22-9815-b428dabaa90e"
      },
      "execution_count": 50,
      "outputs": [
        {
          "output_type": "execute_result",
          "data": {
            "text/plain": [
              "'Hello, Python 3.6'"
            ],
            "application/vnd.google.colaboratory.intrinsic+json": {
              "type": "string"
            }
          },
          "metadata": {},
          "execution_count": 50
        }
      ]
    },
    {
      "cell_type": "code",
      "source": [
        "language = 'Python'\n",
        "version = 3.6\n",
        "f'Hello, {language} {version}'"
      ],
      "metadata": {
        "colab": {
          "base_uri": "https://localhost:8080/",
          "height": 35
        },
        "id": "HRfHh1-SDL-H",
        "outputId": "0cc51b33-8973-46b5-dc2f-77e7042872a8"
      },
      "execution_count": 51,
      "outputs": [
        {
          "output_type": "execute_result",
          "data": {
            "text/plain": [
              "'Hello, Python 3.6'"
            ],
            "application/vnd.google.colaboratory.intrinsic+json": {
              "type": "string"
            }
          },
          "metadata": {},
          "execution_count": 51
        }
      ]
    },
    {
      "cell_type": "code",
      "source": [
        "'{{ {0} }}'.format('Python')"
      ],
      "metadata": {
        "colab": {
          "base_uri": "https://localhost:8080/",
          "height": 35
        },
        "id": "Bl8FL_PkDQWx",
        "outputId": "1207933a-5742-4cde-b37e-d6830c826090"
      },
      "execution_count": 52,
      "outputs": [
        {
          "output_type": "execute_result",
          "data": {
            "text/plain": [
              "'{ Python }'"
            ],
            "application/vnd.google.colaboratory.intrinsic+json": {
              "type": "string"
            }
          },
          "metadata": {},
          "execution_count": 52
        }
      ]
    },
    {
      "cell_type": "code",
      "source": [
        "'{0:<10}'.format('python') # 정렬할 방향과 길이 지정/ 부등호 방향 왼쪽 = 왼쪽 정렬"
      ],
      "metadata": {
        "colab": {
          "base_uri": "https://localhost:8080/",
          "height": 35
        },
        "id": "Gczq1uOqDVCz",
        "outputId": "1e28e87c-91e3-4af6-c609-8de800ed8f45"
      },
      "execution_count": 54,
      "outputs": [
        {
          "output_type": "execute_result",
          "data": {
            "text/plain": [
              "'python    '"
            ],
            "application/vnd.google.colaboratory.intrinsic+json": {
              "type": "string"
            }
          },
          "metadata": {},
          "execution_count": 54
        }
      ]
    },
    {
      "cell_type": "code",
      "source": [
        "'{0:>10}'.format('python')"
      ],
      "metadata": {
        "colab": {
          "base_uri": "https://localhost:8080/",
          "height": 35
        },
        "id": "dCuRcMS-DlAp",
        "outputId": "08c36507-c0de-430c-d16e-4aebe34bdc49"
      },
      "execution_count": 55,
      "outputs": [
        {
          "output_type": "execute_result",
          "data": {
            "text/plain": [
              "'    python'"
            ],
            "application/vnd.google.colaboratory.intrinsic+json": {
              "type": "string"
            }
          },
          "metadata": {},
          "execution_count": 55
        }
      ]
    },
    {
      "cell_type": "code",
      "source": [
        "'{:>10}'.format('python')"
      ],
      "metadata": {
        "colab": {
          "base_uri": "https://localhost:8080/",
          "height": 35
        },
        "id": "evwc0wfJDryL",
        "outputId": "5336ca02-505a-4a4d-e97a-8e5347b89b7b"
      },
      "execution_count": 56,
      "outputs": [
        {
          "output_type": "execute_result",
          "data": {
            "text/plain": [
              "'    python'"
            ],
            "application/vnd.google.colaboratory.intrinsic+json": {
              "type": "string"
            }
          },
          "metadata": {},
          "execution_count": 56
        }
      ]
    },
    {
      "cell_type": "markdown",
      "source": [
        "24.16 숫자 개수 맞추기\n",
        "- '%0개수d' % 숫자\n",
        "- '{인덱스:0개수d'}'.format(숫자)\n",
        "- '%0개수.자릿수f' % 숫자\n",
        "- '{인덱스:0개수.자릿수f'}.format(숫자)"
      ],
      "metadata": {
        "id": "hqG_NePODzsH"
      }
    },
    {
      "cell_type": "code",
      "source": [
        "'{0:03d}'.format(35)"
      ],
      "metadata": {
        "colab": {
          "base_uri": "https://localhost:8080/",
          "height": 35
        },
        "id": "Vl6Dxhj_Dwdz",
        "outputId": "6b3795e8-d786-4f17-b558-ea53a6b5088f"
      },
      "execution_count": 57,
      "outputs": [
        {
          "output_type": "execute_result",
          "data": {
            "text/plain": [
              "'035'"
            ],
            "application/vnd.google.colaboratory.intrinsic+json": {
              "type": "string"
            }
          },
          "metadata": {},
          "execution_count": 57
        }
      ]
    },
    {
      "cell_type": "code",
      "source": [
        "'%08.2f' % 3.6"
      ],
      "metadata": {
        "colab": {
          "base_uri": "https://localhost:8080/",
          "height": 35
        },
        "id": "KjsKZyLeEKon",
        "outputId": "6216ddd5-2cf7-49ed-85cf-9dfd3ce05ff7"
      },
      "execution_count": 58,
      "outputs": [
        {
          "output_type": "execute_result",
          "data": {
            "text/plain": [
              "'00003.60'"
            ],
            "application/vnd.google.colaboratory.intrinsic+json": {
              "type": "string"
            }
          },
          "metadata": {},
          "execution_count": 58
        }
      ]
    },
    {
      "cell_type": "code",
      "source": [
        "'{0:08.2f}'.format(150.37)"
      ],
      "metadata": {
        "colab": {
          "base_uri": "https://localhost:8080/",
          "height": 35
        },
        "id": "pN_Aj3ILENWH",
        "outputId": "97cb5620-876b-4b4c-df45-3921294411d1"
      },
      "execution_count": 59,
      "outputs": [
        {
          "output_type": "execute_result",
          "data": {
            "text/plain": [
              "'00150.37'"
            ],
            "application/vnd.google.colaboratory.intrinsic+json": {
              "type": "string"
            }
          },
          "metadata": {},
          "execution_count": 59
        }
      ]
    },
    {
      "cell_type": "markdown",
      "source": [
        "24.17 채우기와 정렬을 조합해서 사용\n",
        "- '{인덱스:[[채우기]정렬][길이][.자릿수][자료형]}'"
      ],
      "metadata": {
        "id": "e3GT5WykERpy"
      }
    },
    {
      "cell_type": "code",
      "source": [
        "'{0:0<10}'.format(15)  # 길이 10, 왼쪽으로 정렬하고 남는 공간은 0으로 채움"
      ],
      "metadata": {
        "colab": {
          "base_uri": "https://localhost:8080/",
          "height": 35
        },
        "id": "FwcHjEVlEOn2",
        "outputId": "2047d35c-5739-48e3-84b3-559e23a161ab"
      },
      "execution_count": 60,
      "outputs": [
        {
          "output_type": "execute_result",
          "data": {
            "text/plain": [
              "'1500000000'"
            ],
            "application/vnd.google.colaboratory.intrinsic+json": {
              "type": "string"
            }
          },
          "metadata": {},
          "execution_count": 60
        }
      ]
    },
    {
      "cell_type": "code",
      "source": [
        "'{0:0>10}'.format(15)    # 길이 10, 오른쪽으로 정렬하고 남는 공간은 0으로 채움"
      ],
      "metadata": {
        "colab": {
          "base_uri": "https://localhost:8080/",
          "height": 35
        },
        "id": "AXe2iK_PEZ7x",
        "outputId": "66aa295e-552e-452a-d343-38c983ffbb26"
      },
      "execution_count": 61,
      "outputs": [
        {
          "output_type": "execute_result",
          "data": {
            "text/plain": [
              "'0000000015'"
            ],
            "application/vnd.google.colaboratory.intrinsic+json": {
              "type": "string"
            }
          },
          "metadata": {},
          "execution_count": 61
        }
      ]
    },
    {
      "cell_type": "code",
      "source": [
        "'{0: >10}'.format(15)    # 남는 공간을 공백으로 채움"
      ],
      "metadata": {
        "colab": {
          "base_uri": "https://localhost:8080/",
          "height": 35
        },
        "id": "tnVI6I2ZEfLO",
        "outputId": "ee0f42de-a9f8-4476-b181-68bc914cb50f"
      },
      "execution_count": 62,
      "outputs": [
        {
          "output_type": "execute_result",
          "data": {
            "text/plain": [
              "'        15'"
            ],
            "application/vnd.google.colaboratory.intrinsic+json": {
              "type": "string"
            }
          },
          "metadata": {},
          "execution_count": 62
        }
      ]
    },
    {
      "cell_type": "code",
      "source": [
        "'{0:>10}'.format(15)     # 채우기 부분을 생략하면 공백이 들어감"
      ],
      "metadata": {
        "colab": {
          "base_uri": "https://localhost:8080/",
          "height": 35
        },
        "id": "ZnojcGcxEj9o",
        "outputId": "86a03937-d2b5-4028-e88c-12ce6dd3d669"
      },
      "execution_count": 63,
      "outputs": [
        {
          "output_type": "execute_result",
          "data": {
            "text/plain": [
              "'        15'"
            ],
            "application/vnd.google.colaboratory.intrinsic+json": {
              "type": "string"
            }
          },
          "metadata": {},
          "execution_count": 63
        }
      ]
    },
    {
      "cell_type": "code",
      "source": [
        "'{0:x>10}'.format(15)    # 남는 공간을 문자 x로 채움"
      ],
      "metadata": {
        "colab": {
          "base_uri": "https://localhost:8080/",
          "height": 35
        },
        "id": "33OsnoU1Elqd",
        "outputId": "19efa672-18c5-4dc8-a30d-6bb58179ba10"
      },
      "execution_count": 64,
      "outputs": [
        {
          "output_type": "execute_result",
          "data": {
            "text/plain": [
              "'xxxxxxxx15'"
            ],
            "application/vnd.google.colaboratory.intrinsic+json": {
              "type": "string"
            }
          },
          "metadata": {},
          "execution_count": 64
        }
      ]
    },
    {
      "cell_type": "markdown",
      "source": [
        "<참고><br>\n",
        "format 내장함수를 사용하면 천 단위로 콤마(,)넣기"
      ],
      "metadata": {
        "id": "eFixQ4_REuWg"
      }
    },
    {
      "cell_type": "code",
      "source": [
        "format(1493500, ',')"
      ],
      "metadata": {
        "colab": {
          "base_uri": "https://localhost:8080/",
          "height": 35
        },
        "id": "9Na_KHOPEoO5",
        "outputId": "71cf0350-3590-4bad-8109-665c47f8a7f3"
      },
      "execution_count": 65,
      "outputs": [
        {
          "output_type": "execute_result",
          "data": {
            "text/plain": [
              "'1,493,500'"
            ],
            "application/vnd.google.colaboratory.intrinsic+json": {
              "type": "string"
            }
          },
          "metadata": {},
          "execution_count": 65
        }
      ]
    },
    {
      "cell_type": "code",
      "source": [
        "'%20s' % format(1493500, ',')    # 길이 20, 오른쪽으로 정렬"
      ],
      "metadata": {
        "colab": {
          "base_uri": "https://localhost:8080/",
          "height": 35
        },
        "id": "ZUTZHgndEsXv",
        "outputId": "5a2343ad-bd4f-473d-a07c-f58971d957aa"
      },
      "execution_count": 66,
      "outputs": [
        {
          "output_type": "execute_result",
          "data": {
            "text/plain": [
              "'           1,493,500'"
            ],
            "application/vnd.google.colaboratory.intrinsic+json": {
              "type": "string"
            }
          },
          "metadata": {},
          "execution_count": 66
        }
      ]
    },
    {
      "cell_type": "code",
      "source": [
        "'{0:,}'.format(1493500)"
      ],
      "metadata": {
        "colab": {
          "base_uri": "https://localhost:8080/",
          "height": 35
        },
        "id": "YiuxKvxLE1wY",
        "outputId": "8029eb5d-d147-4b1e-9e29-dc1ac81161bb"
      },
      "execution_count": 67,
      "outputs": [
        {
          "output_type": "execute_result",
          "data": {
            "text/plain": [
              "'1,493,500'"
            ],
            "application/vnd.google.colaboratory.intrinsic+json": {
              "type": "string"
            }
          },
          "metadata": {},
          "execution_count": 67
        }
      ]
    },
    {
      "cell_type": "code",
      "source": [
        "'{0:>20,}'.format(1493500)     # 길이 20, 오른쪽으로 정렬\n",
        "'           1,493,500'"
      ],
      "metadata": {
        "colab": {
          "base_uri": "https://localhost:8080/",
          "height": 35
        },
        "id": "FN1ezFi_E75q",
        "outputId": "ead00f53-ac86-4c92-ef85-11cc8d84e899"
      },
      "execution_count": 68,
      "outputs": [
        {
          "output_type": "execute_result",
          "data": {
            "text/plain": [
              "'           1,493,500'"
            ],
            "application/vnd.google.colaboratory.intrinsic+json": {
              "type": "string"
            }
          },
          "metadata": {},
          "execution_count": 68
        }
      ]
    },
    {
      "cell_type": "code",
      "source": [
        "path = 'C:\\\\Users\\\\dojang\\\\AppData\\\\Local\\\\Programs\\\\Python\\\\Python36-32\\\\python.exe'\n",
        "\n",
        "x = path.split('\\\\')\n",
        "x.reverse()\n",
        "filename=x[0]\n",
        "print(filename)"
      ],
      "metadata": {
        "colab": {
          "base_uri": "https://localhost:8080/"
        },
        "id": "AhMqvH8nFQcx",
        "outputId": "51ca7504-791a-4c62-fe3b-944f2ff9158b"
      },
      "execution_count": 75,
      "outputs": [
        {
          "output_type": "stream",
          "name": "stdout",
          "text": [
            "python.exe\n"
          ]
        }
      ]
    },
    {
      "cell_type": "markdown",
      "source": [
        "연습문제) <br>\n",
        "표준 입력으로 문자열이 입력됩니다. 입력된 문자열에서 'the'의 개수를 출력하는 프로그램을 만드세요(input에서 안내 문자열은 출력하지 않아야 합니다). 단, 모든 문자가 소문자인 'the'만 찾으면 되며 'them', 'there', 'their' 등은 포함하지 않아야 합니다."
      ],
      "metadata": {
        "id": "pV-6BsnLGhH7"
      }
    },
    {
      "cell_type": "code",
      "source": [
        "seven = input().split()\n",
        "count = 0\n",
        "for words in seven:\n",
        "  if (words.strip(',.')=='the'):\n",
        "    count += 1\n",
        "print(count)\n"
      ],
      "metadata": {
        "colab": {
          "base_uri": "https://localhost:8080/"
        },
        "id": "81MD8e9EGaT9",
        "outputId": "2f6bfd7b-1bf5-4b9d-c25a-24a2d4b4eaa7"
      },
      "execution_count": 82,
      "outputs": [
        {
          "output_type": "stream",
          "name": "stdout",
          "text": [
            "the grown-ups' response, this time, was to advise me to lay aside my drawings of boa constrictors, whether from the inside or the outside, and devote myself instead to geography, history, arithmetic, and grammar. That is why, at the, age of six, I gave up what might have been a magnificent career as a painter. I had been disheartened by the failure of my Drawing Number One and my Drawing Number Two. Grown-ups never understand anything by themselves, and it is tiresome for children to be always and forever explaining things to the.\n",
            "6\n"
          ]
        }
      ]
    },
    {
      "cell_type": "markdown",
      "source": [
        "연습문제) <br>\n",
        "표준 입력으로 물품 가격 여러 개가 문자열 한 줄로 입력되고, 각 가격은 ;(세미콜론)으로 구분되어 있습니다. 입력된 가격을 높은 가격순으로 출력하는 프로그램을 만드세요(input에서 안내 문자열은 출력하지 않아야 합니다). 이때 가격은 길이를 9로 만든 뒤 오른쪽으로 정렬하고 천단위로 ,(콤마)를 넣으세요."
      ],
      "metadata": {
        "id": "pFPNbfKNJYVI"
      }
    },
    {
      "cell_type": "code",
      "source": [
        "stuff = list(map(int,input().split(';')))\n",
        "stuff.sort(reverse=True)\n",
        "for i in stuff:\n",
        "  print('{0: >9,}'.format(i))"
      ],
      "metadata": {
        "colab": {
          "base_uri": "https://localhost:8080/"
        },
        "id": "hqR80yKWGoR1",
        "outputId": "951fc186-97b4-4a2e-9ba0-0c74f876c409"
      },
      "execution_count": 104,
      "outputs": [
        {
          "output_type": "stream",
          "name": "stdout",
          "text": [
            "51900;83000;158000;367500;250000;59200;128500;1304000\n",
            "1,304,000\n",
            "  367,500\n",
            "  250,000\n",
            "  158,000\n",
            "  128,500\n",
            "   83,000\n",
            "   59,200\n",
            "   51,900\n"
          ]
        }
      ]
    }
  ]
}